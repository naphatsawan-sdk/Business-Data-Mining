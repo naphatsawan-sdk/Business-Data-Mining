{
 "cells": [
  {
   "cell_type": "code",
   "execution_count": 1,
   "id": "9e9e6adf",
   "metadata": {
    "_cell_guid": "b1076dfc-b9ad-4769-8c92-a6c4dae69d19",
    "_uuid": "8f2839f25d086af736a60e9eeb907d3b93b6e0e5",
    "execution": {
     "iopub.execute_input": "2022-11-23T11:51:52.283616Z",
     "iopub.status.busy": "2022-11-23T11:51:52.283042Z",
     "iopub.status.idle": "2022-11-23T11:51:52.292727Z",
     "shell.execute_reply": "2022-11-23T11:51:52.291388Z"
    },
    "papermill": {
     "duration": 0.029616,
     "end_time": "2022-11-23T11:51:52.294572",
     "exception": false,
     "start_time": "2022-11-23T11:51:52.264956",
     "status": "completed"
    },
    "tags": []
   },
   "outputs": [],
   "source": [
    "# This Python 3 environment comes with many helpful analytics libraries installed\n",
    "# It is defined by the kaggle/python Docker image: https://github.com/kaggle/docker-python\n",
    "# For example, here's several helpful packages to load\n",
    "\n",
    "import numpy as np # linear algebra\n",
    "import pandas as pd # data processing, CSV file I/O (e.g. pd.read_csv)\n",
    "\n",
    "# Input data files are available in the read-only \"../input/\" directory\n",
    "# For example, running this (by clicking run or pressing Shift+Enter) will list all files under the input directory\n",
    "\n",
    "import os\n",
    "for dirname, _, filenames in os.walk('/kaggle/input'):\n",
    "    for filename in filenames:\n",
    "        print(os.path.join(dirname, filename))\n",
    "\n",
    "# You can write up to 20GB to the current directory (/kaggle/working/) that gets preserved as output when you create a version using \"Save & Run All\" \n",
    "# You can also write temporary files to /kaggle/temp/, but they won't be saved outside of the current session"
   ]
  },
  {
   "cell_type": "markdown",
   "id": "bba65a93",
   "metadata": {
    "papermill": {
     "duration": 0.014869,
     "end_time": "2022-11-23T11:51:52.325001",
     "exception": false,
     "start_time": "2022-11-23T11:51:52.310132",
     "status": "completed"
    },
    "tags": []
   },
   "source": [
    "<h1> 1.Input Data </h1>"
   ]
  },
  {
   "cell_type": "code",
   "execution_count": 2,
   "id": "85bc94f2",
   "metadata": {
    "execution": {
     "iopub.execute_input": "2022-11-23T11:51:52.357020Z",
     "iopub.status.busy": "2022-11-23T11:51:52.356481Z",
     "iopub.status.idle": "2022-11-23T11:51:52.365274Z",
     "shell.execute_reply": "2022-11-23T11:51:52.363956Z"
    },
    "papermill": {
     "duration": 0.026772,
     "end_time": "2022-11-23T11:51:52.367125",
     "exception": false,
     "start_time": "2022-11-23T11:51:52.340353",
     "status": "completed"
    },
    "tags": []
   },
   "outputs": [
    {
     "data": {
      "text/plain": [
       "2.5"
      ]
     },
     "execution_count": 2,
     "metadata": {},
     "output_type": "execute_result"
    }
   ],
   "source": [
    "5/2"
   ]
  },
  {
   "cell_type": "code",
   "execution_count": 3,
   "id": "078a307d",
   "metadata": {
    "execution": {
     "iopub.execute_input": "2022-11-23T11:51:52.399629Z",
     "iopub.status.busy": "2022-11-23T11:51:52.399180Z",
     "iopub.status.idle": "2022-11-23T11:51:52.404570Z",
     "shell.execute_reply": "2022-11-23T11:51:52.403307Z"
    },
    "papermill": {
     "duration": 0.0239,
     "end_time": "2022-11-23T11:51:52.406556",
     "exception": false,
     "start_time": "2022-11-23T11:51:52.382656",
     "status": "completed"
    },
    "tags": []
   },
   "outputs": [
    {
     "name": "stdout",
     "output_type": "stream",
     "text": [
      "This is 954471\n"
     ]
    }
   ],
   "source": [
    "print(\"This is 954471\")"
   ]
  },
  {
   "cell_type": "code",
   "execution_count": 4,
   "id": "2a0823f2",
   "metadata": {
    "execution": {
     "iopub.execute_input": "2022-11-23T11:51:52.439469Z",
     "iopub.status.busy": "2022-11-23T11:51:52.439157Z",
     "iopub.status.idle": "2022-11-23T11:51:52.443700Z",
     "shell.execute_reply": "2022-11-23T11:51:52.442498Z"
    },
    "papermill": {
     "duration": 0.022834,
     "end_time": "2022-11-23T11:51:52.445619",
     "exception": false,
     "start_time": "2022-11-23T11:51:52.422785",
     "status": "completed"
    },
    "tags": []
   },
   "outputs": [],
   "source": [
    "name = \"Sand\""
   ]
  },
  {
   "cell_type": "code",
   "execution_count": 5,
   "id": "2794d69f",
   "metadata": {
    "execution": {
     "iopub.execute_input": "2022-11-23T11:51:52.479473Z",
     "iopub.status.busy": "2022-11-23T11:51:52.477858Z",
     "iopub.status.idle": "2022-11-23T11:51:52.484433Z",
     "shell.execute_reply": "2022-11-23T11:51:52.483372Z"
    },
    "papermill": {
     "duration": 0.025154,
     "end_time": "2022-11-23T11:51:52.486119",
     "exception": false,
     "start_time": "2022-11-23T11:51:52.460965",
     "status": "completed"
    },
    "tags": []
   },
   "outputs": [
    {
     "data": {
      "text/plain": [
       "'Sand'"
      ]
     },
     "execution_count": 5,
     "metadata": {},
     "output_type": "execute_result"
    }
   ],
   "source": [
    "name"
   ]
  },
  {
   "cell_type": "code",
   "execution_count": 6,
   "id": "fe9874a3",
   "metadata": {
    "execution": {
     "iopub.execute_input": "2022-11-23T11:51:52.520050Z",
     "iopub.status.busy": "2022-11-23T11:51:52.519682Z",
     "iopub.status.idle": "2022-11-23T11:51:52.523213Z",
     "shell.execute_reply": "2022-11-23T11:51:52.522553Z"
    },
    "papermill": {
     "duration": 0.023503,
     "end_time": "2022-11-23T11:51:52.525211",
     "exception": false,
     "start_time": "2022-11-23T11:51:52.501708",
     "status": "completed"
    },
    "tags": []
   },
   "outputs": [],
   "source": [
    "a = 5\n",
    "b = 10"
   ]
  },
  {
   "cell_type": "code",
   "execution_count": 7,
   "id": "61c8e3f4",
   "metadata": {
    "execution": {
     "iopub.execute_input": "2022-11-23T11:51:52.557957Z",
     "iopub.status.busy": "2022-11-23T11:51:52.557092Z",
     "iopub.status.idle": "2022-11-23T11:51:52.561871Z",
     "shell.execute_reply": "2022-11-23T11:51:52.561013Z"
    },
    "papermill": {
     "duration": 0.022874,
     "end_time": "2022-11-23T11:51:52.563722",
     "exception": false,
     "start_time": "2022-11-23T11:51:52.540848",
     "status": "completed"
    },
    "tags": []
   },
   "outputs": [
    {
     "name": "stdout",
     "output_type": "stream",
     "text": [
      "My name is Sand\n"
     ]
    }
   ],
   "source": [
    "print(\"My name is \" + name)"
   ]
  },
  {
   "cell_type": "code",
   "execution_count": 8,
   "id": "2d0b6d43",
   "metadata": {
    "execution": {
     "iopub.execute_input": "2022-11-23T11:51:52.596181Z",
     "iopub.status.busy": "2022-11-23T11:51:52.595765Z",
     "iopub.status.idle": "2022-11-23T11:51:52.600973Z",
     "shell.execute_reply": "2022-11-23T11:51:52.599876Z"
    },
    "papermill": {
     "duration": 0.023646,
     "end_time": "2022-11-23T11:51:52.602802",
     "exception": false,
     "start_time": "2022-11-23T11:51:52.579156",
     "status": "completed"
    },
    "tags": []
   },
   "outputs": [
    {
     "name": "stdout",
     "output_type": "stream",
     "text": [
      "The answer of a + b is 15\n"
     ]
    }
   ],
   "source": [
    "print(\"The answer of a + b is \" + str(a+b))"
   ]
  },
  {
   "cell_type": "code",
   "execution_count": 9,
   "id": "5bc001d4",
   "metadata": {
    "execution": {
     "iopub.execute_input": "2022-11-23T11:51:52.636140Z",
     "iopub.status.busy": "2022-11-23T11:51:52.635797Z",
     "iopub.status.idle": "2022-11-23T11:51:52.639790Z",
     "shell.execute_reply": "2022-11-23T11:51:52.638600Z"
    },
    "papermill": {
     "duration": 0.02251,
     "end_time": "2022-11-23T11:51:52.641575",
     "exception": false,
     "start_time": "2022-11-23T11:51:52.619065",
     "status": "completed"
    },
    "tags": []
   },
   "outputs": [],
   "source": [
    "age = 20"
   ]
  },
  {
   "cell_type": "code",
   "execution_count": 10,
   "id": "54958a90",
   "metadata": {
    "execution": {
     "iopub.execute_input": "2022-11-23T11:51:52.674257Z",
     "iopub.status.busy": "2022-11-23T11:51:52.673886Z",
     "iopub.status.idle": "2022-11-23T11:51:52.678536Z",
     "shell.execute_reply": "2022-11-23T11:51:52.677624Z"
    },
    "papermill": {
     "duration": 0.022955,
     "end_time": "2022-11-23T11:51:52.680490",
     "exception": false,
     "start_time": "2022-11-23T11:51:52.657535",
     "status": "completed"
    },
    "tags": []
   },
   "outputs": [
    {
     "name": "stdout",
     "output_type": "stream",
     "text": [
      "age\n"
     ]
    }
   ],
   "source": [
    "print (\"age\")"
   ]
  },
  {
   "cell_type": "code",
   "execution_count": 11,
   "id": "f29ff4bb",
   "metadata": {
    "execution": {
     "iopub.execute_input": "2022-11-23T11:51:52.713111Z",
     "iopub.status.busy": "2022-11-23T11:51:52.712648Z",
     "iopub.status.idle": "2022-11-23T11:51:52.717051Z",
     "shell.execute_reply": "2022-11-23T11:51:52.716168Z"
    },
    "papermill": {
     "duration": 0.022166,
     "end_time": "2022-11-23T11:51:52.718812",
     "exception": false,
     "start_time": "2022-11-23T11:51:52.696646",
     "status": "completed"
    },
    "tags": []
   },
   "outputs": [
    {
     "name": "stdout",
     "output_type": "stream",
     "text": [
      "20\n"
     ]
    }
   ],
   "source": [
    "print (age)"
   ]
  },
  {
   "cell_type": "code",
   "execution_count": 12,
   "id": "5f6ab513",
   "metadata": {
    "execution": {
     "iopub.execute_input": "2022-11-23T11:51:52.750681Z",
     "iopub.status.busy": "2022-11-23T11:51:52.750408Z",
     "iopub.status.idle": "2022-11-23T11:51:52.753998Z",
     "shell.execute_reply": "2022-11-23T11:51:52.753198Z"
    },
    "papermill": {
     "duration": 0.021431,
     "end_time": "2022-11-23T11:51:52.755697",
     "exception": false,
     "start_time": "2022-11-23T11:51:52.734266",
     "status": "completed"
    },
    "tags": []
   },
   "outputs": [],
   "source": [
    "fruit = \"banana, apple, melon\""
   ]
  },
  {
   "cell_type": "code",
   "execution_count": 13,
   "id": "f0109266",
   "metadata": {
    "execution": {
     "iopub.execute_input": "2022-11-23T11:51:52.790382Z",
     "iopub.status.busy": "2022-11-23T11:51:52.790053Z",
     "iopub.status.idle": "2022-11-23T11:51:52.793637Z",
     "shell.execute_reply": "2022-11-23T11:51:52.793129Z"
    },
    "papermill": {
     "duration": 0.024348,
     "end_time": "2022-11-23T11:51:52.795663",
     "exception": false,
     "start_time": "2022-11-23T11:51:52.771315",
     "status": "completed"
    },
    "tags": []
   },
   "outputs": [
    {
     "name": "stdout",
     "output_type": "stream",
     "text": [
      "banana, apple, melon\n"
     ]
    }
   ],
   "source": [
    "print (fruit)"
   ]
  },
  {
   "cell_type": "code",
   "execution_count": 14,
   "id": "42bd1e46",
   "metadata": {
    "execution": {
     "iopub.execute_input": "2022-11-23T11:51:52.829151Z",
     "iopub.status.busy": "2022-11-23T11:51:52.828750Z",
     "iopub.status.idle": "2022-11-23T11:51:52.883235Z",
     "shell.execute_reply": "2022-11-23T11:51:52.881923Z"
    },
    "papermill": {
     "duration": 0.073742,
     "end_time": "2022-11-23T11:51:52.885383",
     "exception": true,
     "start_time": "2022-11-23T11:51:52.811641",
     "status": "failed"
    },
    "tags": []
   },
   "outputs": [
    {
     "ename": "StdinNotImplementedError",
     "evalue": "raw_input was called, but this frontend does not support input requests.",
     "output_type": "error",
     "traceback": [
      "\u001b[0;31m---------------------------------------------------------------------------\u001b[0m",
      "\u001b[0;31mStdinNotImplementedError\u001b[0m                  Traceback (most recent call last)",
      "\u001b[0;32m/tmp/ipykernel_19/750342306.py\u001b[0m in \u001b[0;36m<module>\u001b[0;34m\u001b[0m\n\u001b[0;32m----> 1\u001b[0;31m \u001b[0ma\u001b[0m \u001b[0;34m=\u001b[0m \u001b[0minput\u001b[0m\u001b[0;34m(\u001b[0m\u001b[0;34m\"Please input number = \"\u001b[0m\u001b[0;34m)\u001b[0m\u001b[0;34m\u001b[0m\u001b[0;34m\u001b[0m\u001b[0m\n\u001b[0m",
      "\u001b[0;32m/opt/conda/lib/python3.7/site-packages/ipykernel/kernelbase.py\u001b[0m in \u001b[0;36mraw_input\u001b[0;34m(self, prompt)\u001b[0m\n\u001b[1;32m   1173\u001b[0m         \u001b[0;32mif\u001b[0m \u001b[0;32mnot\u001b[0m \u001b[0mself\u001b[0m\u001b[0;34m.\u001b[0m\u001b[0m_allow_stdin\u001b[0m\u001b[0;34m:\u001b[0m\u001b[0;34m\u001b[0m\u001b[0;34m\u001b[0m\u001b[0m\n\u001b[1;32m   1174\u001b[0m             raise StdinNotImplementedError(\n\u001b[0;32m-> 1175\u001b[0;31m                 \u001b[0;34m\"raw_input was called, but this frontend does not support input requests.\"\u001b[0m\u001b[0;34m\u001b[0m\u001b[0;34m\u001b[0m\u001b[0m\n\u001b[0m\u001b[1;32m   1176\u001b[0m             )\n\u001b[1;32m   1177\u001b[0m         return self._input_request(\n",
      "\u001b[0;31mStdinNotImplementedError\u001b[0m: raw_input was called, but this frontend does not support input requests."
     ]
    }
   ],
   "source": [
    "a = input(\"Please input number = \")"
   ]
  },
  {
   "cell_type": "code",
   "execution_count": null,
   "id": "640747d1",
   "metadata": {
    "execution": {
     "iopub.execute_input": "2022-11-23T11:51:06.535721Z",
     "iopub.status.busy": "2022-11-23T11:51:06.534935Z",
     "iopub.status.idle": "2022-11-23T11:51:06.543119Z",
     "shell.execute_reply": "2022-11-23T11:51:06.541855Z",
     "shell.execute_reply.started": "2022-11-23T11:51:06.535677Z"
    },
    "papermill": {
     "duration": null,
     "end_time": null,
     "exception": null,
     "start_time": null,
     "status": "pending"
    },
    "tags": []
   },
   "outputs": [],
   "source": [
    "a"
   ]
  },
  {
   "cell_type": "code",
   "execution_count": null,
   "id": "73400114",
   "metadata": {
    "execution": {
     "iopub.execute_input": "2022-11-23T11:51:06.545436Z",
     "iopub.status.busy": "2022-11-23T11:51:06.545096Z",
     "iopub.status.idle": "2022-11-23T11:51:11.826629Z",
     "shell.execute_reply": "2022-11-23T11:51:11.825612Z",
     "shell.execute_reply.started": "2022-11-23T11:51:06.545408Z"
    },
    "papermill": {
     "duration": null,
     "end_time": null,
     "exception": null,
     "start_time": null,
     "status": "pending"
    },
    "tags": []
   },
   "outputs": [],
   "source": [
    "name = input(\"What is your name = \")"
   ]
  },
  {
   "cell_type": "code",
   "execution_count": null,
   "id": "a14eddca",
   "metadata": {
    "execution": {
     "iopub.execute_input": "2022-11-23T11:51:11.829200Z",
     "iopub.status.busy": "2022-11-23T11:51:11.828715Z",
     "iopub.status.idle": "2022-11-23T11:51:11.836440Z",
     "shell.execute_reply": "2022-11-23T11:51:11.835382Z",
     "shell.execute_reply.started": "2022-11-23T11:51:11.829155Z"
    },
    "papermill": {
     "duration": null,
     "end_time": null,
     "exception": null,
     "start_time": null,
     "status": "pending"
    },
    "tags": []
   },
   "outputs": [],
   "source": [
    "name"
   ]
  },
  {
   "cell_type": "code",
   "execution_count": null,
   "id": "ea64860a",
   "metadata": {
    "execution": {
     "iopub.execute_input": "2022-11-23T11:51:11.838131Z",
     "iopub.status.busy": "2022-11-23T11:51:11.837815Z",
     "iopub.status.idle": "2022-11-23T11:51:17.493628Z",
     "shell.execute_reply": "2022-11-23T11:51:17.492260Z",
     "shell.execute_reply.started": "2022-11-23T11:51:11.838104Z"
    },
    "papermill": {
     "duration": null,
     "end_time": null,
     "exception": null,
     "start_time": null,
     "status": "pending"
    },
    "tags": []
   },
   "outputs": [],
   "source": [
    "a = input(\"Pls input a = \")"
   ]
  },
  {
   "cell_type": "code",
   "execution_count": null,
   "id": "53e40342",
   "metadata": {
    "execution": {
     "iopub.execute_input": "2022-11-23T11:51:17.498533Z",
     "iopub.status.busy": "2022-11-23T11:51:17.498169Z",
     "iopub.status.idle": "2022-11-23T11:51:19.830493Z",
     "shell.execute_reply": "2022-11-23T11:51:19.829047Z",
     "shell.execute_reply.started": "2022-11-23T11:51:17.498502Z"
    },
    "papermill": {
     "duration": null,
     "end_time": null,
     "exception": null,
     "start_time": null,
     "status": "pending"
    },
    "tags": []
   },
   "outputs": [],
   "source": [
    "b = input(\"Pls input b = \")"
   ]
  },
  {
   "cell_type": "code",
   "execution_count": null,
   "id": "6510ce10",
   "metadata": {
    "execution": {
     "iopub.execute_input": "2022-11-23T11:51:19.832676Z",
     "iopub.status.busy": "2022-11-23T11:51:19.832297Z",
     "iopub.status.idle": "2022-11-23T11:51:19.839058Z",
     "shell.execute_reply": "2022-11-23T11:51:19.837903Z",
     "shell.execute_reply.started": "2022-11-23T11:51:19.832643Z"
    },
    "papermill": {
     "duration": null,
     "end_time": null,
     "exception": null,
     "start_time": null,
     "status": "pending"
    },
    "tags": []
   },
   "outputs": [],
   "source": [
    "print(\"The answer is \" + str(int(a) + int(b)) )"
   ]
  },
  {
   "cell_type": "code",
   "execution_count": null,
   "id": "81e1e8c5",
   "metadata": {
    "execution": {
     "iopub.execute_input": "2022-11-23T11:51:19.840986Z",
     "iopub.status.busy": "2022-11-23T11:51:19.840609Z",
     "iopub.status.idle": "2022-11-23T11:51:19.851654Z",
     "shell.execute_reply": "2022-11-23T11:51:19.850414Z",
     "shell.execute_reply.started": "2022-11-23T11:51:19.840955Z"
    },
    "papermill": {
     "duration": null,
     "end_time": null,
     "exception": null,
     "start_time": null,
     "status": "pending"
    },
    "tags": []
   },
   "outputs": [],
   "source": [
    "5 + 2 - (4*3)"
   ]
  },
  {
   "cell_type": "code",
   "execution_count": null,
   "id": "2560dc5a",
   "metadata": {
    "execution": {
     "iopub.execute_input": "2022-11-23T11:51:19.853993Z",
     "iopub.status.busy": "2022-11-23T11:51:19.853392Z",
     "iopub.status.idle": "2022-11-23T11:51:19.865203Z",
     "shell.execute_reply": "2022-11-23T11:51:19.864173Z",
     "shell.execute_reply.started": "2022-11-23T11:51:19.853941Z"
    },
    "papermill": {
     "duration": null,
     "end_time": null,
     "exception": null,
     "start_time": null,
     "status": "pending"
    },
    "tags": []
   },
   "outputs": [],
   "source": [
    "5 / 2"
   ]
  },
  {
   "cell_type": "code",
   "execution_count": null,
   "id": "f1476f38",
   "metadata": {
    "execution": {
     "iopub.execute_input": "2022-11-23T11:51:19.867047Z",
     "iopub.status.busy": "2022-11-23T11:51:19.866702Z",
     "iopub.status.idle": "2022-11-23T11:51:19.876461Z",
     "shell.execute_reply": "2022-11-23T11:51:19.875582Z",
     "shell.execute_reply.started": "2022-11-23T11:51:19.867018Z"
    },
    "papermill": {
     "duration": null,
     "end_time": null,
     "exception": null,
     "start_time": null,
     "status": "pending"
    },
    "tags": []
   },
   "outputs": [],
   "source": [
    "5 // 2"
   ]
  },
  {
   "cell_type": "code",
   "execution_count": null,
   "id": "e0535d75",
   "metadata": {
    "execution": {
     "iopub.execute_input": "2022-11-23T11:51:19.878575Z",
     "iopub.status.busy": "2022-11-23T11:51:19.877979Z",
     "iopub.status.idle": "2022-11-23T11:51:19.886180Z",
     "shell.execute_reply": "2022-11-23T11:51:19.885176Z",
     "shell.execute_reply.started": "2022-11-23T11:51:19.878542Z"
    },
    "papermill": {
     "duration": null,
     "end_time": null,
     "exception": null,
     "start_time": null,
     "status": "pending"
    },
    "tags": []
   },
   "outputs": [],
   "source": [
    "5 % 2"
   ]
  },
  {
   "cell_type": "code",
   "execution_count": null,
   "id": "fde8fe60",
   "metadata": {
    "execution": {
     "iopub.execute_input": "2022-11-23T11:51:19.888209Z",
     "iopub.status.busy": "2022-11-23T11:51:19.887614Z",
     "iopub.status.idle": "2022-11-23T11:51:19.896868Z",
     "shell.execute_reply": "2022-11-23T11:51:19.896045Z",
     "shell.execute_reply.started": "2022-11-23T11:51:19.888176Z"
    },
    "papermill": {
     "duration": null,
     "end_time": null,
     "exception": null,
     "start_time": null,
     "status": "pending"
    },
    "tags": []
   },
   "outputs": [],
   "source": [
    "5 ** 2"
   ]
  },
  {
   "cell_type": "code",
   "execution_count": null,
   "id": "f56e68ec",
   "metadata": {
    "execution": {
     "iopub.execute_input": "2022-11-23T11:51:19.899285Z",
     "iopub.status.busy": "2022-11-23T11:51:19.898589Z",
     "iopub.status.idle": "2022-11-23T11:51:19.907225Z",
     "shell.execute_reply": "2022-11-23T11:51:19.906424Z",
     "shell.execute_reply.started": "2022-11-23T11:51:19.899245Z"
    },
    "papermill": {
     "duration": null,
     "end_time": null,
     "exception": null,
     "start_time": null,
     "status": "pending"
    },
    "tags": []
   },
   "outputs": [],
   "source": [
    "\"a\" in \"Sand\""
   ]
  },
  {
   "cell_type": "code",
   "execution_count": null,
   "id": "00b03f90",
   "metadata": {
    "execution": {
     "iopub.execute_input": "2022-11-23T11:51:19.909102Z",
     "iopub.status.busy": "2022-11-23T11:51:19.908532Z",
     "iopub.status.idle": "2022-11-23T11:51:19.918593Z",
     "shell.execute_reply": "2022-11-23T11:51:19.917689Z",
     "shell.execute_reply.started": "2022-11-23T11:51:19.909072Z"
    },
    "papermill": {
     "duration": null,
     "end_time": null,
     "exception": null,
     "start_time": null,
     "status": "pending"
    },
    "tags": []
   },
   "outputs": [],
   "source": [
    "\"f\" in \"Sand\""
   ]
  },
  {
   "cell_type": "code",
   "execution_count": null,
   "id": "c6f6c757",
   "metadata": {
    "execution": {
     "iopub.execute_input": "2022-11-23T11:51:19.920656Z",
     "iopub.status.busy": "2022-11-23T11:51:19.919740Z",
     "iopub.status.idle": "2022-11-23T11:51:19.929953Z",
     "shell.execute_reply": "2022-11-23T11:51:19.929062Z",
     "shell.execute_reply.started": "2022-11-23T11:51:19.920625Z"
    },
    "papermill": {
     "duration": null,
     "end_time": null,
     "exception": null,
     "start_time": null,
     "status": "pending"
    },
    "tags": []
   },
   "outputs": [],
   "source": [
    "\"A\" not in \"Phasit\""
   ]
  },
  {
   "cell_type": "code",
   "execution_count": null,
   "id": "a9972eb7",
   "metadata": {
    "execution": {
     "iopub.execute_input": "2022-11-23T11:51:19.931991Z",
     "iopub.status.busy": "2022-11-23T11:51:19.931419Z",
     "iopub.status.idle": "2022-11-23T11:51:19.941764Z",
     "shell.execute_reply": "2022-11-23T11:51:19.940874Z",
     "shell.execute_reply.started": "2022-11-23T11:51:19.931958Z"
    },
    "papermill": {
     "duration": null,
     "end_time": null,
     "exception": null,
     "start_time": null,
     "status": "pending"
    },
    "tags": []
   },
   "outputs": [],
   "source": [
    "\"อ\" in \"อาจารย์น่ารักมาก\""
   ]
  },
  {
   "cell_type": "code",
   "execution_count": null,
   "id": "6a7d98e9",
   "metadata": {
    "execution": {
     "iopub.execute_input": "2022-11-23T11:51:19.943721Z",
     "iopub.status.busy": "2022-11-23T11:51:19.943083Z",
     "iopub.status.idle": "2022-11-23T11:51:19.951299Z",
     "shell.execute_reply": "2022-11-23T11:51:19.950251Z",
     "shell.execute_reply.started": "2022-11-23T11:51:19.943688Z"
    },
    "papermill": {
     "duration": null,
     "end_time": null,
     "exception": null,
     "start_time": null,
     "status": "pending"
    },
    "tags": []
   },
   "outputs": [],
   "source": [
    "print(\"Hello my name is \"+name+\" and my age is \"+str(age))"
   ]
  },
  {
   "cell_type": "code",
   "execution_count": null,
   "id": "8c8eb040",
   "metadata": {
    "execution": {
     "iopub.execute_input": "2022-11-23T11:51:19.953229Z",
     "iopub.status.busy": "2022-11-23T11:51:19.952313Z",
     "iopub.status.idle": "2022-11-23T11:51:19.961611Z",
     "shell.execute_reply": "2022-11-23T11:51:19.960483Z",
     "shell.execute_reply.started": "2022-11-23T11:51:19.953198Z"
    },
    "papermill": {
     "duration": null,
     "end_time": null,
     "exception": null,
     "start_time": null,
     "status": "pending"
    },
    "tags": []
   },
   "outputs": [],
   "source": [
    "print(\"The answer is \" +format(2000, '.2f') )"
   ]
  },
  {
   "cell_type": "code",
   "execution_count": null,
   "id": "5d52d90d",
   "metadata": {
    "execution": {
     "iopub.execute_input": "2022-11-23T11:51:19.964094Z",
     "iopub.status.busy": "2022-11-23T11:51:19.963355Z",
     "iopub.status.idle": "2022-11-23T11:51:19.973142Z",
     "shell.execute_reply": "2022-11-23T11:51:19.972189Z",
     "shell.execute_reply.started": "2022-11-23T11:51:19.964051Z"
    },
    "papermill": {
     "duration": null,
     "end_time": null,
     "exception": null,
     "start_time": null,
     "status": "pending"
    },
    "tags": []
   },
   "outputs": [],
   "source": [
    "\"The world is beautiful \".find(\"world\")"
   ]
  },
  {
   "cell_type": "code",
   "execution_count": null,
   "id": "55b9442e",
   "metadata": {
    "execution": {
     "iopub.execute_input": "2022-11-23T11:51:19.975146Z",
     "iopub.status.busy": "2022-11-23T11:51:19.974651Z",
     "iopub.status.idle": "2022-11-23T11:51:19.985817Z",
     "shell.execute_reply": "2022-11-23T11:51:19.984895Z",
     "shell.execute_reply.started": "2022-11-23T11:51:19.975116Z"
    },
    "papermill": {
     "duration": null,
     "end_time": null,
     "exception": null,
     "start_time": null,
     "status": "pending"
    },
    "tags": []
   },
   "outputs": [],
   "source": [
    "\"The world is beautiful \" .find(\"in\")"
   ]
  },
  {
   "cell_type": "code",
   "execution_count": null,
   "id": "e7421a44",
   "metadata": {
    "execution": {
     "iopub.execute_input": "2022-11-23T11:51:19.987863Z",
     "iopub.status.busy": "2022-11-23T11:51:19.987214Z",
     "iopub.status.idle": "2022-11-23T11:51:19.994574Z",
     "shell.execute_reply": "2022-11-23T11:51:19.993810Z",
     "shell.execute_reply.started": "2022-11-23T11:51:19.987815Z"
    },
    "papermill": {
     "duration": null,
     "end_time": null,
     "exception": null,
     "start_time": null,
     "status": "pending"
    },
    "tags": []
   },
   "outputs": [],
   "source": [
    "text = \"My cat is so cute\""
   ]
  },
  {
   "cell_type": "code",
   "execution_count": null,
   "id": "5a21e7f8",
   "metadata": {
    "execution": {
     "iopub.execute_input": "2022-11-23T11:51:19.996406Z",
     "iopub.status.busy": "2022-11-23T11:51:19.996097Z",
     "iopub.status.idle": "2022-11-23T11:51:20.007614Z",
     "shell.execute_reply": "2022-11-23T11:51:20.006531Z",
     "shell.execute_reply.started": "2022-11-23T11:51:19.996373Z"
    },
    "papermill": {
     "duration": null,
     "end_time": null,
     "exception": null,
     "start_time": null,
     "status": "pending"
    },
    "tags": []
   },
   "outputs": [],
   "source": [
    "text.replace(\"is\" , \"are\")"
   ]
  },
  {
   "cell_type": "code",
   "execution_count": null,
   "id": "f70c0d73",
   "metadata": {
    "execution": {
     "iopub.execute_input": "2022-11-23T11:51:20.010103Z",
     "iopub.status.busy": "2022-11-23T11:51:20.009293Z",
     "iopub.status.idle": "2022-11-23T11:51:20.018704Z",
     "shell.execute_reply": "2022-11-23T11:51:20.017649Z",
     "shell.execute_reply.started": "2022-11-23T11:51:20.010058Z"
    },
    "papermill": {
     "duration": null,
     "end_time": null,
     "exception": null,
     "start_time": null,
     "status": "pending"
    },
    "tags": []
   },
   "outputs": [],
   "source": [
    "text"
   ]
  },
  {
   "cell_type": "code",
   "execution_count": null,
   "id": "35f221c2",
   "metadata": {
    "execution": {
     "iopub.execute_input": "2022-11-23T11:51:20.020707Z",
     "iopub.status.busy": "2022-11-23T11:51:20.019942Z",
     "iopub.status.idle": "2022-11-23T11:51:20.032809Z",
     "shell.execute_reply": "2022-11-23T11:51:20.031904Z",
     "shell.execute_reply.started": "2022-11-23T11:51:20.020675Z"
    },
    "papermill": {
     "duration": null,
     "end_time": null,
     "exception": null,
     "start_time": null,
     "status": "pending"
    },
    "tags": []
   },
   "outputs": [],
   "source": [
    "text = text.replace(\"is\",\"are\")"
   ]
  },
  {
   "cell_type": "code",
   "execution_count": null,
   "id": "50ae3072",
   "metadata": {
    "execution": {
     "iopub.execute_input": "2022-11-23T11:51:20.034922Z",
     "iopub.status.busy": "2022-11-23T11:51:20.034168Z",
     "iopub.status.idle": "2022-11-23T11:51:20.047378Z",
     "shell.execute_reply": "2022-11-23T11:51:20.046279Z",
     "shell.execute_reply.started": "2022-11-23T11:51:20.034888Z"
    },
    "papermill": {
     "duration": null,
     "end_time": null,
     "exception": null,
     "start_time": null,
     "status": "pending"
    },
    "tags": []
   },
   "outputs": [],
   "source": [
    "text"
   ]
  },
  {
   "cell_type": "code",
   "execution_count": null,
   "id": "a1f4b896",
   "metadata": {
    "execution": {
     "iopub.execute_input": "2022-11-23T11:51:20.049137Z",
     "iopub.status.busy": "2022-11-23T11:51:20.048768Z",
     "iopub.status.idle": "2022-11-23T11:51:20.061810Z",
     "shell.execute_reply": "2022-11-23T11:51:20.060800Z",
     "shell.execute_reply.started": "2022-11-23T11:51:20.049107Z"
    },
    "papermill": {
     "duration": null,
     "end_time": null,
     "exception": null,
     "start_time": null,
     "status": "pending"
    },
    "tags": []
   },
   "outputs": [],
   "source": [
    "text = \"Hello World  \"\n",
    "text"
   ]
  },
  {
   "cell_type": "code",
   "execution_count": null,
   "id": "a4a7a4e0",
   "metadata": {
    "execution": {
     "iopub.execute_input": "2022-11-23T11:51:20.064190Z",
     "iopub.status.busy": "2022-11-23T11:51:20.063444Z",
     "iopub.status.idle": "2022-11-23T11:51:20.073380Z",
     "shell.execute_reply": "2022-11-23T11:51:20.072161Z",
     "shell.execute_reply.started": "2022-11-23T11:51:20.064148Z"
    },
    "papermill": {
     "duration": null,
     "end_time": null,
     "exception": null,
     "start_time": null,
     "status": "pending"
    },
    "tags": []
   },
   "outputs": [],
   "source": [
    "text.rstrip()"
   ]
  },
  {
   "cell_type": "code",
   "execution_count": null,
   "id": "93c2744e",
   "metadata": {
    "execution": {
     "iopub.execute_input": "2022-11-23T11:51:20.076142Z",
     "iopub.status.busy": "2022-11-23T11:51:20.075212Z",
     "iopub.status.idle": "2022-11-23T11:51:20.084889Z",
     "shell.execute_reply": "2022-11-23T11:51:20.083904Z",
     "shell.execute_reply.started": "2022-11-23T11:51:20.076099Z"
    },
    "papermill": {
     "duration": null,
     "end_time": null,
     "exception": null,
     "start_time": null,
     "status": "pending"
    },
    "tags": []
   },
   "outputs": [],
   "source": [
    "text"
   ]
  },
  {
   "cell_type": "code",
   "execution_count": null,
   "id": "987d82a9",
   "metadata": {
    "execution": {
     "iopub.execute_input": "2022-11-23T11:51:20.087027Z",
     "iopub.status.busy": "2022-11-23T11:51:20.086249Z",
     "iopub.status.idle": "2022-11-23T11:51:20.095940Z",
     "shell.execute_reply": "2022-11-23T11:51:20.094854Z",
     "shell.execute_reply.started": "2022-11-23T11:51:20.086985Z"
    },
    "papermill": {
     "duration": null,
     "end_time": null,
     "exception": null,
     "start_time": null,
     "status": "pending"
    },
    "tags": []
   },
   "outputs": [],
   "source": [
    "text[1]"
   ]
  },
  {
   "cell_type": "code",
   "execution_count": null,
   "id": "7e656d2a",
   "metadata": {
    "execution": {
     "iopub.execute_input": "2022-11-23T11:51:20.099635Z",
     "iopub.status.busy": "2022-11-23T11:51:20.099307Z",
     "iopub.status.idle": "2022-11-23T11:51:20.109615Z",
     "shell.execute_reply": "2022-11-23T11:51:20.108863Z",
     "shell.execute_reply.started": "2022-11-23T11:51:20.099606Z"
    },
    "papermill": {
     "duration": null,
     "end_time": null,
     "exception": null,
     "start_time": null,
     "status": "pending"
    },
    "tags": []
   },
   "outputs": [],
   "source": [
    "text[0]"
   ]
  },
  {
   "cell_type": "code",
   "execution_count": null,
   "id": "14f8066e",
   "metadata": {
    "execution": {
     "iopub.execute_input": "2022-11-23T11:51:20.111981Z",
     "iopub.status.busy": "2022-11-23T11:51:20.111253Z",
     "iopub.status.idle": "2022-11-23T11:51:20.119787Z",
     "shell.execute_reply": "2022-11-23T11:51:20.118932Z",
     "shell.execute_reply.started": "2022-11-23T11:51:20.111939Z"
    },
    "papermill": {
     "duration": null,
     "end_time": null,
     "exception": null,
     "start_time": null,
     "status": "pending"
    },
    "tags": []
   },
   "outputs": [],
   "source": [
    "text[-1]"
   ]
  },
  {
   "cell_type": "code",
   "execution_count": null,
   "id": "c9de0979",
   "metadata": {
    "execution": {
     "iopub.execute_input": "2022-11-23T11:51:20.121961Z",
     "iopub.status.busy": "2022-11-23T11:51:20.121042Z",
     "iopub.status.idle": "2022-11-23T11:51:20.128860Z",
     "shell.execute_reply": "2022-11-23T11:51:20.128080Z",
     "shell.execute_reply.started": "2022-11-23T11:51:20.121922Z"
    },
    "papermill": {
     "duration": null,
     "end_time": null,
     "exception": null,
     "start_time": null,
     "status": "pending"
    },
    "tags": []
   },
   "outputs": [],
   "source": [
    "text = \"x\""
   ]
  },
  {
   "cell_type": "code",
   "execution_count": null,
   "id": "c99009e1",
   "metadata": {
    "execution": {
     "iopub.execute_input": "2022-11-23T11:51:20.139884Z",
     "iopub.status.busy": "2022-11-23T11:51:20.139130Z",
     "iopub.status.idle": "2022-11-23T11:51:20.146425Z",
     "shell.execute_reply": "2022-11-23T11:51:20.145597Z",
     "shell.execute_reply.started": "2022-11-23T11:51:20.139842Z"
    },
    "papermill": {
     "duration": null,
     "end_time": null,
     "exception": null,
     "start_time": null,
     "status": "pending"
    },
    "tags": []
   },
   "outputs": [],
   "source": [
    "text.join(\"ABC\")"
   ]
  },
  {
   "cell_type": "code",
   "execution_count": null,
   "id": "05534fe5",
   "metadata": {
    "execution": {
     "iopub.execute_input": "2022-11-23T11:51:20.147911Z",
     "iopub.status.busy": "2022-11-23T11:51:20.147593Z",
     "iopub.status.idle": "2022-11-23T11:51:20.157412Z",
     "shell.execute_reply": "2022-11-23T11:51:20.156620Z",
     "shell.execute_reply.started": "2022-11-23T11:51:20.147884Z"
    },
    "papermill": {
     "duration": null,
     "end_time": null,
     "exception": null,
     "start_time": null,
     "status": "pending"
    },
    "tags": []
   },
   "outputs": [],
   "source": [
    "text = \"Hello World\""
   ]
  },
  {
   "cell_type": "code",
   "execution_count": null,
   "id": "753faa7a",
   "metadata": {
    "execution": {
     "iopub.execute_input": "2022-11-23T11:51:20.159501Z",
     "iopub.status.busy": "2022-11-23T11:51:20.158927Z",
     "iopub.status.idle": "2022-11-23T11:51:20.172336Z",
     "shell.execute_reply": "2022-11-23T11:51:20.171120Z",
     "shell.execute_reply.started": "2022-11-23T11:51:20.159469Z"
    },
    "papermill": {
     "duration": null,
     "end_time": null,
     "exception": null,
     "start_time": null,
     "status": "pending"
    },
    "tags": []
   },
   "outputs": [],
   "source": [
    "text.split()"
   ]
  },
  {
   "cell_type": "code",
   "execution_count": null,
   "id": "8057e290",
   "metadata": {
    "execution": {
     "iopub.execute_input": "2022-11-23T11:51:20.174406Z",
     "iopub.status.busy": "2022-11-23T11:51:20.173556Z",
     "iopub.status.idle": "2022-11-23T11:51:20.184002Z",
     "shell.execute_reply": "2022-11-23T11:51:20.182890Z",
     "shell.execute_reply.started": "2022-11-23T11:51:20.174363Z"
    },
    "papermill": {
     "duration": null,
     "end_time": null,
     "exception": null,
     "start_time": null,
     "status": "pending"
    },
    "tags": []
   },
   "outputs": [],
   "source": [
    "text = \"1,2,3,4,5,6\"\n",
    "text.split(\",\")"
   ]
  },
  {
   "cell_type": "code",
   "execution_count": null,
   "id": "1cf155c1",
   "metadata": {
    "execution": {
     "iopub.execute_input": "2022-11-23T11:51:20.186217Z",
     "iopub.status.busy": "2022-11-23T11:51:20.185519Z",
     "iopub.status.idle": "2022-11-23T11:51:20.194669Z",
     "shell.execute_reply": "2022-11-23T11:51:20.193480Z",
     "shell.execute_reply.started": "2022-11-23T11:51:20.186174Z"
    },
    "papermill": {
     "duration": null,
     "end_time": null,
     "exception": null,
     "start_time": null,
     "status": "pending"
    },
    "tags": []
   },
   "outputs": [],
   "source": [
    "text = \"1,2,3,4,5,6\"\n",
    "'_'.join(text.split(\",\"))"
   ]
  },
  {
   "cell_type": "code",
   "execution_count": null,
   "id": "87d1b4fb",
   "metadata": {
    "execution": {
     "iopub.execute_input": "2022-11-23T11:51:20.196354Z",
     "iopub.status.busy": "2022-11-23T11:51:20.195804Z",
     "iopub.status.idle": "2022-11-23T11:51:20.205874Z",
     "shell.execute_reply": "2022-11-23T11:51:20.204849Z",
     "shell.execute_reply.started": "2022-11-23T11:51:20.196321Z"
    },
    "papermill": {
     "duration": null,
     "end_time": null,
     "exception": null,
     "start_time": null,
     "status": "pending"
    },
    "tags": []
   },
   "outputs": [],
   "source": [
    "text = \"1,2,3,4,5,6\"\n",
    "''.join(text.split(\",\"))"
   ]
  },
  {
   "cell_type": "code",
   "execution_count": null,
   "id": "9afe7321",
   "metadata": {
    "execution": {
     "iopub.execute_input": "2022-11-23T11:51:20.207726Z",
     "iopub.status.busy": "2022-11-23T11:51:20.207265Z",
     "iopub.status.idle": "2022-11-23T11:51:20.216480Z",
     "shell.execute_reply": "2022-11-23T11:51:20.215305Z",
     "shell.execute_reply.started": "2022-11-23T11:51:20.207696Z"
    },
    "papermill": {
     "duration": null,
     "end_time": null,
     "exception": null,
     "start_time": null,
     "status": "pending"
    },
    "tags": []
   },
   "outputs": [],
   "source": [
    "text = \"1,2,3,4,5,6\"\n",
    "' '.join(text.split(\",\"))"
   ]
  },
  {
   "cell_type": "code",
   "execution_count": null,
   "id": "f7006774",
   "metadata": {
    "execution": {
     "iopub.execute_input": "2022-11-23T11:51:20.218415Z",
     "iopub.status.busy": "2022-11-23T11:51:20.217787Z",
     "iopub.status.idle": "2022-11-23T11:51:20.227351Z",
     "shell.execute_reply": "2022-11-23T11:51:20.226525Z",
     "shell.execute_reply.started": "2022-11-23T11:51:20.218374Z"
    },
    "papermill": {
     "duration": null,
     "end_time": null,
     "exception": null,
     "start_time": null,
     "status": "pending"
    },
    "tags": []
   },
   "outputs": [],
   "source": [
    "L = [1,2,3]\n",
    "L"
   ]
  },
  {
   "cell_type": "code",
   "execution_count": null,
   "id": "a9498912",
   "metadata": {
    "execution": {
     "iopub.execute_input": "2022-11-23T11:51:20.229439Z",
     "iopub.status.busy": "2022-11-23T11:51:20.228588Z",
     "iopub.status.idle": "2022-11-23T11:51:20.238642Z",
     "shell.execute_reply": "2022-11-23T11:51:20.237503Z",
     "shell.execute_reply.started": "2022-11-23T11:51:20.229409Z"
    },
    "papermill": {
     "duration": null,
     "end_time": null,
     "exception": null,
     "start_time": null,
     "status": "pending"
    },
    "tags": []
   },
   "outputs": [],
   "source": [
    "L = [ [1,2] , [3,4] , [5,6] ]\n",
    "L"
   ]
  },
  {
   "cell_type": "code",
   "execution_count": null,
   "id": "9e9c3037",
   "metadata": {
    "execution": {
     "iopub.execute_input": "2022-11-23T11:51:20.241537Z",
     "iopub.status.busy": "2022-11-23T11:51:20.240793Z",
     "iopub.status.idle": "2022-11-23T11:51:20.250247Z",
     "shell.execute_reply": "2022-11-23T11:51:20.249201Z",
     "shell.execute_reply.started": "2022-11-23T11:51:20.241495Z"
    },
    "papermill": {
     "duration": null,
     "end_time": null,
     "exception": null,
     "start_time": null,
     "status": "pending"
    },
    "tags": []
   },
   "outputs": [],
   "source": [
    "L[1]"
   ]
  },
  {
   "cell_type": "code",
   "execution_count": null,
   "id": "1f636657",
   "metadata": {
    "execution": {
     "iopub.execute_input": "2022-11-23T11:51:20.252317Z",
     "iopub.status.busy": "2022-11-23T11:51:20.251382Z",
     "iopub.status.idle": "2022-11-23T11:51:20.261142Z",
     "shell.execute_reply": "2022-11-23T11:51:20.260128Z",
     "shell.execute_reply.started": "2022-11-23T11:51:20.252274Z"
    },
    "papermill": {
     "duration": null,
     "end_time": null,
     "exception": null,
     "start_time": null,
     "status": "pending"
    },
    "tags": []
   },
   "outputs": [],
   "source": [
    "L[1][0]"
   ]
  },
  {
   "cell_type": "code",
   "execution_count": null,
   "id": "139b70c1",
   "metadata": {
    "execution": {
     "iopub.execute_input": "2022-11-23T11:51:20.263318Z",
     "iopub.status.busy": "2022-11-23T11:51:20.262867Z",
     "iopub.status.idle": "2022-11-23T11:51:20.273325Z",
     "shell.execute_reply": "2022-11-23T11:51:20.272264Z",
     "shell.execute_reply.started": "2022-11-23T11:51:20.263277Z"
    },
    "papermill": {
     "duration": null,
     "end_time": null,
     "exception": null,
     "start_time": null,
     "status": "pending"
    },
    "tags": []
   },
   "outputs": [],
   "source": [
    "a = []\n",
    "a.append(0)\n",
    "a.append(1)\n",
    "a.append(\"a\")\n",
    "a"
   ]
  },
  {
   "cell_type": "code",
   "execution_count": null,
   "id": "eab06fb0",
   "metadata": {
    "execution": {
     "iopub.execute_input": "2022-11-23T11:51:20.275419Z",
     "iopub.status.busy": "2022-11-23T11:51:20.274980Z",
     "iopub.status.idle": "2022-11-23T11:51:20.285206Z",
     "shell.execute_reply": "2022-11-23T11:51:20.284063Z",
     "shell.execute_reply.started": "2022-11-23T11:51:20.275377Z"
    },
    "papermill": {
     "duration": null,
     "end_time": null,
     "exception": null,
     "start_time": null,
     "status": "pending"
    },
    "tags": []
   },
   "outputs": [],
   "source": [
    "a.remove('a')\n",
    "a"
   ]
  },
  {
   "cell_type": "code",
   "execution_count": null,
   "id": "2cdce35a",
   "metadata": {
    "execution": {
     "iopub.execute_input": "2022-11-23T11:51:20.287433Z",
     "iopub.status.busy": "2022-11-23T11:51:20.286657Z",
     "iopub.status.idle": "2022-11-23T11:51:20.298288Z",
     "shell.execute_reply": "2022-11-23T11:51:20.297181Z",
     "shell.execute_reply.started": "2022-11-23T11:51:20.287391Z"
    },
    "papermill": {
     "duration": null,
     "end_time": null,
     "exception": null,
     "start_time": null,
     "status": "pending"
    },
    "tags": []
   },
   "outputs": [],
   "source": [
    "a = []\n",
    "a.append('a')\n",
    "a.append('b')\n",
    "a.append('c')\n",
    "a"
   ]
  },
  {
   "cell_type": "code",
   "execution_count": null,
   "id": "cc50f139",
   "metadata": {
    "execution": {
     "iopub.execute_input": "2022-11-23T11:51:20.300024Z",
     "iopub.status.busy": "2022-11-23T11:51:20.299667Z",
     "iopub.status.idle": "2022-11-23T11:51:20.309934Z",
     "shell.execute_reply": "2022-11-23T11:51:20.308738Z",
     "shell.execute_reply.started": "2022-11-23T11:51:20.299985Z"
    },
    "papermill": {
     "duration": null,
     "end_time": null,
     "exception": null,
     "start_time": null,
     "status": "pending"
    },
    "tags": []
   },
   "outputs": [],
   "source": [
    "a.pop(1)\n",
    "a"
   ]
  },
  {
   "cell_type": "code",
   "execution_count": null,
   "id": "48ae5c99",
   "metadata": {
    "execution": {
     "iopub.execute_input": "2022-11-23T11:51:20.311694Z",
     "iopub.status.busy": "2022-11-23T11:51:20.311275Z",
     "iopub.status.idle": "2022-11-23T11:51:20.321576Z",
     "shell.execute_reply": "2022-11-23T11:51:20.320407Z",
     "shell.execute_reply.started": "2022-11-23T11:51:20.311654Z"
    },
    "papermill": {
     "duration": null,
     "end_time": null,
     "exception": null,
     "start_time": null,
     "status": "pending"
    },
    "tags": []
   },
   "outputs": [],
   "source": [
    "a.remove('a')\n",
    "a"
   ]
  },
  {
   "cell_type": "code",
   "execution_count": null,
   "id": "042c4b62",
   "metadata": {
    "execution": {
     "iopub.execute_input": "2022-11-23T11:51:20.323790Z",
     "iopub.status.busy": "2022-11-23T11:51:20.323450Z",
     "iopub.status.idle": "2022-11-23T11:51:20.334205Z",
     "shell.execute_reply": "2022-11-23T11:51:20.333097Z",
     "shell.execute_reply.started": "2022-11-23T11:51:20.323761Z"
    },
    "papermill": {
     "duration": null,
     "end_time": null,
     "exception": null,
     "start_time": null,
     "status": "pending"
    },
    "tags": []
   },
   "outputs": [],
   "source": [
    "a = []\n",
    "a.append('a')\n",
    "a.append('b')\n",
    "a.append('c')\n",
    "a"
   ]
  },
  {
   "cell_type": "code",
   "execution_count": null,
   "id": "275a2d5d",
   "metadata": {
    "execution": {
     "iopub.execute_input": "2022-11-23T11:51:20.336068Z",
     "iopub.status.busy": "2022-11-23T11:51:20.335614Z",
     "iopub.status.idle": "2022-11-23T11:51:20.346420Z",
     "shell.execute_reply": "2022-11-23T11:51:20.345374Z",
     "shell.execute_reply.started": "2022-11-23T11:51:20.336030Z"
    },
    "papermill": {
     "duration": null,
     "end_time": null,
     "exception": null,
     "start_time": null,
     "status": "pending"
    },
    "tags": []
   },
   "outputs": [],
   "source": [
    "a.reverse()\n",
    "a"
   ]
  },
  {
   "cell_type": "code",
   "execution_count": null,
   "id": "451db89a",
   "metadata": {
    "execution": {
     "iopub.execute_input": "2022-11-23T11:51:20.347655Z",
     "iopub.status.busy": "2022-11-23T11:51:20.347295Z",
     "iopub.status.idle": "2022-11-23T11:51:20.357181Z",
     "shell.execute_reply": "2022-11-23T11:51:20.356086Z",
     "shell.execute_reply.started": "2022-11-23T11:51:20.347625Z"
    },
    "papermill": {
     "duration": null,
     "end_time": null,
     "exception": null,
     "start_time": null,
     "status": "pending"
    },
    "tags": []
   },
   "outputs": [],
   "source": [
    "a = [3,4,1,2]\n",
    "a.sort()\n",
    "a"
   ]
  },
  {
   "cell_type": "code",
   "execution_count": null,
   "id": "b93aba48",
   "metadata": {
    "execution": {
     "iopub.execute_input": "2022-11-23T11:51:20.359137Z",
     "iopub.status.busy": "2022-11-23T11:51:20.358268Z",
     "iopub.status.idle": "2022-11-23T11:51:20.369284Z",
     "shell.execute_reply": "2022-11-23T11:51:20.368341Z",
     "shell.execute_reply.started": "2022-11-23T11:51:20.359105Z"
    },
    "papermill": {
     "duration": null,
     "end_time": null,
     "exception": null,
     "start_time": null,
     "status": "pending"
    },
    "tags": []
   },
   "outputs": [],
   "source": [
    "1 in a"
   ]
  },
  {
   "cell_type": "code",
   "execution_count": null,
   "id": "13649551",
   "metadata": {
    "execution": {
     "iopub.execute_input": "2022-11-23T11:51:20.371410Z",
     "iopub.status.busy": "2022-11-23T11:51:20.370520Z",
     "iopub.status.idle": "2022-11-23T11:51:20.379401Z",
     "shell.execute_reply": "2022-11-23T11:51:20.378370Z",
     "shell.execute_reply.started": "2022-11-23T11:51:20.371378Z"
    },
    "papermill": {
     "duration": null,
     "end_time": null,
     "exception": null,
     "start_time": null,
     "status": "pending"
    },
    "tags": []
   },
   "outputs": [],
   "source": [
    "a = [1, 2, 3] +  ['a', 'b', 'c']\n",
    "a"
   ]
  },
  {
   "cell_type": "code",
   "execution_count": null,
   "id": "93cd4332",
   "metadata": {
    "execution": {
     "iopub.execute_input": "2022-11-23T11:51:20.381535Z",
     "iopub.status.busy": "2022-11-23T11:51:20.380559Z",
     "iopub.status.idle": "2022-11-23T11:51:20.391234Z",
     "shell.execute_reply": "2022-11-23T11:51:20.390168Z",
     "shell.execute_reply.started": "2022-11-23T11:51:20.381502Z"
    },
    "papermill": {
     "duration": null,
     "end_time": null,
     "exception": null,
     "start_time": null,
     "status": "pending"
    },
    "tags": []
   },
   "outputs": [],
   "source": [
    "len(a)"
   ]
  },
  {
   "cell_type": "code",
   "execution_count": null,
   "id": "55457f9f",
   "metadata": {
    "execution": {
     "iopub.execute_input": "2022-11-23T11:51:20.393589Z",
     "iopub.status.busy": "2022-11-23T11:51:20.392803Z",
     "iopub.status.idle": "2022-11-23T11:51:20.402037Z",
     "shell.execute_reply": "2022-11-23T11:51:20.401022Z",
     "shell.execute_reply.started": "2022-11-23T11:51:20.393557Z"
    },
    "papermill": {
     "duration": null,
     "end_time": null,
     "exception": null,
     "start_time": null,
     "status": "pending"
    },
    "tags": []
   },
   "outputs": [],
   "source": [
    "b = [1, 2, 3] +  ['s', 'a']\n",
    "b"
   ]
  },
  {
   "cell_type": "code",
   "execution_count": null,
   "id": "f144ed63",
   "metadata": {
    "execution": {
     "iopub.execute_input": "2022-11-23T11:51:20.404029Z",
     "iopub.status.busy": "2022-11-23T11:51:20.403458Z",
     "iopub.status.idle": "2022-11-23T11:51:20.414636Z",
     "shell.execute_reply": "2022-11-23T11:51:20.413518Z",
     "shell.execute_reply.started": "2022-11-23T11:51:20.403997Z"
    },
    "papermill": {
     "duration": null,
     "end_time": null,
     "exception": null,
     "start_time": null,
     "status": "pending"
    },
    "tags": []
   },
   "outputs": [],
   "source": [
    "len(b)"
   ]
  },
  {
   "cell_type": "code",
   "execution_count": null,
   "id": "7e35414f",
   "metadata": {
    "execution": {
     "iopub.execute_input": "2022-11-23T11:51:20.417375Z",
     "iopub.status.busy": "2022-11-23T11:51:20.416321Z",
     "iopub.status.idle": "2022-11-23T11:51:20.426075Z",
     "shell.execute_reply": "2022-11-23T11:51:20.425002Z",
     "shell.execute_reply.started": "2022-11-23T11:51:20.417334Z"
    },
    "papermill": {
     "duration": null,
     "end_time": null,
     "exception": null,
     "start_time": null,
     "status": "pending"
    },
    "tags": []
   },
   "outputs": [],
   "source": [
    "a[2:5]"
   ]
  },
  {
   "cell_type": "code",
   "execution_count": null,
   "id": "161eb7b1",
   "metadata": {
    "execution": {
     "iopub.execute_input": "2022-11-23T11:51:20.428259Z",
     "iopub.status.busy": "2022-11-23T11:51:20.427468Z",
     "iopub.status.idle": "2022-11-23T11:51:20.437518Z",
     "shell.execute_reply": "2022-11-23T11:51:20.436356Z",
     "shell.execute_reply.started": "2022-11-23T11:51:20.428227Z"
    },
    "papermill": {
     "duration": null,
     "end_time": null,
     "exception": null,
     "start_time": null,
     "status": "pending"
    },
    "tags": []
   },
   "outputs": [],
   "source": [
    "a[0:3]"
   ]
  },
  {
   "cell_type": "code",
   "execution_count": null,
   "id": "deb63cf6",
   "metadata": {
    "execution": {
     "iopub.execute_input": "2022-11-23T11:51:20.440142Z",
     "iopub.status.busy": "2022-11-23T11:51:20.439441Z",
     "iopub.status.idle": "2022-11-23T11:51:20.448630Z",
     "shell.execute_reply": "2022-11-23T11:51:20.447738Z",
     "shell.execute_reply.started": "2022-11-23T11:51:20.440102Z"
    },
    "papermill": {
     "duration": null,
     "end_time": null,
     "exception": null,
     "start_time": null,
     "status": "pending"
    },
    "tags": []
   },
   "outputs": [],
   "source": [
    "a[2:4]"
   ]
  },
  {
   "cell_type": "markdown",
   "id": "4b86cb82",
   "metadata": {
    "papermill": {
     "duration": null,
     "end_time": null,
     "exception": null,
     "start_time": null,
     "status": "pending"
    },
    "tags": []
   },
   "source": [
    "8. Write a Python program to display the first and last colors from the following list. Go to the editor\n",
    "color_list = [\"Red\",\"Green\",\"White\" ,\"Black\"]"
   ]
  },
  {
   "cell_type": "code",
   "execution_count": null,
   "id": "3d7e4889",
   "metadata": {
    "execution": {
     "iopub.execute_input": "2022-11-23T11:51:20.451024Z",
     "iopub.status.busy": "2022-11-23T11:51:20.450123Z",
     "iopub.status.idle": "2022-11-23T11:51:20.460902Z",
     "shell.execute_reply": "2022-11-23T11:51:20.460019Z",
     "shell.execute_reply.started": "2022-11-23T11:51:20.450990Z"
    },
    "papermill": {
     "duration": null,
     "end_time": null,
     "exception": null,
     "start_time": null,
     "status": "pending"
    },
    "tags": []
   },
   "outputs": [],
   "source": [
    "L = [\"Red\",\"Green\",\"White\",\"Black\"]\n",
    "L[0], L[-1]"
   ]
  },
  {
   "cell_type": "markdown",
   "id": "7fd026bf",
   "metadata": {
    "papermill": {
     "duration": null,
     "end_time": null,
     "exception": null,
     "start_time": null,
     "status": "pending"
    },
    "tags": []
   },
   "source": [
    "9. Write a Python program to display the examination schedule. (extract the date from exam_st_date). \n",
    "Go to the editor\n",
    "exam_st_date = (11, 12, 2014)\n",
    "Sample Output : The examination will start from : 11 / 12 / 2014"
   ]
  },
  {
   "cell_type": "code",
   "execution_count": null,
   "id": "b6eb32bc",
   "metadata": {
    "execution": {
     "iopub.execute_input": "2022-11-23T11:51:20.462750Z",
     "iopub.status.busy": "2022-11-23T11:51:20.462225Z",
     "iopub.status.idle": "2022-11-23T11:51:20.472116Z",
     "shell.execute_reply": "2022-11-23T11:51:20.471062Z",
     "shell.execute_reply.started": "2022-11-23T11:51:20.462720Z"
    },
    "papermill": {
     "duration": null,
     "end_time": null,
     "exception": null,
     "start_time": null,
     "status": "pending"
    },
    "tags": []
   },
   "outputs": [],
   "source": [
    "text = \"11,12,2014\"\n",
    "print(\"The examination will start from : \" + '/'.join(text.split(\",\")) )"
   ]
  },
  {
   "cell_type": "markdown",
   "id": "6c21073e",
   "metadata": {
    "papermill": {
     "duration": null,
     "end_time": null,
     "exception": null,
     "start_time": null,
     "status": "pending"
    },
    "tags": []
   },
   "source": [
    "10. Write a Python program that accepts an integer (n) and computes the value of n+nn+nnn. Go to the editor\n",
    "Sample value of n is 5\n",
    "Expected Result : 615"
   ]
  },
  {
   "cell_type": "code",
   "execution_count": null,
   "id": "81ed39d2",
   "metadata": {
    "execution": {
     "iopub.execute_input": "2022-11-23T11:51:20.474010Z",
     "iopub.status.busy": "2022-11-23T11:51:20.473657Z",
     "iopub.status.idle": "2022-11-23T11:51:20.485882Z",
     "shell.execute_reply": "2022-11-23T11:51:20.484873Z",
     "shell.execute_reply.started": "2022-11-23T11:51:20.473980Z"
    },
    "papermill": {
     "duration": null,
     "end_time": null,
     "exception": null,
     "start_time": null,
     "status": "pending"
    },
    "tags": []
   },
   "outputs": [],
   "source": [
    "n = 5\n",
    "nn = 55\n",
    "nnn = 555\n",
    "print(\"The answer is \" + str(int(n) + int(nn)+ int(nnn)) )"
   ]
  },
  {
   "cell_type": "markdown",
   "id": "d970141f",
   "metadata": {
    "papermill": {
     "duration": null,
     "end_time": null,
     "exception": null,
     "start_time": null,
     "status": "pending"
    },
    "tags": []
   },
   "source": [
    "25. Write a Python program to check whether a specified value is contained in a group of values. Go to the editor\n",
    "Test Data :\n",
    "3 -> [1, 5, 8, 3] : True\n",
    "-1 -> [1, 5, 8, 3] : False"
   ]
  },
  {
   "cell_type": "code",
   "execution_count": null,
   "id": "ea739e95",
   "metadata": {
    "execution": {
     "iopub.execute_input": "2022-11-23T11:51:20.487717Z",
     "iopub.status.busy": "2022-11-23T11:51:20.487387Z",
     "iopub.status.idle": "2022-11-23T11:51:20.499279Z",
     "shell.execute_reply": "2022-11-23T11:51:20.498185Z",
     "shell.execute_reply.started": "2022-11-23T11:51:20.487688Z"
    },
    "papermill": {
     "duration": null,
     "end_time": null,
     "exception": null,
     "start_time": null,
     "status": "pending"
    },
    "tags": []
   },
   "outputs": [],
   "source": [
    "3 in [1, 5, 8, 3]"
   ]
  },
  {
   "cell_type": "code",
   "execution_count": null,
   "id": "c1d2aad3",
   "metadata": {
    "execution": {
     "iopub.execute_input": "2022-11-23T11:51:20.501943Z",
     "iopub.status.busy": "2022-11-23T11:51:20.500820Z",
     "iopub.status.idle": "2022-11-23T11:51:20.510782Z",
     "shell.execute_reply": "2022-11-23T11:51:20.509817Z",
     "shell.execute_reply.started": "2022-11-23T11:51:20.501909Z"
    },
    "papermill": {
     "duration": null,
     "end_time": null,
     "exception": null,
     "start_time": null,
     "status": "pending"
    },
    "tags": []
   },
   "outputs": [],
   "source": [
    "-1 in [1, 5, 8, 3]"
   ]
  }
 ],
 "metadata": {
  "kernelspec": {
   "display_name": "Python 3",
   "language": "python",
   "name": "python3"
  },
  "language_info": {
   "codemirror_mode": {
    "name": "ipython",
    "version": 3
   },
   "file_extension": ".py",
   "mimetype": "text/x-python",
   "name": "python",
   "nbconvert_exporter": "python",
   "pygments_lexer": "ipython3",
   "version": "3.7.12"
  },
  "papermill": {
   "default_parameters": {},
   "duration": 7.936157,
   "end_time": "2022-11-23T11:51:53.420509",
   "environment_variables": {},
   "exception": true,
   "input_path": "__notebook__.ipynb",
   "output_path": "__notebook__.ipynb",
   "parameters": {},
   "start_time": "2022-11-23T11:51:45.484352",
   "version": "2.3.4"
  }
 },
 "nbformat": 4,
 "nbformat_minor": 5
}
