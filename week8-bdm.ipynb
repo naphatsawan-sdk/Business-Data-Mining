{
 "cells": [
  {
   "cell_type": "code",
   "execution_count": 1,
   "id": "f90ae678",
   "metadata": {
    "_cell_guid": "b1076dfc-b9ad-4769-8c92-a6c4dae69d19",
    "_uuid": "8f2839f25d086af736a60e9eeb907d3b93b6e0e5",
    "execution": {
     "iopub.execute_input": "2022-11-23T13:31:05.508495Z",
     "iopub.status.busy": "2022-11-23T13:31:05.507813Z",
     "iopub.status.idle": "2022-11-23T13:31:05.529828Z",
     "shell.execute_reply": "2022-11-23T13:31:05.528301Z"
    },
    "papermill": {
     "duration": 0.050561,
     "end_time": "2022-11-23T13:31:05.532464",
     "exception": false,
     "start_time": "2022-11-23T13:31:05.481903",
     "status": "completed"
    },
    "tags": []
   },
   "outputs": [
    {
     "name": "stdout",
     "output_type": "stream",
     "text": [
      "/kaggle/input/telecom-churn/telecom_churn.csv\n"
     ]
    }
   ],
   "source": [
    "# This Python 3 environment comes with many helpful analytics libraries installed\n",
    "# It is defined by the kaggle/python Docker image: https://github.com/kaggle/docker-python\n",
    "# For example, here's several helpful packages to load\n",
    "\n",
    "import numpy as np # linear algebra\n",
    "import pandas as pd # data processing, CSV file I/O (e.g. pd.read_csv)\n",
    "\n",
    "# Input data files are available in the read-only \"../input/\" directory\n",
    "# For example, running this (by clicking run or pressing Shift+Enter) will list all files under the input directory\n",
    "\n",
    "import os\n",
    "for dirname, _, filenames in os.walk('/kaggle/input'):\n",
    "    for filename in filenames:\n",
    "        print(os.path.join(dirname, filename))\n",
    "\n",
    "# You can write up to 20GB to the current directory (/kaggle/working/) that gets preserved as output when you create a version using \"Save & Run All\" \n",
    "# You can also write temporary files to /kaggle/temp/, but they won't be saved outside of the current session"
   ]
  },
  {
   "cell_type": "markdown",
   "id": "bd78e168",
   "metadata": {
    "papermill": {
     "duration": 0.01909,
     "end_time": "2022-11-23T13:31:05.572194",
     "exception": false,
     "start_time": "2022-11-23T13:31:05.553104",
     "status": "completed"
    },
    "tags": []
   },
   "source": [
    "<h1> Machine Learninng </h1>"
   ]
  },
  {
   "cell_type": "code",
   "execution_count": 2,
   "id": "81a9fdb3",
   "metadata": {
    "execution": {
     "iopub.execute_input": "2022-11-23T13:31:05.613128Z",
     "iopub.status.busy": "2022-11-23T13:31:05.612617Z",
     "iopub.status.idle": "2022-11-23T13:31:05.644070Z",
     "shell.execute_reply": "2022-11-23T13:31:05.643029Z"
    },
    "papermill": {
     "duration": 0.055282,
     "end_time": "2022-11-23T13:31:05.646959",
     "exception": false,
     "start_time": "2022-11-23T13:31:05.591677",
     "status": "completed"
    },
    "tags": []
   },
   "outputs": [],
   "source": [
    "df = pd.read_csv(\"../input/telecom-churn/telecom_churn.csv\")"
   ]
  },
  {
   "cell_type": "code",
   "execution_count": 3,
   "id": "a6201593",
   "metadata": {
    "execution": {
     "iopub.execute_input": "2022-11-23T13:31:05.688030Z",
     "iopub.status.busy": "2022-11-23T13:31:05.687606Z",
     "iopub.status.idle": "2022-11-23T13:31:05.732269Z",
     "shell.execute_reply": "2022-11-23T13:31:05.731054Z"
    },
    "papermill": {
     "duration": 0.068179,
     "end_time": "2022-11-23T13:31:05.734914",
     "exception": false,
     "start_time": "2022-11-23T13:31:05.666735",
     "status": "completed"
    },
    "tags": []
   },
   "outputs": [
    {
     "data": {
      "text/html": [
       "<div>\n",
       "<style scoped>\n",
       "    .dataframe tbody tr th:only-of-type {\n",
       "        vertical-align: middle;\n",
       "    }\n",
       "\n",
       "    .dataframe tbody tr th {\n",
       "        vertical-align: top;\n",
       "    }\n",
       "\n",
       "    .dataframe thead th {\n",
       "        text-align: right;\n",
       "    }\n",
       "</style>\n",
       "<table border=\"1\" class=\"dataframe\">\n",
       "  <thead>\n",
       "    <tr style=\"text-align: right;\">\n",
       "      <th></th>\n",
       "      <th>Churn</th>\n",
       "      <th>AccountWeeks</th>\n",
       "      <th>ContractRenewal</th>\n",
       "      <th>DataPlan</th>\n",
       "      <th>DataUsage</th>\n",
       "      <th>CustServCalls</th>\n",
       "      <th>DayMins</th>\n",
       "      <th>DayCalls</th>\n",
       "      <th>MonthlyCharge</th>\n",
       "      <th>OverageFee</th>\n",
       "      <th>RoamMins</th>\n",
       "    </tr>\n",
       "  </thead>\n",
       "  <tbody>\n",
       "    <tr>\n",
       "      <th>0</th>\n",
       "      <td>0</td>\n",
       "      <td>128</td>\n",
       "      <td>1</td>\n",
       "      <td>1</td>\n",
       "      <td>2.70</td>\n",
       "      <td>1</td>\n",
       "      <td>265.1</td>\n",
       "      <td>110</td>\n",
       "      <td>89.0</td>\n",
       "      <td>9.87</td>\n",
       "      <td>10.0</td>\n",
       "    </tr>\n",
       "    <tr>\n",
       "      <th>1</th>\n",
       "      <td>0</td>\n",
       "      <td>107</td>\n",
       "      <td>1</td>\n",
       "      <td>1</td>\n",
       "      <td>3.70</td>\n",
       "      <td>1</td>\n",
       "      <td>161.6</td>\n",
       "      <td>123</td>\n",
       "      <td>82.0</td>\n",
       "      <td>9.78</td>\n",
       "      <td>13.7</td>\n",
       "    </tr>\n",
       "    <tr>\n",
       "      <th>2</th>\n",
       "      <td>0</td>\n",
       "      <td>137</td>\n",
       "      <td>1</td>\n",
       "      <td>0</td>\n",
       "      <td>0.00</td>\n",
       "      <td>0</td>\n",
       "      <td>243.4</td>\n",
       "      <td>114</td>\n",
       "      <td>52.0</td>\n",
       "      <td>6.06</td>\n",
       "      <td>12.2</td>\n",
       "    </tr>\n",
       "    <tr>\n",
       "      <th>3</th>\n",
       "      <td>0</td>\n",
       "      <td>84</td>\n",
       "      <td>0</td>\n",
       "      <td>0</td>\n",
       "      <td>0.00</td>\n",
       "      <td>2</td>\n",
       "      <td>299.4</td>\n",
       "      <td>71</td>\n",
       "      <td>57.0</td>\n",
       "      <td>3.10</td>\n",
       "      <td>6.6</td>\n",
       "    </tr>\n",
       "    <tr>\n",
       "      <th>4</th>\n",
       "      <td>0</td>\n",
       "      <td>75</td>\n",
       "      <td>0</td>\n",
       "      <td>0</td>\n",
       "      <td>0.00</td>\n",
       "      <td>3</td>\n",
       "      <td>166.7</td>\n",
       "      <td>113</td>\n",
       "      <td>41.0</td>\n",
       "      <td>7.42</td>\n",
       "      <td>10.1</td>\n",
       "    </tr>\n",
       "    <tr>\n",
       "      <th>...</th>\n",
       "      <td>...</td>\n",
       "      <td>...</td>\n",
       "      <td>...</td>\n",
       "      <td>...</td>\n",
       "      <td>...</td>\n",
       "      <td>...</td>\n",
       "      <td>...</td>\n",
       "      <td>...</td>\n",
       "      <td>...</td>\n",
       "      <td>...</td>\n",
       "      <td>...</td>\n",
       "    </tr>\n",
       "    <tr>\n",
       "      <th>3328</th>\n",
       "      <td>0</td>\n",
       "      <td>192</td>\n",
       "      <td>1</td>\n",
       "      <td>1</td>\n",
       "      <td>2.67</td>\n",
       "      <td>2</td>\n",
       "      <td>156.2</td>\n",
       "      <td>77</td>\n",
       "      <td>71.7</td>\n",
       "      <td>10.78</td>\n",
       "      <td>9.9</td>\n",
       "    </tr>\n",
       "    <tr>\n",
       "      <th>3329</th>\n",
       "      <td>0</td>\n",
       "      <td>68</td>\n",
       "      <td>1</td>\n",
       "      <td>0</td>\n",
       "      <td>0.34</td>\n",
       "      <td>3</td>\n",
       "      <td>231.1</td>\n",
       "      <td>57</td>\n",
       "      <td>56.4</td>\n",
       "      <td>7.67</td>\n",
       "      <td>9.6</td>\n",
       "    </tr>\n",
       "    <tr>\n",
       "      <th>3330</th>\n",
       "      <td>0</td>\n",
       "      <td>28</td>\n",
       "      <td>1</td>\n",
       "      <td>0</td>\n",
       "      <td>0.00</td>\n",
       "      <td>2</td>\n",
       "      <td>180.8</td>\n",
       "      <td>109</td>\n",
       "      <td>56.0</td>\n",
       "      <td>14.44</td>\n",
       "      <td>14.1</td>\n",
       "    </tr>\n",
       "    <tr>\n",
       "      <th>3331</th>\n",
       "      <td>0</td>\n",
       "      <td>184</td>\n",
       "      <td>0</td>\n",
       "      <td>0</td>\n",
       "      <td>0.00</td>\n",
       "      <td>2</td>\n",
       "      <td>213.8</td>\n",
       "      <td>105</td>\n",
       "      <td>50.0</td>\n",
       "      <td>7.98</td>\n",
       "      <td>5.0</td>\n",
       "    </tr>\n",
       "    <tr>\n",
       "      <th>3332</th>\n",
       "      <td>0</td>\n",
       "      <td>74</td>\n",
       "      <td>1</td>\n",
       "      <td>1</td>\n",
       "      <td>3.70</td>\n",
       "      <td>0</td>\n",
       "      <td>234.4</td>\n",
       "      <td>113</td>\n",
       "      <td>100.0</td>\n",
       "      <td>13.30</td>\n",
       "      <td>13.7</td>\n",
       "    </tr>\n",
       "  </tbody>\n",
       "</table>\n",
       "<p>3333 rows × 11 columns</p>\n",
       "</div>"
      ],
      "text/plain": [
       "      Churn  AccountWeeks  ContractRenewal  DataPlan  DataUsage  \\\n",
       "0         0           128                1         1       2.70   \n",
       "1         0           107                1         1       3.70   \n",
       "2         0           137                1         0       0.00   \n",
       "3         0            84                0         0       0.00   \n",
       "4         0            75                0         0       0.00   \n",
       "...     ...           ...              ...       ...        ...   \n",
       "3328      0           192                1         1       2.67   \n",
       "3329      0            68                1         0       0.34   \n",
       "3330      0            28                1         0       0.00   \n",
       "3331      0           184                0         0       0.00   \n",
       "3332      0            74                1         1       3.70   \n",
       "\n",
       "      CustServCalls  DayMins  DayCalls  MonthlyCharge  OverageFee  RoamMins  \n",
       "0                 1    265.1       110           89.0        9.87      10.0  \n",
       "1                 1    161.6       123           82.0        9.78      13.7  \n",
       "2                 0    243.4       114           52.0        6.06      12.2  \n",
       "3                 2    299.4        71           57.0        3.10       6.6  \n",
       "4                 3    166.7       113           41.0        7.42      10.1  \n",
       "...             ...      ...       ...            ...         ...       ...  \n",
       "3328              2    156.2        77           71.7       10.78       9.9  \n",
       "3329              3    231.1        57           56.4        7.67       9.6  \n",
       "3330              2    180.8       109           56.0       14.44      14.1  \n",
       "3331              2    213.8       105           50.0        7.98       5.0  \n",
       "3332              0    234.4       113          100.0       13.30      13.7  \n",
       "\n",
       "[3333 rows x 11 columns]"
      ]
     },
     "execution_count": 3,
     "metadata": {},
     "output_type": "execute_result"
    }
   ],
   "source": [
    "df"
   ]
  },
  {
   "cell_type": "code",
   "execution_count": 4,
   "id": "738d41d9",
   "metadata": {
    "execution": {
     "iopub.execute_input": "2022-11-23T13:31:05.777838Z",
     "iopub.status.busy": "2022-11-23T13:31:05.776344Z",
     "iopub.status.idle": "2022-11-23T13:31:05.787496Z",
     "shell.execute_reply": "2022-11-23T13:31:05.786372Z"
    },
    "papermill": {
     "duration": 0.035881,
     "end_time": "2022-11-23T13:31:05.790169",
     "exception": false,
     "start_time": "2022-11-23T13:31:05.754288",
     "status": "completed"
    },
    "tags": []
   },
   "outputs": [
    {
     "data": {
      "text/plain": [
       "Churn              False\n",
       "AccountWeeks       False\n",
       "ContractRenewal    False\n",
       "DataPlan           False\n",
       "DataUsage          False\n",
       "CustServCalls      False\n",
       "DayMins            False\n",
       "DayCalls           False\n",
       "MonthlyCharge      False\n",
       "OverageFee         False\n",
       "RoamMins           False\n",
       "dtype: bool"
      ]
     },
     "execution_count": 4,
     "metadata": {},
     "output_type": "execute_result"
    }
   ],
   "source": [
    "df.isnull().any()"
   ]
  },
  {
   "cell_type": "code",
   "execution_count": 5,
   "id": "36f4a4c0",
   "metadata": {
    "execution": {
     "iopub.execute_input": "2022-11-23T13:31:05.832614Z",
     "iopub.status.busy": "2022-11-23T13:31:05.832177Z",
     "iopub.status.idle": "2022-11-23T13:31:05.888528Z",
     "shell.execute_reply": "2022-11-23T13:31:05.887061Z"
    },
    "papermill": {
     "duration": 0.080765,
     "end_time": "2022-11-23T13:31:05.891541",
     "exception": false,
     "start_time": "2022-11-23T13:31:05.810776",
     "status": "completed"
    },
    "tags": []
   },
   "outputs": [
    {
     "data": {
      "text/html": [
       "<div>\n",
       "<style scoped>\n",
       "    .dataframe tbody tr th:only-of-type {\n",
       "        vertical-align: middle;\n",
       "    }\n",
       "\n",
       "    .dataframe tbody tr th {\n",
       "        vertical-align: top;\n",
       "    }\n",
       "\n",
       "    .dataframe thead th {\n",
       "        text-align: right;\n",
       "    }\n",
       "</style>\n",
       "<table border=\"1\" class=\"dataframe\">\n",
       "  <thead>\n",
       "    <tr style=\"text-align: right;\">\n",
       "      <th></th>\n",
       "      <th>Churn</th>\n",
       "      <th>AccountWeeks</th>\n",
       "      <th>ContractRenewal</th>\n",
       "      <th>DataPlan</th>\n",
       "      <th>DataUsage</th>\n",
       "      <th>CustServCalls</th>\n",
       "      <th>DayMins</th>\n",
       "      <th>DayCalls</th>\n",
       "      <th>MonthlyCharge</th>\n",
       "      <th>OverageFee</th>\n",
       "      <th>RoamMins</th>\n",
       "    </tr>\n",
       "  </thead>\n",
       "  <tbody>\n",
       "    <tr>\n",
       "      <th>count</th>\n",
       "      <td>3333.000000</td>\n",
       "      <td>3333.000000</td>\n",
       "      <td>3333.000000</td>\n",
       "      <td>3333.000000</td>\n",
       "      <td>3333.000000</td>\n",
       "      <td>3333.000000</td>\n",
       "      <td>3333.000000</td>\n",
       "      <td>3333.000000</td>\n",
       "      <td>3333.000000</td>\n",
       "      <td>3333.000000</td>\n",
       "      <td>3333.000000</td>\n",
       "    </tr>\n",
       "    <tr>\n",
       "      <th>mean</th>\n",
       "      <td>0.144914</td>\n",
       "      <td>101.064806</td>\n",
       "      <td>0.903090</td>\n",
       "      <td>0.276628</td>\n",
       "      <td>0.816475</td>\n",
       "      <td>1.562856</td>\n",
       "      <td>179.775098</td>\n",
       "      <td>100.435644</td>\n",
       "      <td>56.305161</td>\n",
       "      <td>10.051488</td>\n",
       "      <td>10.237294</td>\n",
       "    </tr>\n",
       "    <tr>\n",
       "      <th>std</th>\n",
       "      <td>0.352067</td>\n",
       "      <td>39.822106</td>\n",
       "      <td>0.295879</td>\n",
       "      <td>0.447398</td>\n",
       "      <td>1.272668</td>\n",
       "      <td>1.315491</td>\n",
       "      <td>54.467389</td>\n",
       "      <td>20.069084</td>\n",
       "      <td>16.426032</td>\n",
       "      <td>2.535712</td>\n",
       "      <td>2.791840</td>\n",
       "    </tr>\n",
       "    <tr>\n",
       "      <th>min</th>\n",
       "      <td>0.000000</td>\n",
       "      <td>1.000000</td>\n",
       "      <td>0.000000</td>\n",
       "      <td>0.000000</td>\n",
       "      <td>0.000000</td>\n",
       "      <td>0.000000</td>\n",
       "      <td>0.000000</td>\n",
       "      <td>0.000000</td>\n",
       "      <td>14.000000</td>\n",
       "      <td>0.000000</td>\n",
       "      <td>0.000000</td>\n",
       "    </tr>\n",
       "    <tr>\n",
       "      <th>25%</th>\n",
       "      <td>0.000000</td>\n",
       "      <td>74.000000</td>\n",
       "      <td>1.000000</td>\n",
       "      <td>0.000000</td>\n",
       "      <td>0.000000</td>\n",
       "      <td>1.000000</td>\n",
       "      <td>143.700000</td>\n",
       "      <td>87.000000</td>\n",
       "      <td>45.000000</td>\n",
       "      <td>8.330000</td>\n",
       "      <td>8.500000</td>\n",
       "    </tr>\n",
       "    <tr>\n",
       "      <th>50%</th>\n",
       "      <td>0.000000</td>\n",
       "      <td>101.000000</td>\n",
       "      <td>1.000000</td>\n",
       "      <td>0.000000</td>\n",
       "      <td>0.000000</td>\n",
       "      <td>1.000000</td>\n",
       "      <td>179.400000</td>\n",
       "      <td>101.000000</td>\n",
       "      <td>53.500000</td>\n",
       "      <td>10.070000</td>\n",
       "      <td>10.300000</td>\n",
       "    </tr>\n",
       "    <tr>\n",
       "      <th>75%</th>\n",
       "      <td>0.000000</td>\n",
       "      <td>127.000000</td>\n",
       "      <td>1.000000</td>\n",
       "      <td>1.000000</td>\n",
       "      <td>1.780000</td>\n",
       "      <td>2.000000</td>\n",
       "      <td>216.400000</td>\n",
       "      <td>114.000000</td>\n",
       "      <td>66.200000</td>\n",
       "      <td>11.770000</td>\n",
       "      <td>12.100000</td>\n",
       "    </tr>\n",
       "    <tr>\n",
       "      <th>max</th>\n",
       "      <td>1.000000</td>\n",
       "      <td>243.000000</td>\n",
       "      <td>1.000000</td>\n",
       "      <td>1.000000</td>\n",
       "      <td>5.400000</td>\n",
       "      <td>9.000000</td>\n",
       "      <td>350.800000</td>\n",
       "      <td>165.000000</td>\n",
       "      <td>111.300000</td>\n",
       "      <td>18.190000</td>\n",
       "      <td>20.000000</td>\n",
       "    </tr>\n",
       "  </tbody>\n",
       "</table>\n",
       "</div>"
      ],
      "text/plain": [
       "             Churn  AccountWeeks  ContractRenewal     DataPlan    DataUsage  \\\n",
       "count  3333.000000   3333.000000      3333.000000  3333.000000  3333.000000   \n",
       "mean      0.144914    101.064806         0.903090     0.276628     0.816475   \n",
       "std       0.352067     39.822106         0.295879     0.447398     1.272668   \n",
       "min       0.000000      1.000000         0.000000     0.000000     0.000000   \n",
       "25%       0.000000     74.000000         1.000000     0.000000     0.000000   \n",
       "50%       0.000000    101.000000         1.000000     0.000000     0.000000   \n",
       "75%       0.000000    127.000000         1.000000     1.000000     1.780000   \n",
       "max       1.000000    243.000000         1.000000     1.000000     5.400000   \n",
       "\n",
       "       CustServCalls      DayMins     DayCalls  MonthlyCharge   OverageFee  \\\n",
       "count    3333.000000  3333.000000  3333.000000    3333.000000  3333.000000   \n",
       "mean        1.562856   179.775098   100.435644      56.305161    10.051488   \n",
       "std         1.315491    54.467389    20.069084      16.426032     2.535712   \n",
       "min         0.000000     0.000000     0.000000      14.000000     0.000000   \n",
       "25%         1.000000   143.700000    87.000000      45.000000     8.330000   \n",
       "50%         1.000000   179.400000   101.000000      53.500000    10.070000   \n",
       "75%         2.000000   216.400000   114.000000      66.200000    11.770000   \n",
       "max         9.000000   350.800000   165.000000     111.300000    18.190000   \n",
       "\n",
       "          RoamMins  \n",
       "count  3333.000000  \n",
       "mean     10.237294  \n",
       "std       2.791840  \n",
       "min       0.000000  \n",
       "25%       8.500000  \n",
       "50%      10.300000  \n",
       "75%      12.100000  \n",
       "max      20.000000  "
      ]
     },
     "execution_count": 5,
     "metadata": {},
     "output_type": "execute_result"
    }
   ],
   "source": [
    "df.describe()"
   ]
  },
  {
   "cell_type": "code",
   "execution_count": 6,
   "id": "fb1b2484",
   "metadata": {
    "execution": {
     "iopub.execute_input": "2022-11-23T13:31:05.936189Z",
     "iopub.status.busy": "2022-11-23T13:31:05.935375Z",
     "iopub.status.idle": "2022-11-23T13:31:08.669155Z",
     "shell.execute_reply": "2022-11-23T13:31:08.668074Z"
    },
    "papermill": {
     "duration": 2.759025,
     "end_time": "2022-11-23T13:31:08.671821",
     "exception": false,
     "start_time": "2022-11-23T13:31:05.912796",
     "status": "completed"
    },
    "tags": []
   },
   "outputs": [
    {
     "data": {
      "image/png": "[encoded data removed]",
      "text/plain": [
       "<Figure size 432x288 with 1 Axes>"
      ]
     },
     "metadata": {
      "needs_background": "light"
     },
     "output_type": "display_data"
    },
    {
     "data": {
      "image/png": "[encoded data removed]",
      "text/plain": [
       "<Figure size 432x288 with 1 Axes>"
      ]
     },
     "metadata": {
      "needs_background": "light"
     },
     "output_type": "display_data"
    },
    {
     "data": {
      "image/png": "[encoded data removed]",
      "text/plain": [
       "<Figure size 432x288 with 1 Axes>"
      ]
     },
     "metadata": {
      "needs_background": "light"
     },
     "output_type": "display_data"
    },
    {
     "data": {
      "image/png": "[encoded data removed]",
      "text/plain": [
       "<Figure size 432x288 with 1 Axes>"
      ]
     },
     "metadata": {
      "needs_background": "light"
     },
     "output_type": "display_data"
    },
    {
     "data": {
      "image/png": "[encoded data removed]",
      "text/plain": [
       "<Figure size 432x288 with 1 Axes>"
      ]
     },
     "metadata": {
      "needs_background": "light"
     },
     "output_type": "display_data"
    },
    {
     "data": {
      "image/png": "[encoded data removed]",
      "text/plain": [
       "<Figure size 432x288 with 1 Axes>"
      ]
     },
     "metadata": {
      "needs_background": "light"
     },
     "output_type": "display_data"
    },
    {
     "data": {
      "image/png": "[encoded data removed]",
      "text/plain": [
       "<Figure size 432x288 with 1 Axes>"
      ]
     },
     "metadata": {
      "needs_background": "light"
     },
     "output_type": "display_data"
    },
    {
     "data": {
      "image/png": "[encoded data removed]",
      "text/plain": [
       "<Figure size 432x288 with 1 Axes>"
      ]
     },
     "metadata": {
      "needs_background": "light"
     },
     "output_type": "display_data"
    },
    {
     "data": {
      "image/png": "[encoded data removed]",
      "text/plain": [
       "<Figure size 432x288 with 1 Axes>"
      ]
     },
     "metadata": {
      "needs_background": "light"
     },
     "output_type": "display_data"
    },
    {
     "data": {
      "image/png": "[encoded data removed]",
      "text/plain": [
       "<Figure size 432x288 with 1 Axes>"
      ]
     },
     "metadata": {
      "needs_background": "light"
     },
     "output_type": "display_data"
    }
   ],
   "source": [
    "import matplotlib.pyplot as plt\n",
    "import seaborn as sns\n",
    "categorical=list(df.columns)\n",
    "categorical.remove('Churn')\n",
    "for i in categorical:\n",
    "    plt.figure()\n",
    "    sns.boxplot(x='Churn',y=i,data=df)"
   ]
  },
  {
   "cell_type": "code",
   "execution_count": 7,
   "id": "28562775",
   "metadata": {
    "execution": {
     "iopub.execute_input": "2022-11-23T13:31:08.719370Z",
     "iopub.status.busy": "2022-11-23T13:31:08.718906Z",
     "iopub.status.idle": "2022-11-23T13:31:09.177486Z",
     "shell.execute_reply": "2022-11-23T13:31:09.176307Z"
    },
    "papermill": {
     "duration": 0.485954,
     "end_time": "2022-11-23T13:31:09.180249",
     "exception": false,
     "start_time": "2022-11-23T13:31:08.694295",
     "status": "completed"
    },
    "tags": []
   },
   "outputs": [
    {
     "data": {
      "text/plain": [
       "<AxesSubplot:>"
      ]
     },
     "execution_count": 7,
     "metadata": {},
     "output_type": "execute_result"
    },
    {
     "data": {
      "image/png": "[encoded data removed]",
      "text/plain": [
       "<Figure size 1440x720 with 2 Axes>"
      ]
     },
     "metadata": {
      "needs_background": "light"
     },
     "output_type": "display_data"
    }
   ],
   "source": [
    "import seaborn as sns\n",
    "plt.figure(figsize=(20,10))\n",
    "sns.set(font_scale=1.4)\n",
    "sns.heatmap(df.corr(), cmap = sns.color_palette(\"icefire\", as_cmap=True))"
   ]
  },
  {
   "cell_type": "code",
   "execution_count": 8,
   "id": "81bd5451",
   "metadata": {
    "execution": {
     "iopub.execute_input": "2022-11-23T13:31:09.232633Z",
     "iopub.status.busy": "2022-11-23T13:31:09.232176Z",
     "iopub.status.idle": "2022-11-23T13:31:10.099389Z",
     "shell.execute_reply": "2022-11-23T13:31:10.097994Z"
    },
    "papermill": {
     "duration": 0.902174,
     "end_time": "2022-11-23T13:31:10.106705",
     "exception": false,
     "start_time": "2022-11-23T13:31:09.204531",
     "status": "completed"
    },
    "tags": []
   },
   "outputs": [
    {
     "data": {
      "text/plain": [
       "<seaborn.matrix.ClusterGrid at 0x7f9e95fa7d90>"
      ]
     },
     "execution_count": 8,
     "metadata": {},
     "output_type": "execute_result"
    },
    {
     "data": {
      "image/png": "[encoded data removed]",
      "text/plain": [
       "<Figure size 1440x1440 with 4 Axes>"
      ]
     },
     "metadata": {},
     "output_type": "display_data"
    }
   ],
   "source": [
    "sns.set(font_scale=1.4)\n",
    "sns.clustermap(data=df.corr(), cmap=\"Blues\", figsize=(20,20), yticklabels=True)"
   ]
  },
  {
   "cell_type": "code",
   "execution_count": 9,
   "id": "31949c0d",
   "metadata": {
    "execution": {
     "iopub.execute_input": "2022-11-23T13:31:10.160995Z",
     "iopub.status.busy": "2022-11-23T13:31:10.160542Z",
     "iopub.status.idle": "2022-11-23T13:31:10.175927Z",
     "shell.execute_reply": "2022-11-23T13:31:10.174819Z"
    },
    "papermill": {
     "duration": 0.043933,
     "end_time": "2022-11-23T13:31:10.178399",
     "exception": false,
     "start_time": "2022-11-23T13:31:10.134466",
     "status": "completed"
    },
    "tags": []
   },
   "outputs": [
    {
     "data": {
      "text/plain": [
       "0"
      ]
     },
     "execution_count": 9,
     "metadata": {},
     "output_type": "execute_result"
    }
   ],
   "source": [
    "check = df.duplicated(keep='first')\n",
    "sum(check)"
   ]
  },
  {
   "cell_type": "code",
   "execution_count": 10,
   "id": "ab9c1cc5",
   "metadata": {
    "execution": {
     "iopub.execute_input": "2022-11-23T13:31:10.229601Z",
     "iopub.status.busy": "2022-11-23T13:31:10.229139Z",
     "iopub.status.idle": "2022-11-23T13:31:10.236349Z",
     "shell.execute_reply": "2022-11-23T13:31:10.234764Z"
    },
    "papermill": {
     "duration": 0.036101,
     "end_time": "2022-11-23T13:31:10.238842",
     "exception": false,
     "start_time": "2022-11-23T13:31:10.202741",
     "status": "completed"
    },
    "tags": []
   },
   "outputs": [],
   "source": [
    "Xall = df.drop('Churn', axis = 1)\n",
    "yall = df['Churn']"
   ]
  },
  {
   "cell_type": "code",
   "execution_count": 11,
   "id": "65c0989e",
   "metadata": {
    "execution": {
     "iopub.execute_input": "2022-11-23T13:31:10.290817Z",
     "iopub.status.busy": "2022-11-23T13:31:10.290368Z",
     "iopub.status.idle": "2022-11-23T13:31:10.316579Z",
     "shell.execute_reply": "2022-11-23T13:31:10.315714Z"
    },
    "papermill": {
     "duration": 0.055165,
     "end_time": "2022-11-23T13:31:10.319015",
     "exception": false,
     "start_time": "2022-11-23T13:31:10.263850",
     "status": "completed"
    },
    "tags": []
   },
   "outputs": [
    {
     "data": {
      "text/html": [
       "<div>\n",
       "<style scoped>\n",
       "    .dataframe tbody tr th:only-of-type {\n",
       "        vertical-align: middle;\n",
       "    }\n",
       "\n",
       "    .dataframe tbody tr th {\n",
       "        vertical-align: top;\n",
       "    }\n",
       "\n",
       "    .dataframe thead th {\n",
       "        text-align: right;\n",
       "    }\n",
       "</style>\n",
       "<table border=\"1\" class=\"dataframe\">\n",
       "  <thead>\n",
       "    <tr style=\"text-align: right;\">\n",
       "      <th></th>\n",
       "      <th>AccountWeeks</th>\n",
       "      <th>ContractRenewal</th>\n",
       "      <th>DataPlan</th>\n",
       "      <th>DataUsage</th>\n",
       "      <th>CustServCalls</th>\n",
       "      <th>DayMins</th>\n",
       "      <th>DayCalls</th>\n",
       "      <th>MonthlyCharge</th>\n",
       "      <th>OverageFee</th>\n",
       "      <th>RoamMins</th>\n",
       "    </tr>\n",
       "  </thead>\n",
       "  <tbody>\n",
       "    <tr>\n",
       "      <th>0</th>\n",
       "      <td>128</td>\n",
       "      <td>1</td>\n",
       "      <td>1</td>\n",
       "      <td>2.70</td>\n",
       "      <td>1</td>\n",
       "      <td>265.1</td>\n",
       "      <td>110</td>\n",
       "      <td>89.0</td>\n",
       "      <td>9.87</td>\n",
       "      <td>10.0</td>\n",
       "    </tr>\n",
       "    <tr>\n",
       "      <th>1</th>\n",
       "      <td>107</td>\n",
       "      <td>1</td>\n",
       "      <td>1</td>\n",
       "      <td>3.70</td>\n",
       "      <td>1</td>\n",
       "      <td>161.6</td>\n",
       "      <td>123</td>\n",
       "      <td>82.0</td>\n",
       "      <td>9.78</td>\n",
       "      <td>13.7</td>\n",
       "    </tr>\n",
       "    <tr>\n",
       "      <th>2</th>\n",
       "      <td>137</td>\n",
       "      <td>1</td>\n",
       "      <td>0</td>\n",
       "      <td>0.00</td>\n",
       "      <td>0</td>\n",
       "      <td>243.4</td>\n",
       "      <td>114</td>\n",
       "      <td>52.0</td>\n",
       "      <td>6.06</td>\n",
       "      <td>12.2</td>\n",
       "    </tr>\n",
       "    <tr>\n",
       "      <th>3</th>\n",
       "      <td>84</td>\n",
       "      <td>0</td>\n",
       "      <td>0</td>\n",
       "      <td>0.00</td>\n",
       "      <td>2</td>\n",
       "      <td>299.4</td>\n",
       "      <td>71</td>\n",
       "      <td>57.0</td>\n",
       "      <td>3.10</td>\n",
       "      <td>6.6</td>\n",
       "    </tr>\n",
       "    <tr>\n",
       "      <th>4</th>\n",
       "      <td>75</td>\n",
       "      <td>0</td>\n",
       "      <td>0</td>\n",
       "      <td>0.00</td>\n",
       "      <td>3</td>\n",
       "      <td>166.7</td>\n",
       "      <td>113</td>\n",
       "      <td>41.0</td>\n",
       "      <td>7.42</td>\n",
       "      <td>10.1</td>\n",
       "    </tr>\n",
       "    <tr>\n",
       "      <th>...</th>\n",
       "      <td>...</td>\n",
       "      <td>...</td>\n",
       "      <td>...</td>\n",
       "      <td>...</td>\n",
       "      <td>...</td>\n",
       "      <td>...</td>\n",
       "      <td>...</td>\n",
       "      <td>...</td>\n",
       "      <td>...</td>\n",
       "      <td>...</td>\n",
       "    </tr>\n",
       "    <tr>\n",
       "      <th>3328</th>\n",
       "      <td>192</td>\n",
       "      <td>1</td>\n",
       "      <td>1</td>\n",
       "      <td>2.67</td>\n",
       "      <td>2</td>\n",
       "      <td>156.2</td>\n",
       "      <td>77</td>\n",
       "      <td>71.7</td>\n",
       "      <td>10.78</td>\n",
       "      <td>9.9</td>\n",
       "    </tr>\n",
       "    <tr>\n",
       "      <th>3329</th>\n",
       "      <td>68</td>\n",
       "      <td>1</td>\n",
       "      <td>0</td>\n",
       "      <td>0.34</td>\n",
       "      <td>3</td>\n",
       "      <td>231.1</td>\n",
       "      <td>57</td>\n",
       "      <td>56.4</td>\n",
       "      <td>7.67</td>\n",
       "      <td>9.6</td>\n",
       "    </tr>\n",
       "    <tr>\n",
       "      <th>3330</th>\n",
       "      <td>28</td>\n",
       "      <td>1</td>\n",
       "      <td>0</td>\n",
       "      <td>0.00</td>\n",
       "      <td>2</td>\n",
       "      <td>180.8</td>\n",
       "      <td>109</td>\n",
       "      <td>56.0</td>\n",
       "      <td>14.44</td>\n",
       "      <td>14.1</td>\n",
       "    </tr>\n",
       "    <tr>\n",
       "      <th>3331</th>\n",
       "      <td>184</td>\n",
       "      <td>0</td>\n",
       "      <td>0</td>\n",
       "      <td>0.00</td>\n",
       "      <td>2</td>\n",
       "      <td>213.8</td>\n",
       "      <td>105</td>\n",
       "      <td>50.0</td>\n",
       "      <td>7.98</td>\n",
       "      <td>5.0</td>\n",
       "    </tr>\n",
       "    <tr>\n",
       "      <th>3332</th>\n",
       "      <td>74</td>\n",
       "      <td>1</td>\n",
       "      <td>1</td>\n",
       "      <td>3.70</td>\n",
       "      <td>0</td>\n",
       "      <td>234.4</td>\n",
       "      <td>113</td>\n",
       "      <td>100.0</td>\n",
       "      <td>13.30</td>\n",
       "      <td>13.7</td>\n",
       "    </tr>\n",
       "  </tbody>\n",
       "</table>\n",
       "<p>3333 rows × 10 columns</p>\n",
       "</div>"
      ],
      "text/plain": [
       "      AccountWeeks  ContractRenewal  DataPlan  DataUsage  CustServCalls  \\\n",
       "0              128                1         1       2.70              1   \n",
       "1              107                1         1       3.70              1   \n",
       "2              137                1         0       0.00              0   \n",
       "3               84                0         0       0.00              2   \n",
       "4               75                0         0       0.00              3   \n",
       "...            ...              ...       ...        ...            ...   \n",
       "3328           192                1         1       2.67              2   \n",
       "3329            68                1         0       0.34              3   \n",
       "3330            28                1         0       0.00              2   \n",
       "3331           184                0         0       0.00              2   \n",
       "3332            74                1         1       3.70              0   \n",
       "\n",
       "      DayMins  DayCalls  MonthlyCharge  OverageFee  RoamMins  \n",
       "0       265.1       110           89.0        9.87      10.0  \n",
       "1       161.6       123           82.0        9.78      13.7  \n",
       "2       243.4       114           52.0        6.06      12.2  \n",
       "3       299.4        71           57.0        3.10       6.6  \n",
       "4       166.7       113           41.0        7.42      10.1  \n",
       "...       ...       ...            ...         ...       ...  \n",
       "3328    156.2        77           71.7       10.78       9.9  \n",
       "3329    231.1        57           56.4        7.67       9.6  \n",
       "3330    180.8       109           56.0       14.44      14.1  \n",
       "3331    213.8       105           50.0        7.98       5.0  \n",
       "3332    234.4       113          100.0       13.30      13.7  \n",
       "\n",
       "[3333 rows x 10 columns]"
      ]
     },
     "execution_count": 11,
     "metadata": {},
     "output_type": "execute_result"
    }
   ],
   "source": [
    "Xall"
   ]
  },
  {
   "cell_type": "code",
   "execution_count": 12,
   "id": "16fb9ce3",
   "metadata": {
    "execution": {
     "iopub.execute_input": "2022-11-23T13:31:10.372314Z",
     "iopub.status.busy": "2022-11-23T13:31:10.371851Z",
     "iopub.status.idle": "2022-11-23T13:31:10.379916Z",
     "shell.execute_reply": "2022-11-23T13:31:10.378395Z"
    },
    "papermill": {
     "duration": 0.038025,
     "end_time": "2022-11-23T13:31:10.382230",
     "exception": false,
     "start_time": "2022-11-23T13:31:10.344205",
     "status": "completed"
    },
    "tags": []
   },
   "outputs": [
    {
     "data": {
      "text/plain": [
       "array([0, 1])"
      ]
     },
     "execution_count": 12,
     "metadata": {},
     "output_type": "execute_result"
    }
   ],
   "source": [
    "np.unique(yall)"
   ]
  },
  {
   "cell_type": "code",
   "execution_count": 13,
   "id": "dd5122b6",
   "metadata": {
    "execution": {
     "iopub.execute_input": "2022-11-23T13:31:10.434640Z",
     "iopub.status.busy": "2022-11-23T13:31:10.434167Z",
     "iopub.status.idle": "2022-11-23T13:31:10.442304Z",
     "shell.execute_reply": "2022-11-23T13:31:10.440910Z"
    },
    "papermill": {
     "duration": 0.037173,
     "end_time": "2022-11-23T13:31:10.444783",
     "exception": false,
     "start_time": "2022-11-23T13:31:10.407610",
     "status": "completed"
    },
    "tags": []
   },
   "outputs": [
    {
     "data": {
      "text/plain": [
       "483"
      ]
     },
     "execution_count": 13,
     "metadata": {},
     "output_type": "execute_result"
    }
   ],
   "source": [
    "np.sum(yall)"
   ]
  },
  {
   "cell_type": "code",
   "execution_count": 14,
   "id": "c193f154",
   "metadata": {
    "execution": {
     "iopub.execute_input": "2022-11-23T13:31:10.497176Z",
     "iopub.status.busy": "2022-11-23T13:31:10.496697Z",
     "iopub.status.idle": "2022-11-23T13:31:10.505034Z",
     "shell.execute_reply": "2022-11-23T13:31:10.503862Z"
    },
    "papermill": {
     "duration": 0.037829,
     "end_time": "2022-11-23T13:31:10.507581",
     "exception": false,
     "start_time": "2022-11-23T13:31:10.469752",
     "status": "completed"
    },
    "tags": []
   },
   "outputs": [
    {
     "data": {
      "text/plain": [
       "2850"
      ]
     },
     "execution_count": 14,
     "metadata": {},
     "output_type": "execute_result"
    }
   ],
   "source": [
    "np.sum(1-yall)"
   ]
  },
  {
   "cell_type": "code",
   "execution_count": 15,
   "id": "16ca49d9",
   "metadata": {
    "execution": {
     "iopub.execute_input": "2022-11-23T13:31:10.564141Z",
     "iopub.status.busy": "2022-11-23T13:31:10.563658Z",
     "iopub.status.idle": "2022-11-23T13:31:10.571454Z",
     "shell.execute_reply": "2022-11-23T13:31:10.570425Z"
    },
    "papermill": {
     "duration": 0.040038,
     "end_time": "2022-11-23T13:31:10.573770",
     "exception": false,
     "start_time": "2022-11-23T13:31:10.533732",
     "status": "completed"
    },
    "tags": []
   },
   "outputs": [
    {
     "data": {
      "text/plain": [
       "0.8550855085508551"
      ]
     },
     "execution_count": 15,
     "metadata": {},
     "output_type": "execute_result"
    }
   ],
   "source": [
    "2850 / (2850+483)"
   ]
  },
  {
   "cell_type": "code",
   "execution_count": 16,
   "id": "fb8b6f1f",
   "metadata": {
    "execution": {
     "iopub.execute_input": "2022-11-23T13:31:10.628776Z",
     "iopub.status.busy": "2022-11-23T13:31:10.628319Z",
     "iopub.status.idle": "2022-11-23T13:31:11.047245Z",
     "shell.execute_reply": "2022-11-23T13:31:11.045968Z"
    },
    "papermill": {
     "duration": 0.449728,
     "end_time": "2022-11-23T13:31:11.050301",
     "exception": false,
     "start_time": "2022-11-23T13:31:10.600573",
     "status": "completed"
    },
    "tags": []
   },
   "outputs": [],
   "source": [
    "from sklearn.model_selection import train_test_split\n",
    "X, Xt, y, yt = train_test_split(Xall, yall, test_size = 0.2, random_state=0)"
   ]
  },
  {
   "cell_type": "code",
   "execution_count": 17,
   "id": "c99eac5a",
   "metadata": {
    "execution": {
     "iopub.execute_input": "2022-11-23T13:31:11.103698Z",
     "iopub.status.busy": "2022-11-23T13:31:11.103241Z",
     "iopub.status.idle": "2022-11-23T13:31:11.110881Z",
     "shell.execute_reply": "2022-11-23T13:31:11.109796Z"
    },
    "papermill": {
     "duration": 0.036988,
     "end_time": "2022-11-23T13:31:11.112989",
     "exception": false,
     "start_time": "2022-11-23T13:31:11.076001",
     "status": "completed"
    },
    "tags": []
   },
   "outputs": [
    {
     "data": {
      "text/plain": [
       "(2666, 10)"
      ]
     },
     "execution_count": 17,
     "metadata": {},
     "output_type": "execute_result"
    }
   ],
   "source": [
    "X.shape"
   ]
  },
  {
   "cell_type": "code",
   "execution_count": 18,
   "id": "df9af144",
   "metadata": {
    "execution": {
     "iopub.execute_input": "2022-11-23T13:31:11.165294Z",
     "iopub.status.busy": "2022-11-23T13:31:11.164707Z",
     "iopub.status.idle": "2022-11-23T13:31:11.172497Z",
     "shell.execute_reply": "2022-11-23T13:31:11.171533Z"
    },
    "papermill": {
     "duration": 0.03658,
     "end_time": "2022-11-23T13:31:11.174747",
     "exception": false,
     "start_time": "2022-11-23T13:31:11.138167",
     "status": "completed"
    },
    "tags": []
   },
   "outputs": [
    {
     "data": {
      "text/plain": [
       "(667, 10)"
      ]
     },
     "execution_count": 18,
     "metadata": {},
     "output_type": "execute_result"
    }
   ],
   "source": [
    "Xt.shape"
   ]
  },
  {
   "cell_type": "code",
   "execution_count": 19,
   "id": "52e2a317",
   "metadata": {
    "execution": {
     "iopub.execute_input": "2022-11-23T13:31:11.227706Z",
     "iopub.status.busy": "2022-11-23T13:31:11.227247Z",
     "iopub.status.idle": "2022-11-23T13:31:11.241120Z",
     "shell.execute_reply": "2022-11-23T13:31:11.239939Z"
    },
    "papermill": {
     "duration": 0.042852,
     "end_time": "2022-11-23T13:31:11.243347",
     "exception": false,
     "start_time": "2022-11-23T13:31:11.200495",
     "status": "completed"
    },
    "tags": []
   },
   "outputs": [
    {
     "data": {
      "text/html": [
       "<div>\n",
       "<style scoped>\n",
       "    .dataframe tbody tr th:only-of-type {\n",
       "        vertical-align: middle;\n",
       "    }\n",
       "\n",
       "    .dataframe tbody tr th {\n",
       "        vertical-align: top;\n",
       "    }\n",
       "\n",
       "    .dataframe thead th {\n",
       "        text-align: right;\n",
       "    }\n",
       "</style>\n",
       "<table border=\"1\" class=\"dataframe\">\n",
       "  <thead>\n",
       "    <tr style=\"text-align: right;\">\n",
       "      <th></th>\n",
       "      <th>Positive</th>\n",
       "      <th>Negative</th>\n",
       "    </tr>\n",
       "  </thead>\n",
       "  <tbody>\n",
       "    <tr>\n",
       "      <th>Train</th>\n",
       "      <td>395</td>\n",
       "      <td>2271</td>\n",
       "    </tr>\n",
       "    <tr>\n",
       "      <th>Test</th>\n",
       "      <td>88</td>\n",
       "      <td>579</td>\n",
       "    </tr>\n",
       "  </tbody>\n",
       "</table>\n",
       "</div>"
      ],
      "text/plain": [
       "       Positive  Negative\n",
       "Train       395      2271\n",
       "Test         88       579"
      ]
     },
     "execution_count": 19,
     "metadata": {},
     "output_type": "execute_result"
    }
   ],
   "source": [
    "df = pd.DataFrame({\n",
    "    'Positive': [sum(y), sum(yt)],\n",
    "    'Negative': [sum(1-y), sum(1-yt)]\n",
    "}, index=['Train', 'Test'])\n",
    "df"
   ]
  },
  {
   "cell_type": "code",
   "execution_count": 20,
   "id": "f91f712b",
   "metadata": {
    "execution": {
     "iopub.execute_input": "2022-11-23T13:31:11.297021Z",
     "iopub.status.busy": "2022-11-23T13:31:11.295786Z",
     "iopub.status.idle": "2022-11-23T13:31:11.551020Z",
     "shell.execute_reply": "2022-11-23T13:31:11.549789Z"
    },
    "papermill": {
     "duration": 0.284817,
     "end_time": "2022-11-23T13:31:11.553613",
     "exception": false,
     "start_time": "2022-11-23T13:31:11.268796",
     "status": "completed"
    },
    "tags": []
   },
   "outputs": [
    {
     "data": {
      "text/plain": [
       "<AxesSubplot:>"
      ]
     },
     "execution_count": 20,
     "metadata": {},
     "output_type": "execute_result"
    },
    {
     "data": {
      "image/png": "[encoded data removed]",
      "text/plain": [
       "<Figure size 432x288 with 1 Axes>"
      ]
     },
     "metadata": {},
     "output_type": "display_data"
    }
   ],
   "source": [
    "df.plot(y=[\"Positive\", \"Negative\"], kind=\"bar\")"
   ]
  },
  {
   "cell_type": "code",
   "execution_count": 21,
   "id": "49d779e8",
   "metadata": {
    "execution": {
     "iopub.execute_input": "2022-11-23T13:31:11.609254Z",
     "iopub.status.busy": "2022-11-23T13:31:11.608259Z",
     "iopub.status.idle": "2022-11-23T13:31:11.865184Z",
     "shell.execute_reply": "2022-11-23T13:31:11.863227Z"
    },
    "papermill": {
     "duration": 0.289384,
     "end_time": "2022-11-23T13:31:11.869936",
     "exception": false,
     "start_time": "2022-11-23T13:31:11.580552",
     "status": "completed"
    },
    "tags": []
   },
   "outputs": [
    {
     "data": {
      "text/plain": [
       "<AxesSubplot:ylabel='Positive'>"
      ]
     },
     "execution_count": 21,
     "metadata": {},
     "output_type": "execute_result"
    },
    {
     "data": {
      "image/png": "[encoded data removed]",
      "text/plain": [
       "<Figure size 432x288 with 1 Axes>"
      ]
     },
     "metadata": {},
     "output_type": "display_data"
    }
   ],
   "source": [
    "df.plot(y='Positive', kind=\"pie\", autopct='%1.1f%%')"
   ]
  },
  {
   "cell_type": "markdown",
   "id": "8ef6227a",
   "metadata": {
    "papermill": {
     "duration": 0.028257,
     "end_time": "2022-11-23T13:31:11.943697",
     "exception": false,
     "start_time": "2022-11-23T13:31:11.915440",
     "status": "completed"
    },
    "tags": []
   },
   "source": [
    "<h1> Normalization </h1>"
   ]
  },
  {
   "cell_type": "code",
   "execution_count": 22,
   "id": "6e2b3b59",
   "metadata": {
    "execution": {
     "iopub.execute_input": "2022-11-23T13:31:12.000844Z",
     "iopub.status.busy": "2022-11-23T13:31:12.000383Z",
     "iopub.status.idle": "2022-11-23T13:31:12.012540Z",
     "shell.execute_reply": "2022-11-23T13:31:12.011574Z"
    },
    "papermill": {
     "duration": 0.044385,
     "end_time": "2022-11-23T13:31:12.015124",
     "exception": false,
     "start_time": "2022-11-23T13:31:11.970739",
     "status": "completed"
    },
    "tags": []
   },
   "outputs": [],
   "source": [
    "from sklearn.preprocessing import MinMaxScaler\n",
    "scl = MinMaxScaler().fit(X)\n",
    "X = scl.transform(X)\n",
    "Xt = scl.transform(Xt)"
   ]
  },
  {
   "cell_type": "code",
   "execution_count": 23,
   "id": "819ea858",
   "metadata": {
    "execution": {
     "iopub.execute_input": "2022-11-23T13:31:12.070478Z",
     "iopub.status.busy": "2022-11-23T13:31:12.069768Z",
     "iopub.status.idle": "2022-11-23T13:31:15.049482Z",
     "shell.execute_reply": "2022-11-23T13:31:15.048253Z"
    },
    "papermill": {
     "duration": 3.010706,
     "end_time": "2022-11-23T13:31:15.052338",
     "exception": false,
     "start_time": "2022-11-23T13:31:12.041632",
     "status": "completed"
    },
    "tags": []
   },
   "outputs": [
    {
     "name": "stdout",
     "output_type": "stream",
     "text": [
      "Train Acc = 0.9163540885221305, C = 16\n"
     ]
    }
   ],
   "source": [
    "from sklearn.svm import SVC\n",
    "from sklearn.model_selection import cross_val_predict\n",
    "param = [1,2,4,8,16,32]\n",
    "allyp = [cross_val_predict(SVC(C=item,random_state=0), X, y, cv=5) for item in param]\n",
    "train_acc = [sum(item==y)/len(y) for item in allyp]\n",
    "i_best = np.argmax(train_acc)\n",
    "best_param = param[i_best]\n",
    "best_acc = train_acc[i_best]\n",
    "print(\"Train Acc = \" + str(best_acc) + \", C = \"+ str(best_param))"
   ]
  },
  {
   "cell_type": "code",
   "execution_count": 24,
   "id": "9ae06484",
   "metadata": {
    "execution": {
     "iopub.execute_input": "2022-11-23T13:31:15.111417Z",
     "iopub.status.busy": "2022-11-23T13:31:15.110654Z",
     "iopub.status.idle": "2022-11-23T13:31:15.266467Z",
     "shell.execute_reply": "2022-11-23T13:31:15.265037Z"
    },
    "papermill": {
     "duration": 0.189135,
     "end_time": "2022-11-23T13:31:15.269790",
     "exception": false,
     "start_time": "2022-11-23T13:31:15.080655",
     "status": "completed"
    },
    "tags": []
   },
   "outputs": [
    {
     "name": "stdout",
     "output_type": "stream",
     "text": [
      "Test Acc = 0.9265367316341829\n"
     ]
    }
   ],
   "source": [
    "clf = SVC(C=16,random_state=0).fit(X,y)\n",
    "yp = clf.predict(Xt)\n",
    "test_acc = sum(yp==yt)/len(yt)\n",
    "print(\"Test Acc = \" + str(test_acc))"
   ]
  },
  {
   "cell_type": "code",
   "execution_count": 25,
   "id": "7b77af08",
   "metadata": {
    "execution": {
     "iopub.execute_input": "2022-11-23T13:31:15.326369Z",
     "iopub.status.busy": "2022-11-23T13:31:15.325653Z",
     "iopub.status.idle": "2022-11-23T13:31:15.562587Z",
     "shell.execute_reply": "2022-11-23T13:31:15.561453Z"
    },
    "papermill": {
     "duration": 0.268094,
     "end_time": "2022-11-23T13:31:15.565295",
     "exception": false,
     "start_time": "2022-11-23T13:31:15.297201",
     "status": "completed"
    },
    "tags": []
   },
   "outputs": [
    {
     "data": {
      "image/png": "[encoded data removed]",
      "text/plain": [
       "<Figure size 432x288 with 2 Axes>"
      ]
     },
     "metadata": {},
     "output_type": "display_data"
    }
   ],
   "source": [
    "from sklearn.metrics import ConfusionMatrixDisplay\n",
    "ConfusionMatrixDisplay.from_predictions(y, allyp[i_best], cmap=\"Blues\")\n",
    "plt.grid(False)\n",
    "plt.show()"
   ]
  },
  {
   "cell_type": "code",
   "execution_count": 26,
   "id": "07eabcb1",
   "metadata": {
    "execution": {
     "iopub.execute_input": "2022-11-23T13:31:15.624012Z",
     "iopub.status.busy": "2022-11-23T13:31:15.623214Z",
     "iopub.status.idle": "2022-11-23T13:31:15.863475Z",
     "shell.execute_reply": "2022-11-23T13:31:15.862240Z"
    },
    "papermill": {
     "duration": 0.272257,
     "end_time": "2022-11-23T13:31:15.866046",
     "exception": false,
     "start_time": "2022-11-23T13:31:15.593789",
     "status": "completed"
    },
    "tags": []
   },
   "outputs": [
    {
     "data": {
      "image/png": "[encoded data removed]",
      "text/plain": [
       "<Figure size 432x288 with 2 Axes>"
      ]
     },
     "metadata": {},
     "output_type": "display_data"
    }
   ],
   "source": [
    "from sklearn.metrics import ConfusionMatrixDisplay\n",
    "ConfusionMatrixDisplay.from_predictions(yt, yp, cmap=\"Blues\")\n",
    "plt.grid(False)\n",
    "plt.show()"
   ]
  },
  {
   "cell_type": "code",
   "execution_count": 27,
   "id": "12deaf77",
   "metadata": {
    "execution": {
     "iopub.execute_input": "2022-11-23T13:31:15.922846Z",
     "iopub.status.busy": "2022-11-23T13:31:15.922159Z",
     "iopub.status.idle": "2022-11-23T13:31:15.936521Z",
     "shell.execute_reply": "2022-11-23T13:31:15.935128Z"
    },
    "papermill": {
     "duration": 0.046332,
     "end_time": "2022-11-23T13:31:15.939531",
     "exception": false,
     "start_time": "2022-11-23T13:31:15.893199",
     "status": "completed"
    },
    "tags": []
   },
   "outputs": [
    {
     "name": "stdout",
     "output_type": "stream",
     "text": [
      "              precision    recall  f1-score   support\n",
      "\n",
      "           0       0.93      0.98      0.95      2271\n",
      "           1       0.82      0.56      0.66       395\n",
      "\n",
      "    accuracy                           0.92      2666\n",
      "   macro avg       0.87      0.77      0.81      2666\n",
      "weighted avg       0.91      0.92      0.91      2666\n",
      "\n"
     ]
    }
   ],
   "source": [
    "from sklearn.metrics import classification_report\n",
    "print(classification_report(y, allyp[i_best]))"
   ]
  },
  {
   "cell_type": "code",
   "execution_count": 28,
   "id": "d0f3e8a1",
   "metadata": {
    "execution": {
     "iopub.execute_input": "2022-11-23T13:31:15.999853Z",
     "iopub.status.busy": "2022-11-23T13:31:15.999196Z",
     "iopub.status.idle": "2022-11-23T13:31:16.010565Z",
     "shell.execute_reply": "2022-11-23T13:31:16.009201Z"
    },
    "papermill": {
     "duration": 0.045494,
     "end_time": "2022-11-23T13:31:16.013134",
     "exception": false,
     "start_time": "2022-11-23T13:31:15.967640",
     "status": "completed"
    },
    "tags": []
   },
   "outputs": [
    {
     "name": "stdout",
     "output_type": "stream",
     "text": [
      "              precision    recall  f1-score   support\n",
      "\n",
      "           0       0.94      0.98      0.96       579\n",
      "           1       0.83      0.56      0.67        88\n",
      "\n",
      "    accuracy                           0.93       667\n",
      "   macro avg       0.88      0.77      0.81       667\n",
      "weighted avg       0.92      0.93      0.92       667\n",
      "\n"
     ]
    }
   ],
   "source": [
    "from sklearn.metrics import classification_report\n",
    "print(classification_report(yt, yp))"
   ]
  },
  {
   "cell_type": "code",
   "execution_count": 29,
   "id": "f8e00c76",
   "metadata": {
    "execution": {
     "iopub.execute_input": "2022-11-23T13:31:16.071895Z",
     "iopub.status.busy": "2022-11-23T13:31:16.070869Z",
     "iopub.status.idle": "2022-11-23T13:31:16.081020Z",
     "shell.execute_reply": "2022-11-23T13:31:16.079387Z"
    },
    "papermill": {
     "duration": 0.042271,
     "end_time": "2022-11-23T13:31:16.083943",
     "exception": false,
     "start_time": "2022-11-23T13:31:16.041672",
     "status": "completed"
    },
    "tags": []
   },
   "outputs": [],
   "source": [
    "file = open('PLS.py','w')\n",
    "file.write('import numpy as np'+\"\\n\")\n",
    "file.write('from sklearn.cross_decomposition import PLSRegression'+\"\\n\")\n",
    "file.write('from sklearn.base import BaseEstimator, ClassifierMixin'+\"\\n\")\n",
    "file.write('class PLS(BaseEstimator, ClassifierMixin):'+\"\\n\")\n",
    "file.write('    def __init__(self):'+\"\\n\")\n",
    "file.write('        self.clf = PLSRegression(n_components=2)'+\"\\n\")\n",
    "file.write('    def fit(self, X, y):'+\"\\n\")\n",
    "file.write('        self.clf.fit(X,y)'+\"\\n\")\n",
    "file.write('        return self'+\"\\n\")\n",
    "file.write('    def predict(self, X):'+\"\\n\")\n",
    "file.write('        pr = [np.round(min(max(item[0],0),1)) for item in self.clf.predict(X)]'+\"\\n\")\n",
    "file.write('        return np.array(pr)'+\"\\n\")\n",
    "file.write('    def predict_proba(self, X):'+\"\\n\")\n",
    "file.write('        p_all = []'+\"\\n\")\n",
    "file.write('        p_all.append([1-min(max(item[0],0.0001),0.9999) for item in self.clf.predict(X)])'+\"\\n\")\n",
    "file.write('        p_all.append([min(max(item[0],0.0001),0.9999) for item in self.clf.predict(X)])'+\"\\n\")\n",
    "file.write('        return np.transpose(np.array(p_all))'+\"\\n\")\n",
    "file.close()"
   ]
  },
  {
   "cell_type": "code",
   "execution_count": 30,
   "id": "119dbc19",
   "metadata": {
    "execution": {
     "iopub.execute_input": "2022-11-23T13:31:16.141621Z",
     "iopub.status.busy": "2022-11-23T13:31:16.141156Z",
     "iopub.status.idle": "2022-11-23T13:31:16.152840Z",
     "shell.execute_reply": "2022-11-23T13:31:16.151381Z"
    },
    "papermill": {
     "duration": 0.044793,
     "end_time": "2022-11-23T13:31:16.156505",
     "exception": false,
     "start_time": "2022-11-23T13:31:16.111712",
     "status": "completed"
    },
    "tags": []
   },
   "outputs": [],
   "source": [
    "from PLS import PLS"
   ]
  },
  {
   "cell_type": "code",
   "execution_count": 31,
   "id": "e399ee6a",
   "metadata": {
    "execution": {
     "iopub.execute_input": "2022-11-23T13:31:16.216535Z",
     "iopub.status.busy": "2022-11-23T13:31:16.216095Z",
     "iopub.status.idle": "2022-11-23T13:31:16.327677Z",
     "shell.execute_reply": "2022-11-23T13:31:16.326027Z"
    },
    "papermill": {
     "duration": 0.146223,
     "end_time": "2022-11-23T13:31:16.332250",
     "exception": false,
     "start_time": "2022-11-23T13:31:16.186027",
     "status": "completed"
    },
    "tags": []
   },
   "outputs": [
    {
     "data": {
      "text/plain": [
       "0.8555888972243061"
      ]
     },
     "execution_count": 31,
     "metadata": {},
     "output_type": "execute_result"
    }
   ],
   "source": [
    "from sklearn.model_selection import cross_val_predict\n",
    "clf = PLS()\n",
    "yp = cross_val_predict(clf, X, y, cv=5)\n",
    "train_acc = sum(yp==y) / len(y)\n",
    "train_acc"
   ]
  },
  {
   "cell_type": "code",
   "execution_count": 32,
   "id": "1cf0b588",
   "metadata": {
    "execution": {
     "iopub.execute_input": "2022-11-23T13:31:16.449686Z",
     "iopub.status.busy": "2022-11-23T13:31:16.449182Z",
     "iopub.status.idle": "2022-11-23T13:31:16.616498Z",
     "shell.execute_reply": "2022-11-23T13:31:16.615552Z"
    },
    "papermill": {
     "duration": 0.214984,
     "end_time": "2022-11-23T13:31:16.619248",
     "exception": false,
     "start_time": "2022-11-23T13:31:16.404264",
     "status": "completed"
    },
    "tags": []
   },
   "outputs": [],
   "source": [
    "from sklearn.ensemble import ExtraTreesClassifier"
   ]
  },
  {
   "cell_type": "code",
   "execution_count": 33,
   "id": "088f1c19",
   "metadata": {
    "execution": {
     "iopub.execute_input": "2022-11-23T13:31:16.678310Z",
     "iopub.status.busy": "2022-11-23T13:31:16.677099Z",
     "iopub.status.idle": "2022-11-23T13:31:19.579920Z",
     "shell.execute_reply": "2022-11-23T13:31:19.578474Z"
    },
    "papermill": {
     "duration": 2.93494,
     "end_time": "2022-11-23T13:31:19.583142",
     "exception": false,
     "start_time": "2022-11-23T13:31:16.648202",
     "status": "completed"
    },
    "tags": []
   },
   "outputs": [
    {
     "name": "stdout",
     "output_type": "stream",
     "text": [
      "Train Acc = 0.9163540885221305, C = 16\n"
     ]
    }
   ],
   "source": [
    "from sklearn.model_selection import cross_val_predict\n",
    "param = [1,2,4,8,16,32]\n",
    "allyp = [cross_val_predict(SVC(C=item,random_state=0), X, y, cv=5) for item in param]\n",
    "train_acc = [sum(item==y)/len(y) for item in allyp]\n",
    "i_best = np.argmax(train_acc)\n",
    "best_param = param[i_best]\n",
    "best_acc = train_acc[i_best]\n",
    "print(\"Train Acc = \" + str(best_acc) + \", C = \"+ str(best_param))"
   ]
  },
  {
   "cell_type": "code",
   "execution_count": 34,
   "id": "08c12ad6",
   "metadata": {
    "execution": {
     "iopub.execute_input": "2022-11-23T13:31:19.641557Z",
     "iopub.status.busy": "2022-11-23T13:31:19.641144Z",
     "iopub.status.idle": "2022-11-23T13:31:31.854402Z",
     "shell.execute_reply": "2022-11-23T13:31:31.852767Z"
    },
    "papermill": {
     "duration": 12.246027,
     "end_time": "2022-11-23T13:31:31.857844",
     "exception": false,
     "start_time": "2022-11-23T13:31:19.611817",
     "status": "completed"
    },
    "tags": []
   },
   "outputs": [
    {
     "name": "stdout",
     "output_type": "stream",
     "text": [
      "Train Acc = 0.9294823705926482, C = 200\n"
     ]
    }
   ],
   "source": [
    "from sklearn.model_selection import cross_val_predict\n",
    "param = [20, 50, 100, 200, 500]\n",
    "allyp = [cross_val_predict(ExtraTreesClassifier(n_estimators=item,random_state=0), X, y, cv=5) for item in param]\n",
    "train_acc = [sum(item==y)/len(y) for item in allyp]\n",
    "i_best = np.argmax(train_acc)\n",
    "best_param = param[i_best]\n",
    "best_acc = train_acc[i_best]\n",
    "print(\"Train Acc = \" + str(best_acc) + \", C = \"+ str(best_param))"
   ]
  },
  {
   "cell_type": "code",
   "execution_count": 35,
   "id": "3250308a",
   "metadata": {
    "execution": {
     "iopub.execute_input": "2022-11-23T13:31:31.918680Z",
     "iopub.status.busy": "2022-11-23T13:31:31.918235Z",
     "iopub.status.idle": "2022-11-23T13:31:32.579498Z",
     "shell.execute_reply": "2022-11-23T13:31:32.577641Z"
    },
    "papermill": {
     "duration": 0.695457,
     "end_time": "2022-11-23T13:31:32.582337",
     "exception": false,
     "start_time": "2022-11-23T13:31:31.886880",
     "status": "completed"
    },
    "tags": []
   },
   "outputs": [
    {
     "name": "stdout",
     "output_type": "stream",
     "text": [
      "Test Acc = 0.9250374812593704\n"
     ]
    }
   ],
   "source": [
    "clf = ExtraTreesClassifier(n_estimators=200, random_state=0).fit(X,y)\n",
    "yp = clf.predict(Xt)\n",
    "test_acc = sum(yp==yt)/len(yt)\n",
    "print(\"Test Acc = \"+ str(test_acc))"
   ]
  },
  {
   "cell_type": "code",
   "execution_count": 36,
   "id": "5452e518",
   "metadata": {
    "execution": {
     "iopub.execute_input": "2022-11-23T13:31:32.641796Z",
     "iopub.status.busy": "2022-11-23T13:31:32.641179Z",
     "iopub.status.idle": "2022-11-23T13:31:32.669377Z",
     "shell.execute_reply": "2022-11-23T13:31:32.668169Z"
    },
    "papermill": {
     "duration": 0.062104,
     "end_time": "2022-11-23T13:31:32.672314",
     "exception": false,
     "start_time": "2022-11-23T13:31:32.610210",
     "status": "completed"
    },
    "tags": []
   },
   "outputs": [],
   "source": [
    "from sklearn.naive_bayes import GaussianNB\n",
    "clf = GaussianNB()\n",
    "yp = cross_val_predict(clf, X, y, cv=5)\n",
    "train_acc = sum(yp==y)/len(y) #Training Accuacy\n",
    "\n",
    "clf.fit(X, y) # Train Model\n",
    "yp = clf.predict(Xt) # Test Model\n",
    "test_acc = sum(yp == yt)/len(yt) # Test Accuracy"
   ]
  },
  {
   "cell_type": "code",
   "execution_count": 37,
   "id": "a25b27c6",
   "metadata": {
    "execution": {
     "iopub.execute_input": "2022-11-23T13:31:32.729854Z",
     "iopub.status.busy": "2022-11-23T13:31:32.729444Z",
     "iopub.status.idle": "2022-11-23T13:31:32.736653Z",
     "shell.execute_reply": "2022-11-23T13:31:32.735294Z"
    },
    "papermill": {
     "duration": 0.039063,
     "end_time": "2022-11-23T13:31:32.739095",
     "exception": false,
     "start_time": "2022-11-23T13:31:32.700032",
     "status": "completed"
    },
    "tags": []
   },
   "outputs": [
    {
     "data": {
      "text/plain": [
       "0.8510877719429858"
      ]
     },
     "execution_count": 37,
     "metadata": {},
     "output_type": "execute_result"
    }
   ],
   "source": [
    "train_acc"
   ]
  },
  {
   "cell_type": "code",
   "execution_count": 38,
   "id": "9b9e1502",
   "metadata": {
    "execution": {
     "iopub.execute_input": "2022-11-23T13:31:32.797883Z",
     "iopub.status.busy": "2022-11-23T13:31:32.797401Z",
     "iopub.status.idle": "2022-11-23T13:31:32.805348Z",
     "shell.execute_reply": "2022-11-23T13:31:32.803965Z"
    },
    "papermill": {
     "duration": 0.040775,
     "end_time": "2022-11-23T13:31:32.807858",
     "exception": false,
     "start_time": "2022-11-23T13:31:32.767083",
     "status": "completed"
    },
    "tags": []
   },
   "outputs": [
    {
     "data": {
      "text/plain": [
       "0.8440779610194903"
      ]
     },
     "execution_count": 38,
     "metadata": {},
     "output_type": "execute_result"
    }
   ],
   "source": [
    "test_acc"
   ]
  },
  {
   "cell_type": "code",
   "execution_count": 39,
   "id": "8b74b7b5",
   "metadata": {
    "execution": {
     "iopub.execute_input": "2022-11-23T13:31:32.866524Z",
     "iopub.status.busy": "2022-11-23T13:31:32.865384Z",
     "iopub.status.idle": "2022-11-23T13:33:39.563426Z",
     "shell.execute_reply": "2022-11-23T13:33:39.561792Z"
    },
    "papermill": {
     "duration": 126.737169,
     "end_time": "2022-11-23T13:33:39.572801",
     "exception": false,
     "start_time": "2022-11-23T13:31:32.835632",
     "status": "completed"
    },
    "tags": []
   },
   "outputs": [
    {
     "name": "stderr",
     "output_type": "stream",
     "text": [
      "/opt/conda/lib/python3.7/site-packages/sklearn/neural_network/_multilayer_perceptron.py:696: ConvergenceWarning: Stochastic Optimizer: Maximum iterations (200) reached and the optimization hasn't converged yet.\n",
      "  ConvergenceWarning,\n",
      "/opt/conda/lib/python3.7/site-packages/sklearn/neural_network/_multilayer_perceptron.py:696: ConvergenceWarning: Stochastic Optimizer: Maximum iterations (200) reached and the optimization hasn't converged yet.\n",
      "  ConvergenceWarning,\n",
      "/opt/conda/lib/python3.7/site-packages/sklearn/neural_network/_multilayer_perceptron.py:696: ConvergenceWarning: Stochastic Optimizer: Maximum iterations (200) reached and the optimization hasn't converged yet.\n",
      "  ConvergenceWarning,\n",
      "/opt/conda/lib/python3.7/site-packages/sklearn/neural_network/_multilayer_perceptron.py:696: ConvergenceWarning: Stochastic Optimizer: Maximum iterations (200) reached and the optimization hasn't converged yet.\n",
      "  ConvergenceWarning,\n",
      "/opt/conda/lib/python3.7/site-packages/sklearn/neural_network/_multilayer_perceptron.py:696: ConvergenceWarning: Stochastic Optimizer: Maximum iterations (200) reached and the optimization hasn't converged yet.\n",
      "  ConvergenceWarning,\n",
      "/opt/conda/lib/python3.7/site-packages/sklearn/neural_network/_multilayer_perceptron.py:696: ConvergenceWarning: Stochastic Optimizer: Maximum iterations (200) reached and the optimization hasn't converged yet.\n",
      "  ConvergenceWarning,\n",
      "/opt/conda/lib/python3.7/site-packages/sklearn/neural_network/_multilayer_perceptron.py:696: ConvergenceWarning: Stochastic Optimizer: Maximum iterations (200) reached and the optimization hasn't converged yet.\n",
      "  ConvergenceWarning,\n",
      "/opt/conda/lib/python3.7/site-packages/sklearn/neural_network/_multilayer_perceptron.py:696: ConvergenceWarning: Stochastic Optimizer: Maximum iterations (200) reached and the optimization hasn't converged yet.\n",
      "  ConvergenceWarning,\n",
      "/opt/conda/lib/python3.7/site-packages/sklearn/neural_network/_multilayer_perceptron.py:696: ConvergenceWarning: Stochastic Optimizer: Maximum iterations (200) reached and the optimization hasn't converged yet.\n",
      "  ConvergenceWarning,\n",
      "/opt/conda/lib/python3.7/site-packages/sklearn/neural_network/_multilayer_perceptron.py:696: ConvergenceWarning: Stochastic Optimizer: Maximum iterations (200) reached and the optimization hasn't converged yet.\n",
      "  ConvergenceWarning,\n",
      "/opt/conda/lib/python3.7/site-packages/sklearn/neural_network/_multilayer_perceptron.py:696: ConvergenceWarning: Stochastic Optimizer: Maximum iterations (200) reached and the optimization hasn't converged yet.\n",
      "  ConvergenceWarning,\n",
      "/opt/conda/lib/python3.7/site-packages/sklearn/neural_network/_multilayer_perceptron.py:696: ConvergenceWarning: Stochastic Optimizer: Maximum iterations (200) reached and the optimization hasn't converged yet.\n",
      "  ConvergenceWarning,\n",
      "/opt/conda/lib/python3.7/site-packages/sklearn/neural_network/_multilayer_perceptron.py:696: ConvergenceWarning: Stochastic Optimizer: Maximum iterations (200) reached and the optimization hasn't converged yet.\n",
      "  ConvergenceWarning,\n",
      "/opt/conda/lib/python3.7/site-packages/sklearn/neural_network/_multilayer_perceptron.py:696: ConvergenceWarning: Stochastic Optimizer: Maximum iterations (200) reached and the optimization hasn't converged yet.\n",
      "  ConvergenceWarning,\n",
      "/opt/conda/lib/python3.7/site-packages/sklearn/neural_network/_multilayer_perceptron.py:696: ConvergenceWarning: Stochastic Optimizer: Maximum iterations (200) reached and the optimization hasn't converged yet.\n",
      "  ConvergenceWarning,\n",
      "/opt/conda/lib/python3.7/site-packages/sklearn/neural_network/_multilayer_perceptron.py:696: ConvergenceWarning: Stochastic Optimizer: Maximum iterations (200) reached and the optimization hasn't converged yet.\n",
      "  ConvergenceWarning,\n",
      "/opt/conda/lib/python3.7/site-packages/sklearn/neural_network/_multilayer_perceptron.py:696: ConvergenceWarning: Stochastic Optimizer: Maximum iterations (200) reached and the optimization hasn't converged yet.\n",
      "  ConvergenceWarning,\n",
      "/opt/conda/lib/python3.7/site-packages/sklearn/neural_network/_multilayer_perceptron.py:696: ConvergenceWarning: Stochastic Optimizer: Maximum iterations (200) reached and the optimization hasn't converged yet.\n",
      "  ConvergenceWarning,\n",
      "/opt/conda/lib/python3.7/site-packages/sklearn/neural_network/_multilayer_perceptron.py:696: ConvergenceWarning: Stochastic Optimizer: Maximum iterations (200) reached and the optimization hasn't converged yet.\n",
      "  ConvergenceWarning,\n",
      "/opt/conda/lib/python3.7/site-packages/sklearn/neural_network/_multilayer_perceptron.py:696: ConvergenceWarning: Stochastic Optimizer: Maximum iterations (200) reached and the optimization hasn't converged yet.\n",
      "  ConvergenceWarning,\n",
      "/opt/conda/lib/python3.7/site-packages/sklearn/neural_network/_multilayer_perceptron.py:696: ConvergenceWarning: Stochastic Optimizer: Maximum iterations (200) reached and the optimization hasn't converged yet.\n",
      "  ConvergenceWarning,\n",
      "/opt/conda/lib/python3.7/site-packages/sklearn/neural_network/_multilayer_perceptron.py:696: ConvergenceWarning: Stochastic Optimizer: Maximum iterations (200) reached and the optimization hasn't converged yet.\n",
      "  ConvergenceWarning,\n",
      "/opt/conda/lib/python3.7/site-packages/sklearn/neural_network/_multilayer_perceptron.py:696: ConvergenceWarning: Stochastic Optimizer: Maximum iterations (200) reached and the optimization hasn't converged yet.\n",
      "  ConvergenceWarning,\n",
      "/opt/conda/lib/python3.7/site-packages/sklearn/neural_network/_multilayer_perceptron.py:696: ConvergenceWarning: Stochastic Optimizer: Maximum iterations (200) reached and the optimization hasn't converged yet.\n",
      "  ConvergenceWarning,\n"
     ]
    },
    {
     "name": "stdout",
     "output_type": "stream",
     "text": [
      "Train Acc = 0.9141035258814704, Hidden_Layers = 500\n"
     ]
    },
    {
     "name": "stderr",
     "output_type": "stream",
     "text": [
      "/opt/conda/lib/python3.7/site-packages/sklearn/neural_network/_multilayer_perceptron.py:696: ConvergenceWarning: Stochastic Optimizer: Maximum iterations (200) reached and the optimization hasn't converged yet.\n",
      "  ConvergenceWarning,\n"
     ]
    }
   ],
   "source": [
    "from sklearn.neural_network import MLPClassifier\n",
    "from sklearn.model_selection import cross_val_predict\n",
    "param = [20, 50, 100, 200, 500]\n",
    "allyp = [cross_val_predict(MLPClassifier(hidden_layer_sizes=(item,), random_state=0), X, y, cv=5) for item in param]\n",
    "train_acc = [sum(item==y)/len(y) for item in allyp]\n",
    "i_best = np.argmax(train_acc)\n",
    "best_param = param[i_best]\n",
    "best_acc = train_acc[i_best]\n",
    "print(\"Train Acc = \" + str(best_acc) + \", Hidden_Layers = \"+ str(best_param))"
   ]
  },
  {
   "cell_type": "code",
   "execution_count": 40,
   "id": "d99826e6",
   "metadata": {
    "execution": {
     "iopub.execute_input": "2022-11-23T13:33:39.696878Z",
     "iopub.status.busy": "2022-11-23T13:33:39.696413Z",
     "iopub.status.idle": "2022-11-23T13:33:54.396996Z",
     "shell.execute_reply": "2022-11-23T13:33:54.395071Z"
    },
    "papermill": {
     "duration": 14.752136,
     "end_time": "2022-11-23T13:33:54.404242",
     "exception": false,
     "start_time": "2022-11-23T13:33:39.652106",
     "status": "completed"
    },
    "tags": []
   },
   "outputs": [
    {
     "name": "stdout",
     "output_type": "stream",
     "text": [
      "Test Acc = 0.9250374812593704\n"
     ]
    },
    {
     "name": "stderr",
     "output_type": "stream",
     "text": [
      "/opt/conda/lib/python3.7/site-packages/sklearn/neural_network/_multilayer_perceptron.py:696: ConvergenceWarning: Stochastic Optimizer: Maximum iterations (200) reached and the optimization hasn't converged yet.\n",
      "  ConvergenceWarning,\n"
     ]
    }
   ],
   "source": [
    "clf = MLPClassifier(hidden_layer_sizes=(500,), random_state=0).fit(X,y)\n",
    "yp = clf.predict(Xt)\n",
    "test_acc = sum(yp==yt)/len(yt)\n",
    "print(\"Test Acc = \" + str(test_acc))"
   ]
  },
  {
   "cell_type": "code",
   "execution_count": 41,
   "id": "9dc6d7ce",
   "metadata": {
    "execution": {
     "iopub.execute_input": "2022-11-23T13:33:54.533435Z",
     "iopub.status.busy": "2022-11-23T13:33:54.532950Z",
     "iopub.status.idle": "2022-11-23T13:33:57.170651Z",
     "shell.execute_reply": "2022-11-23T13:33:57.169621Z"
    },
    "papermill": {
     "duration": 2.689839,
     "end_time": "2022-11-23T13:33:57.173561",
     "exception": false,
     "start_time": "2022-11-23T13:33:54.483722",
     "status": "completed"
    },
    "tags": []
   },
   "outputs": [
    {
     "data": {
      "text/html": [
       "<style type='text/css'>\n",
       ".datatable table.frame { margin-bottom: 0; }\n",
       ".datatable table.frame thead { border-bottom: none; }\n",
       ".datatable table.frame tr.coltypes td {  color: #FFFFFF;  line-height: 6px;  padding: 0 0.5em;}\n",
       ".datatable .bool    { background: #DDDD99; }\n",
       ".datatable .object  { background: #565656; }\n",
       ".datatable .int     { background: #5D9E5D; }\n",
       ".datatable .float   { background: #4040CC; }\n",
       ".datatable .str     { background: #CC4040; }\n",
       ".datatable .time    { background: #40CC40; }\n",
       ".datatable .row_index {  background: var(--jp-border-color3);  border-right: 1px solid var(--jp-border-color0);  color: var(--jp-ui-font-color3);  font-size: 9px;}\n",
       ".datatable .frame tbody td { text-align: left; }\n",
       ".datatable .frame tr.coltypes .row_index {  background: var(--jp-border-color0);}\n",
       ".datatable th:nth-child(2) { padding-left: 12px; }\n",
       ".datatable .hellipsis {  color: var(--jp-cell-editor-border-color);}\n",
       ".datatable .vellipsis {  background: var(--jp-layout-color0);  color: var(--jp-cell-editor-border-color);}\n",
       ".datatable .na {  color: var(--jp-cell-editor-border-color);  font-size: 80%;}\n",
       ".datatable .sp {  opacity: 0.25;}\n",
       ".datatable .footer { font-size: 9px; }\n",
       ".datatable .frame_dimensions {  background: var(--jp-border-color3);  border-top: 1px solid var(--jp-border-color0);  color: var(--jp-ui-font-color3);  display: inline-block;  opacity: 0.6;  padding: 1px 10px 1px 5px;}\n",
       "</style>\n"
      ],
      "text/plain": [
       "<IPython.core.display.HTML object>"
      ]
     },
     "metadata": {},
     "output_type": "display_data"
    }
   ],
   "source": [
    "from lightgbm import LGBMClassifier\n",
    "clf = LGBMClassifier(n_estimators=200)\n",
    "yp = cross_val_predict(clf, X, y, cv=5)\n",
    "train_acc = sum(yp==y)/len(y) #Training Accuacy\n",
    "\n",
    "clf.fit(X, y) # Train Model\n",
    "yp = clf.predict(Xt) # Test Model\n",
    "test_acc = sum(yp == yt)/len(yt) # Test Accuracy"
   ]
  },
  {
   "cell_type": "code",
   "execution_count": 42,
   "id": "c45b5841",
   "metadata": {
    "execution": {
     "iopub.execute_input": "2022-11-23T13:33:57.237775Z",
     "iopub.status.busy": "2022-11-23T13:33:57.237340Z",
     "iopub.status.idle": "2022-11-23T13:33:57.244605Z",
     "shell.execute_reply": "2022-11-23T13:33:57.243422Z"
    },
    "papermill": {
     "duration": 0.041473,
     "end_time": "2022-11-23T13:33:57.247191",
     "exception": false,
     "start_time": "2022-11-23T13:33:57.205718",
     "status": "completed"
    },
    "tags": []
   },
   "outputs": [
    {
     "data": {
      "text/plain": [
       "0.9306076519129782"
      ]
     },
     "execution_count": 42,
     "metadata": {},
     "output_type": "execute_result"
    }
   ],
   "source": [
    "train_acc"
   ]
  },
  {
   "cell_type": "code",
   "execution_count": 43,
   "id": "40260b5a",
   "metadata": {
    "execution": {
     "iopub.execute_input": "2022-11-23T13:33:57.309921Z",
     "iopub.status.busy": "2022-11-23T13:33:57.309502Z",
     "iopub.status.idle": "2022-11-23T13:33:57.316347Z",
     "shell.execute_reply": "2022-11-23T13:33:57.315184Z"
    },
    "papermill": {
     "duration": 0.041726,
     "end_time": "2022-11-23T13:33:57.319185",
     "exception": false,
     "start_time": "2022-11-23T13:33:57.277459",
     "status": "completed"
    },
    "tags": []
   },
   "outputs": [
    {
     "data": {
      "text/plain": [
       "0.9370314842578711"
      ]
     },
     "execution_count": 43,
     "metadata": {},
     "output_type": "execute_result"
    }
   ],
   "source": [
    "test_acc"
   ]
  },
  {
   "cell_type": "code",
   "execution_count": 44,
   "id": "a82cb84d",
   "metadata": {
    "execution": {
     "iopub.execute_input": "2022-11-23T13:33:57.382552Z",
     "iopub.status.busy": "2022-11-23T13:33:57.382121Z",
     "iopub.status.idle": "2022-11-23T13:34:03.708803Z",
     "shell.execute_reply": "2022-11-23T13:34:03.707767Z"
    },
    "papermill": {
     "duration": 6.361914,
     "end_time": "2022-11-23T13:34:03.711816",
     "exception": false,
     "start_time": "2022-11-23T13:33:57.349902",
     "status": "completed"
    },
    "tags": []
   },
   "outputs": [],
   "source": [
    "from lightgbm import LGBMClassifier\n",
    "clf = LGBMClassifier(n_estimators=800, learning_rate=0.01)\n",
    "yp = cross_val_predict(clf, X, y, cv=5)\n",
    "train_acc = sum(yp==y)/len(y) #Training Accuacy\n",
    "\n",
    "clf.fit(X, y) # Train Model\n",
    "yp = clf.predict(Xt) # Test Model\n",
    "test_acc = sum(yp == yt)/len(yt) # Test Accuracy"
   ]
  },
  {
   "cell_type": "code",
   "execution_count": 45,
   "id": "58e35a61",
   "metadata": {
    "execution": {
     "iopub.execute_input": "2022-11-23T13:34:03.777909Z",
     "iopub.status.busy": "2022-11-23T13:34:03.777485Z",
     "iopub.status.idle": "2022-11-23T13:34:03.784554Z",
     "shell.execute_reply": "2022-11-23T13:34:03.783360Z"
    },
    "papermill": {
     "duration": 0.042151,
     "end_time": "2022-11-23T13:34:03.787166",
     "exception": false,
     "start_time": "2022-11-23T13:34:03.745015",
     "status": "completed"
    },
    "tags": []
   },
   "outputs": [
    {
     "data": {
      "text/plain": [
       "0.931357839459865"
      ]
     },
     "execution_count": 45,
     "metadata": {},
     "output_type": "execute_result"
    }
   ],
   "source": [
    "train_acc"
   ]
  },
  {
   "cell_type": "code",
   "execution_count": 46,
   "id": "d79d04dd",
   "metadata": {
    "execution": {
     "iopub.execute_input": "2022-11-23T13:34:03.851813Z",
     "iopub.status.busy": "2022-11-23T13:34:03.851278Z",
     "iopub.status.idle": "2022-11-23T13:34:03.859051Z",
     "shell.execute_reply": "2022-11-23T13:34:03.857917Z"
    },
    "papermill": {
     "duration": 0.042856,
     "end_time": "2022-11-23T13:34:03.861224",
     "exception": false,
     "start_time": "2022-11-23T13:34:03.818368",
     "status": "completed"
    },
    "tags": []
   },
   "outputs": [
    {
     "data": {
      "text/plain": [
       "0.9415292353823088"
      ]
     },
     "execution_count": 46,
     "metadata": {},
     "output_type": "execute_result"
    }
   ],
   "source": [
    "test_acc"
   ]
  },
  {
   "cell_type": "code",
   "execution_count": 47,
   "id": "a0099246",
   "metadata": {
    "execution": {
     "iopub.execute_input": "2022-11-23T13:34:03.924746Z",
     "iopub.status.busy": "2022-11-23T13:34:03.924263Z",
     "iopub.status.idle": "2022-11-23T13:34:08.424729Z",
     "shell.execute_reply": "2022-11-23T13:34:08.423684Z"
    },
    "papermill": {
     "duration": 4.535696,
     "end_time": "2022-11-23T13:34:08.427612",
     "exception": false,
     "start_time": "2022-11-23T13:34:03.891916",
     "status": "completed"
    },
    "tags": []
   },
   "outputs": [],
   "source": [
    "from lightgbm import LGBMClassifier\n",
    "clf = LGBMClassifier(n_estimators=800, learning_rate=0.01, num_leaves=20 )\n",
    "yp = cross_val_predict(clf, X, y, cv=5)\n",
    "train_acc = sum(yp==y)/len(y) #Training Accuacy\n",
    "\n",
    "clf.fit(X, y) # Train Model\n",
    "yp = clf.predict(Xt) # Test Model\n",
    "test_acc = sum(yp == yt)/len(yt) # Test Accuracy"
   ]
  },
  {
   "cell_type": "code",
   "execution_count": 48,
   "id": "e1f98c45",
   "metadata": {
    "execution": {
     "iopub.execute_input": "2022-11-23T13:34:08.493815Z",
     "iopub.status.busy": "2022-11-23T13:34:08.493382Z",
     "iopub.status.idle": "2022-11-23T13:34:08.500779Z",
     "shell.execute_reply": "2022-11-23T13:34:08.499538Z"
    },
    "papermill": {
     "duration": 0.042664,
     "end_time": "2022-11-23T13:34:08.503183",
     "exception": false,
     "start_time": "2022-11-23T13:34:08.460519",
     "status": "completed"
    },
    "tags": []
   },
   "outputs": [
    {
     "data": {
      "text/plain": [
       "0.9339834958739685"
      ]
     },
     "execution_count": 48,
     "metadata": {},
     "output_type": "execute_result"
    }
   ],
   "source": [
    "train_acc"
   ]
  },
  {
   "cell_type": "code",
   "execution_count": 49,
   "id": "3d17b13c",
   "metadata": {
    "execution": {
     "iopub.execute_input": "2022-11-23T13:34:08.569791Z",
     "iopub.status.busy": "2022-11-23T13:34:08.568402Z",
     "iopub.status.idle": "2022-11-23T13:34:08.576532Z",
     "shell.execute_reply": "2022-11-23T13:34:08.575374Z"
    },
    "papermill": {
     "duration": 0.043938,
     "end_time": "2022-11-23T13:34:08.578871",
     "exception": false,
     "start_time": "2022-11-23T13:34:08.534933",
     "status": "completed"
    },
    "tags": []
   },
   "outputs": [
    {
     "data": {
      "text/plain": [
       "0.9385307346326837"
      ]
     },
     "execution_count": 49,
     "metadata": {},
     "output_type": "execute_result"
    }
   ],
   "source": [
    "test_acc"
   ]
  },
  {
   "cell_type": "markdown",
   "id": "cac3fdce",
   "metadata": {
    "papermill": {
     "duration": 0.031885,
     "end_time": "2022-11-23T13:34:08.642598",
     "exception": false,
     "start_time": "2022-11-23T13:34:08.610713",
     "status": "completed"
    },
    "tags": []
   },
   "source": [
    "<h1> Churn Prediction</h1>"
   ]
  },
  {
   "cell_type": "markdown",
   "id": "fd4ba322",
   "metadata": {
    "papermill": {
     "duration": 0.030431,
     "end_time": "2022-11-23T13:34:08.703991",
     "exception": false,
     "start_time": "2022-11-23T13:34:08.673560",
     "status": "completed"
    },
    "tags": []
   },
   "source": [
    "<h3> 1. Logistic Regression  </h3>\n"
   ]
  },
  {
   "cell_type": "code",
   "execution_count": 50,
   "id": "9b4e45dd",
   "metadata": {
    "execution": {
     "iopub.execute_input": "2022-11-23T13:34:08.769238Z",
     "iopub.status.busy": "2022-11-23T13:34:08.768800Z",
     "iopub.status.idle": "2022-11-23T13:34:09.067885Z",
     "shell.execute_reply": "2022-11-23T13:34:09.066163Z"
    },
    "papermill": {
     "duration": 0.338042,
     "end_time": "2022-11-23T13:34:09.072955",
     "exception": false,
     "start_time": "2022-11-23T13:34:08.734913",
     "status": "completed"
    },
    "tags": []
   },
   "outputs": [],
   "source": [
    "from sklearn.linear_model import LogisticRegression\n",
    "clf = LogisticRegression(random_state=0)\n",
    "yp = cross_val_predict(clf, X, y, cv=5)\n",
    "train_acc = sum(yp==y)/len(y) #Training Accuacy\n",
    "\n",
    "clf.fit(X, y) # Train Model\n",
    "yp = clf.predict(Xt) # Test Model\n",
    "test_acc = sum(yp == yt)/len(yt) # Test Accuracy"
   ]
  },
  {
   "cell_type": "code",
   "execution_count": 51,
   "id": "530cd700",
   "metadata": {
    "execution": {
     "iopub.execute_input": "2022-11-23T13:34:09.206065Z",
     "iopub.status.busy": "2022-11-23T13:34:09.205576Z",
     "iopub.status.idle": "2022-11-23T13:34:09.212279Z",
     "shell.execute_reply": "2022-11-23T13:34:09.211326Z"
    },
    "papermill": {
     "duration": 0.061275,
     "end_time": "2022-11-23T13:34:09.214495",
     "exception": false,
     "start_time": "2022-11-23T13:34:09.153220",
     "status": "completed"
    },
    "tags": []
   },
   "outputs": [
    {
     "data": {
      "text/plain": [
       "0.8578394598649662"
      ]
     },
     "execution_count": 51,
     "metadata": {},
     "output_type": "execute_result"
    }
   ],
   "source": [
    "train_acc"
   ]
  },
  {
   "cell_type": "code",
   "execution_count": 52,
   "id": "d7f90065",
   "metadata": {
    "execution": {
     "iopub.execute_input": "2022-11-23T13:34:09.278676Z",
     "iopub.status.busy": "2022-11-23T13:34:09.278223Z",
     "iopub.status.idle": "2022-11-23T13:34:09.284712Z",
     "shell.execute_reply": "2022-11-23T13:34:09.283926Z"
    },
    "papermill": {
     "duration": 0.04138,
     "end_time": "2022-11-23T13:34:09.287046",
     "exception": false,
     "start_time": "2022-11-23T13:34:09.245666",
     "status": "completed"
    },
    "tags": []
   },
   "outputs": [
    {
     "data": {
      "text/plain": [
       "0.8740629685157422"
      ]
     },
     "execution_count": 52,
     "metadata": {},
     "output_type": "execute_result"
    }
   ],
   "source": [
    "test_acc"
   ]
  },
  {
   "cell_type": "markdown",
   "id": "49c08138",
   "metadata": {
    "papermill": {
     "duration": 0.030781,
     "end_time": "2022-11-23T13:34:09.349601",
     "exception": false,
     "start_time": "2022-11-23T13:34:09.318820",
     "status": "completed"
    },
    "tags": []
   },
   "source": [
    "<h3> 2. Naive Bayes   </h3>"
   ]
  },
  {
   "cell_type": "code",
   "execution_count": 53,
   "id": "737390bf",
   "metadata": {
    "execution": {
     "iopub.execute_input": "2022-11-23T13:34:09.414403Z",
     "iopub.status.busy": "2022-11-23T13:34:09.413646Z",
     "iopub.status.idle": "2022-11-23T13:34:09.437280Z",
     "shell.execute_reply": "2022-11-23T13:34:09.436325Z"
    },
    "papermill": {
     "duration": 0.059138,
     "end_time": "2022-11-23T13:34:09.440169",
     "exception": false,
     "start_time": "2022-11-23T13:34:09.381031",
     "status": "completed"
    },
    "tags": []
   },
   "outputs": [],
   "source": [
    "from sklearn.naive_bayes import GaussianNB\n",
    "clf = GaussianNB()\n",
    "yp = cross_val_predict(clf, X, y, cv=5)\n",
    "train_acc = sum(yp==y)/len(y) #Training Accuacy\n",
    "\n",
    "clf.fit(X, y) # Train Model\n",
    "yp = clf.predict(Xt) # Test Model\n",
    "test_acc = sum(yp == yt)/len(yt) # Test Accuracy"
   ]
  },
  {
   "cell_type": "code",
   "execution_count": 54,
   "id": "88bcff70",
   "metadata": {
    "execution": {
     "iopub.execute_input": "2022-11-23T13:34:09.504122Z",
     "iopub.status.busy": "2022-11-23T13:34:09.503372Z",
     "iopub.status.idle": "2022-11-23T13:34:09.509883Z",
     "shell.execute_reply": "2022-11-23T13:34:09.508559Z"
    },
    "papermill": {
     "duration": 0.04116,
     "end_time": "2022-11-23T13:34:09.512344",
     "exception": false,
     "start_time": "2022-11-23T13:34:09.471184",
     "status": "completed"
    },
    "tags": []
   },
   "outputs": [
    {
     "data": {
      "text/plain": [
       "0.8510877719429858"
      ]
     },
     "execution_count": 54,
     "metadata": {},
     "output_type": "execute_result"
    }
   ],
   "source": [
    "train_acc"
   ]
  },
  {
   "cell_type": "code",
   "execution_count": 55,
   "id": "2cfb9818",
   "metadata": {
    "execution": {
     "iopub.execute_input": "2022-11-23T13:34:09.577715Z",
     "iopub.status.busy": "2022-11-23T13:34:09.577308Z",
     "iopub.status.idle": "2022-11-23T13:34:09.583139Z",
     "shell.execute_reply": "2022-11-23T13:34:09.582282Z"
    },
    "papermill": {
     "duration": 0.042126,
     "end_time": "2022-11-23T13:34:09.585677",
     "exception": false,
     "start_time": "2022-11-23T13:34:09.543551",
     "status": "completed"
    },
    "tags": []
   },
   "outputs": [
    {
     "data": {
      "text/plain": [
       "0.8440779610194903"
      ]
     },
     "execution_count": 55,
     "metadata": {},
     "output_type": "execute_result"
    }
   ],
   "source": [
    "test_acc"
   ]
  },
  {
   "cell_type": "markdown",
   "id": "b6db5aba",
   "metadata": {
    "papermill": {
     "duration": 0.032357,
     "end_time": "2022-11-23T13:34:09.649680",
     "exception": false,
     "start_time": "2022-11-23T13:34:09.617323",
     "status": "completed"
    },
    "tags": []
   },
   "source": [
    "<h3> 3. Random Forest </h3>\n"
   ]
  },
  {
   "cell_type": "code",
   "execution_count": 56,
   "id": "a8334a60",
   "metadata": {
    "execution": {
     "iopub.execute_input": "2022-11-23T13:34:09.717394Z",
     "iopub.status.busy": "2022-11-23T13:34:09.716103Z",
     "iopub.status.idle": "2022-11-23T13:34:20.931684Z",
     "shell.execute_reply": "2022-11-23T13:34:20.930319Z"
    },
    "papermill": {
     "duration": 11.252657,
     "end_time": "2022-11-23T13:34:20.934806",
     "exception": false,
     "start_time": "2022-11-23T13:34:09.682149",
     "status": "completed"
    },
    "tags": []
   },
   "outputs": [],
   "source": [
    "from sklearn.ensemble import RandomForestClassifier\n",
    "clf = RandomForestClassifier(n_estimators=800,max_depth=2, random_state=0)\n",
    "yp = cross_val_predict(clf, X, y, cv=5)\n",
    "train_acc = sum(yp==y)/len(y) #Training Accuacy\n",
    "\n",
    "clf.fit(X, y) # Train Model\n",
    "yp = clf.predict(Xt) # Test Model\n",
    "test_acc = sum(yp == yt)/len(yt) # Test Accuracy"
   ]
  },
  {
   "cell_type": "code",
   "execution_count": 57,
   "id": "f13e5dbf",
   "metadata": {
    "execution": {
     "iopub.execute_input": "2022-11-23T13:34:21.001025Z",
     "iopub.status.busy": "2022-11-23T13:34:21.000549Z",
     "iopub.status.idle": "2022-11-23T13:34:21.007549Z",
     "shell.execute_reply": "2022-11-23T13:34:21.006347Z"
    },
    "papermill": {
     "duration": 0.042567,
     "end_time": "2022-11-23T13:34:21.009945",
     "exception": false,
     "start_time": "2022-11-23T13:34:20.967378",
     "status": "completed"
    },
    "tags": []
   },
   "outputs": [
    {
     "data": {
      "text/plain": [
       "0.8525881470367592"
      ]
     },
     "execution_count": 57,
     "metadata": {},
     "output_type": "execute_result"
    }
   ],
   "source": [
    "train_acc"
   ]
  },
  {
   "cell_type": "code",
   "execution_count": 58,
   "id": "864a1f27",
   "metadata": {
    "execution": {
     "iopub.execute_input": "2022-11-23T13:34:21.074160Z",
     "iopub.status.busy": "2022-11-23T13:34:21.073674Z",
     "iopub.status.idle": "2022-11-23T13:34:21.080967Z",
     "shell.execute_reply": "2022-11-23T13:34:21.079822Z"
    },
    "papermill": {
     "duration": 0.042312,
     "end_time": "2022-11-23T13:34:21.083363",
     "exception": false,
     "start_time": "2022-11-23T13:34:21.041051",
     "status": "completed"
    },
    "tags": []
   },
   "outputs": [
    {
     "data": {
      "text/plain": [
       "0.8755622188905547"
      ]
     },
     "execution_count": 58,
     "metadata": {},
     "output_type": "execute_result"
    }
   ],
   "source": [
    "test_acc"
   ]
  },
  {
   "cell_type": "markdown",
   "id": "7f5de600",
   "metadata": {
    "papermill": {
     "duration": 0.030764,
     "end_time": "2022-11-23T13:34:21.144915",
     "exception": false,
     "start_time": "2022-11-23T13:34:21.114151",
     "status": "completed"
    },
    "tags": []
   },
   "source": [
    "<h1> XGB Model </h1>"
   ]
  },
  {
   "cell_type": "code",
   "execution_count": 59,
   "id": "77b88884",
   "metadata": {
    "execution": {
     "iopub.execute_input": "2022-11-23T13:34:21.210679Z",
     "iopub.status.busy": "2022-11-23T13:34:21.209827Z",
     "iopub.status.idle": "2022-11-23T13:34:37.796221Z",
     "shell.execute_reply": "2022-11-23T13:34:37.795223Z"
    },
    "papermill": {
     "duration": 16.623807,
     "end_time": "2022-11-23T13:34:37.799557",
     "exception": false,
     "start_time": "2022-11-23T13:34:21.175750",
     "status": "completed"
    },
    "tags": []
   },
   "outputs": [],
   "source": [
    "from xgboost import XGBClassifier\n",
    "clf = XGBClassifier(n_estimators=500, learning_rate=0.01) \n",
    "yp = cross_val_predict(clf, X, y, cv=5)\n",
    "train_acc = sum(yp==y)/len(y) #Training Accuacy\n",
    "\n",
    "clf.fit(X, y) # Train Model\n",
    "yp = clf.predict(Xt) # Test Model\n",
    "test_acc = sum(yp == yt)/len(yt) # Test Accuracy"
   ]
  },
  {
   "cell_type": "code",
   "execution_count": 60,
   "id": "26dec947",
   "metadata": {
    "execution": {
     "iopub.execute_input": "2022-11-23T13:34:37.866628Z",
     "iopub.status.busy": "2022-11-23T13:34:37.865796Z",
     "iopub.status.idle": "2022-11-23T13:34:37.871907Z",
     "shell.execute_reply": "2022-11-23T13:34:37.871144Z"
    },
    "papermill": {
     "duration": 0.04084,
     "end_time": "2022-11-23T13:34:37.874077",
     "exception": false,
     "start_time": "2022-11-23T13:34:37.833237",
     "status": "completed"
    },
    "tags": []
   },
   "outputs": [
    {
     "data": {
      "text/plain": [
       "0.9317329332333083"
      ]
     },
     "execution_count": 60,
     "metadata": {},
     "output_type": "execute_result"
    }
   ],
   "source": [
    "train_acc"
   ]
  },
  {
   "cell_type": "code",
   "execution_count": 61,
   "id": "33e018fb",
   "metadata": {
    "execution": {
     "iopub.execute_input": "2022-11-23T13:34:37.939849Z",
     "iopub.status.busy": "2022-11-23T13:34:37.939132Z",
     "iopub.status.idle": "2022-11-23T13:34:37.944868Z",
     "shell.execute_reply": "2022-11-23T13:34:37.943864Z"
    },
    "papermill": {
     "duration": 0.041786,
     "end_time": "2022-11-23T13:34:37.947172",
     "exception": false,
     "start_time": "2022-11-23T13:34:37.905386",
     "status": "completed"
    },
    "tags": []
   },
   "outputs": [
    {
     "data": {
      "text/plain": [
       "0.9415292353823088"
      ]
     },
     "execution_count": 61,
     "metadata": {},
     "output_type": "execute_result"
    }
   ],
   "source": [
    "test_acc"
   ]
  },
  {
   "cell_type": "markdown",
   "id": "b973b99e",
   "metadata": {
    "papermill": {
     "duration": 0.031956,
     "end_time": "2022-11-23T13:34:38.010901",
     "exception": false,
     "start_time": "2022-11-23T13:34:37.978945",
     "status": "completed"
    },
    "tags": []
   },
   "source": [
    "<h1> LGBM Model </h1>"
   ]
  },
  {
   "cell_type": "code",
   "execution_count": 62,
   "id": "eb339653",
   "metadata": {
    "execution": {
     "iopub.execute_input": "2022-11-23T13:34:38.079830Z",
     "iopub.status.busy": "2022-11-23T13:34:38.079044Z",
     "iopub.status.idle": "2022-11-23T13:34:41.995486Z",
     "shell.execute_reply": "2022-11-23T13:34:41.994393Z"
    },
    "papermill": {
     "duration": 3.954222,
     "end_time": "2022-11-23T13:34:41.998594",
     "exception": false,
     "start_time": "2022-11-23T13:34:38.044372",
     "status": "completed"
    },
    "tags": []
   },
   "outputs": [],
   "source": [
    "from lightgbm import LGBMClassifier\n",
    "clf = LGBMClassifier(n_estimators=500, learning_rate=0.01)\n",
    "yp = cross_val_predict(clf, X, y, cv=5)\n",
    "train_acc = sum(yp==y)/len(y) #Training Accuacy\n",
    "\n",
    "clf.fit(X, y) # Train Model\n",
    "yp = clf.predict(Xt) # Test Model\n",
    "test_acc = sum(yp == yt)/len(yt) # Test Accuracy"
   ]
  },
  {
   "cell_type": "code",
   "execution_count": 63,
   "id": "f4a3fa77",
   "metadata": {
    "execution": {
     "iopub.execute_input": "2022-11-23T13:34:42.067623Z",
     "iopub.status.busy": "2022-11-23T13:34:42.067190Z",
     "iopub.status.idle": "2022-11-23T13:34:42.075067Z",
     "shell.execute_reply": "2022-11-23T13:34:42.073558Z"
    },
    "papermill": {
     "duration": 0.045976,
     "end_time": "2022-11-23T13:34:42.077713",
     "exception": false,
     "start_time": "2022-11-23T13:34:42.031737",
     "status": "completed"
    },
    "tags": []
   },
   "outputs": [
    {
     "data": {
      "text/plain": [
       "0.932483120780195"
      ]
     },
     "execution_count": 63,
     "metadata": {},
     "output_type": "execute_result"
    }
   ],
   "source": [
    "train_acc"
   ]
  },
  {
   "cell_type": "code",
   "execution_count": 64,
   "id": "910eb7ea",
   "metadata": {
    "execution": {
     "iopub.execute_input": "2022-11-23T13:34:42.144442Z",
     "iopub.status.busy": "2022-11-23T13:34:42.143055Z",
     "iopub.status.idle": "2022-11-23T13:34:42.149851Z",
     "shell.execute_reply": "2022-11-23T13:34:42.148962Z"
    },
    "papermill": {
     "duration": 0.042617,
     "end_time": "2022-11-23T13:34:42.152375",
     "exception": false,
     "start_time": "2022-11-23T13:34:42.109758",
     "status": "completed"
    },
    "tags": []
   },
   "outputs": [
    {
     "data": {
      "text/plain": [
       "0.9430284857571214"
      ]
     },
     "execution_count": 64,
     "metadata": {},
     "output_type": "execute_result"
    }
   ],
   "source": [
    "test_acc"
   ]
  },
  {
   "cell_type": "markdown",
   "id": "53be45ee",
   "metadata": {
    "papermill": {
     "duration": 0.031331,
     "end_time": "2022-11-23T13:34:42.215399",
     "exception": false,
     "start_time": "2022-11-23T13:34:42.184068",
     "status": "completed"
    },
    "tags": []
   },
   "source": [
    "<h3> lightgbm </h3>"
   ]
  },
  {
   "cell_type": "code",
   "execution_count": 65,
   "id": "b1820cbf",
   "metadata": {
    "execution": {
     "iopub.execute_input": "2022-11-23T13:34:42.281202Z",
     "iopub.status.busy": "2022-11-23T13:34:42.280396Z",
     "iopub.status.idle": "2022-11-23T13:34:50.045504Z",
     "shell.execute_reply": "2022-11-23T13:34:50.044294Z"
    },
    "papermill": {
     "duration": 7.80144,
     "end_time": "2022-11-23T13:34:50.048750",
     "exception": false,
     "start_time": "2022-11-23T13:34:42.247310",
     "status": "completed"
    },
    "tags": []
   },
   "outputs": [],
   "source": [
    "from lightgbm import LGBMClassifier\n",
    "clf = LGBMClassifier(n_estimators=800, learning_rate=0.01)\n",
    "yp = cross_val_predict(clf, X, y, cv=5)\n",
    "train_acc = sum(yp==y)/len(y) #Training Accuacy\n",
    "\n",
    "clf.fit(X, y) # Train Model\n",
    "yp = clf.predict(Xt) # Test Model\n",
    "test_acc = sum(yp == yt)/len(yt) # Test Accuracy"
   ]
  },
  {
   "cell_type": "code",
   "execution_count": 66,
   "id": "e0b0b974",
   "metadata": {
    "execution": {
     "iopub.execute_input": "2022-11-23T13:34:50.124203Z",
     "iopub.status.busy": "2022-11-23T13:34:50.123750Z",
     "iopub.status.idle": "2022-11-23T13:34:50.130900Z",
     "shell.execute_reply": "2022-11-23T13:34:50.129648Z"
    },
    "papermill": {
     "duration": 0.04774,
     "end_time": "2022-11-23T13:34:50.134010",
     "exception": false,
     "start_time": "2022-11-23T13:34:50.086270",
     "status": "completed"
    },
    "tags": []
   },
   "outputs": [
    {
     "data": {
      "text/plain": [
       "0.931357839459865"
      ]
     },
     "execution_count": 66,
     "metadata": {},
     "output_type": "execute_result"
    }
   ],
   "source": [
    "train_acc"
   ]
  },
  {
   "cell_type": "code",
   "execution_count": 67,
   "id": "0945a94f",
   "metadata": {
    "execution": {
     "iopub.execute_input": "2022-11-23T13:34:50.205192Z",
     "iopub.status.busy": "2022-11-23T13:34:50.204618Z",
     "iopub.status.idle": "2022-11-23T13:34:50.212838Z",
     "shell.execute_reply": "2022-11-23T13:34:50.211481Z"
    },
    "papermill": {
     "duration": 0.04667,
     "end_time": "2022-11-23T13:34:50.215576",
     "exception": false,
     "start_time": "2022-11-23T13:34:50.168906",
     "status": "completed"
    },
    "tags": []
   },
   "outputs": [
    {
     "data": {
      "text/plain": [
       "0.9415292353823088"
      ]
     },
     "execution_count": 67,
     "metadata": {},
     "output_type": "execute_result"
    }
   ],
   "source": [
    "test_acc"
   ]
  },
  {
   "cell_type": "markdown",
   "id": "b34b6ecb",
   "metadata": {
    "papermill": {
     "duration": 0.032964,
     "end_time": "2022-11-23T13:34:50.282251",
     "exception": false,
     "start_time": "2022-11-23T13:34:50.249287",
     "status": "completed"
    },
    "tags": []
   },
   "source": [
    "<h3> KNeighbors </h3>"
   ]
  },
  {
   "cell_type": "code",
   "execution_count": 68,
   "id": "ed83562a",
   "metadata": {
    "execution": {
     "iopub.execute_input": "2022-11-23T13:34:50.348233Z",
     "iopub.status.busy": "2022-11-23T13:34:50.347738Z",
     "iopub.status.idle": "2022-11-23T13:34:51.256581Z",
     "shell.execute_reply": "2022-11-23T13:34:51.255398Z"
    },
    "papermill": {
     "duration": 0.945394,
     "end_time": "2022-11-23T13:34:51.259440",
     "exception": false,
     "start_time": "2022-11-23T13:34:50.314046",
     "status": "completed"
    },
    "tags": []
   },
   "outputs": [],
   "source": [
    "from sklearn.neighbors import KNeighborsClassifier\n",
    "clf = KNeighborsClassifier(n_neighbors=800)\n",
    "yp = cross_val_predict(clf, X, y, cv=5)\n",
    "train_acc = sum(yp==y)/len(y) #Training Accuacy\n",
    "\n",
    "clf.fit(X, y) # Train Model\n",
    "yp = clf.predict(Xt) # Test Model\n",
    "test_acc = sum(yp == yt)/len(yt) # Test Accuracy"
   ]
  },
  {
   "cell_type": "code",
   "execution_count": 69,
   "id": "5379613c",
   "metadata": {
    "execution": {
     "iopub.execute_input": "2022-11-23T13:34:51.329035Z",
     "iopub.status.busy": "2022-11-23T13:34:51.327902Z",
     "iopub.status.idle": "2022-11-23T13:34:51.336412Z",
     "shell.execute_reply": "2022-11-23T13:34:51.335084Z"
    },
    "papermill": {
     "duration": 0.046237,
     "end_time": "2022-11-23T13:34:51.338875",
     "exception": false,
     "start_time": "2022-11-23T13:34:51.292638",
     "status": "completed"
    },
    "tags": []
   },
   "outputs": [
    {
     "data": {
      "text/plain": [
       "0.8518379594898725"
      ]
     },
     "execution_count": 69,
     "metadata": {},
     "output_type": "execute_result"
    }
   ],
   "source": [
    "train_acc"
   ]
  },
  {
   "cell_type": "code",
   "execution_count": 70,
   "id": "c6498e8f",
   "metadata": {
    "execution": {
     "iopub.execute_input": "2022-11-23T13:34:51.407190Z",
     "iopub.status.busy": "2022-11-23T13:34:51.405800Z",
     "iopub.status.idle": "2022-11-23T13:34:51.413767Z",
     "shell.execute_reply": "2022-11-23T13:34:51.412702Z"
    },
    "papermill": {
     "duration": 0.044102,
     "end_time": "2022-11-23T13:34:51.416114",
     "exception": false,
     "start_time": "2022-11-23T13:34:51.372012",
     "status": "completed"
    },
    "tags": []
   },
   "outputs": [
    {
     "data": {
      "text/plain": [
       "0.8680659670164917"
      ]
     },
     "execution_count": 70,
     "metadata": {},
     "output_type": "execute_result"
    }
   ],
   "source": [
    "test_acc"
   ]
  },
  {
   "cell_type": "markdown",
   "id": "acc7ca6e",
   "metadata": {
    "papermill": {
     "duration": 0.031622,
     "end_time": "2022-11-23T13:34:51.479534",
     "exception": false,
     "start_time": "2022-11-23T13:34:51.447912",
     "status": "completed"
    },
    "tags": []
   },
   "source": [
    "<h3> DecisionTree </h3>"
   ]
  },
  {
   "cell_type": "code",
   "execution_count": 71,
   "id": "7df6c251",
   "metadata": {
    "execution": {
     "iopub.execute_input": "2022-11-23T13:34:51.545248Z",
     "iopub.status.busy": "2022-11-23T13:34:51.544815Z",
     "iopub.status.idle": "2022-11-23T13:34:51.664676Z",
     "shell.execute_reply": "2022-11-23T13:34:51.663465Z"
    },
    "papermill": {
     "duration": 0.156399,
     "end_time": "2022-11-23T13:34:51.667729",
     "exception": false,
     "start_time": "2022-11-23T13:34:51.511330",
     "status": "completed"
    },
    "tags": []
   },
   "outputs": [],
   "source": [
    "from sklearn.tree import DecisionTreeClassifier\n",
    "clf = DecisionTreeClassifier(random_state=0)\n",
    "yp = cross_val_predict(clf, X, y, cv=5)\n",
    "train_acc = sum(yp==y)/len(y) #Training Accuacy\n",
    "\n",
    "clf.fit(X, y) # Train Model\n",
    "yp = clf.predict(Xt) # Test Model\n",
    "test_acc = sum(yp == yt)/len(yt) # Test Accuracy"
   ]
  },
  {
   "cell_type": "code",
   "execution_count": 72,
   "id": "f61b5134",
   "metadata": {
    "execution": {
     "iopub.execute_input": "2022-11-23T13:34:51.736801Z",
     "iopub.status.busy": "2022-11-23T13:34:51.736326Z",
     "iopub.status.idle": "2022-11-23T13:34:51.744208Z",
     "shell.execute_reply": "2022-11-23T13:34:51.742894Z"
    },
    "papermill": {
     "duration": 0.045327,
     "end_time": "2022-11-23T13:34:51.746435",
     "exception": false,
     "start_time": "2022-11-23T13:34:51.701108",
     "status": "completed"
    },
    "tags": []
   },
   "outputs": [
    {
     "data": {
      "text/plain": [
       "0.8893473368342085"
      ]
     },
     "execution_count": 72,
     "metadata": {},
     "output_type": "execute_result"
    }
   ],
   "source": [
    "train_acc"
   ]
  },
  {
   "cell_type": "code",
   "execution_count": 73,
   "id": "80b39bbf",
   "metadata": {
    "execution": {
     "iopub.execute_input": "2022-11-23T13:34:51.814493Z",
     "iopub.status.busy": "2022-11-23T13:34:51.814031Z",
     "iopub.status.idle": "2022-11-23T13:34:51.820493Z",
     "shell.execute_reply": "2022-11-23T13:34:51.819653Z"
    },
    "papermill": {
     "duration": 0.04445,
     "end_time": "2022-11-23T13:34:51.823015",
     "exception": false,
     "start_time": "2022-11-23T13:34:51.778565",
     "status": "completed"
    },
    "tags": []
   },
   "outputs": [
    {
     "data": {
      "text/plain": [
       "0.8845577211394303"
      ]
     },
     "execution_count": 73,
     "metadata": {},
     "output_type": "execute_result"
    }
   ],
   "source": [
    "test_acc"
   ]
  },
  {
   "cell_type": "markdown",
   "id": "c89744af",
   "metadata": {
    "papermill": {
     "duration": 0.032407,
     "end_time": "2022-11-23T13:34:51.888885",
     "exception": false,
     "start_time": "2022-11-23T13:34:51.856478",
     "status": "completed"
    },
    "tags": []
   },
   "source": [
    "<h3> LogisticRegression </h3>"
   ]
  },
  {
   "cell_type": "code",
   "execution_count": 74,
   "id": "88f6e5e6",
   "metadata": {
    "execution": {
     "iopub.execute_input": "2022-11-23T13:34:51.955405Z",
     "iopub.status.busy": "2022-11-23T13:34:51.954951Z",
     "iopub.status.idle": "2022-11-23T13:34:52.306795Z",
     "shell.execute_reply": "2022-11-23T13:34:52.304885Z"
    },
    "papermill": {
     "duration": 0.390491,
     "end_time": "2022-11-23T13:34:52.311845",
     "exception": false,
     "start_time": "2022-11-23T13:34:51.921354",
     "status": "completed"
    },
    "tags": []
   },
   "outputs": [],
   "source": [
    "from sklearn.linear_model import LogisticRegression\n",
    "clf = LogisticRegression(C=100,random_state=0)\n",
    "yp = cross_val_predict(clf, X, y, cv=5)\n",
    "train_acc = sum(yp==y)/len(y) #Training Accuacy\n",
    "\n",
    "clf.fit(X, y) # Train Model\n",
    "yp = clf.predict(Xt) # Test Model\n",
    "test_acc = sum(yp == yt)/len(yt) # Test Accuracy"
   ]
  },
  {
   "cell_type": "code",
   "execution_count": 75,
   "id": "01b4f08d",
   "metadata": {
    "execution": {
     "iopub.execute_input": "2022-11-23T13:34:52.446588Z",
     "iopub.status.busy": "2022-11-23T13:34:52.445926Z",
     "iopub.status.idle": "2022-11-23T13:34:52.453577Z",
     "shell.execute_reply": "2022-11-23T13:34:52.452719Z"
    },
    "papermill": {
     "duration": 0.060347,
     "end_time": "2022-11-23T13:34:52.455844",
     "exception": false,
     "start_time": "2022-11-23T13:34:52.395497",
     "status": "completed"
    },
    "tags": []
   },
   "outputs": [
    {
     "data": {
      "text/plain": [
       "0.8563390847711928"
      ]
     },
     "execution_count": 75,
     "metadata": {},
     "output_type": "execute_result"
    }
   ],
   "source": [
    "train_acc"
   ]
  },
  {
   "cell_type": "code",
   "execution_count": 76,
   "id": "796ae8e4",
   "metadata": {
    "execution": {
     "iopub.execute_input": "2022-11-23T13:34:52.530201Z",
     "iopub.status.busy": "2022-11-23T13:34:52.529326Z",
     "iopub.status.idle": "2022-11-23T13:34:52.537082Z",
     "shell.execute_reply": "2022-11-23T13:34:52.535782Z"
    },
    "papermill": {
     "duration": 0.04659,
     "end_time": "2022-11-23T13:34:52.539482",
     "exception": false,
     "start_time": "2022-11-23T13:34:52.492892",
     "status": "completed"
    },
    "tags": []
   },
   "outputs": [
    {
     "data": {
      "text/plain": [
       "0.8725637181409296"
      ]
     },
     "execution_count": 76,
     "metadata": {},
     "output_type": "execute_result"
    }
   ],
   "source": [
    "test_acc"
   ]
  },
  {
   "cell_type": "markdown",
   "id": "ec3124d8",
   "metadata": {
    "papermill": {
     "duration": 0.033043,
     "end_time": "2022-11-23T13:34:52.605832",
     "exception": false,
     "start_time": "2022-11-23T13:34:52.572789",
     "status": "completed"
    },
    "tags": []
   },
   "source": [
    "<h3> ExtraTrees </h3>"
   ]
  },
  {
   "cell_type": "code",
   "execution_count": 77,
   "id": "c8cdd8d6",
   "metadata": {
    "execution": {
     "iopub.execute_input": "2022-11-23T13:34:52.675154Z",
     "iopub.status.busy": "2022-11-23T13:34:52.674707Z",
     "iopub.status.idle": "2022-11-23T13:35:06.301016Z",
     "shell.execute_reply": "2022-11-23T13:35:06.299667Z"
    },
    "papermill": {
     "duration": 13.664643,
     "end_time": "2022-11-23T13:35:06.304103",
     "exception": false,
     "start_time": "2022-11-23T13:34:52.639460",
     "status": "completed"
    },
    "tags": []
   },
   "outputs": [],
   "source": [
    "from sklearn.ensemble import ExtraTreesClassifier\n",
    "clf = ExtraTreesClassifier(n_estimators=800, random_state=0)\n",
    "yp = cross_val_predict(clf, X, y, cv=5)\n",
    "train_acc = sum(yp==y)/len(y) #Training Accuacy\n",
    "\n",
    "clf.fit(X, y) # Train Model\n",
    "yp = clf.predict(Xt) # Test Model\n",
    "test_acc = sum(yp == yt)/len(yt) # Test Accuracy"
   ]
  },
  {
   "cell_type": "code",
   "execution_count": 78,
   "id": "e36df147",
   "metadata": {
    "execution": {
     "iopub.execute_input": "2022-11-23T13:35:06.372237Z",
     "iopub.status.busy": "2022-11-23T13:35:06.370814Z",
     "iopub.status.idle": "2022-11-23T13:35:06.378460Z",
     "shell.execute_reply": "2022-11-23T13:35:06.377532Z"
    },
    "papermill": {
     "duration": 0.044042,
     "end_time": "2022-11-23T13:35:06.380803",
     "exception": false,
     "start_time": "2022-11-23T13:35:06.336761",
     "status": "completed"
    },
    "tags": []
   },
   "outputs": [
    {
     "data": {
      "text/plain": [
       "0.9306076519129782"
      ]
     },
     "execution_count": 78,
     "metadata": {},
     "output_type": "execute_result"
    }
   ],
   "source": [
    "train_acc"
   ]
  },
  {
   "cell_type": "code",
   "execution_count": 79,
   "id": "5e128b8d",
   "metadata": {
    "execution": {
     "iopub.execute_input": "2022-11-23T13:35:06.449713Z",
     "iopub.status.busy": "2022-11-23T13:35:06.449258Z",
     "iopub.status.idle": "2022-11-23T13:35:06.456211Z",
     "shell.execute_reply": "2022-11-23T13:35:06.455123Z"
    },
    "papermill": {
     "duration": 0.044242,
     "end_time": "2022-11-23T13:35:06.458607",
     "exception": false,
     "start_time": "2022-11-23T13:35:06.414365",
     "status": "completed"
    },
    "tags": []
   },
   "outputs": [
    {
     "data": {
      "text/plain": [
       "0.9295352323838081"
      ]
     },
     "execution_count": 79,
     "metadata": {},
     "output_type": "execute_result"
    }
   ],
   "source": [
    "test_acc"
   ]
  }
 ],
 "metadata": {
  "kernelspec": {
   "display_name": "Python 3",
   "language": "python",
   "name": "python3"
  },
  "language_info": {
   "codemirror_mode": {
    "name": "ipython",
    "version": 3
   },
   "file_extension": ".py",
   "mimetype": "text/x-python",
   "name": "python",
   "nbconvert_exporter": "python",
   "pygments_lexer": "ipython3",
   "version": "3.7.12"
  },
  "papermill": {
   "default_parameters": {},
   "duration": 251.273399,
   "end_time": "2022-11-23T13:35:07.517133",
   "environment_variables": {},
   "exception": null,
   "input_path": "__notebook__.ipynb",
   "output_path": "__notebook__.ipynb",
   "parameters": {},
   "start_time": "2022-11-23T13:30:56.243734",
   "version": "2.3.4"
  }
 },
 "nbformat": 4,
 "nbformat_minor": 5
}
