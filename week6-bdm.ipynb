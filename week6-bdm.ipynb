{
 "cells": [
  {
   "cell_type": "code",
   "execution_count": 1,
   "id": "23b461d5",
   "metadata": {
    "_cell_guid": "b1076dfc-b9ad-4769-8c92-a6c4dae69d19",
    "_uuid": "8f2839f25d086af736a60e9eeb907d3b93b6e0e5",
    "execution": {
     "iopub.execute_input": "2022-11-23T13:18:46.882270Z",
     "iopub.status.busy": "2022-11-23T13:18:46.881821Z",
     "iopub.status.idle": "2022-11-23T13:18:46.906744Z",
     "shell.execute_reply": "2022-11-23T13:18:46.905960Z"
    },
    "papermill": {
     "duration": 0.044959,
     "end_time": "2022-11-23T13:18:46.909445",
     "exception": false,
     "start_time": "2022-11-23T13:18:46.864486",
     "status": "completed"
    },
    "tags": []
   },
   "outputs": [
    {
     "name": "stdout",
     "output_type": "stream",
     "text": [
      "/kaggle/input/titanic/titanic.txt\n",
      "/kaggle/input/all-crypto-currencies/crypto-markets.csv\n"
     ]
    }
   ],
   "source": [
    "# This Python 3 environment comes with many helpful analytics libraries installed\n",
    "# It is defined by the kaggle/python Docker image: https://github.com/kaggle/docker-python\n",
    "# For example, here's several helpful packages to load\n",
    "\n",
    "import numpy as np # linear algebra\n",
    "import pandas as pd # data processing, CSV file I/O (e.g. pd.read_csv)\n",
    "\n",
    "# Input data files are available in the read-only \"../input/\" directory\n",
    "# For example, running this (by clicking run or pressing Shift+Enter) will list all files under the input directory\n",
    "\n",
    "import os\n",
    "for dirname, _, filenames in os.walk('/kaggle/input'):\n",
    "    for filename in filenames:\n",
    "        print(os.path.join(dirname, filename))\n",
    "\n",
    "# You can write up to 20GB to the current directory (/kaggle/working/) that gets preserved as output when you create a version using \"Save & Run All\" \n",
    "# You can also write temporary files to /kaggle/temp/, but they won't be saved outside of the current session"
   ]
  },
  {
   "cell_type": "markdown",
   "id": "3fc5fe3e",
   "metadata": {
    "papermill": {
     "duration": 0.012475,
     "end_time": "2022-11-23T13:18:46.935236",
     "exception": false,
     "start_time": "2022-11-23T13:18:46.922761",
     "status": "completed"
    },
    "tags": []
   },
   "source": [
    "<h1> Run Case Study (Crypto Currency)  </h1>"
   ]
  },
  {
   "cell_type": "markdown",
   "id": "d9d50793",
   "metadata": {
    "papermill": {
     "duration": 0.013758,
     "end_time": "2022-11-23T13:18:46.962794",
     "exception": false,
     "start_time": "2022-11-23T13:18:46.949036",
     "status": "completed"
    },
    "tags": []
   },
   "source": [
    "<h2> 1. Data Profilling </h2>"
   ]
  },
  {
   "cell_type": "code",
   "execution_count": 2,
   "id": "7918095d",
   "metadata": {
    "execution": {
     "iopub.execute_input": "2022-11-23T13:18:46.990705Z",
     "iopub.status.busy": "2022-11-23T13:18:46.990381Z",
     "iopub.status.idle": "2022-11-23T13:18:49.210841Z",
     "shell.execute_reply": "2022-11-23T13:18:49.209355Z"
    },
    "papermill": {
     "duration": 2.237717,
     "end_time": "2022-11-23T13:18:49.213704",
     "exception": false,
     "start_time": "2022-11-23T13:18:46.975987",
     "status": "completed"
    },
    "tags": []
   },
   "outputs": [
    {
     "data": {
      "text/html": [
       "<div>\n",
       "<style scoped>\n",
       "    .dataframe tbody tr th:only-of-type {\n",
       "        vertical-align: middle;\n",
       "    }\n",
       "\n",
       "    .dataframe tbody tr th {\n",
       "        vertical-align: top;\n",
       "    }\n",
       "\n",
       "    .dataframe thead th {\n",
       "        text-align: right;\n",
       "    }\n",
       "</style>\n",
       "<table border=\"1\" class=\"dataframe\">\n",
       "  <thead>\n",
       "    <tr style=\"text-align: right;\">\n",
       "      <th></th>\n",
       "      <th>slug</th>\n",
       "      <th>symbol</th>\n",
       "      <th>name</th>\n",
       "      <th>date</th>\n",
       "      <th>ranknow</th>\n",
       "      <th>open</th>\n",
       "      <th>high</th>\n",
       "      <th>low</th>\n",
       "      <th>close</th>\n",
       "      <th>volume</th>\n",
       "      <th>market</th>\n",
       "      <th>close_ratio</th>\n",
       "      <th>spread</th>\n",
       "    </tr>\n",
       "  </thead>\n",
       "  <tbody>\n",
       "    <tr>\n",
       "      <th>0</th>\n",
       "      <td>bitcoin</td>\n",
       "      <td>BTC</td>\n",
       "      <td>Bitcoin</td>\n",
       "      <td>2013-04-28</td>\n",
       "      <td>1</td>\n",
       "      <td>135.30</td>\n",
       "      <td>135.98</td>\n",
       "      <td>132.10</td>\n",
       "      <td>134.21</td>\n",
       "      <td>0.0</td>\n",
       "      <td>1.488567e+09</td>\n",
       "      <td>0.5438</td>\n",
       "      <td>3.88</td>\n",
       "    </tr>\n",
       "    <tr>\n",
       "      <th>1</th>\n",
       "      <td>bitcoin</td>\n",
       "      <td>BTC</td>\n",
       "      <td>Bitcoin</td>\n",
       "      <td>2013-04-29</td>\n",
       "      <td>1</td>\n",
       "      <td>134.44</td>\n",
       "      <td>147.49</td>\n",
       "      <td>134.00</td>\n",
       "      <td>144.54</td>\n",
       "      <td>0.0</td>\n",
       "      <td>1.603769e+09</td>\n",
       "      <td>0.7813</td>\n",
       "      <td>13.49</td>\n",
       "    </tr>\n",
       "    <tr>\n",
       "      <th>2</th>\n",
       "      <td>bitcoin</td>\n",
       "      <td>BTC</td>\n",
       "      <td>Bitcoin</td>\n",
       "      <td>2013-04-30</td>\n",
       "      <td>1</td>\n",
       "      <td>144.00</td>\n",
       "      <td>146.93</td>\n",
       "      <td>134.05</td>\n",
       "      <td>139.00</td>\n",
       "      <td>0.0</td>\n",
       "      <td>1.542813e+09</td>\n",
       "      <td>0.3843</td>\n",
       "      <td>12.88</td>\n",
       "    </tr>\n",
       "    <tr>\n",
       "      <th>3</th>\n",
       "      <td>bitcoin</td>\n",
       "      <td>BTC</td>\n",
       "      <td>Bitcoin</td>\n",
       "      <td>2013-05-01</td>\n",
       "      <td>1</td>\n",
       "      <td>139.00</td>\n",
       "      <td>139.89</td>\n",
       "      <td>107.72</td>\n",
       "      <td>116.99</td>\n",
       "      <td>0.0</td>\n",
       "      <td>1.298955e+09</td>\n",
       "      <td>0.2882</td>\n",
       "      <td>32.17</td>\n",
       "    </tr>\n",
       "    <tr>\n",
       "      <th>4</th>\n",
       "      <td>bitcoin</td>\n",
       "      <td>BTC</td>\n",
       "      <td>Bitcoin</td>\n",
       "      <td>2013-05-02</td>\n",
       "      <td>1</td>\n",
       "      <td>116.38</td>\n",
       "      <td>125.60</td>\n",
       "      <td>92.28</td>\n",
       "      <td>105.21</td>\n",
       "      <td>0.0</td>\n",
       "      <td>1.168517e+09</td>\n",
       "      <td>0.3881</td>\n",
       "      <td>33.32</td>\n",
       "    </tr>\n",
       "    <tr>\n",
       "      <th>...</th>\n",
       "      <td>...</td>\n",
       "      <td>...</td>\n",
       "      <td>...</td>\n",
       "      <td>...</td>\n",
       "      <td>...</td>\n",
       "      <td>...</td>\n",
       "      <td>...</td>\n",
       "      <td>...</td>\n",
       "      <td>...</td>\n",
       "      <td>...</td>\n",
       "      <td>...</td>\n",
       "      <td>...</td>\n",
       "      <td>...</td>\n",
       "    </tr>\n",
       "    <tr>\n",
       "      <th>942292</th>\n",
       "      <td>project-x</td>\n",
       "      <td>NANOX</td>\n",
       "      <td>Project-X</td>\n",
       "      <td>2018-11-26</td>\n",
       "      <td>1727</td>\n",
       "      <td>22424.60</td>\n",
       "      <td>23049.30</td>\n",
       "      <td>17607.50</td>\n",
       "      <td>20724.80</td>\n",
       "      <td>143.0</td>\n",
       "      <td>1.622000e+03</td>\n",
       "      <td>0.5728</td>\n",
       "      <td>5441.80</td>\n",
       "    </tr>\n",
       "    <tr>\n",
       "      <th>942293</th>\n",
       "      <td>project-x</td>\n",
       "      <td>NANOX</td>\n",
       "      <td>Project-X</td>\n",
       "      <td>2018-11-27</td>\n",
       "      <td>1727</td>\n",
       "      <td>20711.90</td>\n",
       "      <td>23742.10</td>\n",
       "      <td>19292.90</td>\n",
       "      <td>23298.70</td>\n",
       "      <td>637.0</td>\n",
       "      <td>1.823000e+03</td>\n",
       "      <td>0.9003</td>\n",
       "      <td>4449.20</td>\n",
       "    </tr>\n",
       "    <tr>\n",
       "      <th>942294</th>\n",
       "      <td>project-x</td>\n",
       "      <td>NANOX</td>\n",
       "      <td>Project-X</td>\n",
       "      <td>2018-11-28</td>\n",
       "      <td>1727</td>\n",
       "      <td>23320.90</td>\n",
       "      <td>25235.10</td>\n",
       "      <td>19888.10</td>\n",
       "      <td>24442.70</td>\n",
       "      <td>49.0</td>\n",
       "      <td>1.913000e+03</td>\n",
       "      <td>0.8518</td>\n",
       "      <td>5347.00</td>\n",
       "    </tr>\n",
       "    <tr>\n",
       "      <th>942295</th>\n",
       "      <td>project-x</td>\n",
       "      <td>NANOX</td>\n",
       "      <td>Project-X</td>\n",
       "      <td>2018-11-29</td>\n",
       "      <td>1727</td>\n",
       "      <td>24543.53</td>\n",
       "      <td>24582.47</td>\n",
       "      <td>21457.95</td>\n",
       "      <td>22839.44</td>\n",
       "      <td>153.0</td>\n",
       "      <td>1.788000e+03</td>\n",
       "      <td>0.4421</td>\n",
       "      <td>3124.52</td>\n",
       "    </tr>\n",
       "    <tr>\n",
       "      <th>942296</th>\n",
       "      <td>project-x</td>\n",
       "      <td>NANOX</td>\n",
       "      <td>Project-X</td>\n",
       "      <td>2018-11-30</td>\n",
       "      <td>1727</td>\n",
       "      <td>22872.09</td>\n",
       "      <td>23086.98</td>\n",
       "      <td>19040.91</td>\n",
       "      <td>21136.72</td>\n",
       "      <td>125.0</td>\n",
       "      <td>1.654000e+03</td>\n",
       "      <td>0.5180</td>\n",
       "      <td>4046.07</td>\n",
       "    </tr>\n",
       "  </tbody>\n",
       "</table>\n",
       "<p>942297 rows × 13 columns</p>\n",
       "</div>"
      ],
      "text/plain": [
       "             slug symbol       name        date  ranknow      open      high  \\\n",
       "0         bitcoin    BTC    Bitcoin  2013-04-28        1    135.30    135.98   \n",
       "1         bitcoin    BTC    Bitcoin  2013-04-29        1    134.44    147.49   \n",
       "2         bitcoin    BTC    Bitcoin  2013-04-30        1    144.00    146.93   \n",
       "3         bitcoin    BTC    Bitcoin  2013-05-01        1    139.00    139.89   \n",
       "4         bitcoin    BTC    Bitcoin  2013-05-02        1    116.38    125.60   \n",
       "...           ...    ...        ...         ...      ...       ...       ...   \n",
       "942292  project-x  NANOX  Project-X  2018-11-26     1727  22424.60  23049.30   \n",
       "942293  project-x  NANOX  Project-X  2018-11-27     1727  20711.90  23742.10   \n",
       "942294  project-x  NANOX  Project-X  2018-11-28     1727  23320.90  25235.10   \n",
       "942295  project-x  NANOX  Project-X  2018-11-29     1727  24543.53  24582.47   \n",
       "942296  project-x  NANOX  Project-X  2018-11-30     1727  22872.09  23086.98   \n",
       "\n",
       "             low     close  volume        market  close_ratio   spread  \n",
       "0         132.10    134.21     0.0  1.488567e+09       0.5438     3.88  \n",
       "1         134.00    144.54     0.0  1.603769e+09       0.7813    13.49  \n",
       "2         134.05    139.00     0.0  1.542813e+09       0.3843    12.88  \n",
       "3         107.72    116.99     0.0  1.298955e+09       0.2882    32.17  \n",
       "4          92.28    105.21     0.0  1.168517e+09       0.3881    33.32  \n",
       "...          ...       ...     ...           ...          ...      ...  \n",
       "942292  17607.50  20724.80   143.0  1.622000e+03       0.5728  5441.80  \n",
       "942293  19292.90  23298.70   637.0  1.823000e+03       0.9003  4449.20  \n",
       "942294  19888.10  24442.70    49.0  1.913000e+03       0.8518  5347.00  \n",
       "942295  21457.95  22839.44   153.0  1.788000e+03       0.4421  3124.52  \n",
       "942296  19040.91  21136.72   125.0  1.654000e+03       0.5180  4046.07  \n",
       "\n",
       "[942297 rows x 13 columns]"
      ]
     },
     "execution_count": 2,
     "metadata": {},
     "output_type": "execute_result"
    }
   ],
   "source": [
    "import pandas as pd\n",
    "df = pd.read_csv('../input/all-crypto-currencies/crypto-markets.csv', delimiter=',', header=0)\n",
    "df"
   ]
  },
  {
   "cell_type": "code",
   "execution_count": 3,
   "id": "bc5a2bbb",
   "metadata": {
    "execution": {
     "iopub.execute_input": "2022-11-23T13:18:49.242324Z",
     "iopub.status.busy": "2022-11-23T13:18:49.241951Z",
     "iopub.status.idle": "2022-11-23T13:18:49.262036Z",
     "shell.execute_reply": "2022-11-23T13:18:49.260381Z"
    },
    "papermill": {
     "duration": 0.037247,
     "end_time": "2022-11-23T13:18:49.264739",
     "exception": false,
     "start_time": "2022-11-23T13:18:49.227492",
     "status": "completed"
    },
    "tags": []
   },
   "outputs": [
    {
     "data": {
      "text/html": [
       "<div>\n",
       "<style scoped>\n",
       "    .dataframe tbody tr th:only-of-type {\n",
       "        vertical-align: middle;\n",
       "    }\n",
       "\n",
       "    .dataframe tbody tr th {\n",
       "        vertical-align: top;\n",
       "    }\n",
       "\n",
       "    .dataframe thead th {\n",
       "        text-align: right;\n",
       "    }\n",
       "</style>\n",
       "<table border=\"1\" class=\"dataframe\">\n",
       "  <thead>\n",
       "    <tr style=\"text-align: right;\">\n",
       "      <th></th>\n",
       "      <th>slug</th>\n",
       "      <th>symbol</th>\n",
       "      <th>name</th>\n",
       "      <th>date</th>\n",
       "      <th>ranknow</th>\n",
       "      <th>open</th>\n",
       "      <th>high</th>\n",
       "      <th>low</th>\n",
       "      <th>close</th>\n",
       "      <th>volume</th>\n",
       "      <th>market</th>\n",
       "      <th>close_ratio</th>\n",
       "      <th>spread</th>\n",
       "    </tr>\n",
       "  </thead>\n",
       "  <tbody>\n",
       "    <tr>\n",
       "      <th>0</th>\n",
       "      <td>bitcoin</td>\n",
       "      <td>BTC</td>\n",
       "      <td>Bitcoin</td>\n",
       "      <td>2013-04-28</td>\n",
       "      <td>1</td>\n",
       "      <td>135.30</td>\n",
       "      <td>135.98</td>\n",
       "      <td>132.10</td>\n",
       "      <td>134.21</td>\n",
       "      <td>0.0</td>\n",
       "      <td>1.488567e+09</td>\n",
       "      <td>0.5438</td>\n",
       "      <td>3.88</td>\n",
       "    </tr>\n",
       "    <tr>\n",
       "      <th>1</th>\n",
       "      <td>bitcoin</td>\n",
       "      <td>BTC</td>\n",
       "      <td>Bitcoin</td>\n",
       "      <td>2013-04-29</td>\n",
       "      <td>1</td>\n",
       "      <td>134.44</td>\n",
       "      <td>147.49</td>\n",
       "      <td>134.00</td>\n",
       "      <td>144.54</td>\n",
       "      <td>0.0</td>\n",
       "      <td>1.603769e+09</td>\n",
       "      <td>0.7813</td>\n",
       "      <td>13.49</td>\n",
       "    </tr>\n",
       "    <tr>\n",
       "      <th>2</th>\n",
       "      <td>bitcoin</td>\n",
       "      <td>BTC</td>\n",
       "      <td>Bitcoin</td>\n",
       "      <td>2013-04-30</td>\n",
       "      <td>1</td>\n",
       "      <td>144.00</td>\n",
       "      <td>146.93</td>\n",
       "      <td>134.05</td>\n",
       "      <td>139.00</td>\n",
       "      <td>0.0</td>\n",
       "      <td>1.542813e+09</td>\n",
       "      <td>0.3843</td>\n",
       "      <td>12.88</td>\n",
       "    </tr>\n",
       "    <tr>\n",
       "      <th>3</th>\n",
       "      <td>bitcoin</td>\n",
       "      <td>BTC</td>\n",
       "      <td>Bitcoin</td>\n",
       "      <td>2013-05-01</td>\n",
       "      <td>1</td>\n",
       "      <td>139.00</td>\n",
       "      <td>139.89</td>\n",
       "      <td>107.72</td>\n",
       "      <td>116.99</td>\n",
       "      <td>0.0</td>\n",
       "      <td>1.298955e+09</td>\n",
       "      <td>0.2882</td>\n",
       "      <td>32.17</td>\n",
       "    </tr>\n",
       "    <tr>\n",
       "      <th>4</th>\n",
       "      <td>bitcoin</td>\n",
       "      <td>BTC</td>\n",
       "      <td>Bitcoin</td>\n",
       "      <td>2013-05-02</td>\n",
       "      <td>1</td>\n",
       "      <td>116.38</td>\n",
       "      <td>125.60</td>\n",
       "      <td>92.28</td>\n",
       "      <td>105.21</td>\n",
       "      <td>0.0</td>\n",
       "      <td>1.168517e+09</td>\n",
       "      <td>0.3881</td>\n",
       "      <td>33.32</td>\n",
       "    </tr>\n",
       "  </tbody>\n",
       "</table>\n",
       "</div>"
      ],
      "text/plain": [
       "      slug symbol     name        date  ranknow    open    high     low  \\\n",
       "0  bitcoin    BTC  Bitcoin  2013-04-28        1  135.30  135.98  132.10   \n",
       "1  bitcoin    BTC  Bitcoin  2013-04-29        1  134.44  147.49  134.00   \n",
       "2  bitcoin    BTC  Bitcoin  2013-04-30        1  144.00  146.93  134.05   \n",
       "3  bitcoin    BTC  Bitcoin  2013-05-01        1  139.00  139.89  107.72   \n",
       "4  bitcoin    BTC  Bitcoin  2013-05-02        1  116.38  125.60   92.28   \n",
       "\n",
       "    close  volume        market  close_ratio  spread  \n",
       "0  134.21     0.0  1.488567e+09       0.5438    3.88  \n",
       "1  144.54     0.0  1.603769e+09       0.7813   13.49  \n",
       "2  139.00     0.0  1.542813e+09       0.3843   12.88  \n",
       "3  116.99     0.0  1.298955e+09       0.2882   32.17  \n",
       "4  105.21     0.0  1.168517e+09       0.3881   33.32  "
      ]
     },
     "execution_count": 3,
     "metadata": {},
     "output_type": "execute_result"
    }
   ],
   "source": [
    "df.head()"
   ]
  },
  {
   "cell_type": "code",
   "execution_count": 4,
   "id": "be29401c",
   "metadata": {
    "execution": {
     "iopub.execute_input": "2022-11-23T13:18:49.295863Z",
     "iopub.status.busy": "2022-11-23T13:18:49.294920Z",
     "iopub.status.idle": "2022-11-23T13:18:49.560267Z",
     "shell.execute_reply": "2022-11-23T13:18:49.559424Z"
    },
    "papermill": {
     "duration": 0.282248,
     "end_time": "2022-11-23T13:18:49.562103",
     "exception": false,
     "start_time": "2022-11-23T13:18:49.279855",
     "status": "completed"
    },
    "tags": []
   },
   "outputs": [
    {
     "data": {
      "text/html": [
       "<div>\n",
       "<style scoped>\n",
       "    .dataframe tbody tr th:only-of-type {\n",
       "        vertical-align: middle;\n",
       "    }\n",
       "\n",
       "    .dataframe tbody tr th {\n",
       "        vertical-align: top;\n",
       "    }\n",
       "\n",
       "    .dataframe thead th {\n",
       "        text-align: right;\n",
       "    }\n",
       "</style>\n",
       "<table border=\"1\" class=\"dataframe\">\n",
       "  <thead>\n",
       "    <tr style=\"text-align: right;\">\n",
       "      <th></th>\n",
       "      <th>ranknow</th>\n",
       "      <th>open</th>\n",
       "      <th>high</th>\n",
       "      <th>low</th>\n",
       "      <th>close</th>\n",
       "      <th>volume</th>\n",
       "      <th>market</th>\n",
       "      <th>close_ratio</th>\n",
       "      <th>spread</th>\n",
       "    </tr>\n",
       "  </thead>\n",
       "  <tbody>\n",
       "    <tr>\n",
       "      <th>count</th>\n",
       "      <td>942297.000000</td>\n",
       "      <td>9.422970e+05</td>\n",
       "      <td>9.422970e+05</td>\n",
       "      <td>9.422970e+05</td>\n",
       "      <td>9.422970e+05</td>\n",
       "      <td>9.422970e+05</td>\n",
       "      <td>9.422970e+05</td>\n",
       "      <td>942297.000000</td>\n",
       "      <td>9.422970e+05</td>\n",
       "    </tr>\n",
       "    <tr>\n",
       "      <th>mean</th>\n",
       "      <td>1000.170608</td>\n",
       "      <td>3.483522e+02</td>\n",
       "      <td>4.085930e+02</td>\n",
       "      <td>2.962526e+02</td>\n",
       "      <td>3.461018e+02</td>\n",
       "      <td>8.720383e+06</td>\n",
       "      <td>1.725060e+08</td>\n",
       "      <td>0.459499</td>\n",
       "      <td>1.123400e+02</td>\n",
       "    </tr>\n",
       "    <tr>\n",
       "      <th>std</th>\n",
       "      <td>587.575283</td>\n",
       "      <td>1.318436e+04</td>\n",
       "      <td>1.616386e+04</td>\n",
       "      <td>1.092931e+04</td>\n",
       "      <td>1.309822e+04</td>\n",
       "      <td>1.839802e+08</td>\n",
       "      <td>3.575590e+09</td>\n",
       "      <td>0.326160</td>\n",
       "      <td>6.783713e+03</td>\n",
       "    </tr>\n",
       "    <tr>\n",
       "      <th>min</th>\n",
       "      <td>1.000000</td>\n",
       "      <td>2.500000e-09</td>\n",
       "      <td>3.200000e-09</td>\n",
       "      <td>2.500000e-10</td>\n",
       "      <td>2.000000e-10</td>\n",
       "      <td>0.000000e+00</td>\n",
       "      <td>0.000000e+00</td>\n",
       "      <td>-1.000000</td>\n",
       "      <td>0.000000e+00</td>\n",
       "    </tr>\n",
       "    <tr>\n",
       "      <th>25%</th>\n",
       "      <td>465.000000</td>\n",
       "      <td>2.321000e-03</td>\n",
       "      <td>2.628000e-03</td>\n",
       "      <td>2.044000e-03</td>\n",
       "      <td>2.314000e-03</td>\n",
       "      <td>1.750000e+02</td>\n",
       "      <td>2.958100e+04</td>\n",
       "      <td>0.162900</td>\n",
       "      <td>0.000000e+00</td>\n",
       "    </tr>\n",
       "    <tr>\n",
       "      <th>50%</th>\n",
       "      <td>1072.000000</td>\n",
       "      <td>2.398300e-02</td>\n",
       "      <td>2.680200e-02</td>\n",
       "      <td>2.143700e-02</td>\n",
       "      <td>2.389200e-02</td>\n",
       "      <td>4.278000e+03</td>\n",
       "      <td>5.227960e+05</td>\n",
       "      <td>0.432400</td>\n",
       "      <td>0.000000e+00</td>\n",
       "    </tr>\n",
       "    <tr>\n",
       "      <th>75%</th>\n",
       "      <td>1484.000000</td>\n",
       "      <td>2.268600e-01</td>\n",
       "      <td>2.508940e-01</td>\n",
       "      <td>2.043910e-01</td>\n",
       "      <td>2.259340e-01</td>\n",
       "      <td>1.190900e+05</td>\n",
       "      <td>6.874647e+06</td>\n",
       "      <td>0.745800</td>\n",
       "      <td>3.000000e-02</td>\n",
       "    </tr>\n",
       "    <tr>\n",
       "      <th>max</th>\n",
       "      <td>2072.000000</td>\n",
       "      <td>2.298390e+06</td>\n",
       "      <td>2.926100e+06</td>\n",
       "      <td>2.030590e+06</td>\n",
       "      <td>2.300740e+06</td>\n",
       "      <td>2.384090e+10</td>\n",
       "      <td>3.265025e+11</td>\n",
       "      <td>1.000000</td>\n",
       "      <td>1.770563e+06</td>\n",
       "    </tr>\n",
       "  </tbody>\n",
       "</table>\n",
       "</div>"
      ],
      "text/plain": [
       "             ranknow          open          high           low         close  \\\n",
       "count  942297.000000  9.422970e+05  9.422970e+05  9.422970e+05  9.422970e+05   \n",
       "mean     1000.170608  3.483522e+02  4.085930e+02  2.962526e+02  3.461018e+02   \n",
       "std       587.575283  1.318436e+04  1.616386e+04  1.092931e+04  1.309822e+04   \n",
       "min         1.000000  2.500000e-09  3.200000e-09  2.500000e-10  2.000000e-10   \n",
       "25%       465.000000  2.321000e-03  2.628000e-03  2.044000e-03  2.314000e-03   \n",
       "50%      1072.000000  2.398300e-02  2.680200e-02  2.143700e-02  2.389200e-02   \n",
       "75%      1484.000000  2.268600e-01  2.508940e-01  2.043910e-01  2.259340e-01   \n",
       "max      2072.000000  2.298390e+06  2.926100e+06  2.030590e+06  2.300740e+06   \n",
       "\n",
       "             volume        market    close_ratio        spread  \n",
       "count  9.422970e+05  9.422970e+05  942297.000000  9.422970e+05  \n",
       "mean   8.720383e+06  1.725060e+08       0.459499  1.123400e+02  \n",
       "std    1.839802e+08  3.575590e+09       0.326160  6.783713e+03  \n",
       "min    0.000000e+00  0.000000e+00      -1.000000  0.000000e+00  \n",
       "25%    1.750000e+02  2.958100e+04       0.162900  0.000000e+00  \n",
       "50%    4.278000e+03  5.227960e+05       0.432400  0.000000e+00  \n",
       "75%    1.190900e+05  6.874647e+06       0.745800  3.000000e-02  \n",
       "max    2.384090e+10  3.265025e+11       1.000000  1.770563e+06  "
      ]
     },
     "execution_count": 4,
     "metadata": {},
     "output_type": "execute_result"
    }
   ],
   "source": [
    "df.describe()"
   ]
  },
  {
   "cell_type": "code",
   "execution_count": 5,
   "id": "f6e451ca",
   "metadata": {
    "execution": {
     "iopub.execute_input": "2022-11-23T13:18:49.592096Z",
     "iopub.status.busy": "2022-11-23T13:18:49.590714Z",
     "iopub.status.idle": "2022-11-23T13:18:49.747898Z",
     "shell.execute_reply": "2022-11-23T13:18:49.746831Z"
    },
    "papermill": {
     "duration": 0.174212,
     "end_time": "2022-11-23T13:18:49.750032",
     "exception": false,
     "start_time": "2022-11-23T13:18:49.575820",
     "status": "completed"
    },
    "tags": []
   },
   "outputs": [
    {
     "name": "stdout",
     "output_type": "stream",
     "text": [
      "<class 'pandas.core.frame.DataFrame'>\n",
      "RangeIndex: 942297 entries, 0 to 942296\n",
      "Data columns (total 13 columns):\n",
      " #   Column       Non-Null Count   Dtype  \n",
      "---  ------       --------------   -----  \n",
      " 0   slug         942297 non-null  object \n",
      " 1   symbol       942297 non-null  object \n",
      " 2   name         942297 non-null  object \n",
      " 3   date         942297 non-null  object \n",
      " 4   ranknow      942297 non-null  int64  \n",
      " 5   open         942297 non-null  float64\n",
      " 6   high         942297 non-null  float64\n",
      " 7   low          942297 non-null  float64\n",
      " 8   close        942297 non-null  float64\n",
      " 9   volume       942297 non-null  float64\n",
      " 10  market       942297 non-null  float64\n",
      " 11  close_ratio  942297 non-null  float64\n",
      " 12  spread       942297 non-null  float64\n",
      "dtypes: float64(8), int64(1), object(4)\n",
      "memory usage: 93.5+ MB\n"
     ]
    }
   ],
   "source": [
    "df.info()"
   ]
  },
  {
   "cell_type": "markdown",
   "id": "42d6378e",
   "metadata": {
    "papermill": {
     "duration": 0.014098,
     "end_time": "2022-11-23T13:18:49.778687",
     "exception": false,
     "start_time": "2022-11-23T13:18:49.764589",
     "status": "completed"
    },
    "tags": []
   },
   "source": [
    "<h2> 2. Data Reduction </h2>"
   ]
  },
  {
   "cell_type": "code",
   "execution_count": 6,
   "id": "abbb1441",
   "metadata": {
    "execution": {
     "iopub.execute_input": "2022-11-23T13:18:49.809251Z",
     "iopub.status.busy": "2022-11-23T13:18:49.808877Z",
     "iopub.status.idle": "2022-11-23T13:18:50.747411Z",
     "shell.execute_reply": "2022-11-23T13:18:50.746031Z"
    },
    "papermill": {
     "duration": 0.956738,
     "end_time": "2022-11-23T13:18:50.749885",
     "exception": false,
     "start_time": "2022-11-23T13:18:49.793147",
     "status": "completed"
    },
    "tags": []
   },
   "outputs": [],
   "source": [
    "check = df.duplicated(keep='first')"
   ]
  },
  {
   "cell_type": "code",
   "execution_count": 7,
   "id": "aaca4a75",
   "metadata": {
    "execution": {
     "iopub.execute_input": "2022-11-23T13:18:50.780817Z",
     "iopub.status.busy": "2022-11-23T13:18:50.779124Z",
     "iopub.status.idle": "2022-11-23T13:18:50.863922Z",
     "shell.execute_reply": "2022-11-23T13:18:50.862507Z"
    },
    "papermill": {
     "duration": 0.10251,
     "end_time": "2022-11-23T13:18:50.866573",
     "exception": false,
     "start_time": "2022-11-23T13:18:50.764063",
     "status": "completed"
    },
    "tags": []
   },
   "outputs": [
    {
     "data": {
      "text/plain": [
       "0"
      ]
     },
     "execution_count": 7,
     "metadata": {},
     "output_type": "execute_result"
    }
   ],
   "source": [
    "sum(check)"
   ]
  },
  {
   "cell_type": "markdown",
   "id": "375e1710",
   "metadata": {
    "papermill": {
     "duration": 0.013944,
     "end_time": "2022-11-23T13:18:50.894739",
     "exception": false,
     "start_time": "2022-11-23T13:18:50.880795",
     "status": "completed"
    },
    "tags": []
   },
   "source": [
    "<h2> 3. Data Transformation </h2>"
   ]
  },
  {
   "cell_type": "code",
   "execution_count": 8,
   "id": "e41ebc81",
   "metadata": {
    "execution": {
     "iopub.execute_input": "2022-11-23T13:18:50.926312Z",
     "iopub.status.busy": "2022-11-23T13:18:50.925914Z",
     "iopub.status.idle": "2022-11-23T13:18:51.060457Z",
     "shell.execute_reply": "2022-11-23T13:18:51.059559Z"
    },
    "papermill": {
     "duration": 0.152727,
     "end_time": "2022-11-23T13:18:51.062688",
     "exception": false,
     "start_time": "2022-11-23T13:18:50.909961",
     "status": "completed"
    },
    "tags": []
   },
   "outputs": [],
   "source": [
    "df_clean = df\n",
    "df_clean['date'] = pd.to_datetime(df_clean['date'])\n",
    "df_clean['market_billion'] = df_clean['market'] / 1000000000\n",
    "df_clean['volume_million'] = df_clean['volume'] / 1000000000\n",
    "df_clean['volume_billion'] = df_clean['volume']"
   ]
  },
  {
   "cell_type": "code",
   "execution_count": 9,
   "id": "39eef721",
   "metadata": {
    "execution": {
     "iopub.execute_input": "2022-11-23T13:18:51.094021Z",
     "iopub.status.busy": "2022-11-23T13:18:51.093674Z",
     "iopub.status.idle": "2022-11-23T13:18:51.409906Z",
     "shell.execute_reply": "2022-11-23T13:18:51.409060Z"
    },
    "papermill": {
     "duration": 0.334285,
     "end_time": "2022-11-23T13:18:51.411816",
     "exception": false,
     "start_time": "2022-11-23T13:18:51.077531",
     "status": "completed"
    },
    "tags": []
   },
   "outputs": [
    {
     "data": {
      "text/html": [
       "<div>\n",
       "<style scoped>\n",
       "    .dataframe tbody tr th:only-of-type {\n",
       "        vertical-align: middle;\n",
       "    }\n",
       "\n",
       "    .dataframe tbody tr th {\n",
       "        vertical-align: top;\n",
       "    }\n",
       "\n",
       "    .dataframe thead th {\n",
       "        text-align: right;\n",
       "    }\n",
       "</style>\n",
       "<table border=\"1\" class=\"dataframe\">\n",
       "  <thead>\n",
       "    <tr style=\"text-align: right;\">\n",
       "      <th></th>\n",
       "      <th>ranknow</th>\n",
       "      <th>open</th>\n",
       "      <th>high</th>\n",
       "      <th>low</th>\n",
       "      <th>close</th>\n",
       "      <th>volume</th>\n",
       "      <th>market</th>\n",
       "      <th>close_ratio</th>\n",
       "      <th>spread</th>\n",
       "      <th>market_billion</th>\n",
       "      <th>volume_million</th>\n",
       "      <th>volume_billion</th>\n",
       "    </tr>\n",
       "  </thead>\n",
       "  <tbody>\n",
       "    <tr>\n",
       "      <th>count</th>\n",
       "      <td>942297.000000</td>\n",
       "      <td>9.422970e+05</td>\n",
       "      <td>9.422970e+05</td>\n",
       "      <td>9.422970e+05</td>\n",
       "      <td>9.422970e+05</td>\n",
       "      <td>9.422970e+05</td>\n",
       "      <td>9.422970e+05</td>\n",
       "      <td>942297.000000</td>\n",
       "      <td>9.422970e+05</td>\n",
       "      <td>942297.000000</td>\n",
       "      <td>9.422970e+05</td>\n",
       "      <td>9.422970e+05</td>\n",
       "    </tr>\n",
       "    <tr>\n",
       "      <th>mean</th>\n",
       "      <td>1000.170608</td>\n",
       "      <td>3.483522e+02</td>\n",
       "      <td>4.085930e+02</td>\n",
       "      <td>2.962526e+02</td>\n",
       "      <td>3.461018e+02</td>\n",
       "      <td>8.720383e+06</td>\n",
       "      <td>1.725060e+08</td>\n",
       "      <td>0.459499</td>\n",
       "      <td>1.123400e+02</td>\n",
       "      <td>0.172506</td>\n",
       "      <td>8.720383e-03</td>\n",
       "      <td>8.720383e+06</td>\n",
       "    </tr>\n",
       "    <tr>\n",
       "      <th>std</th>\n",
       "      <td>587.575283</td>\n",
       "      <td>1.318436e+04</td>\n",
       "      <td>1.616386e+04</td>\n",
       "      <td>1.092931e+04</td>\n",
       "      <td>1.309822e+04</td>\n",
       "      <td>1.839802e+08</td>\n",
       "      <td>3.575590e+09</td>\n",
       "      <td>0.326160</td>\n",
       "      <td>6.783713e+03</td>\n",
       "      <td>3.575590</td>\n",
       "      <td>1.839802e-01</td>\n",
       "      <td>1.839802e+08</td>\n",
       "    </tr>\n",
       "    <tr>\n",
       "      <th>min</th>\n",
       "      <td>1.000000</td>\n",
       "      <td>2.500000e-09</td>\n",
       "      <td>3.200000e-09</td>\n",
       "      <td>2.500000e-10</td>\n",
       "      <td>2.000000e-10</td>\n",
       "      <td>0.000000e+00</td>\n",
       "      <td>0.000000e+00</td>\n",
       "      <td>-1.000000</td>\n",
       "      <td>0.000000e+00</td>\n",
       "      <td>0.000000</td>\n",
       "      <td>0.000000e+00</td>\n",
       "      <td>0.000000e+00</td>\n",
       "    </tr>\n",
       "    <tr>\n",
       "      <th>25%</th>\n",
       "      <td>465.000000</td>\n",
       "      <td>2.321000e-03</td>\n",
       "      <td>2.628000e-03</td>\n",
       "      <td>2.044000e-03</td>\n",
       "      <td>2.314000e-03</td>\n",
       "      <td>1.750000e+02</td>\n",
       "      <td>2.958100e+04</td>\n",
       "      <td>0.162900</td>\n",
       "      <td>0.000000e+00</td>\n",
       "      <td>0.000030</td>\n",
       "      <td>1.750000e-07</td>\n",
       "      <td>1.750000e+02</td>\n",
       "    </tr>\n",
       "    <tr>\n",
       "      <th>50%</th>\n",
       "      <td>1072.000000</td>\n",
       "      <td>2.398300e-02</td>\n",
       "      <td>2.680200e-02</td>\n",
       "      <td>2.143700e-02</td>\n",
       "      <td>2.389200e-02</td>\n",
       "      <td>4.278000e+03</td>\n",
       "      <td>5.227960e+05</td>\n",
       "      <td>0.432400</td>\n",
       "      <td>0.000000e+00</td>\n",
       "      <td>0.000523</td>\n",
       "      <td>4.278000e-06</td>\n",
       "      <td>4.278000e+03</td>\n",
       "    </tr>\n",
       "    <tr>\n",
       "      <th>75%</th>\n",
       "      <td>1484.000000</td>\n",
       "      <td>2.268600e-01</td>\n",
       "      <td>2.508940e-01</td>\n",
       "      <td>2.043910e-01</td>\n",
       "      <td>2.259340e-01</td>\n",
       "      <td>1.190900e+05</td>\n",
       "      <td>6.874647e+06</td>\n",
       "      <td>0.745800</td>\n",
       "      <td>3.000000e-02</td>\n",
       "      <td>0.006875</td>\n",
       "      <td>1.190900e-04</td>\n",
       "      <td>1.190900e+05</td>\n",
       "    </tr>\n",
       "    <tr>\n",
       "      <th>max</th>\n",
       "      <td>2072.000000</td>\n",
       "      <td>2.298390e+06</td>\n",
       "      <td>2.926100e+06</td>\n",
       "      <td>2.030590e+06</td>\n",
       "      <td>2.300740e+06</td>\n",
       "      <td>2.384090e+10</td>\n",
       "      <td>3.265025e+11</td>\n",
       "      <td>1.000000</td>\n",
       "      <td>1.770563e+06</td>\n",
       "      <td>326.502486</td>\n",
       "      <td>2.384090e+01</td>\n",
       "      <td>2.384090e+10</td>\n",
       "    </tr>\n",
       "  </tbody>\n",
       "</table>\n",
       "</div>"
      ],
      "text/plain": [
       "             ranknow          open          high           low         close  \\\n",
       "count  942297.000000  9.422970e+05  9.422970e+05  9.422970e+05  9.422970e+05   \n",
       "mean     1000.170608  3.483522e+02  4.085930e+02  2.962526e+02  3.461018e+02   \n",
       "std       587.575283  1.318436e+04  1.616386e+04  1.092931e+04  1.309822e+04   \n",
       "min         1.000000  2.500000e-09  3.200000e-09  2.500000e-10  2.000000e-10   \n",
       "25%       465.000000  2.321000e-03  2.628000e-03  2.044000e-03  2.314000e-03   \n",
       "50%      1072.000000  2.398300e-02  2.680200e-02  2.143700e-02  2.389200e-02   \n",
       "75%      1484.000000  2.268600e-01  2.508940e-01  2.043910e-01  2.259340e-01   \n",
       "max      2072.000000  2.298390e+06  2.926100e+06  2.030590e+06  2.300740e+06   \n",
       "\n",
       "             volume        market    close_ratio        spread  \\\n",
       "count  9.422970e+05  9.422970e+05  942297.000000  9.422970e+05   \n",
       "mean   8.720383e+06  1.725060e+08       0.459499  1.123400e+02   \n",
       "std    1.839802e+08  3.575590e+09       0.326160  6.783713e+03   \n",
       "min    0.000000e+00  0.000000e+00      -1.000000  0.000000e+00   \n",
       "25%    1.750000e+02  2.958100e+04       0.162900  0.000000e+00   \n",
       "50%    4.278000e+03  5.227960e+05       0.432400  0.000000e+00   \n",
       "75%    1.190900e+05  6.874647e+06       0.745800  3.000000e-02   \n",
       "max    2.384090e+10  3.265025e+11       1.000000  1.770563e+06   \n",
       "\n",
       "       market_billion  volume_million  volume_billion  \n",
       "count   942297.000000    9.422970e+05    9.422970e+05  \n",
       "mean         0.172506    8.720383e-03    8.720383e+06  \n",
       "std          3.575590    1.839802e-01    1.839802e+08  \n",
       "min          0.000000    0.000000e+00    0.000000e+00  \n",
       "25%          0.000030    1.750000e-07    1.750000e+02  \n",
       "50%          0.000523    4.278000e-06    4.278000e+03  \n",
       "75%          0.006875    1.190900e-04    1.190900e+05  \n",
       "max        326.502486    2.384090e+01    2.384090e+10  "
      ]
     },
     "execution_count": 9,
     "metadata": {},
     "output_type": "execute_result"
    }
   ],
   "source": [
    "df_clean.describe()"
   ]
  },
  {
   "cell_type": "markdown",
   "id": "095b7942",
   "metadata": {
    "papermill": {
     "duration": 0.01409,
     "end_time": "2022-11-23T13:18:51.440192",
     "exception": false,
     "start_time": "2022-11-23T13:18:51.426102",
     "status": "completed"
    },
    "tags": []
   },
   "source": [
    "<h2> 4. Data Enrichment </h2>"
   ]
  },
  {
   "cell_type": "code",
   "execution_count": 10,
   "id": "cd7d2f99",
   "metadata": {
    "execution": {
     "iopub.execute_input": "2022-11-23T13:18:51.470787Z",
     "iopub.status.busy": "2022-11-23T13:18:51.469989Z",
     "iopub.status.idle": "2022-11-23T13:18:51.974051Z",
     "shell.execute_reply": "2022-11-23T13:18:51.972935Z"
    },
    "papermill": {
     "duration": 0.521619,
     "end_time": "2022-11-23T13:18:51.976256",
     "exception": false,
     "start_time": "2022-11-23T13:18:51.454637",
     "status": "completed"
    },
    "tags": []
   },
   "outputs": [
    {
     "data": {
      "text/html": [
       "<div>\n",
       "<style scoped>\n",
       "    .dataframe tbody tr th:only-of-type {\n",
       "        vertical-align: middle;\n",
       "    }\n",
       "\n",
       "    .dataframe tbody tr th {\n",
       "        vertical-align: top;\n",
       "    }\n",
       "\n",
       "    .dataframe thead th {\n",
       "        text-align: right;\n",
       "    }\n",
       "</style>\n",
       "<table border=\"1\" class=\"dataframe\">\n",
       "  <thead>\n",
       "    <tr style=\"text-align: right;\">\n",
       "      <th>name</th>\n",
       "      <th>0chain</th>\n",
       "      <th>0x</th>\n",
       "      <th>0xBitcoin</th>\n",
       "      <th>0xcert</th>\n",
       "      <th>1World</th>\n",
       "      <th>2GIVE</th>\n",
       "      <th>300 Token</th>\n",
       "      <th>42-coin</th>\n",
       "      <th>4NEW</th>\n",
       "      <th>808Coin</th>\n",
       "      <th>...</th>\n",
       "      <th>imbrex</th>\n",
       "      <th>indaHash</th>\n",
       "      <th>nDEX</th>\n",
       "      <th>nUSD</th>\n",
       "      <th>savedroid</th>\n",
       "      <th>smARTOFGIVING</th>\n",
       "      <th>ugChain</th>\n",
       "      <th>vSlice</th>\n",
       "      <th>vSportCoin</th>\n",
       "      <th>wys Token</th>\n",
       "    </tr>\n",
       "    <tr>\n",
       "      <th>date</th>\n",
       "      <th></th>\n",
       "      <th></th>\n",
       "      <th></th>\n",
       "      <th></th>\n",
       "      <th></th>\n",
       "      <th></th>\n",
       "      <th></th>\n",
       "      <th></th>\n",
       "      <th></th>\n",
       "      <th></th>\n",
       "      <th></th>\n",
       "      <th></th>\n",
       "      <th></th>\n",
       "      <th></th>\n",
       "      <th></th>\n",
       "      <th></th>\n",
       "      <th></th>\n",
       "      <th></th>\n",
       "      <th></th>\n",
       "      <th></th>\n",
       "      <th></th>\n",
       "    </tr>\n",
       "  </thead>\n",
       "  <tbody>\n",
       "    <tr>\n",
       "      <th>2013-04-28</th>\n",
       "      <td>NaN</td>\n",
       "      <td>NaN</td>\n",
       "      <td>NaN</td>\n",
       "      <td>NaN</td>\n",
       "      <td>NaN</td>\n",
       "      <td>NaN</td>\n",
       "      <td>NaN</td>\n",
       "      <td>NaN</td>\n",
       "      <td>NaN</td>\n",
       "      <td>NaN</td>\n",
       "      <td>...</td>\n",
       "      <td>NaN</td>\n",
       "      <td>NaN</td>\n",
       "      <td>NaN</td>\n",
       "      <td>NaN</td>\n",
       "      <td>NaN</td>\n",
       "      <td>NaN</td>\n",
       "      <td>NaN</td>\n",
       "      <td>NaN</td>\n",
       "      <td>NaN</td>\n",
       "      <td>NaN</td>\n",
       "    </tr>\n",
       "    <tr>\n",
       "      <th>2013-04-29</th>\n",
       "      <td>NaN</td>\n",
       "      <td>NaN</td>\n",
       "      <td>NaN</td>\n",
       "      <td>NaN</td>\n",
       "      <td>NaN</td>\n",
       "      <td>NaN</td>\n",
       "      <td>NaN</td>\n",
       "      <td>NaN</td>\n",
       "      <td>NaN</td>\n",
       "      <td>NaN</td>\n",
       "      <td>...</td>\n",
       "      <td>NaN</td>\n",
       "      <td>NaN</td>\n",
       "      <td>NaN</td>\n",
       "      <td>NaN</td>\n",
       "      <td>NaN</td>\n",
       "      <td>NaN</td>\n",
       "      <td>NaN</td>\n",
       "      <td>NaN</td>\n",
       "      <td>NaN</td>\n",
       "      <td>NaN</td>\n",
       "    </tr>\n",
       "    <tr>\n",
       "      <th>2013-04-30</th>\n",
       "      <td>NaN</td>\n",
       "      <td>NaN</td>\n",
       "      <td>NaN</td>\n",
       "      <td>NaN</td>\n",
       "      <td>NaN</td>\n",
       "      <td>NaN</td>\n",
       "      <td>NaN</td>\n",
       "      <td>NaN</td>\n",
       "      <td>NaN</td>\n",
       "      <td>NaN</td>\n",
       "      <td>...</td>\n",
       "      <td>NaN</td>\n",
       "      <td>NaN</td>\n",
       "      <td>NaN</td>\n",
       "      <td>NaN</td>\n",
       "      <td>NaN</td>\n",
       "      <td>NaN</td>\n",
       "      <td>NaN</td>\n",
       "      <td>NaN</td>\n",
       "      <td>NaN</td>\n",
       "      <td>NaN</td>\n",
       "    </tr>\n",
       "    <tr>\n",
       "      <th>2013-05-01</th>\n",
       "      <td>NaN</td>\n",
       "      <td>NaN</td>\n",
       "      <td>NaN</td>\n",
       "      <td>NaN</td>\n",
       "      <td>NaN</td>\n",
       "      <td>NaN</td>\n",
       "      <td>NaN</td>\n",
       "      <td>NaN</td>\n",
       "      <td>NaN</td>\n",
       "      <td>NaN</td>\n",
       "      <td>...</td>\n",
       "      <td>NaN</td>\n",
       "      <td>NaN</td>\n",
       "      <td>NaN</td>\n",
       "      <td>NaN</td>\n",
       "      <td>NaN</td>\n",
       "      <td>NaN</td>\n",
       "      <td>NaN</td>\n",
       "      <td>NaN</td>\n",
       "      <td>NaN</td>\n",
       "      <td>NaN</td>\n",
       "    </tr>\n",
       "    <tr>\n",
       "      <th>2013-05-02</th>\n",
       "      <td>NaN</td>\n",
       "      <td>NaN</td>\n",
       "      <td>NaN</td>\n",
       "      <td>NaN</td>\n",
       "      <td>NaN</td>\n",
       "      <td>NaN</td>\n",
       "      <td>NaN</td>\n",
       "      <td>NaN</td>\n",
       "      <td>NaN</td>\n",
       "      <td>NaN</td>\n",
       "      <td>...</td>\n",
       "      <td>NaN</td>\n",
       "      <td>NaN</td>\n",
       "      <td>NaN</td>\n",
       "      <td>NaN</td>\n",
       "      <td>NaN</td>\n",
       "      <td>NaN</td>\n",
       "      <td>NaN</td>\n",
       "      <td>NaN</td>\n",
       "      <td>NaN</td>\n",
       "      <td>NaN</td>\n",
       "    </tr>\n",
       "    <tr>\n",
       "      <th>...</th>\n",
       "      <td>...</td>\n",
       "      <td>...</td>\n",
       "      <td>...</td>\n",
       "      <td>...</td>\n",
       "      <td>...</td>\n",
       "      <td>...</td>\n",
       "      <td>...</td>\n",
       "      <td>...</td>\n",
       "      <td>...</td>\n",
       "      <td>...</td>\n",
       "      <td>...</td>\n",
       "      <td>...</td>\n",
       "      <td>...</td>\n",
       "      <td>...</td>\n",
       "      <td>...</td>\n",
       "      <td>...</td>\n",
       "      <td>...</td>\n",
       "      <td>...</td>\n",
       "      <td>...</td>\n",
       "      <td>...</td>\n",
       "      <td>...</td>\n",
       "    </tr>\n",
       "    <tr>\n",
       "      <th>2018-11-26</th>\n",
       "      <td>0.094182</td>\n",
       "      <td>0.347974</td>\n",
       "      <td>0.321285</td>\n",
       "      <td>0.001996</td>\n",
       "      <td>0.085203</td>\n",
       "      <td>0.001617</td>\n",
       "      <td>175.98</td>\n",
       "      <td>23575.30</td>\n",
       "      <td>0.023521</td>\n",
       "      <td>2.400000e-07</td>\n",
       "      <td>...</td>\n",
       "      <td>0.047550</td>\n",
       "      <td>0.003004</td>\n",
       "      <td>0.000010</td>\n",
       "      <td>0.967816</td>\n",
       "      <td>0.000365</td>\n",
       "      <td>0.062159</td>\n",
       "      <td>0.002505</td>\n",
       "      <td>0.002036</td>\n",
       "      <td>0.001411</td>\n",
       "      <td>0.004873</td>\n",
       "    </tr>\n",
       "    <tr>\n",
       "      <th>2018-11-27</th>\n",
       "      <td>0.094085</td>\n",
       "      <td>0.357042</td>\n",
       "      <td>0.366923</td>\n",
       "      <td>0.001905</td>\n",
       "      <td>0.075873</td>\n",
       "      <td>0.001563</td>\n",
       "      <td>133.68</td>\n",
       "      <td>25086.00</td>\n",
       "      <td>0.020391</td>\n",
       "      <td>2.500000e-07</td>\n",
       "      <td>...</td>\n",
       "      <td>0.049915</td>\n",
       "      <td>0.003150</td>\n",
       "      <td>0.000010</td>\n",
       "      <td>0.994856</td>\n",
       "      <td>0.000371</td>\n",
       "      <td>0.070546</td>\n",
       "      <td>0.002612</td>\n",
       "      <td>0.002028</td>\n",
       "      <td>0.001408</td>\n",
       "      <td>0.004697</td>\n",
       "    </tr>\n",
       "    <tr>\n",
       "      <th>2018-11-28</th>\n",
       "      <td>0.106128</td>\n",
       "      <td>0.435269</td>\n",
       "      <td>0.418035</td>\n",
       "      <td>0.002013</td>\n",
       "      <td>0.084989</td>\n",
       "      <td>0.001903</td>\n",
       "      <td>148.18</td>\n",
       "      <td>25512.10</td>\n",
       "      <td>0.019501</td>\n",
       "      <td>2.300000e-07</td>\n",
       "      <td>...</td>\n",
       "      <td>0.051809</td>\n",
       "      <td>0.003925</td>\n",
       "      <td>0.000014</td>\n",
       "      <td>0.996896</td>\n",
       "      <td>0.000424</td>\n",
       "      <td>0.078514</td>\n",
       "      <td>0.002917</td>\n",
       "      <td>0.002466</td>\n",
       "      <td>0.001391</td>\n",
       "      <td>0.005635</td>\n",
       "    </tr>\n",
       "    <tr>\n",
       "      <th>2018-11-29</th>\n",
       "      <td>0.102817</td>\n",
       "      <td>0.436696</td>\n",
       "      <td>0.366632</td>\n",
       "      <td>0.001886</td>\n",
       "      <td>0.076219</td>\n",
       "      <td>0.001921</td>\n",
       "      <td>149.74</td>\n",
       "      <td>23217.94</td>\n",
       "      <td>0.019151</td>\n",
       "      <td>2.600000e-07</td>\n",
       "      <td>...</td>\n",
       "      <td>0.071804</td>\n",
       "      <td>0.003912</td>\n",
       "      <td>0.000012</td>\n",
       "      <td>0.980698</td>\n",
       "      <td>0.000452</td>\n",
       "      <td>0.078595</td>\n",
       "      <td>0.002599</td>\n",
       "      <td>0.002526</td>\n",
       "      <td>0.001450</td>\n",
       "      <td>0.005465</td>\n",
       "    </tr>\n",
       "    <tr>\n",
       "      <th>2018-11-30</th>\n",
       "      <td>NaN</td>\n",
       "      <td>NaN</td>\n",
       "      <td>NaN</td>\n",
       "      <td>NaN</td>\n",
       "      <td>NaN</td>\n",
       "      <td>NaN</td>\n",
       "      <td>NaN</td>\n",
       "      <td>22665.93</td>\n",
       "      <td>NaN</td>\n",
       "      <td>NaN</td>\n",
       "      <td>...</td>\n",
       "      <td>NaN</td>\n",
       "      <td>NaN</td>\n",
       "      <td>NaN</td>\n",
       "      <td>NaN</td>\n",
       "      <td>NaN</td>\n",
       "      <td>NaN</td>\n",
       "      <td>NaN</td>\n",
       "      <td>NaN</td>\n",
       "      <td>NaN</td>\n",
       "      <td>NaN</td>\n",
       "    </tr>\n",
       "  </tbody>\n",
       "</table>\n",
       "<p>2043 rows × 2071 columns</p>\n",
       "</div>"
      ],
      "text/plain": [
       "name          0chain        0x  0xBitcoin    0xcert    1World     2GIVE  \\\n",
       "date                                                                      \n",
       "2013-04-28       NaN       NaN        NaN       NaN       NaN       NaN   \n",
       "2013-04-29       NaN       NaN        NaN       NaN       NaN       NaN   \n",
       "2013-04-30       NaN       NaN        NaN       NaN       NaN       NaN   \n",
       "2013-05-01       NaN       NaN        NaN       NaN       NaN       NaN   \n",
       "2013-05-02       NaN       NaN        NaN       NaN       NaN       NaN   \n",
       "...              ...       ...        ...       ...       ...       ...   \n",
       "2018-11-26  0.094182  0.347974   0.321285  0.001996  0.085203  0.001617   \n",
       "2018-11-27  0.094085  0.357042   0.366923  0.001905  0.075873  0.001563   \n",
       "2018-11-28  0.106128  0.435269   0.418035  0.002013  0.084989  0.001903   \n",
       "2018-11-29  0.102817  0.436696   0.366632  0.001886  0.076219  0.001921   \n",
       "2018-11-30       NaN       NaN        NaN       NaN       NaN       NaN   \n",
       "\n",
       "name        300 Token   42-coin      4NEW       808Coin  ...    imbrex  \\\n",
       "date                                                     ...             \n",
       "2013-04-28        NaN       NaN       NaN           NaN  ...       NaN   \n",
       "2013-04-29        NaN       NaN       NaN           NaN  ...       NaN   \n",
       "2013-04-30        NaN       NaN       NaN           NaN  ...       NaN   \n",
       "2013-05-01        NaN       NaN       NaN           NaN  ...       NaN   \n",
       "2013-05-02        NaN       NaN       NaN           NaN  ...       NaN   \n",
       "...               ...       ...       ...           ...  ...       ...   \n",
       "2018-11-26     175.98  23575.30  0.023521  2.400000e-07  ...  0.047550   \n",
       "2018-11-27     133.68  25086.00  0.020391  2.500000e-07  ...  0.049915   \n",
       "2018-11-28     148.18  25512.10  0.019501  2.300000e-07  ...  0.051809   \n",
       "2018-11-29     149.74  23217.94  0.019151  2.600000e-07  ...  0.071804   \n",
       "2018-11-30        NaN  22665.93       NaN           NaN  ...       NaN   \n",
       "\n",
       "name        indaHash      nDEX      nUSD  savedroid  smARTOFGIVING   ugChain  \\\n",
       "date                                                                           \n",
       "2013-04-28       NaN       NaN       NaN        NaN            NaN       NaN   \n",
       "2013-04-29       NaN       NaN       NaN        NaN            NaN       NaN   \n",
       "2013-04-30       NaN       NaN       NaN        NaN            NaN       NaN   \n",
       "2013-05-01       NaN       NaN       NaN        NaN            NaN       NaN   \n",
       "2013-05-02       NaN       NaN       NaN        NaN            NaN       NaN   \n",
       "...              ...       ...       ...        ...            ...       ...   \n",
       "2018-11-26  0.003004  0.000010  0.967816   0.000365       0.062159  0.002505   \n",
       "2018-11-27  0.003150  0.000010  0.994856   0.000371       0.070546  0.002612   \n",
       "2018-11-28  0.003925  0.000014  0.996896   0.000424       0.078514  0.002917   \n",
       "2018-11-29  0.003912  0.000012  0.980698   0.000452       0.078595  0.002599   \n",
       "2018-11-30       NaN       NaN       NaN        NaN            NaN       NaN   \n",
       "\n",
       "name          vSlice  vSportCoin  wys Token  \n",
       "date                                         \n",
       "2013-04-28       NaN         NaN        NaN  \n",
       "2013-04-29       NaN         NaN        NaN  \n",
       "2013-04-30       NaN         NaN        NaN  \n",
       "2013-05-01       NaN         NaN        NaN  \n",
       "2013-05-02       NaN         NaN        NaN  \n",
       "...              ...         ...        ...  \n",
       "2018-11-26  0.002036    0.001411   0.004873  \n",
       "2018-11-27  0.002028    0.001408   0.004697  \n",
       "2018-11-28  0.002466    0.001391   0.005635  \n",
       "2018-11-29  0.002526    0.001450   0.005465  \n",
       "2018-11-30       NaN         NaN        NaN  \n",
       "\n",
       "[2043 rows x 2071 columns]"
      ]
     },
     "execution_count": 10,
     "metadata": {},
     "output_type": "execute_result"
    }
   ],
   "source": [
    "df_clean.groupby(['date','name'])['close'].mean().unstack()"
   ]
  },
  {
   "cell_type": "code",
   "execution_count": 11,
   "id": "09f1efbe",
   "metadata": {
    "execution": {
     "iopub.execute_input": "2022-11-23T13:18:52.010231Z",
     "iopub.status.busy": "2022-11-23T13:18:52.009835Z",
     "iopub.status.idle": "2022-11-23T13:18:52.437013Z",
     "shell.execute_reply": "2022-11-23T13:18:52.436125Z"
    },
    "papermill": {
     "duration": 0.447411,
     "end_time": "2022-11-23T13:18:52.439377",
     "exception": false,
     "start_time": "2022-11-23T13:18:51.991966",
     "status": "completed"
    },
    "tags": []
   },
   "outputs": [],
   "source": [
    "close_price = df_clean.groupby(['date','name'])['close'].mean().unstack()"
   ]
  },
  {
   "cell_type": "markdown",
   "id": "419352fa",
   "metadata": {
    "papermill": {
     "duration": 0.014493,
     "end_time": "2022-11-23T13:18:52.468906",
     "exception": false,
     "start_time": "2022-11-23T13:18:52.454413",
     "status": "completed"
    },
    "tags": []
   },
   "source": [
    "<h2> EDA </h2>"
   ]
  },
  {
   "cell_type": "code",
   "execution_count": 12,
   "id": "8bcf289e",
   "metadata": {
    "execution": {
     "iopub.execute_input": "2022-11-23T13:18:52.499978Z",
     "iopub.status.busy": "2022-11-23T13:18:52.499600Z",
     "iopub.status.idle": "2022-11-23T13:18:52.580238Z",
     "shell.execute_reply": "2022-11-23T13:18:52.579286Z"
    },
    "papermill": {
     "duration": 0.098777,
     "end_time": "2022-11-23T13:18:52.582351",
     "exception": false,
     "start_time": "2022-11-23T13:18:52.483574",
     "status": "completed"
    },
    "tags": []
   },
   "outputs": [
    {
     "data": {
      "text/plain": [
       "name\n",
       "Cardano          1.085456\n",
       "Bitcoin SV       1.714035\n",
       "Tether           1.851553\n",
       "Litecoin         2.006242\n",
       "EOS              2.738537\n",
       "Stellar          3.162026\n",
       "Bitcoin Cash     3.164359\n",
       "Ethereum        12.166286\n",
       "XRP             15.306739\n",
       "Bitcoin         74.451017\n",
       "Name: market_billion, dtype: float64"
      ]
     },
     "execution_count": 12,
     "metadata": {},
     "output_type": "execute_result"
    }
   ],
   "source": [
    "top10 = df.groupby(['name'])['market_billion'].last().sort_values(ascending=False).head(10).sort_values()\n",
    "top10"
   ]
  },
  {
   "cell_type": "code",
   "execution_count": 13,
   "id": "34421401",
   "metadata": {
    "execution": {
     "iopub.execute_input": "2022-11-23T13:18:52.616087Z",
     "iopub.status.busy": "2022-11-23T13:18:52.615696Z",
     "iopub.status.idle": "2022-11-23T13:18:52.804536Z",
     "shell.execute_reply": "2022-11-23T13:18:52.803068Z"
    },
    "papermill": {
     "duration": 0.208522,
     "end_time": "2022-11-23T13:18:52.807129",
     "exception": false,
     "start_time": "2022-11-23T13:18:52.598607",
     "status": "completed"
    },
    "tags": []
   },
   "outputs": [
    {
     "data": {
      "image/png": "[encoded data removed]",
      "text/plain": [
       "<Figure size 432x288 with 1 Axes>"
      ]
     },
     "metadata": {
      "needs_background": "light"
     },
     "output_type": "display_data"
    }
   ],
   "source": [
    "import matplotlib.pyplot as plt\n",
    "plt.barh(top10.index, top10)\n",
    "plt.show()"
   ]
  },
  {
   "cell_type": "code",
   "execution_count": 14,
   "id": "f827542a",
   "metadata": {
    "execution": {
     "iopub.execute_input": "2022-11-23T13:18:52.840557Z",
     "iopub.status.busy": "2022-11-23T13:18:52.839601Z",
     "iopub.status.idle": "2022-11-23T13:18:53.034136Z",
     "shell.execute_reply": "2022-11-23T13:18:53.032683Z"
    },
    "papermill": {
     "duration": 0.213743,
     "end_time": "2022-11-23T13:18:53.036584",
     "exception": false,
     "start_time": "2022-11-23T13:18:52.822841",
     "status": "completed"
    },
    "tags": []
   },
   "outputs": [
    {
     "data": {
      "text/plain": [
       "<AxesSubplot:ylabel='name'>"
      ]
     },
     "execution_count": 14,
     "metadata": {},
     "output_type": "execute_result"
    },
    {
     "data": {
      "image/png": "[encoded data removed]",
      "text/plain": [
       "<Figure size 432x288 with 1 Axes>"
      ]
     },
     "metadata": {
      "needs_background": "light"
     },
     "output_type": "display_data"
    }
   ],
   "source": [
    "top10.plot(kind='barh')"
   ]
  },
  {
   "cell_type": "code",
   "execution_count": 15,
   "id": "ed03ab5f",
   "metadata": {
    "execution": {
     "iopub.execute_input": "2022-11-23T13:18:53.069498Z",
     "iopub.status.busy": "2022-11-23T13:18:53.069108Z",
     "iopub.status.idle": "2022-11-23T13:18:53.148248Z",
     "shell.execute_reply": "2022-11-23T13:18:53.147316Z"
    },
    "papermill": {
     "duration": 0.098116,
     "end_time": "2022-11-23T13:18:53.150587",
     "exception": false,
     "start_time": "2022-11-23T13:18:53.052471",
     "status": "completed"
    },
    "tags": []
   },
   "outputs": [
    {
     "data": {
      "text/plain": [
       "name\n",
       "IOTA            2.126970e+09\n",
       "Qtum            2.427870e+09\n",
       "TRON            4.089410e+09\n",
       "EOS             4.870720e+09\n",
       "Tether          6.247250e+09\n",
       "Litecoin        6.961680e+09\n",
       "XRP             9.110440e+09\n",
       "Ethereum        9.214950e+09\n",
       "Bitcoin Cash    1.188960e+10\n",
       "Bitcoin         2.384090e+10\n",
       "Name: volume_billion, dtype: float64"
      ]
     },
     "execution_count": 15,
     "metadata": {},
     "output_type": "execute_result"
    }
   ],
   "source": [
    "top10 = df.groupby(['name'])['volume_billion'].max().sort_values(ascending=False).head(10).sort_values()\n",
    "top10"
   ]
  },
  {
   "cell_type": "code",
   "execution_count": 16,
   "id": "bb7605f3",
   "metadata": {
    "execution": {
     "iopub.execute_input": "2022-11-23T13:18:53.183783Z",
     "iopub.status.busy": "2022-11-23T13:18:53.183318Z",
     "iopub.status.idle": "2022-11-23T13:18:53.261129Z",
     "shell.execute_reply": "2022-11-23T13:18:53.259893Z"
    },
    "papermill": {
     "duration": 0.097129,
     "end_time": "2022-11-23T13:18:53.263450",
     "exception": false,
     "start_time": "2022-11-23T13:18:53.166321",
     "status": "completed"
    },
    "tags": []
   },
   "outputs": [
    {
     "data": {
      "text/plain": [
       "name\n",
       "Mithril      4290760.0\n",
       "VeChain      4508570.0\n",
       "EOS          4556540.0\n",
       "Ontology    10120300.0\n",
       "CK USD      36345600.0\n",
       "Name: volume_billion, dtype: float64"
      ]
     },
     "execution_count": 16,
     "metadata": {},
     "output_type": "execute_result"
    }
   ],
   "source": [
    "top5 = df.groupby(['name'])['volume_billion'].min().sort_values(ascending=False).head(5).sort_values()\n",
    "top5"
   ]
  },
  {
   "cell_type": "code",
   "execution_count": 17,
   "id": "a6661c5b",
   "metadata": {
    "execution": {
     "iopub.execute_input": "2022-11-23T13:18:53.296489Z",
     "iopub.status.busy": "2022-11-23T13:18:53.296043Z",
     "iopub.status.idle": "2022-11-23T13:18:53.403765Z",
     "shell.execute_reply": "2022-11-23T13:18:53.402570Z"
    },
    "papermill": {
     "duration": 0.126739,
     "end_time": "2022-11-23T13:18:53.405905",
     "exception": false,
     "start_time": "2022-11-23T13:18:53.279166",
     "status": "completed"
    },
    "tags": []
   },
   "outputs": [
    {
     "data": {
      "text/plain": [
       "<AxesSubplot:ylabel='volume_billion'>"
      ]
     },
     "execution_count": 17,
     "metadata": {},
     "output_type": "execute_result"
    },
    {
     "data": {
      "image/png": "[encoded data removed]",
      "text/plain": [
       "<Figure size 432x288 with 1 Axes>"
      ]
     },
     "metadata": {},
     "output_type": "display_data"
    }
   ],
   "source": [
    "top5.plot(kind='pie')"
   ]
  },
  {
   "cell_type": "markdown",
   "id": "d061a81b",
   "metadata": {
    "papermill": {
     "duration": 0.020365,
     "end_time": "2022-11-23T13:18:53.447127",
     "exception": false,
     "start_time": "2022-11-23T13:18:53.426762",
     "status": "completed"
    },
    "tags": []
   },
   "source": [
    "เป็นการแสดงข้อมูลเหรียญที่มีมูลค่าน้อยที่สุดในตลาด 5 อันดับ แต่เป็นการแสดงผลในรูปแบบของ pie chart ซึ่งจาก chart นี้ก็จะเห็นได้ว่า Mithril มีสัดส่วนที่น้อยที่สุดหมายความว่า Mithril มีมูลค่าน้อยที่สุดในตลาดนั่นเอง"
   ]
  },
  {
   "cell_type": "code",
   "execution_count": 18,
   "id": "8da6256d",
   "metadata": {
    "execution": {
     "iopub.execute_input": "2022-11-23T13:18:53.491192Z",
     "iopub.status.busy": "2022-11-23T13:18:53.490555Z",
     "iopub.status.idle": "2022-11-23T13:18:53.639820Z",
     "shell.execute_reply": "2022-11-23T13:18:53.639016Z"
    },
    "papermill": {
     "duration": 0.17349,
     "end_time": "2022-11-23T13:18:53.641636",
     "exception": false,
     "start_time": "2022-11-23T13:18:53.468146",
     "status": "completed"
    },
    "tags": []
   },
   "outputs": [
    {
     "data": {
      "text/plain": [
       "<AxesSubplot:ylabel='name'>"
      ]
     },
     "execution_count": 18,
     "metadata": {},
     "output_type": "execute_result"
    },
    {
     "data": {
      "image/png": "[encoded data removed]",
      "text/plain": [
       "<Figure size 432x288 with 1 Axes>"
      ]
     },
     "metadata": {
      "needs_background": "light"
     },
     "output_type": "display_data"
    }
   ],
   "source": [
    "top5.plot(kind='barh')"
   ]
  },
  {
   "cell_type": "code",
   "execution_count": 19,
   "id": "28ec07eb",
   "metadata": {
    "execution": {
     "iopub.execute_input": "2022-11-23T13:18:53.677287Z",
     "iopub.status.busy": "2022-11-23T13:18:53.676679Z",
     "iopub.status.idle": "2022-11-23T13:18:53.793238Z",
     "shell.execute_reply": "2022-11-23T13:18:53.792482Z"
    },
    "papermill": {
     "duration": 0.136465,
     "end_time": "2022-11-23T13:18:53.795247",
     "exception": false,
     "start_time": "2022-11-23T13:18:53.658782",
     "status": "completed"
    },
    "tags": []
   },
   "outputs": [
    {
     "data": {
      "text/plain": [
       "<AxesSubplot:ylabel='volume_billion'>"
      ]
     },
     "execution_count": 19,
     "metadata": {},
     "output_type": "execute_result"
    },
    {
     "data": {
      "image/png": "[encoded data removed]",
      "text/plain": [
       "<Figure size 432x288 with 1 Axes>"
      ]
     },
     "metadata": {},
     "output_type": "display_data"
    }
   ],
   "source": [
    "top10.plot(kind='pie')"
   ]
  },
  {
   "cell_type": "code",
   "execution_count": 20,
   "id": "19519486",
   "metadata": {
    "execution": {
     "iopub.execute_input": "2022-11-23T13:18:53.840802Z",
     "iopub.status.busy": "2022-11-23T13:18:53.840140Z",
     "iopub.status.idle": "2022-11-23T13:18:53.921718Z",
     "shell.execute_reply": "2022-11-23T13:18:53.920656Z"
    },
    "papermill": {
     "duration": 0.106986,
     "end_time": "2022-11-23T13:18:53.924057",
     "exception": false,
     "start_time": "2022-11-23T13:18:53.817071",
     "status": "completed"
    },
    "tags": []
   },
   "outputs": [
    {
     "data": {
      "text/plain": [
       "Index(['Bitcoin', 'XRP', 'Ethereum', 'Bitcoin Cash', 'Stellar'], dtype='object', name='name')"
      ]
     },
     "execution_count": 20,
     "metadata": {},
     "output_type": "execute_result"
    }
   ],
   "source": [
    "top5 = df.groupby(['name'])['market'].last().sort_values(ascending=False).head(5).index\n",
    "top5"
   ]
  },
  {
   "cell_type": "code",
   "execution_count": 21,
   "id": "5a0c74a1",
   "metadata": {
    "execution": {
     "iopub.execute_input": "2022-11-23T13:18:53.960038Z",
     "iopub.status.busy": "2022-11-23T13:18:53.959391Z",
     "iopub.status.idle": "2022-11-23T13:18:54.130459Z",
     "shell.execute_reply": "2022-11-23T13:18:54.128799Z"
    },
    "papermill": {
     "duration": 0.192052,
     "end_time": "2022-11-23T13:18:54.132928",
     "exception": false,
     "start_time": "2022-11-23T13:18:53.940876",
     "status": "completed"
    },
    "tags": []
   },
   "outputs": [],
   "source": [
    " best3 = pd.concat( [df[df['name'] == 'Bitcoin'], df[df['name'] == 'XRP'], df[df['name'] == 'Ethereum']] )"
   ]
  },
  {
   "cell_type": "code",
   "execution_count": 22,
   "id": "3a73de4a",
   "metadata": {
    "execution": {
     "iopub.execute_input": "2022-11-23T13:18:54.169543Z",
     "iopub.status.busy": "2022-11-23T13:18:54.169143Z",
     "iopub.status.idle": "2022-11-23T13:18:54.200215Z",
     "shell.execute_reply": "2022-11-23T13:18:54.199428Z"
    },
    "papermill": {
     "duration": 0.052031,
     "end_time": "2022-11-23T13:18:54.202045",
     "exception": false,
     "start_time": "2022-11-23T13:18:54.150014",
     "status": "completed"
    },
    "tags": []
   },
   "outputs": [
    {
     "data": {
      "text/html": [
       "<div>\n",
       "<style scoped>\n",
       "    .dataframe tbody tr th:only-of-type {\n",
       "        vertical-align: middle;\n",
       "    }\n",
       "\n",
       "    .dataframe tbody tr th {\n",
       "        vertical-align: top;\n",
       "    }\n",
       "\n",
       "    .dataframe thead th {\n",
       "        text-align: right;\n",
       "    }\n",
       "</style>\n",
       "<table border=\"1\" class=\"dataframe\">\n",
       "  <thead>\n",
       "    <tr style=\"text-align: right;\">\n",
       "      <th></th>\n",
       "      <th>slug</th>\n",
       "      <th>symbol</th>\n",
       "      <th>name</th>\n",
       "      <th>date</th>\n",
       "      <th>ranknow</th>\n",
       "      <th>open</th>\n",
       "      <th>high</th>\n",
       "      <th>low</th>\n",
       "      <th>close</th>\n",
       "      <th>volume</th>\n",
       "      <th>market</th>\n",
       "      <th>close_ratio</th>\n",
       "      <th>spread</th>\n",
       "      <th>market_billion</th>\n",
       "      <th>volume_million</th>\n",
       "      <th>volume_billion</th>\n",
       "    </tr>\n",
       "  </thead>\n",
       "  <tbody>\n",
       "    <tr>\n",
       "      <th>0</th>\n",
       "      <td>bitcoin</td>\n",
       "      <td>BTC</td>\n",
       "      <td>Bitcoin</td>\n",
       "      <td>2013-04-28</td>\n",
       "      <td>1</td>\n",
       "      <td>135.30</td>\n",
       "      <td>135.98</td>\n",
       "      <td>132.10</td>\n",
       "      <td>134.21</td>\n",
       "      <td>0.000000e+00</td>\n",
       "      <td>1.488567e+09</td>\n",
       "      <td>0.5438</td>\n",
       "      <td>3.88</td>\n",
       "      <td>1.488567</td>\n",
       "      <td>0.000000</td>\n",
       "      <td>0.000000e+00</td>\n",
       "    </tr>\n",
       "    <tr>\n",
       "      <th>1</th>\n",
       "      <td>bitcoin</td>\n",
       "      <td>BTC</td>\n",
       "      <td>Bitcoin</td>\n",
       "      <td>2013-04-29</td>\n",
       "      <td>1</td>\n",
       "      <td>134.44</td>\n",
       "      <td>147.49</td>\n",
       "      <td>134.00</td>\n",
       "      <td>144.54</td>\n",
       "      <td>0.000000e+00</td>\n",
       "      <td>1.603769e+09</td>\n",
       "      <td>0.7813</td>\n",
       "      <td>13.49</td>\n",
       "      <td>1.603769</td>\n",
       "      <td>0.000000</td>\n",
       "      <td>0.000000e+00</td>\n",
       "    </tr>\n",
       "    <tr>\n",
       "      <th>2</th>\n",
       "      <td>bitcoin</td>\n",
       "      <td>BTC</td>\n",
       "      <td>Bitcoin</td>\n",
       "      <td>2013-04-30</td>\n",
       "      <td>1</td>\n",
       "      <td>144.00</td>\n",
       "      <td>146.93</td>\n",
       "      <td>134.05</td>\n",
       "      <td>139.00</td>\n",
       "      <td>0.000000e+00</td>\n",
       "      <td>1.542813e+09</td>\n",
       "      <td>0.3843</td>\n",
       "      <td>12.88</td>\n",
       "      <td>1.542813</td>\n",
       "      <td>0.000000</td>\n",
       "      <td>0.000000e+00</td>\n",
       "    </tr>\n",
       "    <tr>\n",
       "      <th>3</th>\n",
       "      <td>bitcoin</td>\n",
       "      <td>BTC</td>\n",
       "      <td>Bitcoin</td>\n",
       "      <td>2013-05-01</td>\n",
       "      <td>1</td>\n",
       "      <td>139.00</td>\n",
       "      <td>139.89</td>\n",
       "      <td>107.72</td>\n",
       "      <td>116.99</td>\n",
       "      <td>0.000000e+00</td>\n",
       "      <td>1.298955e+09</td>\n",
       "      <td>0.2882</td>\n",
       "      <td>32.17</td>\n",
       "      <td>1.298955</td>\n",
       "      <td>0.000000</td>\n",
       "      <td>0.000000e+00</td>\n",
       "    </tr>\n",
       "    <tr>\n",
       "      <th>4</th>\n",
       "      <td>bitcoin</td>\n",
       "      <td>BTC</td>\n",
       "      <td>Bitcoin</td>\n",
       "      <td>2013-05-02</td>\n",
       "      <td>1</td>\n",
       "      <td>116.38</td>\n",
       "      <td>125.60</td>\n",
       "      <td>92.28</td>\n",
       "      <td>105.21</td>\n",
       "      <td>0.000000e+00</td>\n",
       "      <td>1.168517e+09</td>\n",
       "      <td>0.3881</td>\n",
       "      <td>33.32</td>\n",
       "      <td>1.168517</td>\n",
       "      <td>0.000000</td>\n",
       "      <td>0.000000e+00</td>\n",
       "    </tr>\n",
       "    <tr>\n",
       "      <th>...</th>\n",
       "      <td>...</td>\n",
       "      <td>...</td>\n",
       "      <td>...</td>\n",
       "      <td>...</td>\n",
       "      <td>...</td>\n",
       "      <td>...</td>\n",
       "      <td>...</td>\n",
       "      <td>...</td>\n",
       "      <td>...</td>\n",
       "      <td>...</td>\n",
       "      <td>...</td>\n",
       "      <td>...</td>\n",
       "      <td>...</td>\n",
       "      <td>...</td>\n",
       "      <td>...</td>\n",
       "      <td>...</td>\n",
       "    </tr>\n",
       "    <tr>\n",
       "      <th>5192</th>\n",
       "      <td>ethereum</td>\n",
       "      <td>ETH</td>\n",
       "      <td>Ethereum</td>\n",
       "      <td>2018-11-25</td>\n",
       "      <td>3</td>\n",
       "      <td>113.13</td>\n",
       "      <td>118.88</td>\n",
       "      <td>101.77</td>\n",
       "      <td>116.45</td>\n",
       "      <td>2.466750e+09</td>\n",
       "      <td>1.204390e+10</td>\n",
       "      <td>0.8580</td>\n",
       "      <td>17.11</td>\n",
       "      <td>12.043901</td>\n",
       "      <td>2.466750</td>\n",
       "      <td>2.466750e+09</td>\n",
       "    </tr>\n",
       "    <tr>\n",
       "      <th>5193</th>\n",
       "      <td>ethereum</td>\n",
       "      <td>ETH</td>\n",
       "      <td>Ethereum</td>\n",
       "      <td>2018-11-26</td>\n",
       "      <td>3</td>\n",
       "      <td>116.34</td>\n",
       "      <td>118.20</td>\n",
       "      <td>104.89</td>\n",
       "      <td>108.33</td>\n",
       "      <td>2.139490e+09</td>\n",
       "      <td>1.120678e+10</td>\n",
       "      <td>0.2585</td>\n",
       "      <td>13.31</td>\n",
       "      <td>11.206775</td>\n",
       "      <td>2.139490</td>\n",
       "      <td>2.139490e+09</td>\n",
       "    </tr>\n",
       "    <tr>\n",
       "      <th>5194</th>\n",
       "      <td>ethereum</td>\n",
       "      <td>ETH</td>\n",
       "      <td>Ethereum</td>\n",
       "      <td>2018-11-27</td>\n",
       "      <td>3</td>\n",
       "      <td>107.91</td>\n",
       "      <td>111.84</td>\n",
       "      <td>102.45</td>\n",
       "      <td>110.01</td>\n",
       "      <td>2.320010e+09</td>\n",
       "      <td>1.138222e+10</td>\n",
       "      <td>0.8051</td>\n",
       "      <td>9.39</td>\n",
       "      <td>11.382217</td>\n",
       "      <td>2.320010</td>\n",
       "      <td>2.320010e+09</td>\n",
       "    </tr>\n",
       "    <tr>\n",
       "      <th>5195</th>\n",
       "      <td>ethereum</td>\n",
       "      <td>ETH</td>\n",
       "      <td>Ethereum</td>\n",
       "      <td>2018-11-28</td>\n",
       "      <td>3</td>\n",
       "      <td>110.20</td>\n",
       "      <td>126.05</td>\n",
       "      <td>110.20</td>\n",
       "      <td>122.44</td>\n",
       "      <td>2.673470e+09</td>\n",
       "      <td>1.267049e+10</td>\n",
       "      <td>0.7722</td>\n",
       "      <td>15.85</td>\n",
       "      <td>12.670491</td>\n",
       "      <td>2.673470</td>\n",
       "      <td>2.673470e+09</td>\n",
       "    </tr>\n",
       "    <tr>\n",
       "      <th>5196</th>\n",
       "      <td>ethereum</td>\n",
       "      <td>ETH</td>\n",
       "      <td>Ethereum</td>\n",
       "      <td>2018-11-29</td>\n",
       "      <td>3</td>\n",
       "      <td>122.72</td>\n",
       "      <td>123.23</td>\n",
       "      <td>115.30</td>\n",
       "      <td>117.54</td>\n",
       "      <td>2.196099e+09</td>\n",
       "      <td>1.216629e+10</td>\n",
       "      <td>0.2825</td>\n",
       "      <td>7.93</td>\n",
       "      <td>12.166286</td>\n",
       "      <td>2.196099</td>\n",
       "      <td>2.196099e+09</td>\n",
       "    </tr>\n",
       "  </tbody>\n",
       "</table>\n",
       "<p>5197 rows × 16 columns</p>\n",
       "</div>"
      ],
      "text/plain": [
       "          slug symbol      name       date  ranknow    open    high     low  \\\n",
       "0      bitcoin    BTC   Bitcoin 2013-04-28        1  135.30  135.98  132.10   \n",
       "1      bitcoin    BTC   Bitcoin 2013-04-29        1  134.44  147.49  134.00   \n",
       "2      bitcoin    BTC   Bitcoin 2013-04-30        1  144.00  146.93  134.05   \n",
       "3      bitcoin    BTC   Bitcoin 2013-05-01        1  139.00  139.89  107.72   \n",
       "4      bitcoin    BTC   Bitcoin 2013-05-02        1  116.38  125.60   92.28   \n",
       "...        ...    ...       ...        ...      ...     ...     ...     ...   \n",
       "5192  ethereum    ETH  Ethereum 2018-11-25        3  113.13  118.88  101.77   \n",
       "5193  ethereum    ETH  Ethereum 2018-11-26        3  116.34  118.20  104.89   \n",
       "5194  ethereum    ETH  Ethereum 2018-11-27        3  107.91  111.84  102.45   \n",
       "5195  ethereum    ETH  Ethereum 2018-11-28        3  110.20  126.05  110.20   \n",
       "5196  ethereum    ETH  Ethereum 2018-11-29        3  122.72  123.23  115.30   \n",
       "\n",
       "       close        volume        market  close_ratio  spread  market_billion  \\\n",
       "0     134.21  0.000000e+00  1.488567e+09       0.5438    3.88        1.488567   \n",
       "1     144.54  0.000000e+00  1.603769e+09       0.7813   13.49        1.603769   \n",
       "2     139.00  0.000000e+00  1.542813e+09       0.3843   12.88        1.542813   \n",
       "3     116.99  0.000000e+00  1.298955e+09       0.2882   32.17        1.298955   \n",
       "4     105.21  0.000000e+00  1.168517e+09       0.3881   33.32        1.168517   \n",
       "...      ...           ...           ...          ...     ...             ...   \n",
       "5192  116.45  2.466750e+09  1.204390e+10       0.8580   17.11       12.043901   \n",
       "5193  108.33  2.139490e+09  1.120678e+10       0.2585   13.31       11.206775   \n",
       "5194  110.01  2.320010e+09  1.138222e+10       0.8051    9.39       11.382217   \n",
       "5195  122.44  2.673470e+09  1.267049e+10       0.7722   15.85       12.670491   \n",
       "5196  117.54  2.196099e+09  1.216629e+10       0.2825    7.93       12.166286   \n",
       "\n",
       "      volume_million  volume_billion  \n",
       "0           0.000000    0.000000e+00  \n",
       "1           0.000000    0.000000e+00  \n",
       "2           0.000000    0.000000e+00  \n",
       "3           0.000000    0.000000e+00  \n",
       "4           0.000000    0.000000e+00  \n",
       "...              ...             ...  \n",
       "5192        2.466750    2.466750e+09  \n",
       "5193        2.139490    2.139490e+09  \n",
       "5194        2.320010    2.320010e+09  \n",
       "5195        2.673470    2.673470e+09  \n",
       "5196        2.196099    2.196099e+09  \n",
       "\n",
       "[5197 rows x 16 columns]"
      ]
     },
     "execution_count": 22,
     "metadata": {},
     "output_type": "execute_result"
    }
   ],
   "source": [
    "best3"
   ]
  },
  {
   "cell_type": "code",
   "execution_count": 23,
   "id": "3e2d9c74",
   "metadata": {
    "execution": {
     "iopub.execute_input": "2022-11-23T13:18:54.239655Z",
     "iopub.status.busy": "2022-11-23T13:18:54.238500Z",
     "iopub.status.idle": "2022-11-23T13:18:54.257619Z",
     "shell.execute_reply": "2022-11-23T13:18:54.256756Z"
    },
    "papermill": {
     "duration": 0.040211,
     "end_time": "2022-11-23T13:18:54.259400",
     "exception": false,
     "start_time": "2022-11-23T13:18:54.219189",
     "status": "completed"
    },
    "tags": []
   },
   "outputs": [
    {
     "data": {
      "text/html": [
       "<div>\n",
       "<style scoped>\n",
       "    .dataframe tbody tr th:only-of-type {\n",
       "        vertical-align: middle;\n",
       "    }\n",
       "\n",
       "    .dataframe tbody tr th {\n",
       "        vertical-align: top;\n",
       "    }\n",
       "\n",
       "    .dataframe thead th {\n",
       "        text-align: right;\n",
       "    }\n",
       "</style>\n",
       "<table border=\"1\" class=\"dataframe\">\n",
       "  <thead>\n",
       "    <tr style=\"text-align: right;\">\n",
       "      <th>name</th>\n",
       "      <th>Bitcoin</th>\n",
       "      <th>Ethereum</th>\n",
       "      <th>XRP</th>\n",
       "    </tr>\n",
       "    <tr>\n",
       "      <th>date</th>\n",
       "      <th></th>\n",
       "      <th></th>\n",
       "      <th></th>\n",
       "    </tr>\n",
       "  </thead>\n",
       "  <tbody>\n",
       "    <tr>\n",
       "      <th>2013-04-28</th>\n",
       "      <td>134.21</td>\n",
       "      <td>NaN</td>\n",
       "      <td>NaN</td>\n",
       "    </tr>\n",
       "    <tr>\n",
       "      <th>2013-04-29</th>\n",
       "      <td>144.54</td>\n",
       "      <td>NaN</td>\n",
       "      <td>NaN</td>\n",
       "    </tr>\n",
       "    <tr>\n",
       "      <th>2013-04-30</th>\n",
       "      <td>139.00</td>\n",
       "      <td>NaN</td>\n",
       "      <td>NaN</td>\n",
       "    </tr>\n",
       "    <tr>\n",
       "      <th>2013-05-01</th>\n",
       "      <td>116.99</td>\n",
       "      <td>NaN</td>\n",
       "      <td>NaN</td>\n",
       "    </tr>\n",
       "    <tr>\n",
       "      <th>2013-05-02</th>\n",
       "      <td>105.21</td>\n",
       "      <td>NaN</td>\n",
       "      <td>NaN</td>\n",
       "    </tr>\n",
       "    <tr>\n",
       "      <th>...</th>\n",
       "      <td>...</td>\n",
       "      <td>...</td>\n",
       "      <td>...</td>\n",
       "    </tr>\n",
       "    <tr>\n",
       "      <th>2018-11-25</th>\n",
       "      <td>4009.97</td>\n",
       "      <td>116.45</td>\n",
       "      <td>0.374551</td>\n",
       "    </tr>\n",
       "    <tr>\n",
       "      <th>2018-11-26</th>\n",
       "      <td>3779.13</td>\n",
       "      <td>108.33</td>\n",
       "      <td>0.355451</td>\n",
       "    </tr>\n",
       "    <tr>\n",
       "      <th>2018-11-27</th>\n",
       "      <td>3820.72</td>\n",
       "      <td>110.01</td>\n",
       "      <td>0.360163</td>\n",
       "    </tr>\n",
       "    <tr>\n",
       "      <th>2018-11-28</th>\n",
       "      <td>4257.42</td>\n",
       "      <td>122.44</td>\n",
       "      <td>0.390557</td>\n",
       "    </tr>\n",
       "    <tr>\n",
       "      <th>2018-11-29</th>\n",
       "      <td>4278.85</td>\n",
       "      <td>117.54</td>\n",
       "      <td>0.379562</td>\n",
       "    </tr>\n",
       "  </tbody>\n",
       "</table>\n",
       "<p>2042 rows × 3 columns</p>\n",
       "</div>"
      ],
      "text/plain": [
       "name        Bitcoin  Ethereum       XRP\n",
       "date                                   \n",
       "2013-04-28   134.21       NaN       NaN\n",
       "2013-04-29   144.54       NaN       NaN\n",
       "2013-04-30   139.00       NaN       NaN\n",
       "2013-05-01   116.99       NaN       NaN\n",
       "2013-05-02   105.21       NaN       NaN\n",
       "...             ...       ...       ...\n",
       "2018-11-25  4009.97    116.45  0.374551\n",
       "2018-11-26  3779.13    108.33  0.355451\n",
       "2018-11-27  3820.72    110.01  0.360163\n",
       "2018-11-28  4257.42    122.44  0.390557\n",
       "2018-11-29  4278.85    117.54  0.379562\n",
       "\n",
       "[2042 rows x 3 columns]"
      ]
     },
     "execution_count": 23,
     "metadata": {},
     "output_type": "execute_result"
    }
   ],
   "source": [
    "best3.groupby(['date','name'])['close'].mean().unstack()"
   ]
  },
  {
   "cell_type": "code",
   "execution_count": 24,
   "id": "edfc4023",
   "metadata": {
    "execution": {
     "iopub.execute_input": "2022-11-23T13:18:54.295304Z",
     "iopub.status.busy": "2022-11-23T13:18:54.294690Z",
     "iopub.status.idle": "2022-11-23T13:18:54.693750Z",
     "shell.execute_reply": "2022-11-23T13:18:54.692873Z"
    },
    "papermill": {
     "duration": 0.419265,
     "end_time": "2022-11-23T13:18:54.695786",
     "exception": false,
     "start_time": "2022-11-23T13:18:54.276521",
     "status": "completed"
    },
    "tags": []
   },
   "outputs": [
    {
     "data": {
      "text/plain": [
       "<AxesSubplot:xlabel='date'>"
      ]
     },
     "execution_count": 24,
     "metadata": {},
     "output_type": "execute_result"
    },
    {
     "data": {
      "image/png": "[encoded data removed]",
      "text/plain": [
       "<Figure size 432x288 with 1 Axes>"
      ]
     },
     "metadata": {
      "needs_background": "light"
     },
     "output_type": "display_data"
    }
   ],
   "source": [
    "best3.groupby(['date','name'])['close'].mean().unstack().plot()"
   ]
  },
  {
   "cell_type": "code",
   "execution_count": 25,
   "id": "f820196d",
   "metadata": {
    "execution": {
     "iopub.execute_input": "2022-11-23T13:18:54.733453Z",
     "iopub.status.busy": "2022-11-23T13:18:54.732859Z",
     "iopub.status.idle": "2022-11-23T13:18:54.740385Z",
     "shell.execute_reply": "2022-11-23T13:18:54.739685Z"
    },
    "papermill": {
     "duration": 0.028132,
     "end_time": "2022-11-23T13:18:54.742120",
     "exception": false,
     "start_time": "2022-11-23T13:18:54.713988",
     "status": "completed"
    },
    "tags": []
   },
   "outputs": [
    {
     "data": {
      "text/plain": [
       "0       2013\n",
       "1       2013\n",
       "2       2013\n",
       "3       2013\n",
       "4       2013\n",
       "        ... \n",
       "5192    2018\n",
       "5193    2018\n",
       "5194    2018\n",
       "5195    2018\n",
       "5196    2018\n",
       "Name: date, Length: 5197, dtype: int64"
      ]
     },
     "execution_count": 25,
     "metadata": {},
     "output_type": "execute_result"
    }
   ],
   "source": [
    "best3['date'].dt.year"
   ]
  },
  {
   "cell_type": "code",
   "execution_count": 26,
   "id": "6d5f45b4",
   "metadata": {
    "execution": {
     "iopub.execute_input": "2022-11-23T13:18:54.779255Z",
     "iopub.status.busy": "2022-11-23T13:18:54.778902Z",
     "iopub.status.idle": "2022-11-23T13:18:55.128001Z",
     "shell.execute_reply": "2022-11-23T13:18:55.126712Z"
    },
    "papermill": {
     "duration": 0.370055,
     "end_time": "2022-11-23T13:18:55.130091",
     "exception": false,
     "start_time": "2022-11-23T13:18:54.760036",
     "status": "completed"
    },
    "tags": []
   },
   "outputs": [
    {
     "data": {
      "text/plain": [
       "<AxesSubplot:xlabel='date'>"
      ]
     },
     "execution_count": 26,
     "metadata": {},
     "output_type": "execute_result"
    },
    {
     "data": {
      "image/png": "[encoded data removed]",
      "text/plain": [
       "<Figure size 432x288 with 1 Axes>"
      ]
     },
     "metadata": {
      "needs_background": "light"
     },
     "output_type": "display_data"
    }
   ],
   "source": [
    "best3[best3['date'].dt.year == 2018].groupby(['date','name'])['close'].mean().unstack().plot()"
   ]
  },
  {
   "cell_type": "markdown",
   "id": "13d68772",
   "metadata": {
    "papermill": {
     "duration": 0.018055,
     "end_time": "2022-11-23T13:18:55.166517",
     "exception": false,
     "start_time": "2022-11-23T13:18:55.148462",
     "status": "completed"
    },
    "tags": []
   },
   "source": [
    "<h2> Correlation </h2>"
   ]
  },
  {
   "cell_type": "code",
   "execution_count": 27,
   "id": "ff9c0ec7",
   "metadata": {
    "execution": {
     "iopub.execute_input": "2022-11-23T13:18:55.204806Z",
     "iopub.status.busy": "2022-11-23T13:18:55.204430Z",
     "iopub.status.idle": "2022-11-23T13:18:55.235507Z",
     "shell.execute_reply": "2022-11-23T13:18:55.234080Z"
    },
    "papermill": {
     "duration": 0.053343,
     "end_time": "2022-11-23T13:18:55.238205",
     "exception": false,
     "start_time": "2022-11-23T13:18:55.184862",
     "status": "completed"
    },
    "tags": []
   },
   "outputs": [
    {
     "data": {
      "text/html": [
       "<div>\n",
       "<style scoped>\n",
       "    .dataframe tbody tr th:only-of-type {\n",
       "        vertical-align: middle;\n",
       "    }\n",
       "\n",
       "    .dataframe tbody tr th {\n",
       "        vertical-align: top;\n",
       "    }\n",
       "\n",
       "    .dataframe thead th {\n",
       "        text-align: right;\n",
       "    }\n",
       "</style>\n",
       "<table border=\"1\" class=\"dataframe\">\n",
       "  <thead>\n",
       "    <tr style=\"text-align: right;\">\n",
       "      <th>name</th>\n",
       "      <th>0chain</th>\n",
       "      <th>0x</th>\n",
       "      <th>0xBitcoin</th>\n",
       "      <th>0xcert</th>\n",
       "      <th>1World</th>\n",
       "      <th>2GIVE</th>\n",
       "      <th>300 Token</th>\n",
       "      <th>42-coin</th>\n",
       "      <th>4NEW</th>\n",
       "      <th>808Coin</th>\n",
       "      <th>...</th>\n",
       "      <th>imbrex</th>\n",
       "      <th>indaHash</th>\n",
       "      <th>nDEX</th>\n",
       "      <th>nUSD</th>\n",
       "      <th>savedroid</th>\n",
       "      <th>smARTOFGIVING</th>\n",
       "      <th>ugChain</th>\n",
       "      <th>vSlice</th>\n",
       "      <th>vSportCoin</th>\n",
       "      <th>wys Token</th>\n",
       "    </tr>\n",
       "    <tr>\n",
       "      <th>date</th>\n",
       "      <th></th>\n",
       "      <th></th>\n",
       "      <th></th>\n",
       "      <th></th>\n",
       "      <th></th>\n",
       "      <th></th>\n",
       "      <th></th>\n",
       "      <th></th>\n",
       "      <th></th>\n",
       "      <th></th>\n",
       "      <th></th>\n",
       "      <th></th>\n",
       "      <th></th>\n",
       "      <th></th>\n",
       "      <th></th>\n",
       "      <th></th>\n",
       "      <th></th>\n",
       "      <th></th>\n",
       "      <th></th>\n",
       "      <th></th>\n",
       "      <th></th>\n",
       "    </tr>\n",
       "  </thead>\n",
       "  <tbody>\n",
       "    <tr>\n",
       "      <th>2013-04-28</th>\n",
       "      <td>NaN</td>\n",
       "      <td>NaN</td>\n",
       "      <td>NaN</td>\n",
       "      <td>NaN</td>\n",
       "      <td>NaN</td>\n",
       "      <td>NaN</td>\n",
       "      <td>NaN</td>\n",
       "      <td>NaN</td>\n",
       "      <td>NaN</td>\n",
       "      <td>NaN</td>\n",
       "      <td>...</td>\n",
       "      <td>NaN</td>\n",
       "      <td>NaN</td>\n",
       "      <td>NaN</td>\n",
       "      <td>NaN</td>\n",
       "      <td>NaN</td>\n",
       "      <td>NaN</td>\n",
       "      <td>NaN</td>\n",
       "      <td>NaN</td>\n",
       "      <td>NaN</td>\n",
       "      <td>NaN</td>\n",
       "    </tr>\n",
       "    <tr>\n",
       "      <th>2013-04-29</th>\n",
       "      <td>NaN</td>\n",
       "      <td>NaN</td>\n",
       "      <td>NaN</td>\n",
       "      <td>NaN</td>\n",
       "      <td>NaN</td>\n",
       "      <td>NaN</td>\n",
       "      <td>NaN</td>\n",
       "      <td>NaN</td>\n",
       "      <td>NaN</td>\n",
       "      <td>NaN</td>\n",
       "      <td>...</td>\n",
       "      <td>NaN</td>\n",
       "      <td>NaN</td>\n",
       "      <td>NaN</td>\n",
       "      <td>NaN</td>\n",
       "      <td>NaN</td>\n",
       "      <td>NaN</td>\n",
       "      <td>NaN</td>\n",
       "      <td>NaN</td>\n",
       "      <td>NaN</td>\n",
       "      <td>NaN</td>\n",
       "    </tr>\n",
       "    <tr>\n",
       "      <th>2013-04-30</th>\n",
       "      <td>NaN</td>\n",
       "      <td>NaN</td>\n",
       "      <td>NaN</td>\n",
       "      <td>NaN</td>\n",
       "      <td>NaN</td>\n",
       "      <td>NaN</td>\n",
       "      <td>NaN</td>\n",
       "      <td>NaN</td>\n",
       "      <td>NaN</td>\n",
       "      <td>NaN</td>\n",
       "      <td>...</td>\n",
       "      <td>NaN</td>\n",
       "      <td>NaN</td>\n",
       "      <td>NaN</td>\n",
       "      <td>NaN</td>\n",
       "      <td>NaN</td>\n",
       "      <td>NaN</td>\n",
       "      <td>NaN</td>\n",
       "      <td>NaN</td>\n",
       "      <td>NaN</td>\n",
       "      <td>NaN</td>\n",
       "    </tr>\n",
       "    <tr>\n",
       "      <th>2013-05-01</th>\n",
       "      <td>NaN</td>\n",
       "      <td>NaN</td>\n",
       "      <td>NaN</td>\n",
       "      <td>NaN</td>\n",
       "      <td>NaN</td>\n",
       "      <td>NaN</td>\n",
       "      <td>NaN</td>\n",
       "      <td>NaN</td>\n",
       "      <td>NaN</td>\n",
       "      <td>NaN</td>\n",
       "      <td>...</td>\n",
       "      <td>NaN</td>\n",
       "      <td>NaN</td>\n",
       "      <td>NaN</td>\n",
       "      <td>NaN</td>\n",
       "      <td>NaN</td>\n",
       "      <td>NaN</td>\n",
       "      <td>NaN</td>\n",
       "      <td>NaN</td>\n",
       "      <td>NaN</td>\n",
       "      <td>NaN</td>\n",
       "    </tr>\n",
       "    <tr>\n",
       "      <th>2013-05-02</th>\n",
       "      <td>NaN</td>\n",
       "      <td>NaN</td>\n",
       "      <td>NaN</td>\n",
       "      <td>NaN</td>\n",
       "      <td>NaN</td>\n",
       "      <td>NaN</td>\n",
       "      <td>NaN</td>\n",
       "      <td>NaN</td>\n",
       "      <td>NaN</td>\n",
       "      <td>NaN</td>\n",
       "      <td>...</td>\n",
       "      <td>NaN</td>\n",
       "      <td>NaN</td>\n",
       "      <td>NaN</td>\n",
       "      <td>NaN</td>\n",
       "      <td>NaN</td>\n",
       "      <td>NaN</td>\n",
       "      <td>NaN</td>\n",
       "      <td>NaN</td>\n",
       "      <td>NaN</td>\n",
       "      <td>NaN</td>\n",
       "    </tr>\n",
       "    <tr>\n",
       "      <th>...</th>\n",
       "      <td>...</td>\n",
       "      <td>...</td>\n",
       "      <td>...</td>\n",
       "      <td>...</td>\n",
       "      <td>...</td>\n",
       "      <td>...</td>\n",
       "      <td>...</td>\n",
       "      <td>...</td>\n",
       "      <td>...</td>\n",
       "      <td>...</td>\n",
       "      <td>...</td>\n",
       "      <td>...</td>\n",
       "      <td>...</td>\n",
       "      <td>...</td>\n",
       "      <td>...</td>\n",
       "      <td>...</td>\n",
       "      <td>...</td>\n",
       "      <td>...</td>\n",
       "      <td>...</td>\n",
       "      <td>...</td>\n",
       "      <td>...</td>\n",
       "    </tr>\n",
       "    <tr>\n",
       "      <th>2018-11-26</th>\n",
       "      <td>0.094182</td>\n",
       "      <td>0.347974</td>\n",
       "      <td>0.321285</td>\n",
       "      <td>0.001996</td>\n",
       "      <td>0.085203</td>\n",
       "      <td>0.001617</td>\n",
       "      <td>175.98</td>\n",
       "      <td>23575.30</td>\n",
       "      <td>0.023521</td>\n",
       "      <td>2.400000e-07</td>\n",
       "      <td>...</td>\n",
       "      <td>0.047550</td>\n",
       "      <td>0.003004</td>\n",
       "      <td>0.000010</td>\n",
       "      <td>0.967816</td>\n",
       "      <td>0.000365</td>\n",
       "      <td>0.062159</td>\n",
       "      <td>0.002505</td>\n",
       "      <td>0.002036</td>\n",
       "      <td>0.001411</td>\n",
       "      <td>0.004873</td>\n",
       "    </tr>\n",
       "    <tr>\n",
       "      <th>2018-11-27</th>\n",
       "      <td>0.094085</td>\n",
       "      <td>0.357042</td>\n",
       "      <td>0.366923</td>\n",
       "      <td>0.001905</td>\n",
       "      <td>0.075873</td>\n",
       "      <td>0.001563</td>\n",
       "      <td>133.68</td>\n",
       "      <td>25086.00</td>\n",
       "      <td>0.020391</td>\n",
       "      <td>2.500000e-07</td>\n",
       "      <td>...</td>\n",
       "      <td>0.049915</td>\n",
       "      <td>0.003150</td>\n",
       "      <td>0.000010</td>\n",
       "      <td>0.994856</td>\n",
       "      <td>0.000371</td>\n",
       "      <td>0.070546</td>\n",
       "      <td>0.002612</td>\n",
       "      <td>0.002028</td>\n",
       "      <td>0.001408</td>\n",
       "      <td>0.004697</td>\n",
       "    </tr>\n",
       "    <tr>\n",
       "      <th>2018-11-28</th>\n",
       "      <td>0.106128</td>\n",
       "      <td>0.435269</td>\n",
       "      <td>0.418035</td>\n",
       "      <td>0.002013</td>\n",
       "      <td>0.084989</td>\n",
       "      <td>0.001903</td>\n",
       "      <td>148.18</td>\n",
       "      <td>25512.10</td>\n",
       "      <td>0.019501</td>\n",
       "      <td>2.300000e-07</td>\n",
       "      <td>...</td>\n",
       "      <td>0.051809</td>\n",
       "      <td>0.003925</td>\n",
       "      <td>0.000014</td>\n",
       "      <td>0.996896</td>\n",
       "      <td>0.000424</td>\n",
       "      <td>0.078514</td>\n",
       "      <td>0.002917</td>\n",
       "      <td>0.002466</td>\n",
       "      <td>0.001391</td>\n",
       "      <td>0.005635</td>\n",
       "    </tr>\n",
       "    <tr>\n",
       "      <th>2018-11-29</th>\n",
       "      <td>0.102817</td>\n",
       "      <td>0.436696</td>\n",
       "      <td>0.366632</td>\n",
       "      <td>0.001886</td>\n",
       "      <td>0.076219</td>\n",
       "      <td>0.001921</td>\n",
       "      <td>149.74</td>\n",
       "      <td>23217.94</td>\n",
       "      <td>0.019151</td>\n",
       "      <td>2.600000e-07</td>\n",
       "      <td>...</td>\n",
       "      <td>0.071804</td>\n",
       "      <td>0.003912</td>\n",
       "      <td>0.000012</td>\n",
       "      <td>0.980698</td>\n",
       "      <td>0.000452</td>\n",
       "      <td>0.078595</td>\n",
       "      <td>0.002599</td>\n",
       "      <td>0.002526</td>\n",
       "      <td>0.001450</td>\n",
       "      <td>0.005465</td>\n",
       "    </tr>\n",
       "    <tr>\n",
       "      <th>2018-11-30</th>\n",
       "      <td>NaN</td>\n",
       "      <td>NaN</td>\n",
       "      <td>NaN</td>\n",
       "      <td>NaN</td>\n",
       "      <td>NaN</td>\n",
       "      <td>NaN</td>\n",
       "      <td>NaN</td>\n",
       "      <td>22665.93</td>\n",
       "      <td>NaN</td>\n",
       "      <td>NaN</td>\n",
       "      <td>...</td>\n",
       "      <td>NaN</td>\n",
       "      <td>NaN</td>\n",
       "      <td>NaN</td>\n",
       "      <td>NaN</td>\n",
       "      <td>NaN</td>\n",
       "      <td>NaN</td>\n",
       "      <td>NaN</td>\n",
       "      <td>NaN</td>\n",
       "      <td>NaN</td>\n",
       "      <td>NaN</td>\n",
       "    </tr>\n",
       "  </tbody>\n",
       "</table>\n",
       "<p>2043 rows × 2071 columns</p>\n",
       "</div>"
      ],
      "text/plain": [
       "name          0chain        0x  0xBitcoin    0xcert    1World     2GIVE  \\\n",
       "date                                                                      \n",
       "2013-04-28       NaN       NaN        NaN       NaN       NaN       NaN   \n",
       "2013-04-29       NaN       NaN        NaN       NaN       NaN       NaN   \n",
       "2013-04-30       NaN       NaN        NaN       NaN       NaN       NaN   \n",
       "2013-05-01       NaN       NaN        NaN       NaN       NaN       NaN   \n",
       "2013-05-02       NaN       NaN        NaN       NaN       NaN       NaN   \n",
       "...              ...       ...        ...       ...       ...       ...   \n",
       "2018-11-26  0.094182  0.347974   0.321285  0.001996  0.085203  0.001617   \n",
       "2018-11-27  0.094085  0.357042   0.366923  0.001905  0.075873  0.001563   \n",
       "2018-11-28  0.106128  0.435269   0.418035  0.002013  0.084989  0.001903   \n",
       "2018-11-29  0.102817  0.436696   0.366632  0.001886  0.076219  0.001921   \n",
       "2018-11-30       NaN       NaN        NaN       NaN       NaN       NaN   \n",
       "\n",
       "name        300 Token   42-coin      4NEW       808Coin  ...    imbrex  \\\n",
       "date                                                     ...             \n",
       "2013-04-28        NaN       NaN       NaN           NaN  ...       NaN   \n",
       "2013-04-29        NaN       NaN       NaN           NaN  ...       NaN   \n",
       "2013-04-30        NaN       NaN       NaN           NaN  ...       NaN   \n",
       "2013-05-01        NaN       NaN       NaN           NaN  ...       NaN   \n",
       "2013-05-02        NaN       NaN       NaN           NaN  ...       NaN   \n",
       "...               ...       ...       ...           ...  ...       ...   \n",
       "2018-11-26     175.98  23575.30  0.023521  2.400000e-07  ...  0.047550   \n",
       "2018-11-27     133.68  25086.00  0.020391  2.500000e-07  ...  0.049915   \n",
       "2018-11-28     148.18  25512.10  0.019501  2.300000e-07  ...  0.051809   \n",
       "2018-11-29     149.74  23217.94  0.019151  2.600000e-07  ...  0.071804   \n",
       "2018-11-30        NaN  22665.93       NaN           NaN  ...       NaN   \n",
       "\n",
       "name        indaHash      nDEX      nUSD  savedroid  smARTOFGIVING   ugChain  \\\n",
       "date                                                                           \n",
       "2013-04-28       NaN       NaN       NaN        NaN            NaN       NaN   \n",
       "2013-04-29       NaN       NaN       NaN        NaN            NaN       NaN   \n",
       "2013-04-30       NaN       NaN       NaN        NaN            NaN       NaN   \n",
       "2013-05-01       NaN       NaN       NaN        NaN            NaN       NaN   \n",
       "2013-05-02       NaN       NaN       NaN        NaN            NaN       NaN   \n",
       "...              ...       ...       ...        ...            ...       ...   \n",
       "2018-11-26  0.003004  0.000010  0.967816   0.000365       0.062159  0.002505   \n",
       "2018-11-27  0.003150  0.000010  0.994856   0.000371       0.070546  0.002612   \n",
       "2018-11-28  0.003925  0.000014  0.996896   0.000424       0.078514  0.002917   \n",
       "2018-11-29  0.003912  0.000012  0.980698   0.000452       0.078595  0.002599   \n",
       "2018-11-30       NaN       NaN       NaN        NaN            NaN       NaN   \n",
       "\n",
       "name          vSlice  vSportCoin  wys Token  \n",
       "date                                         \n",
       "2013-04-28       NaN         NaN        NaN  \n",
       "2013-04-29       NaN         NaN        NaN  \n",
       "2013-04-30       NaN         NaN        NaN  \n",
       "2013-05-01       NaN         NaN        NaN  \n",
       "2013-05-02       NaN         NaN        NaN  \n",
       "...              ...         ...        ...  \n",
       "2018-11-26  0.002036    0.001411   0.004873  \n",
       "2018-11-27  0.002028    0.001408   0.004697  \n",
       "2018-11-28  0.002466    0.001391   0.005635  \n",
       "2018-11-29  0.002526    0.001450   0.005465  \n",
       "2018-11-30       NaN         NaN        NaN  \n",
       "\n",
       "[2043 rows x 2071 columns]"
      ]
     },
     "execution_count": 27,
     "metadata": {},
     "output_type": "execute_result"
    }
   ],
   "source": [
    "close_price"
   ]
  },
  {
   "cell_type": "code",
   "execution_count": 28,
   "id": "71257382",
   "metadata": {
    "execution": {
     "iopub.execute_input": "2022-11-23T13:18:55.278051Z",
     "iopub.status.busy": "2022-11-23T13:18:55.277678Z",
     "iopub.status.idle": "2022-11-23T13:18:55.285533Z",
     "shell.execute_reply": "2022-11-23T13:18:55.284423Z"
    },
    "papermill": {
     "duration": 0.030521,
     "end_time": "2022-11-23T13:18:55.287660",
     "exception": false,
     "start_time": "2022-11-23T13:18:55.257139",
     "status": "completed"
    },
    "tags": []
   },
   "outputs": [
    {
     "data": {
      "text/plain": [
       "array(['Bitcoin', 'XRP', 'Ethereum'], dtype=object)"
      ]
     },
     "execution_count": 28,
     "metadata": {},
     "output_type": "execute_result"
    }
   ],
   "source": [
    "best3['name'].unique()"
   ]
  },
  {
   "cell_type": "code",
   "execution_count": 29,
   "id": "fa4fd0f8",
   "metadata": {
    "execution": {
     "iopub.execute_input": "2022-11-23T13:18:55.326718Z",
     "iopub.status.busy": "2022-11-23T13:18:55.326350Z",
     "iopub.status.idle": "2022-11-23T13:18:56.418427Z",
     "shell.execute_reply": "2022-11-23T13:18:56.416714Z"
    },
    "papermill": {
     "duration": 1.114752,
     "end_time": "2022-11-23T13:18:56.421306",
     "exception": false,
     "start_time": "2022-11-23T13:18:55.306554",
     "status": "completed"
    },
    "tags": []
   },
   "outputs": [
    {
     "data": {
      "image/png": "[encoded data removed]",
      "text/plain": [
       "<Figure size 1008x576 with 2 Axes>"
      ]
     },
     "metadata": {
      "needs_background": "light"
     },
     "output_type": "display_data"
    }
   ],
   "source": [
    "import seaborn as sns\n",
    "plt.figure(figsize=(14,8))\n",
    "sns.heatmap(close_price[best3['name'].unique()].corr(), cmap='coolwarm', annot=True);"
   ]
  },
  {
   "cell_type": "markdown",
   "id": "35f7300f",
   "metadata": {
    "papermill": {
     "duration": 0.020043,
     "end_time": "2022-11-23T13:18:56.461929",
     "exception": false,
     "start_time": "2022-11-23T13:18:56.441886",
     "status": "completed"
    },
    "tags": []
   },
   "source": [
    "<h2> Anova </h2>"
   ]
  },
  {
   "cell_type": "code",
   "execution_count": 30,
   "id": "e792ff24",
   "metadata": {
    "execution": {
     "iopub.execute_input": "2022-11-23T13:18:56.505083Z",
     "iopub.status.busy": "2022-11-23T13:18:56.504699Z",
     "iopub.status.idle": "2022-11-23T13:18:56.514316Z",
     "shell.execute_reply": "2022-11-23T13:18:56.512857Z"
    },
    "papermill": {
     "duration": 0.034311,
     "end_time": "2022-11-23T13:18:56.516746",
     "exception": false,
     "start_time": "2022-11-23T13:18:56.482435",
     "status": "completed"
    },
    "tags": []
   },
   "outputs": [
    {
     "data": {
      "text/plain": [
       "'Bitcoin'"
      ]
     },
     "execution_count": 30,
     "metadata": {},
     "output_type": "execute_result"
    }
   ],
   "source": [
    "best3['name'].unique()[0]"
   ]
  },
  {
   "cell_type": "code",
   "execution_count": 31,
   "id": "1b8aeca3",
   "metadata": {
    "execution": {
     "iopub.execute_input": "2022-11-23T13:18:56.556882Z",
     "iopub.status.busy": "2022-11-23T13:18:56.556531Z",
     "iopub.status.idle": "2022-11-23T13:18:56.569978Z",
     "shell.execute_reply": "2022-11-23T13:18:56.568344Z"
    },
    "papermill": {
     "duration": 0.036592,
     "end_time": "2022-11-23T13:18:56.572586",
     "exception": false,
     "start_time": "2022-11-23T13:18:56.535994",
     "status": "completed"
    },
    "tags": []
   },
   "outputs": [
    {
     "name": "stdout",
     "output_type": "stream",
     "text": [
      "Levene Test : nan\n",
      "Anova Test: F = nan, p =nan\n"
     ]
    }
   ],
   "source": [
    "import scipy.stats as stats\n",
    "group1 = close_price[best3['name'].unique()[0]]\n",
    "group2 = close_price[best3['name'].unique()[1]]\n",
    "group3 = close_price[best3['name'].unique()[2]]\n",
    "_, lpValue = stats.levene(group1, group2, group3)\n",
    "fValue, pValue = stats.f_oneway(group1, group2, group3)\n",
    "print(\"Levene Test : \"+str(lpValue))\n",
    "print(\"Anova Test: F = \"+ str(fValue) + \", p =\" + str(pValue))"
   ]
  },
  {
   "cell_type": "code",
   "execution_count": 32,
   "id": "119b76f4",
   "metadata": {
    "execution": {
     "iopub.execute_input": "2022-11-23T13:18:56.614177Z",
     "iopub.status.busy": "2022-11-23T13:18:56.613824Z",
     "iopub.status.idle": "2022-11-23T13:18:56.621199Z",
     "shell.execute_reply": "2022-11-23T13:18:56.620291Z"
    },
    "papermill": {
     "duration": 0.030533,
     "end_time": "2022-11-23T13:18:56.622864",
     "exception": false,
     "start_time": "2022-11-23T13:18:56.592331",
     "status": "completed"
    },
    "tags": []
   },
   "outputs": [
    {
     "data": {
      "text/plain": [
       "array([ 134.21,  144.54,  139.  , ..., 4257.42, 4278.85,     nan])"
      ]
     },
     "execution_count": 32,
     "metadata": {},
     "output_type": "execute_result"
    }
   ],
   "source": [
    "group1.values"
   ]
  },
  {
   "cell_type": "code",
   "execution_count": 33,
   "id": "d2c7dffd",
   "metadata": {
    "execution": {
     "iopub.execute_input": "2022-11-23T13:18:56.665137Z",
     "iopub.status.busy": "2022-11-23T13:18:56.664788Z",
     "iopub.status.idle": "2022-11-23T13:18:56.674943Z",
     "shell.execute_reply": "2022-11-23T13:18:56.673258Z"
    },
    "papermill": {
     "duration": 0.034219,
     "end_time": "2022-11-23T13:18:56.677491",
     "exception": false,
     "start_time": "2022-11-23T13:18:56.643272",
     "status": "completed"
    },
    "tags": []
   },
   "outputs": [
    {
     "data": {
      "text/plain": [
       "date\n",
       "2013-04-28     134.21\n",
       "2013-04-29     144.54\n",
       "2013-04-30     139.00\n",
       "2013-05-01     116.99\n",
       "2013-05-02     105.21\n",
       "               ...   \n",
       "2018-11-25    4009.97\n",
       "2018-11-26    3779.13\n",
       "2018-11-27    3820.72\n",
       "2018-11-28    4257.42\n",
       "2018-11-29    4278.85\n",
       "Name: Bitcoin, Length: 2042, dtype: float64"
      ]
     },
     "execution_count": 33,
     "metadata": {},
     "output_type": "execute_result"
    }
   ],
   "source": [
    "group1.dropna()"
   ]
  },
  {
   "cell_type": "code",
   "execution_count": 34,
   "id": "cc12fea7",
   "metadata": {
    "execution": {
     "iopub.execute_input": "2022-11-23T13:18:56.718863Z",
     "iopub.status.busy": "2022-11-23T13:18:56.718491Z",
     "iopub.status.idle": "2022-11-23T13:18:56.726629Z",
     "shell.execute_reply": "2022-11-23T13:18:56.725842Z"
    },
    "papermill": {
     "duration": 0.030971,
     "end_time": "2022-11-23T13:18:56.728256",
     "exception": false,
     "start_time": "2022-11-23T13:18:56.697285",
     "status": "completed"
    },
    "tags": []
   },
   "outputs": [
    {
     "name": "stdout",
     "output_type": "stream",
     "text": [
      "Levene Test : 6.988099926138146e-206\n",
      "Anova Test: F = 649.9932290757474, p =1.1654711961311488e-252\n"
     ]
    }
   ],
   "source": [
    "import scipy.stats as stats\n",
    "group1 = group1.dropna()\n",
    "group2 = group2.dropna()\n",
    "group3 = group3.dropna()\n",
    "_, lpValue = stats.levene(group1, group2, group3)\n",
    "fValue, pValue = stats.f_oneway(group1, group2, group3)\n",
    "print(\"Levene Test : \"+str(lpValue))\n",
    "print(\"Anova Test: F = \"+ str(fValue) + \", p =\" + str(pValue))"
   ]
  },
  {
   "cell_type": "markdown",
   "id": "ee6c7582",
   "metadata": {
    "papermill": {
     "duration": 0.019252,
     "end_time": "2022-11-23T13:18:56.767156",
     "exception": false,
     "start_time": "2022-11-23T13:18:56.747904",
     "status": "completed"
    },
    "tags": []
   },
   "source": [
    "<h2> Data Prediction </h2>"
   ]
  },
  {
   "cell_type": "code",
   "execution_count": 35,
   "id": "9fbf6025",
   "metadata": {
    "execution": {
     "iopub.execute_input": "2022-11-23T13:18:56.806884Z",
     "iopub.status.busy": "2022-11-23T13:18:56.806552Z",
     "iopub.status.idle": "2022-11-23T13:18:56.836641Z",
     "shell.execute_reply": "2022-11-23T13:18:56.835614Z"
    },
    "papermill": {
     "duration": 0.052254,
     "end_time": "2022-11-23T13:18:56.838640",
     "exception": false,
     "start_time": "2022-11-23T13:18:56.786386",
     "status": "completed"
    },
    "tags": []
   },
   "outputs": [
    {
     "data": {
      "text/html": [
       "<div>\n",
       "<style scoped>\n",
       "    .dataframe tbody tr th:only-of-type {\n",
       "        vertical-align: middle;\n",
       "    }\n",
       "\n",
       "    .dataframe tbody tr th {\n",
       "        vertical-align: top;\n",
       "    }\n",
       "\n",
       "    .dataframe thead th {\n",
       "        text-align: right;\n",
       "    }\n",
       "</style>\n",
       "<table border=\"1\" class=\"dataframe\">\n",
       "  <thead>\n",
       "    <tr style=\"text-align: right;\">\n",
       "      <th></th>\n",
       "      <th>Passenger Class</th>\n",
       "      <th>Name</th>\n",
       "      <th>Sex</th>\n",
       "      <th>Age</th>\n",
       "      <th>No of Siblings or Spouses on Board</th>\n",
       "      <th>No of Parents or Children on Board</th>\n",
       "      <th>Ticket Number</th>\n",
       "      <th>Passenger Fare</th>\n",
       "      <th>Cabin</th>\n",
       "      <th>Port of Embarkation</th>\n",
       "      <th>Life Boat</th>\n",
       "      <th>Survived</th>\n",
       "    </tr>\n",
       "  </thead>\n",
       "  <tbody>\n",
       "    <tr>\n",
       "      <th>0</th>\n",
       "      <td>First</td>\n",
       "      <td>Allen, Miss. Elisabeth Walton</td>\n",
       "      <td>Female</td>\n",
       "      <td>29.0000</td>\n",
       "      <td>0</td>\n",
       "      <td>0</td>\n",
       "      <td>24160</td>\n",
       "      <td>211.3375</td>\n",
       "      <td>B5</td>\n",
       "      <td>Southampton</td>\n",
       "      <td>2</td>\n",
       "      <td>Yes</td>\n",
       "    </tr>\n",
       "    <tr>\n",
       "      <th>1</th>\n",
       "      <td>First</td>\n",
       "      <td>Allison, Master. Hudson Trevor</td>\n",
       "      <td>Male</td>\n",
       "      <td>0.9167</td>\n",
       "      <td>1</td>\n",
       "      <td>2</td>\n",
       "      <td>113781</td>\n",
       "      <td>151.5500</td>\n",
       "      <td>C22 C26</td>\n",
       "      <td>Southampton</td>\n",
       "      <td>11</td>\n",
       "      <td>Yes</td>\n",
       "    </tr>\n",
       "    <tr>\n",
       "      <th>2</th>\n",
       "      <td>First</td>\n",
       "      <td>Allison, Miss. Helen Loraine</td>\n",
       "      <td>Female</td>\n",
       "      <td>2.0000</td>\n",
       "      <td>1</td>\n",
       "      <td>2</td>\n",
       "      <td>113781</td>\n",
       "      <td>151.5500</td>\n",
       "      <td>C22 C26</td>\n",
       "      <td>Southampton</td>\n",
       "      <td>NaN</td>\n",
       "      <td>No</td>\n",
       "    </tr>\n",
       "    <tr>\n",
       "      <th>3</th>\n",
       "      <td>First</td>\n",
       "      <td>Allison, Mr. Hudson Joshua Creighton</td>\n",
       "      <td>Male</td>\n",
       "      <td>30.0000</td>\n",
       "      <td>1</td>\n",
       "      <td>2</td>\n",
       "      <td>113781</td>\n",
       "      <td>151.5500</td>\n",
       "      <td>C22 C26</td>\n",
       "      <td>Southampton</td>\n",
       "      <td>NaN</td>\n",
       "      <td>No</td>\n",
       "    </tr>\n",
       "    <tr>\n",
       "      <th>4</th>\n",
       "      <td>First</td>\n",
       "      <td>Allison, Mrs. Hudson J C (Bessie Waldo Daniels)</td>\n",
       "      <td>Female</td>\n",
       "      <td>25.0000</td>\n",
       "      <td>1</td>\n",
       "      <td>2</td>\n",
       "      <td>113781</td>\n",
       "      <td>151.5500</td>\n",
       "      <td>C22 C26</td>\n",
       "      <td>Southampton</td>\n",
       "      <td>NaN</td>\n",
       "      <td>No</td>\n",
       "    </tr>\n",
       "    <tr>\n",
       "      <th>...</th>\n",
       "      <td>...</td>\n",
       "      <td>...</td>\n",
       "      <td>...</td>\n",
       "      <td>...</td>\n",
       "      <td>...</td>\n",
       "      <td>...</td>\n",
       "      <td>...</td>\n",
       "      <td>...</td>\n",
       "      <td>...</td>\n",
       "      <td>...</td>\n",
       "      <td>...</td>\n",
       "      <td>...</td>\n",
       "    </tr>\n",
       "    <tr>\n",
       "      <th>1304</th>\n",
       "      <td>Third</td>\n",
       "      <td>Zabour, Miss. Hileni</td>\n",
       "      <td>Female</td>\n",
       "      <td>14.5000</td>\n",
       "      <td>1</td>\n",
       "      <td>0</td>\n",
       "      <td>2665</td>\n",
       "      <td>14.4542</td>\n",
       "      <td>NaN</td>\n",
       "      <td>Cherbourg</td>\n",
       "      <td>NaN</td>\n",
       "      <td>No</td>\n",
       "    </tr>\n",
       "    <tr>\n",
       "      <th>1305</th>\n",
       "      <td>Third</td>\n",
       "      <td>Zabour, Miss. Thamine</td>\n",
       "      <td>Female</td>\n",
       "      <td>NaN</td>\n",
       "      <td>1</td>\n",
       "      <td>0</td>\n",
       "      <td>2665</td>\n",
       "      <td>14.4542</td>\n",
       "      <td>NaN</td>\n",
       "      <td>Cherbourg</td>\n",
       "      <td>NaN</td>\n",
       "      <td>No</td>\n",
       "    </tr>\n",
       "    <tr>\n",
       "      <th>1306</th>\n",
       "      <td>Third</td>\n",
       "      <td>Zakarian, Mr. Mapriededer</td>\n",
       "      <td>Male</td>\n",
       "      <td>26.5000</td>\n",
       "      <td>0</td>\n",
       "      <td>0</td>\n",
       "      <td>2656</td>\n",
       "      <td>7.2250</td>\n",
       "      <td>NaN</td>\n",
       "      <td>Cherbourg</td>\n",
       "      <td>NaN</td>\n",
       "      <td>No</td>\n",
       "    </tr>\n",
       "    <tr>\n",
       "      <th>1307</th>\n",
       "      <td>Third</td>\n",
       "      <td>Zakarian, Mr. Ortin</td>\n",
       "      <td>Male</td>\n",
       "      <td>27.0000</td>\n",
       "      <td>0</td>\n",
       "      <td>0</td>\n",
       "      <td>2670</td>\n",
       "      <td>7.2250</td>\n",
       "      <td>NaN</td>\n",
       "      <td>Cherbourg</td>\n",
       "      <td>NaN</td>\n",
       "      <td>No</td>\n",
       "    </tr>\n",
       "    <tr>\n",
       "      <th>1308</th>\n",
       "      <td>Third</td>\n",
       "      <td>Zimmerman, Mr. Leo</td>\n",
       "      <td>Male</td>\n",
       "      <td>29.0000</td>\n",
       "      <td>0</td>\n",
       "      <td>0</td>\n",
       "      <td>315082</td>\n",
       "      <td>7.8750</td>\n",
       "      <td>NaN</td>\n",
       "      <td>Southampton</td>\n",
       "      <td>NaN</td>\n",
       "      <td>No</td>\n",
       "    </tr>\n",
       "  </tbody>\n",
       "</table>\n",
       "<p>1309 rows × 12 columns</p>\n",
       "</div>"
      ],
      "text/plain": [
       "     Passenger Class                                             Name     Sex  \\\n",
       "0              First                    Allen, Miss. Elisabeth Walton  Female   \n",
       "1              First                   Allison, Master. Hudson Trevor    Male   \n",
       "2              First                     Allison, Miss. Helen Loraine  Female   \n",
       "3              First             Allison, Mr. Hudson Joshua Creighton    Male   \n",
       "4              First  Allison, Mrs. Hudson J C (Bessie Waldo Daniels)  Female   \n",
       "...              ...                                              ...     ...   \n",
       "1304           Third                             Zabour, Miss. Hileni  Female   \n",
       "1305           Third                            Zabour, Miss. Thamine  Female   \n",
       "1306           Third                        Zakarian, Mr. Mapriededer    Male   \n",
       "1307           Third                              Zakarian, Mr. Ortin    Male   \n",
       "1308           Third                               Zimmerman, Mr. Leo    Male   \n",
       "\n",
       "          Age  No of Siblings or Spouses on Board  \\\n",
       "0     29.0000                                   0   \n",
       "1      0.9167                                   1   \n",
       "2      2.0000                                   1   \n",
       "3     30.0000                                   1   \n",
       "4     25.0000                                   1   \n",
       "...       ...                                 ...   \n",
       "1304  14.5000                                   1   \n",
       "1305      NaN                                   1   \n",
       "1306  26.5000                                   0   \n",
       "1307  27.0000                                   0   \n",
       "1308  29.0000                                   0   \n",
       "\n",
       "      No of Parents or Children on Board Ticket Number  Passenger Fare  \\\n",
       "0                                      0         24160        211.3375   \n",
       "1                                      2        113781        151.5500   \n",
       "2                                      2        113781        151.5500   \n",
       "3                                      2        113781        151.5500   \n",
       "4                                      2        113781        151.5500   \n",
       "...                                  ...           ...             ...   \n",
       "1304                                   0          2665         14.4542   \n",
       "1305                                   0          2665         14.4542   \n",
       "1306                                   0          2656          7.2250   \n",
       "1307                                   0          2670          7.2250   \n",
       "1308                                   0        315082          7.8750   \n",
       "\n",
       "        Cabin Port of Embarkation Life Boat Survived  \n",
       "0          B5         Southampton         2      Yes  \n",
       "1     C22 C26         Southampton        11      Yes  \n",
       "2     C22 C26         Southampton       NaN       No  \n",
       "3     C22 C26         Southampton       NaN       No  \n",
       "4     C22 C26         Southampton       NaN       No  \n",
       "...       ...                 ...       ...      ...  \n",
       "1304      NaN           Cherbourg       NaN       No  \n",
       "1305      NaN           Cherbourg       NaN       No  \n",
       "1306      NaN           Cherbourg       NaN       No  \n",
       "1307      NaN           Cherbourg       NaN       No  \n",
       "1308      NaN         Southampton       NaN       No  \n",
       "\n",
       "[1309 rows x 12 columns]"
      ]
     },
     "execution_count": 35,
     "metadata": {},
     "output_type": "execute_result"
    }
   ],
   "source": [
    "df = pd.read_csv('../input/titanic/titanic.txt', sep='\\t', header = 0)\n",
    "df"
   ]
  },
  {
   "cell_type": "code",
   "execution_count": 36,
   "id": "1ba8b12e",
   "metadata": {
    "execution": {
     "iopub.execute_input": "2022-11-23T13:18:56.879806Z",
     "iopub.status.busy": "2022-11-23T13:18:56.879438Z",
     "iopub.status.idle": "2022-11-23T13:18:56.888979Z",
     "shell.execute_reply": "2022-11-23T13:18:56.887682Z"
    },
    "papermill": {
     "duration": 0.032496,
     "end_time": "2022-11-23T13:18:56.891021",
     "exception": false,
     "start_time": "2022-11-23T13:18:56.858525",
     "status": "completed"
    },
    "tags": []
   },
   "outputs": [
    {
     "data": {
      "text/plain": [
       "Index(['Passenger Class', 'Sex', 'Age', 'No of Siblings or Spouses on Board',\n",
       "       'No of Parents or Children on Board', 'Passenger Fare', 'Survived'],\n",
       "      dtype='object')"
      ]
     },
     "execution_count": 36,
     "metadata": {},
     "output_type": "execute_result"
    }
   ],
   "source": [
    "df_clean = df\n",
    "df_clean = df_clean.drop(['Cabin', 'Name', 'Ticket Number', 'Port of Embarkation', 'Life Boat'] ,axis=1)\n",
    "df_clean.columns"
   ]
  },
  {
   "cell_type": "code",
   "execution_count": 37,
   "id": "0e0f2bd7",
   "metadata": {
    "execution": {
     "iopub.execute_input": "2022-11-23T13:18:56.931983Z",
     "iopub.status.busy": "2022-11-23T13:18:56.931659Z",
     "iopub.status.idle": "2022-11-23T13:18:56.941442Z",
     "shell.execute_reply": "2022-11-23T13:18:56.939911Z"
    },
    "papermill": {
     "duration": 0.033962,
     "end_time": "2022-11-23T13:18:56.944887",
     "exception": false,
     "start_time": "2022-11-23T13:18:56.910925",
     "status": "completed"
    },
    "tags": []
   },
   "outputs": [],
   "source": [
    "df_clean = df_clean.dropna()"
   ]
  },
  {
   "cell_type": "code",
   "execution_count": 38,
   "id": "2cd8413e",
   "metadata": {
    "execution": {
     "iopub.execute_input": "2022-11-23T13:18:56.988311Z",
     "iopub.status.busy": "2022-11-23T13:18:56.987785Z",
     "iopub.status.idle": "2022-11-23T13:18:56.995814Z",
     "shell.execute_reply": "2022-11-23T13:18:56.994086Z"
    },
    "papermill": {
     "duration": 0.031885,
     "end_time": "2022-11-23T13:18:56.997712",
     "exception": false,
     "start_time": "2022-11-23T13:18:56.965827",
     "status": "completed"
    },
    "tags": []
   },
   "outputs": [
    {
     "data": {
      "text/plain": [
       "Index(['Passenger Class', 'Sex', 'Age', 'No of Siblings or Spouses on Board',\n",
       "       'No of Parents or Children on Board', 'Passenger Fare', 'Survived'],\n",
       "      dtype='object')"
      ]
     },
     "execution_count": 38,
     "metadata": {},
     "output_type": "execute_result"
    }
   ],
   "source": [
    "df_clean.columns"
   ]
  },
  {
   "cell_type": "code",
   "execution_count": 39,
   "id": "7f996cf1",
   "metadata": {
    "execution": {
     "iopub.execute_input": "2022-11-23T13:18:57.042557Z",
     "iopub.status.busy": "2022-11-23T13:18:57.041621Z",
     "iopub.status.idle": "2022-11-23T13:18:57.052136Z",
     "shell.execute_reply": "2022-11-23T13:18:57.051280Z"
    },
    "papermill": {
     "duration": 0.035247,
     "end_time": "2022-11-23T13:18:57.054188",
     "exception": false,
     "start_time": "2022-11-23T13:18:57.018941",
     "status": "completed"
    },
    "tags": []
   },
   "outputs": [],
   "source": [
    "df_clean['Passenger Class'] = pd.factorize(df_clean['Passenger Class'])[0]\n",
    "df_clean['Sex'] = pd.factorize(df_clean['Sex'])[0]\n",
    "val, label = pd.factorize(df_clean['Survived'])\n",
    "df_clean['Survived'] = val "
   ]
  },
  {
   "cell_type": "code",
   "execution_count": 40,
   "id": "3bc9c2fb",
   "metadata": {
    "execution": {
     "iopub.execute_input": "2022-11-23T13:18:57.097940Z",
     "iopub.status.busy": "2022-11-23T13:18:57.097550Z",
     "iopub.status.idle": "2022-11-23T13:18:58.279087Z",
     "shell.execute_reply": "2022-11-23T13:18:58.276308Z"
    },
    "papermill": {
     "duration": 1.206555,
     "end_time": "2022-11-23T13:18:58.281733",
     "exception": false,
     "start_time": "2022-11-23T13:18:57.075178",
     "status": "completed"
    },
    "tags": []
   },
   "outputs": [
    {
     "data": {
      "image/png": "[encoded data removed]",
      "text/plain": [
       "<Figure size 1296x864 with 1 Axes>"
      ]
     },
     "metadata": {
      "needs_background": "light"
     },
     "output_type": "display_data"
    }
   ],
   "source": [
    "from sklearn import tree\n",
    "X = df_clean.drop('Survived', axis=1) \n",
    "y = df_clean['Survived']\n",
    "clf = tree.DecisionTreeClassifier(max_depth=3)\n",
    "clf = clf.fit(X, y)\n",
    "\n",
    "# plot tree\n",
    "plt.figure(figsize=(18,12))  # set plot size (denoted in inches)\n",
    "out = tree.plot_tree(clf, fontsize=10, feature_names=X.columns, class_names = label)\n",
    "for o in out:\n",
    "    arrow = o.arrow_patch\n",
    "    if arrow is not None:\n",
    "        arrow.set_edgecolor('red')\n",
    "        arrow.set_linewidth(3)\n",
    "plt.show()"
   ]
  },
  {
   "cell_type": "markdown",
   "id": "a9db62e9",
   "metadata": {
    "papermill": {
     "duration": 0.021269,
     "end_time": "2022-11-23T13:18:58.324871",
     "exception": false,
     "start_time": "2022-11-23T13:18:58.303602",
     "status": "completed"
    },
    "tags": []
   },
   "source": [
    "<h3> 1.2 เอารูป กราฟ ชาร์ท ที่ได้ มาเล่าเรื่อง </h3>"
   ]
  },
  {
   "cell_type": "code",
   "execution_count": 41,
   "id": "1b304dd7",
   "metadata": {
    "execution": {
     "iopub.execute_input": "2022-11-23T13:18:58.369301Z",
     "iopub.status.busy": "2022-11-23T13:18:58.368498Z",
     "iopub.status.idle": "2022-11-23T13:18:58.518211Z",
     "shell.execute_reply": "2022-11-23T13:18:58.517470Z"
    },
    "papermill": {
     "duration": 0.174793,
     "end_time": "2022-11-23T13:18:58.520989",
     "exception": false,
     "start_time": "2022-11-23T13:18:58.346196",
     "status": "completed"
    },
    "tags": []
   },
   "outputs": [
    {
     "data": {
      "image/png": "[encoded data removed]",
      "text/plain": [
       "<Figure size 432x288 with 1 Axes>"
      ]
     },
     "metadata": {
      "needs_background": "light"
     },
     "output_type": "display_data"
    }
   ],
   "source": [
    "import matplotlib.pyplot as plt\n",
    "plt.barh(top10.index, top10)\n",
    "plt.show()"
   ]
  },
  {
   "cell_type": "markdown",
   "id": "033494d2",
   "metadata": {
    "papermill": {
     "duration": 0.021303,
     "end_time": "2022-11-23T13:18:58.565040",
     "exception": false,
     "start_time": "2022-11-23T13:18:58.543737",
     "status": "completed"
    },
    "tags": []
   },
   "source": [
    "รูปที่ 1: เป็นการแสดงข้อมูลเหรียญในรุปแบบ matplotlib ซึ่งเป็น module พื้นฐานในการสร้างกราฟใน python โดยกราฟนี้จะแสดงข้อมูลเหรียญที่มีมูลค่ามากที่สุดในตลาด 10 อันดับ ซึ่งเราจะเห็นได้ว่า Bitcoin มีมูลค่าเหรียญมากที่สุดในตลาด"
   ]
  },
  {
   "cell_type": "code",
   "execution_count": 42,
   "id": "276304f4",
   "metadata": {
    "execution": {
     "iopub.execute_input": "2022-11-23T13:18:58.610022Z",
     "iopub.status.busy": "2022-11-23T13:18:58.609404Z",
     "iopub.status.idle": "2022-11-23T13:18:58.779803Z",
     "shell.execute_reply": "2022-11-23T13:18:58.778622Z"
    },
    "papermill": {
     "duration": 0.195525,
     "end_time": "2022-11-23T13:18:58.781990",
     "exception": false,
     "start_time": "2022-11-23T13:18:58.586465",
     "status": "completed"
    },
    "tags": []
   },
   "outputs": [
    {
     "data": {
      "text/plain": [
       "<AxesSubplot:ylabel='name'>"
      ]
     },
     "execution_count": 42,
     "metadata": {},
     "output_type": "execute_result"
    },
    {
     "data": {
      "image/png": "[encoded data removed]",
      "text/plain": [
       "<Figure size 432x288 with 1 Axes>"
      ]
     },
     "metadata": {
      "needs_background": "light"
     },
     "output_type": "display_data"
    }
   ],
   "source": [
    "top10.plot(kind='barh')"
   ]
  },
  {
   "cell_type": "markdown",
   "id": "518b8269",
   "metadata": {
    "papermill": {
     "duration": 0.020757,
     "end_time": "2022-11-23T13:18:58.824012",
     "exception": false,
     "start_time": "2022-11-23T13:18:58.803255",
     "status": "completed"
    },
    "tags": []
   },
   "source": [
    "รูปที่ 2: เป็นการแสดงข้อมูลเหรียญที่มีมูลค่ามากที่สุดในตลาด 10 อันดับ ซึ่งเราจะเห็นได้ว่า Bitcoin มีมูลค่าเหรียญมากที่สุดในตลาด และจะเห็นว่ามีแสดงผลเหมือนกับรูปแรกแต่ต่างกันตรงที่การ plot กราฟ"
   ]
  },
  {
   "cell_type": "code",
   "execution_count": 43,
   "id": "277950c8",
   "metadata": {
    "execution": {
     "iopub.execute_input": "2022-11-23T13:18:58.870736Z",
     "iopub.status.busy": "2022-11-23T13:18:58.870244Z",
     "iopub.status.idle": "2022-11-23T13:18:58.984751Z",
     "shell.execute_reply": "2022-11-23T13:18:58.983348Z"
    },
    "papermill": {
     "duration": 0.141856,
     "end_time": "2022-11-23T13:18:58.987041",
     "exception": false,
     "start_time": "2022-11-23T13:18:58.845185",
     "status": "completed"
    },
    "tags": []
   },
   "outputs": [
    {
     "data": {
      "text/plain": [
       "<AxesSubplot:ylabel='volume_billion'>"
      ]
     },
     "execution_count": 43,
     "metadata": {},
     "output_type": "execute_result"
    },
    {
     "data": {
      "image/png": "[encoded data removed]",
      "text/plain": [
       "<Figure size 432x288 with 1 Axes>"
      ]
     },
     "metadata": {},
     "output_type": "display_data"
    }
   ],
   "source": [
    "top10.plot(kind='pie')"
   ]
  },
  {
   "cell_type": "markdown",
   "id": "45581213",
   "metadata": {
    "papermill": {
     "duration": 0.029391,
     "end_time": "2022-11-23T13:18:59.046102",
     "exception": false,
     "start_time": "2022-11-23T13:18:59.016711",
     "status": "completed"
    },
    "tags": []
   },
   "source": [
    "รูปที่ 3: เป็นการแสดงข้อมูลเหรียญที่มีมูลค่ามากที่สุดในตลาด 10 อันดับ แต่เป็นการแสดงผลในรูปแบบของ pie chart จะเห็นได้ว่าวิธีนี้จะมีการแบ่งส่วนให้ดูง่ายและสวยงาม ซึ่งจาก chart นี้ก็จะเห็นได้ว่า Bitcoin มีสัดส่วนที่มากที่สุด"
   ]
  },
  {
   "cell_type": "code",
   "execution_count": 44,
   "id": "493aa788",
   "metadata": {
    "execution": {
     "iopub.execute_input": "2022-11-23T13:18:59.099939Z",
     "iopub.status.busy": "2022-11-23T13:18:59.099290Z",
     "iopub.status.idle": "2022-11-23T13:18:59.378179Z",
     "shell.execute_reply": "2022-11-23T13:18:59.376777Z"
    },
    "papermill": {
     "duration": 0.304641,
     "end_time": "2022-11-23T13:18:59.380582",
     "exception": false,
     "start_time": "2022-11-23T13:18:59.075941",
     "status": "completed"
    },
    "tags": []
   },
   "outputs": [
    {
     "data": {
      "text/plain": [
       "<AxesSubplot:xlabel='date'>"
      ]
     },
     "execution_count": 44,
     "metadata": {},
     "output_type": "execute_result"
    },
    {
     "data": {
      "image/png": "[encoded data removed]",
      "text/plain": [
       "<Figure size 432x288 with 1 Axes>"
      ]
     },
     "metadata": {
      "needs_background": "light"
     },
     "output_type": "display_data"
    }
   ],
   "source": [
    "best3.groupby(['date','name'])['close'].mean().unstack().plot()"
   ]
  },
  {
   "cell_type": "markdown",
   "id": "b3328d2a",
   "metadata": {
    "papermill": {
     "duration": 0.022625,
     "end_time": "2022-11-23T13:18:59.426580",
     "exception": false,
     "start_time": "2022-11-23T13:18:59.403955",
     "status": "completed"
    },
    "tags": []
   },
   "source": [
    "รูปที่ 4: เป็นการแสดงข้อมูล 3 เหรียญได้แก่ Bitcoin, Ethereum และ XRP ที่มีมูลค่าขึ้นลงในระยะเวลาตั้งแต่ปี 2014-2018 แต่เป็นการแสดงผลในรูปแบบของ line chart เห็นได้ว่าวิธีนี้จะแสดงการเปลี่ยนแปลงของข้อมูลอย่างชัดเจน ซึ่งจาก chart นี้ก็จะเห็นได้ว่ามูลค่าของ Bitcoin ขึ้นสูงมากตั้งแต่ปี 2017 และลดลงในปี 2018"
   ]
  },
  {
   "cell_type": "code",
   "execution_count": 45,
   "id": "03edf58d",
   "metadata": {
    "execution": {
     "iopub.execute_input": "2022-11-23T13:18:59.474809Z",
     "iopub.status.busy": "2022-11-23T13:18:59.474034Z",
     "iopub.status.idle": "2022-11-23T13:18:59.827302Z",
     "shell.execute_reply": "2022-11-23T13:18:59.826405Z"
    },
    "papermill": {
     "duration": 0.37987,
     "end_time": "2022-11-23T13:18:59.829776",
     "exception": false,
     "start_time": "2022-11-23T13:18:59.449906",
     "status": "completed"
    },
    "tags": []
   },
   "outputs": [
    {
     "data": {
      "text/plain": [
       "<AxesSubplot:xlabel='date'>"
      ]
     },
     "execution_count": 45,
     "metadata": {},
     "output_type": "execute_result"
    },
    {
     "data": {
      "image/png": "[encoded data removed]",
      "text/plain": [
       "<Figure size 432x288 with 1 Axes>"
      ]
     },
     "metadata": {
      "needs_background": "light"
     },
     "output_type": "display_data"
    }
   ],
   "source": [
    "best3[best3['date'].dt.year == 2018].groupby(['date','name'])['close'].mean().unstack().plot()"
   ]
  },
  {
   "cell_type": "markdown",
   "id": "1920757c",
   "metadata": {
    "papermill": {
     "duration": 0.022671,
     "end_time": "2022-11-23T13:18:59.875494",
     "exception": false,
     "start_time": "2022-11-23T13:18:59.852823",
     "status": "completed"
    },
    "tags": []
   },
   "source": [
    "รูปที่ 5: เป็นการแสดงผลเหรียญ 3 อันดับที่มีมูลค่าสูงที่สุดในตลาด ในรูปแบบของ line chart เหมือนรูปที่ 4 แต่จะมีการแสดงข้อมูลราคาขึ้นลงแค่ในปี 2018 เห็นได้ว่ามูลค่าของ Bitcoin ขึ้นสูงมากตั้งแต่เดือนมกราคมและมีแนวโน้มลดลง"
   ]
  },
  {
   "cell_type": "code",
   "execution_count": 46,
   "id": "caab1887",
   "metadata": {
    "execution": {
     "iopub.execute_input": "2022-11-23T13:18:59.923427Z",
     "iopub.status.busy": "2022-11-23T13:18:59.923019Z",
     "iopub.status.idle": "2022-11-23T13:19:00.154741Z",
     "shell.execute_reply": "2022-11-23T13:19:00.153776Z"
    },
    "papermill": {
     "duration": 0.258017,
     "end_time": "2022-11-23T13:19:00.156715",
     "exception": false,
     "start_time": "2022-11-23T13:18:59.898698",
     "status": "completed"
    },
    "tags": []
   },
   "outputs": [
    {
     "data": {
      "image/png": "[encoded data removed]",
      "text/plain": [
       "<Figure size 1008x576 with 2 Axes>"
      ]
     },
     "metadata": {
      "needs_background": "light"
     },
     "output_type": "display_data"
    }
   ],
   "source": [
    "import seaborn as sns\n",
    "plt.figure(figsize=(14,8))\n",
    "sns.heatmap(close_price[best3['name'].unique()].corr(), cmap='coolwarm', annot=True);"
   ]
  },
  {
   "cell_type": "markdown",
   "id": "b652a1a4",
   "metadata": {
    "papermill": {
     "duration": 0.023374,
     "end_time": "2022-11-23T13:19:00.202958",
     "exception": false,
     "start_time": "2022-11-23T13:19:00.179584",
     "status": "completed"
    },
    "tags": []
   },
   "source": [
    "รูปที่ 6: เป็นการแสดงผลเหรียญ 3 อันดับที่มีมูลค่าสูงที่สุดในตลาด ในรูปแบบของ Heatmap หรือการแสดงความสัมพันธ์ของข้อมูล ซึ่งยิ่งค่ามากเท่าไหร่ก็จะยิ่งมีความสัมพันธ์กันมาก ยิ่งมีค่าน้อยก็มีความสัมพันธ์กันน้อย ซึ่งจากรูปจะเห็นได้ว่า Bitcoin กับ XRP มีค่าน้อยที่สุดก็คือ 0.86 จึงมีความสัมพันธ์กันน้อยที่สุด และ Bitcoin กับ Ethereum มีค่ามากที่สุดก็คือ 0.91 จึงมีความสัมพันธ์กันมากที่สุด และค่าสีแดง หรือ 1 ก็หมายถึงค่าที่มุมเดียวกันกับตัวของมันเอง"
   ]
  },
  {
   "cell_type": "code",
   "execution_count": 47,
   "id": "26dde75c",
   "metadata": {
    "execution": {
     "iopub.execute_input": "2022-11-23T13:19:00.251160Z",
     "iopub.status.busy": "2022-11-23T13:19:00.250771Z",
     "iopub.status.idle": "2022-11-23T13:19:01.129354Z",
     "shell.execute_reply": "2022-11-23T13:19:01.127991Z"
    },
    "papermill": {
     "duration": 0.905322,
     "end_time": "2022-11-23T13:19:01.131801",
     "exception": false,
     "start_time": "2022-11-23T13:19:00.226479",
     "status": "completed"
    },
    "tags": []
   },
   "outputs": [
    {
     "data": {
      "text/html": [
       "<div>\n",
       "<style scoped>\n",
       "    .dataframe tbody tr th:only-of-type {\n",
       "        vertical-align: middle;\n",
       "    }\n",
       "\n",
       "    .dataframe tbody tr th {\n",
       "        vertical-align: top;\n",
       "    }\n",
       "\n",
       "    .dataframe thead th {\n",
       "        text-align: right;\n",
       "    }\n",
       "</style>\n",
       "<table border=\"1\" class=\"dataframe\">\n",
       "  <thead>\n",
       "    <tr style=\"text-align: right;\">\n",
       "      <th></th>\n",
       "      <th>slug</th>\n",
       "      <th>symbol</th>\n",
       "      <th>name</th>\n",
       "      <th>date</th>\n",
       "      <th>ranknow</th>\n",
       "      <th>open</th>\n",
       "      <th>high</th>\n",
       "      <th>low</th>\n",
       "      <th>close</th>\n",
       "      <th>volume</th>\n",
       "      <th>market</th>\n",
       "      <th>close_ratio</th>\n",
       "      <th>spread</th>\n",
       "    </tr>\n",
       "  </thead>\n",
       "  <tbody>\n",
       "    <tr>\n",
       "      <th>0</th>\n",
       "      <td>bitcoin</td>\n",
       "      <td>BTC</td>\n",
       "      <td>Bitcoin</td>\n",
       "      <td>2013-04-28</td>\n",
       "      <td>1</td>\n",
       "      <td>135.30</td>\n",
       "      <td>135.98</td>\n",
       "      <td>132.10</td>\n",
       "      <td>134.21</td>\n",
       "      <td>0.0</td>\n",
       "      <td>1.488567e+09</td>\n",
       "      <td>0.5438</td>\n",
       "      <td>3.88</td>\n",
       "    </tr>\n",
       "    <tr>\n",
       "      <th>1</th>\n",
       "      <td>bitcoin</td>\n",
       "      <td>BTC</td>\n",
       "      <td>Bitcoin</td>\n",
       "      <td>2013-04-29</td>\n",
       "      <td>1</td>\n",
       "      <td>134.44</td>\n",
       "      <td>147.49</td>\n",
       "      <td>134.00</td>\n",
       "      <td>144.54</td>\n",
       "      <td>0.0</td>\n",
       "      <td>1.603769e+09</td>\n",
       "      <td>0.7813</td>\n",
       "      <td>13.49</td>\n",
       "    </tr>\n",
       "    <tr>\n",
       "      <th>2</th>\n",
       "      <td>bitcoin</td>\n",
       "      <td>BTC</td>\n",
       "      <td>Bitcoin</td>\n",
       "      <td>2013-04-30</td>\n",
       "      <td>1</td>\n",
       "      <td>144.00</td>\n",
       "      <td>146.93</td>\n",
       "      <td>134.05</td>\n",
       "      <td>139.00</td>\n",
       "      <td>0.0</td>\n",
       "      <td>1.542813e+09</td>\n",
       "      <td>0.3843</td>\n",
       "      <td>12.88</td>\n",
       "    </tr>\n",
       "    <tr>\n",
       "      <th>3</th>\n",
       "      <td>bitcoin</td>\n",
       "      <td>BTC</td>\n",
       "      <td>Bitcoin</td>\n",
       "      <td>2013-05-01</td>\n",
       "      <td>1</td>\n",
       "      <td>139.00</td>\n",
       "      <td>139.89</td>\n",
       "      <td>107.72</td>\n",
       "      <td>116.99</td>\n",
       "      <td>0.0</td>\n",
       "      <td>1.298955e+09</td>\n",
       "      <td>0.2882</td>\n",
       "      <td>32.17</td>\n",
       "    </tr>\n",
       "    <tr>\n",
       "      <th>4</th>\n",
       "      <td>bitcoin</td>\n",
       "      <td>BTC</td>\n",
       "      <td>Bitcoin</td>\n",
       "      <td>2013-05-02</td>\n",
       "      <td>1</td>\n",
       "      <td>116.38</td>\n",
       "      <td>125.60</td>\n",
       "      <td>92.28</td>\n",
       "      <td>105.21</td>\n",
       "      <td>0.0</td>\n",
       "      <td>1.168517e+09</td>\n",
       "      <td>0.3881</td>\n",
       "      <td>33.32</td>\n",
       "    </tr>\n",
       "    <tr>\n",
       "      <th>...</th>\n",
       "      <td>...</td>\n",
       "      <td>...</td>\n",
       "      <td>...</td>\n",
       "      <td>...</td>\n",
       "      <td>...</td>\n",
       "      <td>...</td>\n",
       "      <td>...</td>\n",
       "      <td>...</td>\n",
       "      <td>...</td>\n",
       "      <td>...</td>\n",
       "      <td>...</td>\n",
       "      <td>...</td>\n",
       "      <td>...</td>\n",
       "    </tr>\n",
       "    <tr>\n",
       "      <th>942292</th>\n",
       "      <td>project-x</td>\n",
       "      <td>NANOX</td>\n",
       "      <td>Project-X</td>\n",
       "      <td>2018-11-26</td>\n",
       "      <td>1727</td>\n",
       "      <td>22424.60</td>\n",
       "      <td>23049.30</td>\n",
       "      <td>17607.50</td>\n",
       "      <td>20724.80</td>\n",
       "      <td>143.0</td>\n",
       "      <td>1.622000e+03</td>\n",
       "      <td>0.5728</td>\n",
       "      <td>5441.80</td>\n",
       "    </tr>\n",
       "    <tr>\n",
       "      <th>942293</th>\n",
       "      <td>project-x</td>\n",
       "      <td>NANOX</td>\n",
       "      <td>Project-X</td>\n",
       "      <td>2018-11-27</td>\n",
       "      <td>1727</td>\n",
       "      <td>20711.90</td>\n",
       "      <td>23742.10</td>\n",
       "      <td>19292.90</td>\n",
       "      <td>23298.70</td>\n",
       "      <td>637.0</td>\n",
       "      <td>1.823000e+03</td>\n",
       "      <td>0.9003</td>\n",
       "      <td>4449.20</td>\n",
       "    </tr>\n",
       "    <tr>\n",
       "      <th>942294</th>\n",
       "      <td>project-x</td>\n",
       "      <td>NANOX</td>\n",
       "      <td>Project-X</td>\n",
       "      <td>2018-11-28</td>\n",
       "      <td>1727</td>\n",
       "      <td>23320.90</td>\n",
       "      <td>25235.10</td>\n",
       "      <td>19888.10</td>\n",
       "      <td>24442.70</td>\n",
       "      <td>49.0</td>\n",
       "      <td>1.913000e+03</td>\n",
       "      <td>0.8518</td>\n",
       "      <td>5347.00</td>\n",
       "    </tr>\n",
       "    <tr>\n",
       "      <th>942295</th>\n",
       "      <td>project-x</td>\n",
       "      <td>NANOX</td>\n",
       "      <td>Project-X</td>\n",
       "      <td>2018-11-29</td>\n",
       "      <td>1727</td>\n",
       "      <td>24543.53</td>\n",
       "      <td>24582.47</td>\n",
       "      <td>21457.95</td>\n",
       "      <td>22839.44</td>\n",
       "      <td>153.0</td>\n",
       "      <td>1.788000e+03</td>\n",
       "      <td>0.4421</td>\n",
       "      <td>3124.52</td>\n",
       "    </tr>\n",
       "    <tr>\n",
       "      <th>942296</th>\n",
       "      <td>project-x</td>\n",
       "      <td>NANOX</td>\n",
       "      <td>Project-X</td>\n",
       "      <td>2018-11-30</td>\n",
       "      <td>1727</td>\n",
       "      <td>22872.09</td>\n",
       "      <td>23086.98</td>\n",
       "      <td>19040.91</td>\n",
       "      <td>21136.72</td>\n",
       "      <td>125.0</td>\n",
       "      <td>1.654000e+03</td>\n",
       "      <td>0.5180</td>\n",
       "      <td>4046.07</td>\n",
       "    </tr>\n",
       "  </tbody>\n",
       "</table>\n",
       "<p>942297 rows × 13 columns</p>\n",
       "</div>"
      ],
      "text/plain": [
       "             slug symbol       name        date  ranknow      open      high  \\\n",
       "0         bitcoin    BTC    Bitcoin  2013-04-28        1    135.30    135.98   \n",
       "1         bitcoin    BTC    Bitcoin  2013-04-29        1    134.44    147.49   \n",
       "2         bitcoin    BTC    Bitcoin  2013-04-30        1    144.00    146.93   \n",
       "3         bitcoin    BTC    Bitcoin  2013-05-01        1    139.00    139.89   \n",
       "4         bitcoin    BTC    Bitcoin  2013-05-02        1    116.38    125.60   \n",
       "...           ...    ...        ...         ...      ...       ...       ...   \n",
       "942292  project-x  NANOX  Project-X  2018-11-26     1727  22424.60  23049.30   \n",
       "942293  project-x  NANOX  Project-X  2018-11-27     1727  20711.90  23742.10   \n",
       "942294  project-x  NANOX  Project-X  2018-11-28     1727  23320.90  25235.10   \n",
       "942295  project-x  NANOX  Project-X  2018-11-29     1727  24543.53  24582.47   \n",
       "942296  project-x  NANOX  Project-X  2018-11-30     1727  22872.09  23086.98   \n",
       "\n",
       "             low     close  volume        market  close_ratio   spread  \n",
       "0         132.10    134.21     0.0  1.488567e+09       0.5438     3.88  \n",
       "1         134.00    144.54     0.0  1.603769e+09       0.7813    13.49  \n",
       "2         134.05    139.00     0.0  1.542813e+09       0.3843    12.88  \n",
       "3         107.72    116.99     0.0  1.298955e+09       0.2882    32.17  \n",
       "4          92.28    105.21     0.0  1.168517e+09       0.3881    33.32  \n",
       "...          ...       ...     ...           ...          ...      ...  \n",
       "942292  17607.50  20724.80   143.0  1.622000e+03       0.5728  5441.80  \n",
       "942293  19292.90  23298.70   637.0  1.823000e+03       0.9003  4449.20  \n",
       "942294  19888.10  24442.70    49.0  1.913000e+03       0.8518  5347.00  \n",
       "942295  21457.95  22839.44   153.0  1.788000e+03       0.4421  3124.52  \n",
       "942296  19040.91  21136.72   125.0  1.654000e+03       0.5180  4046.07  \n",
       "\n",
       "[942297 rows x 13 columns]"
      ]
     },
     "execution_count": 47,
     "metadata": {},
     "output_type": "execute_result"
    }
   ],
   "source": [
    "import pandas as pd\n",
    "df = pd.read_csv('../input/all-crypto-currencies/crypto-markets.csv', delimiter=',', header=0)\n",
    "df"
   ]
  },
  {
   "cell_type": "code",
   "execution_count": 48,
   "id": "bc57eb0c",
   "metadata": {
    "execution": {
     "iopub.execute_input": "2022-11-23T13:19:01.180841Z",
     "iopub.status.busy": "2022-11-23T13:19:01.180444Z",
     "iopub.status.idle": "2022-11-23T13:19:01.342306Z",
     "shell.execute_reply": "2022-11-23T13:19:01.341441Z"
    },
    "papermill": {
     "duration": 0.188938,
     "end_time": "2022-11-23T13:19:01.344614",
     "exception": false,
     "start_time": "2022-11-23T13:19:01.155676",
     "status": "completed"
    },
    "tags": []
   },
   "outputs": [
    {
     "name": "stdout",
     "output_type": "stream",
     "text": [
      "<class 'pandas.core.frame.DataFrame'>\n",
      "RangeIndex: 942297 entries, 0 to 942296\n",
      "Data columns (total 13 columns):\n",
      " #   Column       Non-Null Count   Dtype  \n",
      "---  ------       --------------   -----  \n",
      " 0   slug         942297 non-null  object \n",
      " 1   symbol       942297 non-null  object \n",
      " 2   name         942297 non-null  object \n",
      " 3   date         942297 non-null  object \n",
      " 4   ranknow      942297 non-null  int64  \n",
      " 5   open         942297 non-null  float64\n",
      " 6   high         942297 non-null  float64\n",
      " 7   low          942297 non-null  float64\n",
      " 8   close        942297 non-null  float64\n",
      " 9   volume       942297 non-null  float64\n",
      " 10  market       942297 non-null  float64\n",
      " 11  close_ratio  942297 non-null  float64\n",
      " 12  spread       942297 non-null  float64\n",
      "dtypes: float64(8), int64(1), object(4)\n",
      "memory usage: 93.5+ MB\n"
     ]
    }
   ],
   "source": [
    "df.info()"
   ]
  },
  {
   "cell_type": "code",
   "execution_count": 49,
   "id": "98e20b53",
   "metadata": {
    "execution": {
     "iopub.execute_input": "2022-11-23T13:19:01.396946Z",
     "iopub.status.busy": "2022-11-23T13:19:01.396326Z",
     "iopub.status.idle": "2022-11-23T13:19:02.432314Z",
     "shell.execute_reply": "2022-11-23T13:19:02.431551Z"
    },
    "papermill": {
     "duration": 1.064238,
     "end_time": "2022-11-23T13:19:02.434807",
     "exception": false,
     "start_time": "2022-11-23T13:19:01.370569",
     "status": "completed"
    },
    "tags": []
   },
   "outputs": [
    {
     "data": {
      "text/html": [
       "<div>\n",
       "<style scoped>\n",
       "    .dataframe tbody tr th:only-of-type {\n",
       "        vertical-align: middle;\n",
       "    }\n",
       "\n",
       "    .dataframe tbody tr th {\n",
       "        vertical-align: top;\n",
       "    }\n",
       "\n",
       "    .dataframe thead th {\n",
       "        text-align: right;\n",
       "    }\n",
       "</style>\n",
       "<table border=\"1\" class=\"dataframe\">\n",
       "  <thead>\n",
       "    <tr style=\"text-align: right;\">\n",
       "      <th></th>\n",
       "      <th></th>\n",
       "      <th>slug</th>\n",
       "      <th>symbol</th>\n",
       "      <th>ranknow</th>\n",
       "      <th>open</th>\n",
       "      <th>high</th>\n",
       "      <th>low</th>\n",
       "      <th>close</th>\n",
       "      <th>volume</th>\n",
       "      <th>market</th>\n",
       "      <th>close_ratio</th>\n",
       "      <th>spread</th>\n",
       "    </tr>\n",
       "    <tr>\n",
       "      <th>name</th>\n",
       "      <th>date</th>\n",
       "      <th></th>\n",
       "      <th></th>\n",
       "      <th></th>\n",
       "      <th></th>\n",
       "      <th></th>\n",
       "      <th></th>\n",
       "      <th></th>\n",
       "      <th></th>\n",
       "      <th></th>\n",
       "      <th></th>\n",
       "      <th></th>\n",
       "    </tr>\n",
       "  </thead>\n",
       "  <tbody>\n",
       "    <tr>\n",
       "      <th rowspan=\"5\" valign=\"top\">Bitcoin</th>\n",
       "      <th>2013-04-28</th>\n",
       "      <td>bitcoin</td>\n",
       "      <td>BTC</td>\n",
       "      <td>1</td>\n",
       "      <td>135.30</td>\n",
       "      <td>135.98</td>\n",
       "      <td>132.10</td>\n",
       "      <td>134.21</td>\n",
       "      <td>0.0</td>\n",
       "      <td>1.488567e+09</td>\n",
       "      <td>0.5438</td>\n",
       "      <td>3.88</td>\n",
       "    </tr>\n",
       "    <tr>\n",
       "      <th>2013-04-29</th>\n",
       "      <td>bitcoin</td>\n",
       "      <td>BTC</td>\n",
       "      <td>1</td>\n",
       "      <td>134.44</td>\n",
       "      <td>147.49</td>\n",
       "      <td>134.00</td>\n",
       "      <td>144.54</td>\n",
       "      <td>0.0</td>\n",
       "      <td>1.603769e+09</td>\n",
       "      <td>0.7813</td>\n",
       "      <td>13.49</td>\n",
       "    </tr>\n",
       "    <tr>\n",
       "      <th>2013-04-30</th>\n",
       "      <td>bitcoin</td>\n",
       "      <td>BTC</td>\n",
       "      <td>1</td>\n",
       "      <td>144.00</td>\n",
       "      <td>146.93</td>\n",
       "      <td>134.05</td>\n",
       "      <td>139.00</td>\n",
       "      <td>0.0</td>\n",
       "      <td>1.542813e+09</td>\n",
       "      <td>0.3843</td>\n",
       "      <td>12.88</td>\n",
       "    </tr>\n",
       "    <tr>\n",
       "      <th>2013-05-01</th>\n",
       "      <td>bitcoin</td>\n",
       "      <td>BTC</td>\n",
       "      <td>1</td>\n",
       "      <td>139.00</td>\n",
       "      <td>139.89</td>\n",
       "      <td>107.72</td>\n",
       "      <td>116.99</td>\n",
       "      <td>0.0</td>\n",
       "      <td>1.298955e+09</td>\n",
       "      <td>0.2882</td>\n",
       "      <td>32.17</td>\n",
       "    </tr>\n",
       "    <tr>\n",
       "      <th>2013-05-02</th>\n",
       "      <td>bitcoin</td>\n",
       "      <td>BTC</td>\n",
       "      <td>1</td>\n",
       "      <td>116.38</td>\n",
       "      <td>125.60</td>\n",
       "      <td>92.28</td>\n",
       "      <td>105.21</td>\n",
       "      <td>0.0</td>\n",
       "      <td>1.168517e+09</td>\n",
       "      <td>0.3881</td>\n",
       "      <td>33.32</td>\n",
       "    </tr>\n",
       "    <tr>\n",
       "      <th>...</th>\n",
       "      <th>...</th>\n",
       "      <td>...</td>\n",
       "      <td>...</td>\n",
       "      <td>...</td>\n",
       "      <td>...</td>\n",
       "      <td>...</td>\n",
       "      <td>...</td>\n",
       "      <td>...</td>\n",
       "      <td>...</td>\n",
       "      <td>...</td>\n",
       "      <td>...</td>\n",
       "      <td>...</td>\n",
       "    </tr>\n",
       "    <tr>\n",
       "      <th rowspan=\"5\" valign=\"top\">Project-X</th>\n",
       "      <th>2018-11-26</th>\n",
       "      <td>project-x</td>\n",
       "      <td>NANOX</td>\n",
       "      <td>1727</td>\n",
       "      <td>22424.60</td>\n",
       "      <td>23049.30</td>\n",
       "      <td>17607.50</td>\n",
       "      <td>20724.80</td>\n",
       "      <td>143.0</td>\n",
       "      <td>1.622000e+03</td>\n",
       "      <td>0.5728</td>\n",
       "      <td>5441.80</td>\n",
       "    </tr>\n",
       "    <tr>\n",
       "      <th>2018-11-27</th>\n",
       "      <td>project-x</td>\n",
       "      <td>NANOX</td>\n",
       "      <td>1727</td>\n",
       "      <td>20711.90</td>\n",
       "      <td>23742.10</td>\n",
       "      <td>19292.90</td>\n",
       "      <td>23298.70</td>\n",
       "      <td>637.0</td>\n",
       "      <td>1.823000e+03</td>\n",
       "      <td>0.9003</td>\n",
       "      <td>4449.20</td>\n",
       "    </tr>\n",
       "    <tr>\n",
       "      <th>2018-11-28</th>\n",
       "      <td>project-x</td>\n",
       "      <td>NANOX</td>\n",
       "      <td>1727</td>\n",
       "      <td>23320.90</td>\n",
       "      <td>25235.10</td>\n",
       "      <td>19888.10</td>\n",
       "      <td>24442.70</td>\n",
       "      <td>49.0</td>\n",
       "      <td>1.913000e+03</td>\n",
       "      <td>0.8518</td>\n",
       "      <td>5347.00</td>\n",
       "    </tr>\n",
       "    <tr>\n",
       "      <th>2018-11-29</th>\n",
       "      <td>project-x</td>\n",
       "      <td>NANOX</td>\n",
       "      <td>1727</td>\n",
       "      <td>24543.53</td>\n",
       "      <td>24582.47</td>\n",
       "      <td>21457.95</td>\n",
       "      <td>22839.44</td>\n",
       "      <td>153.0</td>\n",
       "      <td>1.788000e+03</td>\n",
       "      <td>0.4421</td>\n",
       "      <td>3124.52</td>\n",
       "    </tr>\n",
       "    <tr>\n",
       "      <th>2018-11-30</th>\n",
       "      <td>project-x</td>\n",
       "      <td>NANOX</td>\n",
       "      <td>1727</td>\n",
       "      <td>22872.09</td>\n",
       "      <td>23086.98</td>\n",
       "      <td>19040.91</td>\n",
       "      <td>21136.72</td>\n",
       "      <td>125.0</td>\n",
       "      <td>1.654000e+03</td>\n",
       "      <td>0.5180</td>\n",
       "      <td>4046.07</td>\n",
       "    </tr>\n",
       "  </tbody>\n",
       "</table>\n",
       "<p>942297 rows × 11 columns</p>\n",
       "</div>"
      ],
      "text/plain": [
       "                           slug symbol  ranknow      open      high       low  \\\n",
       "name      date                                                                  \n",
       "Bitcoin   2013-04-28    bitcoin    BTC        1    135.30    135.98    132.10   \n",
       "          2013-04-29    bitcoin    BTC        1    134.44    147.49    134.00   \n",
       "          2013-04-30    bitcoin    BTC        1    144.00    146.93    134.05   \n",
       "          2013-05-01    bitcoin    BTC        1    139.00    139.89    107.72   \n",
       "          2013-05-02    bitcoin    BTC        1    116.38    125.60     92.28   \n",
       "...                         ...    ...      ...       ...       ...       ...   \n",
       "Project-X 2018-11-26  project-x  NANOX     1727  22424.60  23049.30  17607.50   \n",
       "          2018-11-27  project-x  NANOX     1727  20711.90  23742.10  19292.90   \n",
       "          2018-11-28  project-x  NANOX     1727  23320.90  25235.10  19888.10   \n",
       "          2018-11-29  project-x  NANOX     1727  24543.53  24582.47  21457.95   \n",
       "          2018-11-30  project-x  NANOX     1727  22872.09  23086.98  19040.91   \n",
       "\n",
       "                         close  volume        market  close_ratio   spread  \n",
       "name      date                                                              \n",
       "Bitcoin   2013-04-28    134.21     0.0  1.488567e+09       0.5438     3.88  \n",
       "          2013-04-29    144.54     0.0  1.603769e+09       0.7813    13.49  \n",
       "          2013-04-30    139.00     0.0  1.542813e+09       0.3843    12.88  \n",
       "          2013-05-01    116.99     0.0  1.298955e+09       0.2882    32.17  \n",
       "          2013-05-02    105.21     0.0  1.168517e+09       0.3881    33.32  \n",
       "...                        ...     ...           ...          ...      ...  \n",
       "Project-X 2018-11-26  20724.80   143.0  1.622000e+03       0.5728  5441.80  \n",
       "          2018-11-27  23298.70   637.0  1.823000e+03       0.9003  4449.20  \n",
       "          2018-11-28  24442.70    49.0  1.913000e+03       0.8518  5347.00  \n",
       "          2018-11-29  22839.44   153.0  1.788000e+03       0.4421  3124.52  \n",
       "          2018-11-30  21136.72   125.0  1.654000e+03       0.5180  4046.07  \n",
       "\n",
       "[942297 rows x 11 columns]"
      ]
     },
     "execution_count": 49,
     "metadata": {},
     "output_type": "execute_result"
    }
   ],
   "source": [
    "import pandas as pd\n",
    "df = pd.read_csv('../input/all-crypto-currencies/crypto-markets.csv', index_col=['name','date'])\n",
    "df"
   ]
  },
  {
   "cell_type": "code",
   "execution_count": 50,
   "id": "67db27ed",
   "metadata": {
    "execution": {
     "iopub.execute_input": "2022-11-23T13:19:02.487554Z",
     "iopub.status.busy": "2022-11-23T13:19:02.487065Z",
     "iopub.status.idle": "2022-11-23T13:19:02.584399Z",
     "shell.execute_reply": "2022-11-23T13:19:02.582110Z"
    },
    "papermill": {
     "duration": 0.126714,
     "end_time": "2022-11-23T13:19:02.587531",
     "exception": false,
     "start_time": "2022-11-23T13:19:02.460817",
     "status": "completed"
    },
    "tags": []
   },
   "outputs": [
    {
     "name": "stdout",
     "output_type": "stream",
     "text": [
      "<class 'pandas.core.frame.DataFrame'>\n",
      "MultiIndex: 942297 entries, ('Bitcoin', '2013-04-28') to ('Project-X', '2018-11-30')\n",
      "Data columns (total 11 columns):\n",
      " #   Column       Non-Null Count   Dtype  \n",
      "---  ------       --------------   -----  \n",
      " 0   slug         942297 non-null  object \n",
      " 1   symbol       942297 non-null  object \n",
      " 2   ranknow      942297 non-null  int64  \n",
      " 3   open         942297 non-null  float64\n",
      " 4   high         942297 non-null  float64\n",
      " 5   low          942297 non-null  float64\n",
      " 6   close        942297 non-null  float64\n",
      " 7   volume       942297 non-null  float64\n",
      " 8   market       942297 non-null  float64\n",
      " 9   close_ratio  942297 non-null  float64\n",
      " 10  spread       942297 non-null  float64\n",
      "dtypes: float64(8), int64(1), object(2)\n",
      "memory usage: 82.8+ MB\n"
     ]
    }
   ],
   "source": [
    "df.info()"
   ]
  },
  {
   "cell_type": "code",
   "execution_count": 51,
   "id": "25dc07d3",
   "metadata": {
    "execution": {
     "iopub.execute_input": "2022-11-23T13:19:02.638125Z",
     "iopub.status.busy": "2022-11-23T13:19:02.637238Z",
     "iopub.status.idle": "2022-11-23T13:19:02.664368Z",
     "shell.execute_reply": "2022-11-23T13:19:02.662875Z"
    },
    "papermill": {
     "duration": 0.054556,
     "end_time": "2022-11-23T13:19:02.666600",
     "exception": false,
     "start_time": "2022-11-23T13:19:02.612044",
     "status": "completed"
    },
    "tags": []
   },
   "outputs": [
    {
     "data": {
      "text/html": [
       "<div>\n",
       "<style scoped>\n",
       "    .dataframe tbody tr th:only-of-type {\n",
       "        vertical-align: middle;\n",
       "    }\n",
       "\n",
       "    .dataframe tbody tr th {\n",
       "        vertical-align: top;\n",
       "    }\n",
       "\n",
       "    .dataframe thead th {\n",
       "        text-align: right;\n",
       "    }\n",
       "</style>\n",
       "<table border=\"1\" class=\"dataframe\">\n",
       "  <thead>\n",
       "    <tr style=\"text-align: right;\">\n",
       "      <th></th>\n",
       "      <th>slug</th>\n",
       "      <th>symbol</th>\n",
       "      <th>ranknow</th>\n",
       "      <th>open</th>\n",
       "      <th>high</th>\n",
       "      <th>low</th>\n",
       "      <th>close</th>\n",
       "      <th>volume</th>\n",
       "      <th>market</th>\n",
       "      <th>close_ratio</th>\n",
       "      <th>spread</th>\n",
       "    </tr>\n",
       "    <tr>\n",
       "      <th>date</th>\n",
       "      <th></th>\n",
       "      <th></th>\n",
       "      <th></th>\n",
       "      <th></th>\n",
       "      <th></th>\n",
       "      <th></th>\n",
       "      <th></th>\n",
       "      <th></th>\n",
       "      <th></th>\n",
       "      <th></th>\n",
       "      <th></th>\n",
       "    </tr>\n",
       "  </thead>\n",
       "  <tbody>\n",
       "    <tr>\n",
       "      <th>2013-04-28</th>\n",
       "      <td>bitcoin</td>\n",
       "      <td>BTC</td>\n",
       "      <td>1</td>\n",
       "      <td>135.30</td>\n",
       "      <td>135.98</td>\n",
       "      <td>132.10</td>\n",
       "      <td>134.21</td>\n",
       "      <td>0.000000e+00</td>\n",
       "      <td>1.488567e+09</td>\n",
       "      <td>0.5438</td>\n",
       "      <td>3.88</td>\n",
       "    </tr>\n",
       "    <tr>\n",
       "      <th>2013-04-29</th>\n",
       "      <td>bitcoin</td>\n",
       "      <td>BTC</td>\n",
       "      <td>1</td>\n",
       "      <td>134.44</td>\n",
       "      <td>147.49</td>\n",
       "      <td>134.00</td>\n",
       "      <td>144.54</td>\n",
       "      <td>0.000000e+00</td>\n",
       "      <td>1.603769e+09</td>\n",
       "      <td>0.7813</td>\n",
       "      <td>13.49</td>\n",
       "    </tr>\n",
       "    <tr>\n",
       "      <th>2013-04-30</th>\n",
       "      <td>bitcoin</td>\n",
       "      <td>BTC</td>\n",
       "      <td>1</td>\n",
       "      <td>144.00</td>\n",
       "      <td>146.93</td>\n",
       "      <td>134.05</td>\n",
       "      <td>139.00</td>\n",
       "      <td>0.000000e+00</td>\n",
       "      <td>1.542813e+09</td>\n",
       "      <td>0.3843</td>\n",
       "      <td>12.88</td>\n",
       "    </tr>\n",
       "    <tr>\n",
       "      <th>2013-05-01</th>\n",
       "      <td>bitcoin</td>\n",
       "      <td>BTC</td>\n",
       "      <td>1</td>\n",
       "      <td>139.00</td>\n",
       "      <td>139.89</td>\n",
       "      <td>107.72</td>\n",
       "      <td>116.99</td>\n",
       "      <td>0.000000e+00</td>\n",
       "      <td>1.298955e+09</td>\n",
       "      <td>0.2882</td>\n",
       "      <td>32.17</td>\n",
       "    </tr>\n",
       "    <tr>\n",
       "      <th>2013-05-02</th>\n",
       "      <td>bitcoin</td>\n",
       "      <td>BTC</td>\n",
       "      <td>1</td>\n",
       "      <td>116.38</td>\n",
       "      <td>125.60</td>\n",
       "      <td>92.28</td>\n",
       "      <td>105.21</td>\n",
       "      <td>0.000000e+00</td>\n",
       "      <td>1.168517e+09</td>\n",
       "      <td>0.3881</td>\n",
       "      <td>33.32</td>\n",
       "    </tr>\n",
       "    <tr>\n",
       "      <th>...</th>\n",
       "      <td>...</td>\n",
       "      <td>...</td>\n",
       "      <td>...</td>\n",
       "      <td>...</td>\n",
       "      <td>...</td>\n",
       "      <td>...</td>\n",
       "      <td>...</td>\n",
       "      <td>...</td>\n",
       "      <td>...</td>\n",
       "      <td>...</td>\n",
       "      <td>...</td>\n",
       "    </tr>\n",
       "    <tr>\n",
       "      <th>2018-11-25</th>\n",
       "      <td>bitcoin</td>\n",
       "      <td>BTC</td>\n",
       "      <td>1</td>\n",
       "      <td>3880.78</td>\n",
       "      <td>4120.87</td>\n",
       "      <td>3585.06</td>\n",
       "      <td>4009.97</td>\n",
       "      <td>6.825640e+09</td>\n",
       "      <td>6.974927e+10</td>\n",
       "      <td>0.7930</td>\n",
       "      <td>535.81</td>\n",
       "    </tr>\n",
       "    <tr>\n",
       "      <th>2018-11-26</th>\n",
       "      <td>bitcoin</td>\n",
       "      <td>BTC</td>\n",
       "      <td>1</td>\n",
       "      <td>4015.07</td>\n",
       "      <td>4107.14</td>\n",
       "      <td>3643.92</td>\n",
       "      <td>3779.13</td>\n",
       "      <td>6.476900e+09</td>\n",
       "      <td>6.573929e+10</td>\n",
       "      <td>0.2919</td>\n",
       "      <td>463.22</td>\n",
       "    </tr>\n",
       "    <tr>\n",
       "      <th>2018-11-27</th>\n",
       "      <td>bitcoin</td>\n",
       "      <td>BTC</td>\n",
       "      <td>1</td>\n",
       "      <td>3765.95</td>\n",
       "      <td>3862.96</td>\n",
       "      <td>3661.01</td>\n",
       "      <td>3820.72</td>\n",
       "      <td>5.998720e+09</td>\n",
       "      <td>6.646897e+10</td>\n",
       "      <td>0.7908</td>\n",
       "      <td>201.95</td>\n",
       "    </tr>\n",
       "    <tr>\n",
       "      <th>2018-11-28</th>\n",
       "      <td>bitcoin</td>\n",
       "      <td>BTC</td>\n",
       "      <td>1</td>\n",
       "      <td>3822.47</td>\n",
       "      <td>4385.90</td>\n",
       "      <td>3822.47</td>\n",
       "      <td>4257.42</td>\n",
       "      <td>7.280280e+09</td>\n",
       "      <td>7.407256e+10</td>\n",
       "      <td>0.7720</td>\n",
       "      <td>563.43</td>\n",
       "    </tr>\n",
       "    <tr>\n",
       "      <th>2018-11-29</th>\n",
       "      <td>bitcoin</td>\n",
       "      <td>BTC</td>\n",
       "      <td>1</td>\n",
       "      <td>4269.00</td>\n",
       "      <td>4413.02</td>\n",
       "      <td>4145.77</td>\n",
       "      <td>4278.85</td>\n",
       "      <td>6.503348e+09</td>\n",
       "      <td>7.445102e+10</td>\n",
       "      <td>0.4980</td>\n",
       "      <td>267.25</td>\n",
       "    </tr>\n",
       "  </tbody>\n",
       "</table>\n",
       "<p>2042 rows × 11 columns</p>\n",
       "</div>"
      ],
      "text/plain": [
       "               slug symbol  ranknow     open     high      low    close  \\\n",
       "date                                                                      \n",
       "2013-04-28  bitcoin    BTC        1   135.30   135.98   132.10   134.21   \n",
       "2013-04-29  bitcoin    BTC        1   134.44   147.49   134.00   144.54   \n",
       "2013-04-30  bitcoin    BTC        1   144.00   146.93   134.05   139.00   \n",
       "2013-05-01  bitcoin    BTC        1   139.00   139.89   107.72   116.99   \n",
       "2013-05-02  bitcoin    BTC        1   116.38   125.60    92.28   105.21   \n",
       "...             ...    ...      ...      ...      ...      ...      ...   \n",
       "2018-11-25  bitcoin    BTC        1  3880.78  4120.87  3585.06  4009.97   \n",
       "2018-11-26  bitcoin    BTC        1  4015.07  4107.14  3643.92  3779.13   \n",
       "2018-11-27  bitcoin    BTC        1  3765.95  3862.96  3661.01  3820.72   \n",
       "2018-11-28  bitcoin    BTC        1  3822.47  4385.90  3822.47  4257.42   \n",
       "2018-11-29  bitcoin    BTC        1  4269.00  4413.02  4145.77  4278.85   \n",
       "\n",
       "                  volume        market  close_ratio  spread  \n",
       "date                                                         \n",
       "2013-04-28  0.000000e+00  1.488567e+09       0.5438    3.88  \n",
       "2013-04-29  0.000000e+00  1.603769e+09       0.7813   13.49  \n",
       "2013-04-30  0.000000e+00  1.542813e+09       0.3843   12.88  \n",
       "2013-05-01  0.000000e+00  1.298955e+09       0.2882   32.17  \n",
       "2013-05-02  0.000000e+00  1.168517e+09       0.3881   33.32  \n",
       "...                  ...           ...          ...     ...  \n",
       "2018-11-25  6.825640e+09  6.974927e+10       0.7930  535.81  \n",
       "2018-11-26  6.476900e+09  6.573929e+10       0.2919  463.22  \n",
       "2018-11-27  5.998720e+09  6.646897e+10       0.7908  201.95  \n",
       "2018-11-28  7.280280e+09  7.407256e+10       0.7720  563.43  \n",
       "2018-11-29  6.503348e+09  7.445102e+10       0.4980  267.25  \n",
       "\n",
       "[2042 rows x 11 columns]"
      ]
     },
     "execution_count": 51,
     "metadata": {},
     "output_type": "execute_result"
    }
   ],
   "source": [
    "df.loc['Bitcoin']"
   ]
  },
  {
   "cell_type": "code",
   "execution_count": 52,
   "id": "747dd8d0",
   "metadata": {
    "execution": {
     "iopub.execute_input": "2022-11-23T13:19:02.717290Z",
     "iopub.status.busy": "2022-11-23T13:19:02.716899Z",
     "iopub.status.idle": "2022-11-23T13:19:03.227126Z",
     "shell.execute_reply": "2022-11-23T13:19:03.226108Z"
    },
    "papermill": {
     "duration": 0.537983,
     "end_time": "2022-11-23T13:19:03.229227",
     "exception": false,
     "start_time": "2022-11-23T13:19:02.691244",
     "status": "completed"
    },
    "tags": []
   },
   "outputs": [
    {
     "data": {
      "text/html": [
       "<div>\n",
       "<style scoped>\n",
       "    .dataframe tbody tr th:only-of-type {\n",
       "        vertical-align: middle;\n",
       "    }\n",
       "\n",
       "    .dataframe tbody tr th {\n",
       "        vertical-align: top;\n",
       "    }\n",
       "\n",
       "    .dataframe thead th {\n",
       "        text-align: right;\n",
       "    }\n",
       "</style>\n",
       "<table border=\"1\" class=\"dataframe\">\n",
       "  <thead>\n",
       "    <tr style=\"text-align: right;\">\n",
       "      <th></th>\n",
       "      <th></th>\n",
       "      <th>slug</th>\n",
       "      <th>symbol</th>\n",
       "      <th>ranknow</th>\n",
       "      <th>open</th>\n",
       "      <th>high</th>\n",
       "      <th>low</th>\n",
       "      <th>close</th>\n",
       "      <th>volume</th>\n",
       "      <th>market</th>\n",
       "      <th>close_ratio</th>\n",
       "      <th>spread</th>\n",
       "    </tr>\n",
       "    <tr>\n",
       "      <th>name</th>\n",
       "      <th>date</th>\n",
       "      <th></th>\n",
       "      <th></th>\n",
       "      <th></th>\n",
       "      <th></th>\n",
       "      <th></th>\n",
       "      <th></th>\n",
       "      <th></th>\n",
       "      <th></th>\n",
       "      <th></th>\n",
       "      <th></th>\n",
       "      <th></th>\n",
       "    </tr>\n",
       "  </thead>\n",
       "  <tbody>\n",
       "    <tr>\n",
       "      <th>Bitcoin</th>\n",
       "      <th>2013-04-28</th>\n",
       "      <td>bitcoin</td>\n",
       "      <td>BTC</td>\n",
       "      <td>1</td>\n",
       "      <td>135.300000</td>\n",
       "      <td>135.980000</td>\n",
       "      <td>132.100000</td>\n",
       "      <td>134.210000</td>\n",
       "      <td>0.0</td>\n",
       "      <td>1.488567e+09</td>\n",
       "      <td>0.5438</td>\n",
       "      <td>3.88</td>\n",
       "    </tr>\n",
       "    <tr>\n",
       "      <th>Litecoin</th>\n",
       "      <th>2013-04-28</th>\n",
       "      <td>litecoin</td>\n",
       "      <td>LTC</td>\n",
       "      <td>7</td>\n",
       "      <td>4.300000</td>\n",
       "      <td>4.400000</td>\n",
       "      <td>4.180000</td>\n",
       "      <td>4.350000</td>\n",
       "      <td>0.0</td>\n",
       "      <td>7.463694e+07</td>\n",
       "      <td>0.7727</td>\n",
       "      <td>0.22</td>\n",
       "    </tr>\n",
       "    <tr>\n",
       "      <th>Namecoin</th>\n",
       "      <th>2013-04-28</th>\n",
       "      <td>namecoin</td>\n",
       "      <td>NMC</td>\n",
       "      <td>371</td>\n",
       "      <td>1.100000</td>\n",
       "      <td>1.120000</td>\n",
       "      <td>1.080000</td>\n",
       "      <td>1.110000</td>\n",
       "      <td>0.0</td>\n",
       "      <td>5.995983e+06</td>\n",
       "      <td>0.7500</td>\n",
       "      <td>0.04</td>\n",
       "    </tr>\n",
       "    <tr>\n",
       "      <th>Novacoin</th>\n",
       "      <th>2013-04-28</th>\n",
       "      <td>novacoin</td>\n",
       "      <td>NVC</td>\n",
       "      <td>700</td>\n",
       "      <td>4.220000</td>\n",
       "      <td>4.250000</td>\n",
       "      <td>4.040000</td>\n",
       "      <td>4.250000</td>\n",
       "      <td>0.0</td>\n",
       "      <td>1.162268e+06</td>\n",
       "      <td>1.0000</td>\n",
       "      <td>0.21</td>\n",
       "    </tr>\n",
       "    <tr>\n",
       "      <th>Peercoin</th>\n",
       "      <th>2013-04-28</th>\n",
       "      <td>peercoin</td>\n",
       "      <td>PPC</td>\n",
       "      <td>159</td>\n",
       "      <td>0.386958</td>\n",
       "      <td>0.404659</td>\n",
       "      <td>0.376287</td>\n",
       "      <td>0.386525</td>\n",
       "      <td>0.0</td>\n",
       "      <td>7.250189e+06</td>\n",
       "      <td>0.3608</td>\n",
       "      <td>0.03</td>\n",
       "    </tr>\n",
       "    <tr>\n",
       "      <th>...</th>\n",
       "      <th>...</th>\n",
       "      <td>...</td>\n",
       "      <td>...</td>\n",
       "      <td>...</td>\n",
       "      <td>...</td>\n",
       "      <td>...</td>\n",
       "      <td>...</td>\n",
       "      <td>...</td>\n",
       "      <td>...</td>\n",
       "      <td>...</td>\n",
       "      <td>...</td>\n",
       "      <td>...</td>\n",
       "    </tr>\n",
       "    <tr>\n",
       "      <th>vSportCoin</th>\n",
       "      <th>2018-11-29</th>\n",
       "      <td>vsportcoin</td>\n",
       "      <td>VSC</td>\n",
       "      <td>1850</td>\n",
       "      <td>0.001395</td>\n",
       "      <td>0.001527</td>\n",
       "      <td>0.001308</td>\n",
       "      <td>0.001450</td>\n",
       "      <td>35022.0</td>\n",
       "      <td>0.000000e+00</td>\n",
       "      <td>0.6484</td>\n",
       "      <td>0.00</td>\n",
       "    </tr>\n",
       "    <tr>\n",
       "      <th>wys Token</th>\n",
       "      <th>2018-11-29</th>\n",
       "      <td>wys-token</td>\n",
       "      <td>WYS</td>\n",
       "      <td>2058</td>\n",
       "      <td>0.005643</td>\n",
       "      <td>0.005670</td>\n",
       "      <td>0.005362</td>\n",
       "      <td>0.005465</td>\n",
       "      <td>0.0</td>\n",
       "      <td>0.000000e+00</td>\n",
       "      <td>0.3344</td>\n",
       "      <td>0.00</td>\n",
       "    </tr>\n",
       "    <tr>\n",
       "      <th>42-coin</th>\n",
       "      <th>2018-11-30</th>\n",
       "      <td>42-coin</td>\n",
       "      <td>42</td>\n",
       "      <td>1228</td>\n",
       "      <td>23272.240000</td>\n",
       "      <td>25082.690000</td>\n",
       "      <td>21436.750000</td>\n",
       "      <td>22665.930000</td>\n",
       "      <td>308.0</td>\n",
       "      <td>9.519680e+05</td>\n",
       "      <td>0.3371</td>\n",
       "      <td>3645.94</td>\n",
       "    </tr>\n",
       "    <tr>\n",
       "      <th>Bit20</th>\n",
       "      <th>2018-11-30</th>\n",
       "      <td>bit20</td>\n",
       "      <td>BTWTY</td>\n",
       "      <td>1505</td>\n",
       "      <td>59697.890000</td>\n",
       "      <td>59697.890000</td>\n",
       "      <td>58616.070000</td>\n",
       "      <td>59274.960000</td>\n",
       "      <td>0.0</td>\n",
       "      <td>6.022300e+04</td>\n",
       "      <td>0.6091</td>\n",
       "      <td>1081.82</td>\n",
       "    </tr>\n",
       "    <tr>\n",
       "      <th>Project-X</th>\n",
       "      <th>2018-11-30</th>\n",
       "      <td>project-x</td>\n",
       "      <td>NANOX</td>\n",
       "      <td>1727</td>\n",
       "      <td>22872.090000</td>\n",
       "      <td>23086.980000</td>\n",
       "      <td>19040.910000</td>\n",
       "      <td>21136.720000</td>\n",
       "      <td>125.0</td>\n",
       "      <td>1.654000e+03</td>\n",
       "      <td>0.5180</td>\n",
       "      <td>4046.07</td>\n",
       "    </tr>\n",
       "  </tbody>\n",
       "</table>\n",
       "<p>942297 rows × 11 columns</p>\n",
       "</div>"
      ],
      "text/plain": [
       "                             slug symbol  ranknow          open          high  \\\n",
       "name       date                                                                 \n",
       "Bitcoin    2013-04-28     bitcoin    BTC        1    135.300000    135.980000   \n",
       "Litecoin   2013-04-28    litecoin    LTC        7      4.300000      4.400000   \n",
       "Namecoin   2013-04-28    namecoin    NMC      371      1.100000      1.120000   \n",
       "Novacoin   2013-04-28    novacoin    NVC      700      4.220000      4.250000   \n",
       "Peercoin   2013-04-28    peercoin    PPC      159      0.386958      0.404659   \n",
       "...                           ...    ...      ...           ...           ...   \n",
       "vSportCoin 2018-11-29  vsportcoin    VSC     1850      0.001395      0.001527   \n",
       "wys Token  2018-11-29   wys-token    WYS     2058      0.005643      0.005670   \n",
       "42-coin    2018-11-30     42-coin     42     1228  23272.240000  25082.690000   \n",
       "Bit20      2018-11-30       bit20  BTWTY     1505  59697.890000  59697.890000   \n",
       "Project-X  2018-11-30   project-x  NANOX     1727  22872.090000  23086.980000   \n",
       "\n",
       "                                low         close   volume        market  \\\n",
       "name       date                                                            \n",
       "Bitcoin    2013-04-28    132.100000    134.210000      0.0  1.488567e+09   \n",
       "Litecoin   2013-04-28      4.180000      4.350000      0.0  7.463694e+07   \n",
       "Namecoin   2013-04-28      1.080000      1.110000      0.0  5.995983e+06   \n",
       "Novacoin   2013-04-28      4.040000      4.250000      0.0  1.162268e+06   \n",
       "Peercoin   2013-04-28      0.376287      0.386525      0.0  7.250189e+06   \n",
       "...                             ...           ...      ...           ...   \n",
       "vSportCoin 2018-11-29      0.001308      0.001450  35022.0  0.000000e+00   \n",
       "wys Token  2018-11-29      0.005362      0.005465      0.0  0.000000e+00   \n",
       "42-coin    2018-11-30  21436.750000  22665.930000    308.0  9.519680e+05   \n",
       "Bit20      2018-11-30  58616.070000  59274.960000      0.0  6.022300e+04   \n",
       "Project-X  2018-11-30  19040.910000  21136.720000    125.0  1.654000e+03   \n",
       "\n",
       "                       close_ratio   spread  \n",
       "name       date                              \n",
       "Bitcoin    2013-04-28       0.5438     3.88  \n",
       "Litecoin   2013-04-28       0.7727     0.22  \n",
       "Namecoin   2013-04-28       0.7500     0.04  \n",
       "Novacoin   2013-04-28       1.0000     0.21  \n",
       "Peercoin   2013-04-28       0.3608     0.03  \n",
       "...                            ...      ...  \n",
       "vSportCoin 2018-11-29       0.6484     0.00  \n",
       "wys Token  2018-11-29       0.3344     0.00  \n",
       "42-coin    2018-11-30       0.3371  3645.94  \n",
       "Bit20      2018-11-30       0.6091  1081.82  \n",
       "Project-X  2018-11-30       0.5180  4046.07  \n",
       "\n",
       "[942297 rows x 11 columns]"
      ]
     },
     "execution_count": 52,
     "metadata": {},
     "output_type": "execute_result"
    }
   ],
   "source": [
    "df.sort_values(['date', 'name'], inplace=True)\n",
    "df"
   ]
  },
  {
   "cell_type": "code",
   "execution_count": 53,
   "id": "96d45d98",
   "metadata": {
    "execution": {
     "iopub.execute_input": "2022-11-23T13:19:03.279916Z",
     "iopub.status.busy": "2022-11-23T13:19:03.278736Z",
     "iopub.status.idle": "2022-11-23T13:19:03.539263Z",
     "shell.execute_reply": "2022-11-23T13:19:03.538380Z"
    },
    "papermill": {
     "duration": 0.28877,
     "end_time": "2022-11-23T13:19:03.542152",
     "exception": false,
     "start_time": "2022-11-23T13:19:03.253382",
     "status": "completed"
    },
    "tags": []
   },
   "outputs": [
    {
     "data": {
      "text/plain": [
       "<AxesSubplot:xlabel='date'>"
      ]
     },
     "execution_count": 53,
     "metadata": {},
     "output_type": "execute_result"
    },
    {
     "data": {
      "image/png": "[encoded data removed]",
      "text/plain": [
       "<Figure size 432x288 with 1 Axes>"
      ]
     },
     "metadata": {
      "needs_background": "light"
     },
     "output_type": "display_data"
    }
   ],
   "source": [
    "df.loc['Bitcoin'].plot()"
   ]
  },
  {
   "cell_type": "code",
   "execution_count": 54,
   "id": "9b899edd",
   "metadata": {
    "execution": {
     "iopub.execute_input": "2022-11-23T13:19:03.595744Z",
     "iopub.status.busy": "2022-11-23T13:19:03.595321Z",
     "iopub.status.idle": "2022-11-23T13:19:21.718159Z",
     "shell.execute_reply": "2022-11-23T13:19:21.716755Z"
    },
    "papermill": {
     "duration": 18.153083,
     "end_time": "2022-11-23T13:19:21.720875",
     "exception": false,
     "start_time": "2022-11-23T13:19:03.567792",
     "status": "completed"
    },
    "tags": []
   },
   "outputs": [
    {
     "data": {
      "text/plain": [
       "<AxesSubplot:xlabel='date'>"
      ]
     },
     "execution_count": 54,
     "metadata": {},
     "output_type": "execute_result"
    },
    {
     "data": {
      "image/png": "[encoded data removed]",
      "text/plain": [
       "<Figure size 432x288 with 1 Axes>"
      ]
     },
     "metadata": {
      "needs_background": "light"
     },
     "output_type": "display_data"
    }
   ],
   "source": [
    "sns.lineplot(data=df.loc['Bitcoin'])"
   ]
  },
  {
   "cell_type": "code",
   "execution_count": 55,
   "id": "8cb40e47",
   "metadata": {
    "execution": {
     "iopub.execute_input": "2022-11-23T13:19:21.775151Z",
     "iopub.status.busy": "2022-11-23T13:19:21.774752Z",
     "iopub.status.idle": "2022-11-23T13:19:39.298783Z",
     "shell.execute_reply": "2022-11-23T13:19:39.297879Z"
    },
    "papermill": {
     "duration": 17.553733,
     "end_time": "2022-11-23T13:19:39.301079",
     "exception": false,
     "start_time": "2022-11-23T13:19:21.747346",
     "status": "completed"
    },
    "tags": []
   },
   "outputs": [
    {
     "data": {
      "text/plain": [
       "<AxesSubplot:xlabel='date', ylabel='high'>"
      ]
     },
     "execution_count": 55,
     "metadata": {},
     "output_type": "execute_result"
    },
    {
     "data": {
      "image/png": "[encoded data removed]",
      "text/plain": [
       "<Figure size 432x288 with 1 Axes>"
      ]
     },
     "metadata": {
      "needs_background": "light"
     },
     "output_type": "display_data"
    }
   ],
   "source": [
    "dg = df.loc['Bitcoin']\n",
    "sns.lineplot(x=dg.index, y=dg['high'])"
   ]
  }
 ],
 "metadata": {
  "kernelspec": {
   "display_name": "Python 3",
   "language": "python",
   "name": "python3"
  },
  "language_info": {
   "codemirror_mode": {
    "name": "ipython",
    "version": 3
   },
   "file_extension": ".py",
   "mimetype": "text/x-python",
   "name": "python",
   "nbconvert_exporter": "python",
   "pygments_lexer": "ipython3",
   "version": "3.7.12"
  },
  "papermill": {
   "default_parameters": {},
   "duration": 61.641339,
   "end_time": "2022-11-23T13:19:40.753653",
   "environment_variables": {},
   "exception": null,
   "input_path": "__notebook__.ipynb",
   "output_path": "__notebook__.ipynb",
   "parameters": {},
   "start_time": "2022-11-23T13:18:39.112314",
   "version": "2.3.4"
  }
 },
 "nbformat": 4,
 "nbformat_minor": 5
}
