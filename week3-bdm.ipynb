{
 "cells": [
  {
   "cell_type": "code",
   "execution_count": 1,
   "id": "d9439216",
   "metadata": {
    "_cell_guid": "b1076dfc-b9ad-4769-8c92-a6c4dae69d19",
    "_uuid": "8f2839f25d086af736a60e9eeb907d3b93b6e0e5",
    "execution": {
     "iopub.execute_input": "2022-11-23T12:21:58.075488Z",
     "iopub.status.busy": "2022-11-23T12:21:58.075017Z",
     "iopub.status.idle": "2022-11-23T12:21:58.088262Z",
     "shell.execute_reply": "2022-11-23T12:21:58.087154Z"
    },
    "papermill": {
     "duration": 0.053326,
     "end_time": "2022-11-23T12:21:58.091157",
     "exception": false,
     "start_time": "2022-11-23T12:21:58.037831",
     "status": "completed"
    },
    "tags": []
   },
   "outputs": [],
   "source": [
    "# This Python 3 environment comes with many helpful analytics libraries installed\n",
    "# It is defined by the kaggle/python Docker image: https://github.com/kaggle/docker-python\n",
    "# For example, here's several helpful packages to load\n",
    "\n",
    "import numpy as np # linear algebra\n",
    "import pandas as pd # data processing, CSV file I/O (e.g. pd.read_csv)\n",
    "\n",
    "# Input data files are available in the read-only \"../input/\" directory\n",
    "# For example, running this (by clicking run or pressing Shift+Enter) will list all files under the input directory\n",
    "\n",
    "import os\n",
    "for dirname, _, filenames in os.walk('/kaggle/input'):\n",
    "    for filename in filenames:\n",
    "        print(os.path.join(dirname, filename))\n",
    "\n",
    "# You can write up to 20GB to the current directory (/kaggle/working/) that gets preserved as output when you create a version using \"Save & Run All\" \n",
    "# You can also write temporary files to /kaggle/temp/, but they won't be saved outside of the current session"
   ]
  },
  {
   "cell_type": "markdown",
   "id": "7648f526",
   "metadata": {
    "papermill": {
     "duration": 0.029685,
     "end_time": "2022-11-23T12:21:58.152008",
     "exception": false,
     "start_time": "2022-11-23T12:21:58.122323",
     "status": "completed"
    },
    "tags": []
   },
   "source": [
    "<h1> NumPy Array </h1>"
   ]
  },
  {
   "cell_type": "code",
   "execution_count": 2,
   "id": "f46057d0",
   "metadata": {
    "execution": {
     "iopub.execute_input": "2022-11-23T12:21:58.230025Z",
     "iopub.status.busy": "2022-11-23T12:21:58.229355Z",
     "iopub.status.idle": "2022-11-23T12:21:58.237975Z",
     "shell.execute_reply": "2022-11-23T12:21:58.236196Z"
    },
    "papermill": {
     "duration": 0.056453,
     "end_time": "2022-11-23T12:21:58.241243",
     "exception": false,
     "start_time": "2022-11-23T12:21:58.184790",
     "status": "completed"
    },
    "tags": []
   },
   "outputs": [],
   "source": [
    "import numpy as np"
   ]
  },
  {
   "cell_type": "code",
   "execution_count": 3,
   "id": "a8cfc84c",
   "metadata": {
    "execution": {
     "iopub.execute_input": "2022-11-23T12:21:58.310243Z",
     "iopub.status.busy": "2022-11-23T12:21:58.309543Z",
     "iopub.status.idle": "2022-11-23T12:21:58.322131Z",
     "shell.execute_reply": "2022-11-23T12:21:58.321179Z"
    },
    "papermill": {
     "duration": 0.047264,
     "end_time": "2022-11-23T12:21:58.324528",
     "exception": false,
     "start_time": "2022-11-23T12:21:58.277264",
     "status": "completed"
    },
    "tags": []
   },
   "outputs": [
    {
     "data": {
      "text/plain": [
       "array([ 1,  2,  3,  4,  5,  6,  7,  8,  9, 10])"
      ]
     },
     "execution_count": 3,
     "metadata": {},
     "output_type": "execute_result"
    }
   ],
   "source": [
    "L = [1,2,3,4,5,6,7,8,9,10]\n",
    "a = np.array(L)\n",
    "a"
   ]
  },
  {
   "cell_type": "code",
   "execution_count": 4,
   "id": "33a95751",
   "metadata": {
    "execution": {
     "iopub.execute_input": "2022-11-23T12:21:58.394062Z",
     "iopub.status.busy": "2022-11-23T12:21:58.393372Z",
     "iopub.status.idle": "2022-11-23T12:21:58.399877Z",
     "shell.execute_reply": "2022-11-23T12:21:58.398984Z"
    },
    "papermill": {
     "duration": 0.045077,
     "end_time": "2022-11-23T12:21:58.402305",
     "exception": false,
     "start_time": "2022-11-23T12:21:58.357228",
     "status": "completed"
    },
    "tags": []
   },
   "outputs": [
    {
     "data": {
      "text/plain": [
       "(10,)"
      ]
     },
     "execution_count": 4,
     "metadata": {},
     "output_type": "execute_result"
    }
   ],
   "source": [
    "a.shape"
   ]
  },
  {
   "cell_type": "code",
   "execution_count": 5,
   "id": "595c8f68",
   "metadata": {
    "execution": {
     "iopub.execute_input": "2022-11-23T12:21:58.466302Z",
     "iopub.status.busy": "2022-11-23T12:21:58.465838Z",
     "iopub.status.idle": "2022-11-23T12:21:58.474418Z",
     "shell.execute_reply": "2022-11-23T12:21:58.472707Z"
    },
    "papermill": {
     "duration": 0.045287,
     "end_time": "2022-11-23T12:21:58.478723",
     "exception": false,
     "start_time": "2022-11-23T12:21:58.433436",
     "status": "completed"
    },
    "tags": []
   },
   "outputs": [
    {
     "data": {
      "text/plain": [
       "array([[ 1],\n",
       "       [ 2],\n",
       "       [ 3],\n",
       "       [ 4],\n",
       "       [ 5],\n",
       "       [ 6],\n",
       "       [ 7],\n",
       "       [ 8],\n",
       "       [ 9],\n",
       "       [10]])"
      ]
     },
     "execution_count": 5,
     "metadata": {},
     "output_type": "execute_result"
    }
   ],
   "source": [
    "b = a.reshape(10,1) \n",
    "b"
   ]
  },
  {
   "cell_type": "code",
   "execution_count": 6,
   "id": "b95d732f",
   "metadata": {
    "execution": {
     "iopub.execute_input": "2022-11-23T12:21:58.543096Z",
     "iopub.status.busy": "2022-11-23T12:21:58.542447Z",
     "iopub.status.idle": "2022-11-23T12:21:58.548947Z",
     "shell.execute_reply": "2022-11-23T12:21:58.547286Z"
    },
    "papermill": {
     "duration": 0.041726,
     "end_time": "2022-11-23T12:21:58.551840",
     "exception": false,
     "start_time": "2022-11-23T12:21:58.510114",
     "status": "completed"
    },
    "tags": []
   },
   "outputs": [
    {
     "data": {
      "text/plain": [
       "(10, 1)"
      ]
     },
     "execution_count": 6,
     "metadata": {},
     "output_type": "execute_result"
    }
   ],
   "source": [
    "b.shape"
   ]
  },
  {
   "cell_type": "code",
   "execution_count": 7,
   "id": "9b7a00ff",
   "metadata": {
    "execution": {
     "iopub.execute_input": "2022-11-23T12:21:58.628725Z",
     "iopub.status.busy": "2022-11-23T12:21:58.628019Z",
     "iopub.status.idle": "2022-11-23T12:21:58.637646Z",
     "shell.execute_reply": "2022-11-23T12:21:58.635934Z"
    },
    "papermill": {
     "duration": 0.05393,
     "end_time": "2022-11-23T12:21:58.641417",
     "exception": false,
     "start_time": "2022-11-23T12:21:58.587487",
     "status": "completed"
    },
    "tags": []
   },
   "outputs": [
    {
     "data": {
      "text/plain": [
       "1"
      ]
     },
     "execution_count": 7,
     "metadata": {},
     "output_type": "execute_result"
    }
   ],
   "source": [
    "a[0]"
   ]
  },
  {
   "cell_type": "code",
   "execution_count": 8,
   "id": "ff35f063",
   "metadata": {
    "execution": {
     "iopub.execute_input": "2022-11-23T12:21:58.723681Z",
     "iopub.status.busy": "2022-11-23T12:21:58.723230Z",
     "iopub.status.idle": "2022-11-23T12:21:58.731097Z",
     "shell.execute_reply": "2022-11-23T12:21:58.729685Z"
    },
    "papermill": {
     "duration": 0.043914,
     "end_time": "2022-11-23T12:21:58.733414",
     "exception": false,
     "start_time": "2022-11-23T12:21:58.689500",
     "status": "completed"
    },
    "tags": []
   },
   "outputs": [
    {
     "data": {
      "text/plain": [
       "array([3, 4, 5])"
      ]
     },
     "execution_count": 8,
     "metadata": {},
     "output_type": "execute_result"
    }
   ],
   "source": [
    "a[2:5]"
   ]
  },
  {
   "cell_type": "code",
   "execution_count": 9,
   "id": "a223a1db",
   "metadata": {
    "execution": {
     "iopub.execute_input": "2022-11-23T12:21:58.798013Z",
     "iopub.status.busy": "2022-11-23T12:21:58.797257Z",
     "iopub.status.idle": "2022-11-23T12:21:58.805567Z",
     "shell.execute_reply": "2022-11-23T12:21:58.803851Z"
    },
    "papermill": {
     "duration": 0.044535,
     "end_time": "2022-11-23T12:21:58.809175",
     "exception": false,
     "start_time": "2022-11-23T12:21:58.764640",
     "status": "completed"
    },
    "tags": []
   },
   "outputs": [
    {
     "data": {
      "text/plain": [
       "array([1, 2, 3, 4, 5, 6])"
      ]
     },
     "execution_count": 9,
     "metadata": {},
     "output_type": "execute_result"
    }
   ],
   "source": [
    "a[:6]"
   ]
  },
  {
   "cell_type": "code",
   "execution_count": 10,
   "id": "86dffd45",
   "metadata": {
    "execution": {
     "iopub.execute_input": "2022-11-23T12:21:58.877302Z",
     "iopub.status.busy": "2022-11-23T12:21:58.876609Z",
     "iopub.status.idle": "2022-11-23T12:21:58.883862Z",
     "shell.execute_reply": "2022-11-23T12:21:58.882772Z"
    },
    "papermill": {
     "duration": 0.043406,
     "end_time": "2022-11-23T12:21:58.886034",
     "exception": false,
     "start_time": "2022-11-23T12:21:58.842628",
     "status": "completed"
    },
    "tags": []
   },
   "outputs": [
    {
     "data": {
      "text/plain": [
       "array([ 4,  5,  6,  7,  8,  9, 10])"
      ]
     },
     "execution_count": 10,
     "metadata": {},
     "output_type": "execute_result"
    }
   ],
   "source": [
    "a[3:]"
   ]
  },
  {
   "cell_type": "code",
   "execution_count": 11,
   "id": "dd3f6e15",
   "metadata": {
    "execution": {
     "iopub.execute_input": "2022-11-23T12:21:58.954156Z",
     "iopub.status.busy": "2022-11-23T12:21:58.953006Z",
     "iopub.status.idle": "2022-11-23T12:21:58.960248Z",
     "shell.execute_reply": "2022-11-23T12:21:58.959240Z"
    },
    "papermill": {
     "duration": 0.044518,
     "end_time": "2022-11-23T12:21:58.962691",
     "exception": false,
     "start_time": "2022-11-23T12:21:58.918173",
     "status": "completed"
    },
    "tags": []
   },
   "outputs": [
    {
     "data": {
      "text/plain": [
       "9"
      ]
     },
     "execution_count": 11,
     "metadata": {},
     "output_type": "execute_result"
    }
   ],
   "source": [
    "a[-2]"
   ]
  },
  {
   "cell_type": "code",
   "execution_count": 12,
   "id": "d4a36485",
   "metadata": {
    "execution": {
     "iopub.execute_input": "2022-11-23T12:21:59.028331Z",
     "iopub.status.busy": "2022-11-23T12:21:59.027928Z",
     "iopub.status.idle": "2022-11-23T12:21:59.035457Z",
     "shell.execute_reply": "2022-11-23T12:21:59.034336Z"
    },
    "papermill": {
     "duration": 0.043089,
     "end_time": "2022-11-23T12:21:59.037882",
     "exception": false,
     "start_time": "2022-11-23T12:21:58.994793",
     "status": "completed"
    },
    "tags": []
   },
   "outputs": [
    {
     "data": {
      "text/plain": [
       "array([ 6,  7,  8,  9, 10])"
      ]
     },
     "execution_count": 12,
     "metadata": {},
     "output_type": "execute_result"
    }
   ],
   "source": [
    "a[-5:]"
   ]
  },
  {
   "cell_type": "code",
   "execution_count": 13,
   "id": "18691592",
   "metadata": {
    "execution": {
     "iopub.execute_input": "2022-11-23T12:21:59.104612Z",
     "iopub.status.busy": "2022-11-23T12:21:59.104222Z",
     "iopub.status.idle": "2022-11-23T12:21:59.111168Z",
     "shell.execute_reply": "2022-11-23T12:21:59.110117Z"
    },
    "papermill": {
     "duration": 0.042168,
     "end_time": "2022-11-23T12:21:59.113373",
     "exception": false,
     "start_time": "2022-11-23T12:21:59.071205",
     "status": "completed"
    },
    "tags": []
   },
   "outputs": [
    {
     "data": {
      "text/plain": [
       "array([6, 7, 8, 9])"
      ]
     },
     "execution_count": 13,
     "metadata": {},
     "output_type": "execute_result"
    }
   ],
   "source": [
    "a[-5:-1]"
   ]
  },
  {
   "cell_type": "code",
   "execution_count": 14,
   "id": "a8c514a0",
   "metadata": {
    "execution": {
     "iopub.execute_input": "2022-11-23T12:21:59.199478Z",
     "iopub.status.busy": "2022-11-23T12:21:59.199096Z",
     "iopub.status.idle": "2022-11-23T12:21:59.206228Z",
     "shell.execute_reply": "2022-11-23T12:21:59.205001Z"
    },
    "papermill": {
     "duration": 0.060043,
     "end_time": "2022-11-23T12:21:59.209163",
     "exception": false,
     "start_time": "2022-11-23T12:21:59.149120",
     "status": "completed"
    },
    "tags": []
   },
   "outputs": [
    {
     "data": {
      "text/plain": [
       "10"
      ]
     },
     "execution_count": 14,
     "metadata": {},
     "output_type": "execute_result"
    }
   ],
   "source": [
    "np.size(a)"
   ]
  },
  {
   "cell_type": "code",
   "execution_count": 15,
   "id": "21d46096",
   "metadata": {
    "execution": {
     "iopub.execute_input": "2022-11-23T12:21:59.285306Z",
     "iopub.status.busy": "2022-11-23T12:21:59.284864Z",
     "iopub.status.idle": "2022-11-23T12:21:59.292531Z",
     "shell.execute_reply": "2022-11-23T12:21:59.291358Z"
    },
    "papermill": {
     "duration": 0.044989,
     "end_time": "2022-11-23T12:21:59.294956",
     "exception": false,
     "start_time": "2022-11-23T12:21:59.249967",
     "status": "completed"
    },
    "tags": []
   },
   "outputs": [
    {
     "data": {
      "text/plain": [
       "(10,)"
      ]
     },
     "execution_count": 15,
     "metadata": {},
     "output_type": "execute_result"
    }
   ],
   "source": [
    "np.shape(a)"
   ]
  },
  {
   "cell_type": "code",
   "execution_count": 16,
   "id": "a53b48e4",
   "metadata": {
    "execution": {
     "iopub.execute_input": "2022-11-23T12:21:59.361826Z",
     "iopub.status.busy": "2022-11-23T12:21:59.361418Z",
     "iopub.status.idle": "2022-11-23T12:21:59.370214Z",
     "shell.execute_reply": "2022-11-23T12:21:59.368987Z"
    },
    "papermill": {
     "duration": 0.044906,
     "end_time": "2022-11-23T12:21:59.372458",
     "exception": false,
     "start_time": "2022-11-23T12:21:59.327552",
     "status": "completed"
    },
    "tags": []
   },
   "outputs": [
    {
     "data": {
      "text/plain": [
       "array([[1, 2, 3],\n",
       "       [4, 5, 6],\n",
       "       [7, 8, 9]])"
      ]
     },
     "execution_count": 16,
     "metadata": {},
     "output_type": "execute_result"
    }
   ],
   "source": [
    "[[1,2,3],\n",
    " [4,5,6],\n",
    " [7,8,9]]\n",
    "a = np.array([[1,2,3],[4,5,6],[7,8,9]])\n",
    "a"
   ]
  },
  {
   "cell_type": "code",
   "execution_count": 17,
   "id": "af1eb5c4",
   "metadata": {
    "execution": {
     "iopub.execute_input": "2022-11-23T12:21:59.441363Z",
     "iopub.status.busy": "2022-11-23T12:21:59.440930Z",
     "iopub.status.idle": "2022-11-23T12:21:59.448161Z",
     "shell.execute_reply": "2022-11-23T12:21:59.446976Z"
    },
    "papermill": {
     "duration": 0.044778,
     "end_time": "2022-11-23T12:21:59.450966",
     "exception": false,
     "start_time": "2022-11-23T12:21:59.406188",
     "status": "completed"
    },
    "tags": []
   },
   "outputs": [
    {
     "data": {
      "text/plain": [
       "(3, 3)"
      ]
     },
     "execution_count": 17,
     "metadata": {},
     "output_type": "execute_result"
    }
   ],
   "source": [
    "np.shape(a)"
   ]
  },
  {
   "cell_type": "code",
   "execution_count": 18,
   "id": "a151abaf",
   "metadata": {
    "execution": {
     "iopub.execute_input": "2022-11-23T12:21:59.516109Z",
     "iopub.status.busy": "2022-11-23T12:21:59.515725Z",
     "iopub.status.idle": "2022-11-23T12:21:59.521906Z",
     "shell.execute_reply": "2022-11-23T12:21:59.521120Z"
    },
    "papermill": {
     "duration": 0.041056,
     "end_time": "2022-11-23T12:21:59.523974",
     "exception": false,
     "start_time": "2022-11-23T12:21:59.482918",
     "status": "completed"
    },
    "tags": []
   },
   "outputs": [
    {
     "data": {
      "text/plain": [
       "1"
      ]
     },
     "execution_count": 18,
     "metadata": {},
     "output_type": "execute_result"
    }
   ],
   "source": [
    "a[0,0]"
   ]
  },
  {
   "cell_type": "code",
   "execution_count": 19,
   "id": "45f024e0",
   "metadata": {
    "execution": {
     "iopub.execute_input": "2022-11-23T12:21:59.589455Z",
     "iopub.status.busy": "2022-11-23T12:21:59.589011Z",
     "iopub.status.idle": "2022-11-23T12:21:59.596564Z",
     "shell.execute_reply": "2022-11-23T12:21:59.595309Z"
    },
    "papermill": {
     "duration": 0.043491,
     "end_time": "2022-11-23T12:21:59.598981",
     "exception": false,
     "start_time": "2022-11-23T12:21:59.555490",
     "status": "completed"
    },
    "tags": []
   },
   "outputs": [
    {
     "data": {
      "text/plain": [
       "array([4, 5, 6])"
      ]
     },
     "execution_count": 19,
     "metadata": {},
     "output_type": "execute_result"
    }
   ],
   "source": [
    "a[1,:]"
   ]
  },
  {
   "cell_type": "code",
   "execution_count": 20,
   "id": "887677f5",
   "metadata": {
    "execution": {
     "iopub.execute_input": "2022-11-23T12:21:59.668577Z",
     "iopub.status.busy": "2022-11-23T12:21:59.668153Z",
     "iopub.status.idle": "2022-11-23T12:21:59.675347Z",
     "shell.execute_reply": "2022-11-23T12:21:59.674195Z"
    },
    "papermill": {
     "duration": 0.045304,
     "end_time": "2022-11-23T12:21:59.677805",
     "exception": false,
     "start_time": "2022-11-23T12:21:59.632501",
     "status": "completed"
    },
    "tags": []
   },
   "outputs": [
    {
     "data": {
      "text/plain": [
       "array([3, 6, 9])"
      ]
     },
     "execution_count": 20,
     "metadata": {},
     "output_type": "execute_result"
    }
   ],
   "source": [
    "a[:,-1]"
   ]
  },
  {
   "cell_type": "code",
   "execution_count": 21,
   "id": "e41565d3",
   "metadata": {
    "execution": {
     "iopub.execute_input": "2022-11-23T12:21:59.744261Z",
     "iopub.status.busy": "2022-11-23T12:21:59.743846Z",
     "iopub.status.idle": "2022-11-23T12:21:59.750460Z",
     "shell.execute_reply": "2022-11-23T12:21:59.749689Z"
    },
    "papermill": {
     "duration": 0.042335,
     "end_time": "2022-11-23T12:21:59.752585",
     "exception": false,
     "start_time": "2022-11-23T12:21:59.710250",
     "status": "completed"
    },
    "tags": []
   },
   "outputs": [
    {
     "data": {
      "text/plain": [
       "array([[1, 2, 0],\n",
       "       [4, 5, 0],\n",
       "       [7, 8, 0]])"
      ]
     },
     "execution_count": 21,
     "metadata": {},
     "output_type": "execute_result"
    }
   ],
   "source": [
    "a[:,-1] = 0\n",
    "a"
   ]
  },
  {
   "cell_type": "code",
   "execution_count": 22,
   "id": "20604aa9",
   "metadata": {
    "execution": {
     "iopub.execute_input": "2022-11-23T12:21:59.819399Z",
     "iopub.status.busy": "2022-11-23T12:21:59.818959Z",
     "iopub.status.idle": "2022-11-23T12:21:59.827146Z",
     "shell.execute_reply": "2022-11-23T12:21:59.825315Z"
    },
    "papermill": {
     "duration": 0.04471,
     "end_time": "2022-11-23T12:21:59.830004",
     "exception": false,
     "start_time": "2022-11-23T12:21:59.785294",
     "status": "completed"
    },
    "tags": []
   },
   "outputs": [
    {
     "data": {
      "text/plain": [
       "3"
      ]
     },
     "execution_count": 22,
     "metadata": {},
     "output_type": "execute_result"
    }
   ],
   "source": [
    "np.size(a,1)"
   ]
  },
  {
   "cell_type": "code",
   "execution_count": 23,
   "id": "fe8f8633",
   "metadata": {
    "execution": {
     "iopub.execute_input": "2022-11-23T12:21:59.899412Z",
     "iopub.status.busy": "2022-11-23T12:21:59.898694Z",
     "iopub.status.idle": "2022-11-23T12:21:59.907529Z",
     "shell.execute_reply": "2022-11-23T12:21:59.906318Z"
    },
    "papermill": {
     "duration": 0.046961,
     "end_time": "2022-11-23T12:21:59.910027",
     "exception": false,
     "start_time": "2022-11-23T12:21:59.863066",
     "status": "completed"
    },
    "tags": []
   },
   "outputs": [
    {
     "data": {
      "text/plain": [
       "3"
      ]
     },
     "execution_count": 23,
     "metadata": {},
     "output_type": "execute_result"
    }
   ],
   "source": [
    "b = np.array([[1,2,3],\n",
    "              [4,5,6],\n",
    "              [7,8,9],\n",
    "              [10,11,12]])\n",
    "np.size(b,1)"
   ]
  },
  {
   "cell_type": "code",
   "execution_count": 24,
   "id": "e4aa227a",
   "metadata": {
    "execution": {
     "iopub.execute_input": "2022-11-23T12:21:59.976865Z",
     "iopub.status.busy": "2022-11-23T12:21:59.976442Z",
     "iopub.status.idle": "2022-11-23T12:21:59.983350Z",
     "shell.execute_reply": "2022-11-23T12:21:59.982528Z"
    },
    "papermill": {
     "duration": 0.042867,
     "end_time": "2022-11-23T12:21:59.985591",
     "exception": false,
     "start_time": "2022-11-23T12:21:59.942724",
     "status": "completed"
    },
    "tags": []
   },
   "outputs": [
    {
     "data": {
      "text/plain": [
       "3"
      ]
     },
     "execution_count": 24,
     "metadata": {},
     "output_type": "execute_result"
    }
   ],
   "source": [
    "np.size(b,1)"
   ]
  },
  {
   "cell_type": "code",
   "execution_count": 25,
   "id": "a400137c",
   "metadata": {
    "execution": {
     "iopub.execute_input": "2022-11-23T12:22:00.054223Z",
     "iopub.status.busy": "2022-11-23T12:22:00.053780Z",
     "iopub.status.idle": "2022-11-23T12:22:00.060446Z",
     "shell.execute_reply": "2022-11-23T12:22:00.059586Z"
    },
    "papermill": {
     "duration": 0.044168,
     "end_time": "2022-11-23T12:22:00.062854",
     "exception": false,
     "start_time": "2022-11-23T12:22:00.018686",
     "status": "completed"
    },
    "tags": []
   },
   "outputs": [
    {
     "data": {
      "text/plain": [
       "2"
      ]
     },
     "execution_count": 25,
     "metadata": {},
     "output_type": "execute_result"
    }
   ],
   "source": [
    "np.ndim(b)"
   ]
  },
  {
   "cell_type": "markdown",
   "id": "f90a1ee4",
   "metadata": {
    "papermill": {
     "duration": 0.03211,
     "end_time": "2022-11-23T12:22:00.128514",
     "exception": false,
     "start_time": "2022-11-23T12:22:00.096404",
     "status": "completed"
    },
    "tags": []
   },
   "source": [
    "หรือ"
   ]
  },
  {
   "cell_type": "code",
   "execution_count": 26,
   "id": "6a5614dd",
   "metadata": {
    "execution": {
     "iopub.execute_input": "2022-11-23T12:22:00.209956Z",
     "iopub.status.busy": "2022-11-23T12:22:00.209483Z",
     "iopub.status.idle": "2022-11-23T12:22:00.219677Z",
     "shell.execute_reply": "2022-11-23T12:22:00.217594Z"
    },
    "papermill": {
     "duration": 0.059901,
     "end_time": "2022-11-23T12:22:00.223311",
     "exception": false,
     "start_time": "2022-11-23T12:22:00.163410",
     "status": "completed"
    },
    "tags": []
   },
   "outputs": [
    {
     "data": {
      "text/plain": [
       "2"
      ]
     },
     "execution_count": 26,
     "metadata": {},
     "output_type": "execute_result"
    }
   ],
   "source": [
    "a.ndim"
   ]
  },
  {
   "cell_type": "markdown",
   "id": "cb7218ff",
   "metadata": {
    "papermill": {
     "duration": 0.037864,
     "end_time": "2022-11-23T12:22:00.308264",
     "exception": false,
     "start_time": "2022-11-23T12:22:00.270400",
     "status": "completed"
    },
    "tags": []
   },
   "source": [
    "<h1> Data is Matrix </h1>"
   ]
  },
  {
   "cell_type": "markdown",
   "id": "3caadcc0",
   "metadata": {
    "papermill": {
     "duration": 0.032189,
     "end_time": "2022-11-23T12:22:00.373654",
     "exception": false,
     "start_time": "2022-11-23T12:22:00.341465",
     "status": "completed"
    },
    "tags": []
   },
   "source": [
    "rows = samples\n",
    "columns = attributes, features"
   ]
  },
  {
   "cell_type": "code",
   "execution_count": 27,
   "id": "37b86264",
   "metadata": {
    "execution": {
     "iopub.execute_input": "2022-11-23T12:22:00.440645Z",
     "iopub.status.busy": "2022-11-23T12:22:00.440229Z",
     "iopub.status.idle": "2022-11-23T12:22:00.447954Z",
     "shell.execute_reply": "2022-11-23T12:22:00.446818Z"
    },
    "papermill": {
     "duration": 0.04391,
     "end_time": "2022-11-23T12:22:00.450442",
     "exception": false,
     "start_time": "2022-11-23T12:22:00.406532",
     "status": "completed"
    },
    "tags": []
   },
   "outputs": [
    {
     "data": {
      "text/plain": [
       "array([['one', '2'],\n",
       "       ['three', '4'],\n",
       "       ['five', '6']], dtype='<U21')"
      ]
     },
     "execution_count": 27,
     "metadata": {},
     "output_type": "execute_result"
    }
   ],
   "source": [
    "np_mix_matrix = np.array([['one',2],['three',4],['five',6]])\n",
    "np_mix_matrix"
   ]
  },
  {
   "cell_type": "code",
   "execution_count": 28,
   "id": "3eff779d",
   "metadata": {
    "execution": {
     "iopub.execute_input": "2022-11-23T12:22:00.517911Z",
     "iopub.status.busy": "2022-11-23T12:22:00.517456Z",
     "iopub.status.idle": "2022-11-23T12:22:00.525465Z",
     "shell.execute_reply": "2022-11-23T12:22:00.524304Z"
    },
    "papermill": {
     "duration": 0.04442,
     "end_time": "2022-11-23T12:22:00.528062",
     "exception": false,
     "start_time": "2022-11-23T12:22:00.483642",
     "status": "completed"
    },
    "tags": []
   },
   "outputs": [
    {
     "data": {
      "text/plain": [
       "array([2, 4, 6])"
      ]
     },
     "execution_count": 28,
     "metadata": {},
     "output_type": "execute_result"
    }
   ],
   "source": [
    "np.array(np_mix_matrix[:,1], dtype = int)"
   ]
  },
  {
   "cell_type": "markdown",
   "id": "16c03f1f",
   "metadata": {
    "papermill": {
     "duration": 0.032666,
     "end_time": "2022-11-23T12:22:00.594224",
     "exception": false,
     "start_time": "2022-11-23T12:22:00.561558",
     "status": "completed"
    },
    "tags": []
   },
   "source": [
    "<h2> Type of Matrix </h2>"
   ]
  },
  {
   "cell_type": "code",
   "execution_count": 29,
   "id": "d58fa2ca",
   "metadata": {
    "execution": {
     "iopub.execute_input": "2022-11-23T12:22:00.663139Z",
     "iopub.status.busy": "2022-11-23T12:22:00.662691Z",
     "iopub.status.idle": "2022-11-23T12:22:00.671945Z",
     "shell.execute_reply": "2022-11-23T12:22:00.670750Z"
    },
    "papermill": {
     "duration": 0.047472,
     "end_time": "2022-11-23T12:22:00.674842",
     "exception": false,
     "start_time": "2022-11-23T12:22:00.627370",
     "status": "completed"
    },
    "tags": []
   },
   "outputs": [
    {
     "data": {
      "text/plain": [
       "array([[0., 0.],\n",
       "       [0., 0.]])"
      ]
     },
     "execution_count": 29,
     "metadata": {},
     "output_type": "execute_result"
    }
   ],
   "source": [
    "a = np.zeros((2,2))\n",
    "a"
   ]
  },
  {
   "cell_type": "code",
   "execution_count": 30,
   "id": "e05d33de",
   "metadata": {
    "execution": {
     "iopub.execute_input": "2022-11-23T12:22:00.743601Z",
     "iopub.status.busy": "2022-11-23T12:22:00.742846Z",
     "iopub.status.idle": "2022-11-23T12:22:00.750417Z",
     "shell.execute_reply": "2022-11-23T12:22:00.749362Z"
    },
    "papermill": {
     "duration": 0.044538,
     "end_time": "2022-11-23T12:22:00.752921",
     "exception": false,
     "start_time": "2022-11-23T12:22:00.708383",
     "status": "completed"
    },
    "tags": []
   },
   "outputs": [
    {
     "data": {
      "text/plain": [
       "array([[1., 1.],\n",
       "       [1., 1.]])"
      ]
     },
     "execution_count": 30,
     "metadata": {},
     "output_type": "execute_result"
    }
   ],
   "source": [
    "b = np.ones((2,2))\n",
    "b"
   ]
  },
  {
   "cell_type": "code",
   "execution_count": 31,
   "id": "a848d3fd",
   "metadata": {
    "execution": {
     "iopub.execute_input": "2022-11-23T12:22:00.823186Z",
     "iopub.status.busy": "2022-11-23T12:22:00.822758Z",
     "iopub.status.idle": "2022-11-23T12:22:00.830393Z",
     "shell.execute_reply": "2022-11-23T12:22:00.828974Z"
    },
    "papermill": {
     "duration": 0.046417,
     "end_time": "2022-11-23T12:22:00.833008",
     "exception": false,
     "start_time": "2022-11-23T12:22:00.786591",
     "status": "completed"
    },
    "tags": []
   },
   "outputs": [
    {
     "data": {
      "text/plain": [
       "array([[8, 8],\n",
       "       [8, 8]])"
      ]
     },
     "execution_count": 31,
     "metadata": {},
     "output_type": "execute_result"
    }
   ],
   "source": [
    "c = np.full((2,2),8)\n",
    "c"
   ]
  },
  {
   "cell_type": "code",
   "execution_count": 32,
   "id": "2322a7b1",
   "metadata": {
    "execution": {
     "iopub.execute_input": "2022-11-23T12:22:00.902703Z",
     "iopub.status.busy": "2022-11-23T12:22:00.902254Z",
     "iopub.status.idle": "2022-11-23T12:22:00.910332Z",
     "shell.execute_reply": "2022-11-23T12:22:00.908828Z"
    },
    "papermill": {
     "duration": 0.045065,
     "end_time": "2022-11-23T12:22:00.912890",
     "exception": false,
     "start_time": "2022-11-23T12:22:00.867825",
     "status": "completed"
    },
    "tags": []
   },
   "outputs": [
    {
     "data": {
      "text/plain": [
       "array([[1., 0.],\n",
       "       [0., 1.]])"
      ]
     },
     "execution_count": 32,
     "metadata": {},
     "output_type": "execute_result"
    }
   ],
   "source": [
    "d = np.eye(2)\n",
    "d"
   ]
  },
  {
   "cell_type": "code",
   "execution_count": 33,
   "id": "da871561",
   "metadata": {
    "execution": {
     "iopub.execute_input": "2022-11-23T12:22:00.982215Z",
     "iopub.status.busy": "2022-11-23T12:22:00.981811Z",
     "iopub.status.idle": "2022-11-23T12:22:00.989633Z",
     "shell.execute_reply": "2022-11-23T12:22:00.987824Z"
    },
    "papermill": {
     "duration": 0.044933,
     "end_time": "2022-11-23T12:22:00.991987",
     "exception": false,
     "start_time": "2022-11-23T12:22:00.947054",
     "status": "completed"
    },
    "tags": []
   },
   "outputs": [
    {
     "data": {
      "text/plain": [
       "array([[8., 0.],\n",
       "       [0., 8.]])"
      ]
     },
     "execution_count": 33,
     "metadata": {},
     "output_type": "execute_result"
    }
   ],
   "source": [
    "c*d"
   ]
  },
  {
   "cell_type": "code",
   "execution_count": 34,
   "id": "87131b0a",
   "metadata": {
    "execution": {
     "iopub.execute_input": "2022-11-23T12:22:01.060707Z",
     "iopub.status.busy": "2022-11-23T12:22:01.060311Z",
     "iopub.status.idle": "2022-11-23T12:22:01.067477Z",
     "shell.execute_reply": "2022-11-23T12:22:01.066378Z"
    },
    "papermill": {
     "duration": 0.044262,
     "end_time": "2022-11-23T12:22:01.069868",
     "exception": false,
     "start_time": "2022-11-23T12:22:01.025606",
     "status": "completed"
    },
    "tags": []
   },
   "outputs": [
    {
     "data": {
      "text/plain": [
       "array([[2., 2.],\n",
       "       [2., 2.]])"
      ]
     },
     "execution_count": 34,
     "metadata": {},
     "output_type": "execute_result"
    }
   ],
   "source": [
    "2*np.ones((2,2))"
   ]
  },
  {
   "cell_type": "code",
   "execution_count": 35,
   "id": "f1cd478a",
   "metadata": {
    "execution": {
     "iopub.execute_input": "2022-11-23T12:22:01.141541Z",
     "iopub.status.busy": "2022-11-23T12:22:01.141138Z",
     "iopub.status.idle": "2022-11-23T12:22:01.151928Z",
     "shell.execute_reply": "2022-11-23T12:22:01.150648Z"
    },
    "papermill": {
     "duration": 0.04949,
     "end_time": "2022-11-23T12:22:01.154681",
     "exception": false,
     "start_time": "2022-11-23T12:22:01.105191",
     "status": "completed"
    },
    "tags": []
   },
   "outputs": [
    {
     "data": {
      "text/plain": [
       "array([[2., 2.],\n",
       "       [2., 2.]])"
      ]
     },
     "execution_count": 35,
     "metadata": {},
     "output_type": "execute_result"
    }
   ],
   "source": [
    "np.sqrt(np.full((2,2),4))"
   ]
  },
  {
   "cell_type": "code",
   "execution_count": 36,
   "id": "750e25c1",
   "metadata": {
    "execution": {
     "iopub.execute_input": "2022-11-23T12:22:01.230411Z",
     "iopub.status.busy": "2022-11-23T12:22:01.229961Z",
     "iopub.status.idle": "2022-11-23T12:22:01.239539Z",
     "shell.execute_reply": "2022-11-23T12:22:01.238247Z"
    },
    "papermill": {
     "duration": 0.050915,
     "end_time": "2022-11-23T12:22:01.241963",
     "exception": false,
     "start_time": "2022-11-23T12:22:01.191048",
     "status": "completed"
    },
    "tags": []
   },
   "outputs": [
    {
     "data": {
      "text/plain": [
       "array([[4.64959244e-310, 0.00000000e+000, 2.12199579e-314,\n",
       "        1.42682308e+188, 5.87530072e+228],\n",
       "       [1.31043528e-306, 5.50963561e-310, 1.42682308e+188,\n",
       "        7.35163882e+228, 4.23000438e+180],\n",
       "       [9.54109380e+179, 1.42547396e+188, 1.16715159e+180,\n",
       "        5.95125947e+228, 1.42682255e+188],\n",
       "       [1.57789222e+214, 2.15679996e-080, 3.03183028e+180,\n",
       "        3.62048253e+262, 3.75212096e+199],\n",
       "       [8.96365676e+276, 2.88067937e+214, 4.32910370e-304,\n",
       "        3.62481865e+228, 2.51968621e+180]])"
      ]
     },
     "execution_count": 36,
     "metadata": {},
     "output_type": "execute_result"
    }
   ],
   "source": [
    "np.empty([5,5])"
   ]
  },
  {
   "cell_type": "markdown",
   "id": "6b1c7155",
   "metadata": {
    "papermill": {
     "duration": 0.035239,
     "end_time": "2022-11-23T12:22:01.312485",
     "exception": false,
     "start_time": "2022-11-23T12:22:01.277246",
     "status": "completed"
    },
    "tags": []
   },
   "source": [
    "<h2> Random </h2>"
   ]
  },
  {
   "cell_type": "code",
   "execution_count": 37,
   "id": "0fdf1cc7",
   "metadata": {
    "execution": {
     "iopub.execute_input": "2022-11-23T12:22:01.384495Z",
     "iopub.status.busy": "2022-11-23T12:22:01.384023Z",
     "iopub.status.idle": "2022-11-23T12:22:01.392490Z",
     "shell.execute_reply": "2022-11-23T12:22:01.391132Z"
    },
    "papermill": {
     "duration": 0.047545,
     "end_time": "2022-11-23T12:22:01.394949",
     "exception": false,
     "start_time": "2022-11-23T12:22:01.347404",
     "status": "completed"
    },
    "tags": []
   },
   "outputs": [
    {
     "data": {
      "text/plain": [
       "0.5488135039273248"
      ]
     },
     "execution_count": 37,
     "metadata": {},
     "output_type": "execute_result"
    }
   ],
   "source": [
    "import numpy as np\n",
    "rng = np.random.RandomState(0)  # 0 is SEED\n",
    "rng.rand()"
   ]
  },
  {
   "cell_type": "code",
   "execution_count": 38,
   "id": "233b7f67",
   "metadata": {
    "execution": {
     "iopub.execute_input": "2022-11-23T12:22:01.467440Z",
     "iopub.status.busy": "2022-11-23T12:22:01.467043Z",
     "iopub.status.idle": "2022-11-23T12:22:01.475550Z",
     "shell.execute_reply": "2022-11-23T12:22:01.473873Z"
    },
    "papermill": {
     "duration": 0.047378,
     "end_time": "2022-11-23T12:22:01.478940",
     "exception": false,
     "start_time": "2022-11-23T12:22:01.431562",
     "status": "completed"
    },
    "tags": []
   },
   "outputs": [
    {
     "data": {
      "text/plain": [
       "2"
      ]
     },
     "execution_count": 38,
     "metadata": {},
     "output_type": "execute_result"
    }
   ],
   "source": [
    "rng.randint(1, 5)"
   ]
  },
  {
   "cell_type": "code",
   "execution_count": 39,
   "id": "0b49695f",
   "metadata": {
    "execution": {
     "iopub.execute_input": "2022-11-23T12:22:01.551699Z",
     "iopub.status.busy": "2022-11-23T12:22:01.550741Z",
     "iopub.status.idle": "2022-11-23T12:22:01.558694Z",
     "shell.execute_reply": "2022-11-23T12:22:01.557742Z"
    },
    "papermill": {
     "duration": 0.047942,
     "end_time": "2022-11-23T12:22:01.560964",
     "exception": false,
     "start_time": "2022-11-23T12:22:01.513022",
     "status": "completed"
    },
    "tags": []
   },
   "outputs": [
    {
     "data": {
      "text/plain": [
       "array([[0.84426575, 0.85794562, 0.84725174, 0.6235637 , 0.38438171],\n",
       "       [0.29753461, 0.05671298, 0.27265629, 0.47766512, 0.81216873],\n",
       "       [0.47997717, 0.3927848 , 0.83607876, 0.33739616, 0.64817187],\n",
       "       [0.36824154, 0.95715516, 0.14035078, 0.87008726, 0.47360805],\n",
       "       [0.80091075, 0.52047748, 0.67887953, 0.72063265, 0.58201979]])"
      ]
     },
     "execution_count": 39,
     "metadata": {},
     "output_type": "execute_result"
    }
   ],
   "source": [
    "rng.rand(5,5)"
   ]
  },
  {
   "cell_type": "code",
   "execution_count": 40,
   "id": "af93a19b",
   "metadata": {
    "execution": {
     "iopub.execute_input": "2022-11-23T12:22:01.636755Z",
     "iopub.status.busy": "2022-11-23T12:22:01.636057Z",
     "iopub.status.idle": "2022-11-23T12:22:01.644002Z",
     "shell.execute_reply": "2022-11-23T12:22:01.643120Z"
    },
    "papermill": {
     "duration": 0.050856,
     "end_time": "2022-11-23T12:22:01.646376",
     "exception": false,
     "start_time": "2022-11-23T12:22:01.595520",
     "status": "completed"
    },
    "tags": []
   },
   "outputs": [
    {
     "data": {
      "text/plain": [
       "array([[802., 697., 771.,  54., 459.],\n",
       "       [ 30., 636., 334., 785., 887.],\n",
       "       [950., 345., 446., 172., 388.],\n",
       "       [759., 358., 780., 780., 849.],\n",
       "       [578., 803., 713.,  62., 918.]])"
      ]
     },
     "execution_count": 40,
     "metadata": {},
     "output_type": "execute_result"
    }
   ],
   "source": [
    "np.round(np.random.rand(5,5)*1000)"
   ]
  },
  {
   "cell_type": "code",
   "execution_count": 41,
   "id": "77205341",
   "metadata": {
    "execution": {
     "iopub.execute_input": "2022-11-23T12:22:01.721090Z",
     "iopub.status.busy": "2022-11-23T12:22:01.720433Z",
     "iopub.status.idle": "2022-11-23T12:22:01.728653Z",
     "shell.execute_reply": "2022-11-23T12:22:01.727501Z"
    },
    "papermill": {
     "duration": 0.04871,
     "end_time": "2022-11-23T12:22:01.731421",
     "exception": false,
     "start_time": "2022-11-23T12:22:01.682711",
     "status": "completed"
    },
    "tags": []
   },
   "outputs": [
    {
     "data": {
      "text/plain": [
       "array([[1, 1, 0, 1, 0],\n",
       "       [0, 1, 1, 0, 1],\n",
       "       [0, 1, 0, 0, 0],\n",
       "       [0, 0, 1, 1, 0],\n",
       "       [0, 0, 1, 1, 0]])"
      ]
     },
     "execution_count": 41,
     "metadata": {},
     "output_type": "execute_result"
    }
   ],
   "source": [
    "rng.randint(0,2, (5,5))"
   ]
  },
  {
   "cell_type": "code",
   "execution_count": 42,
   "id": "c1a8c795",
   "metadata": {
    "execution": {
     "iopub.execute_input": "2022-11-23T12:22:01.804523Z",
     "iopub.status.busy": "2022-11-23T12:22:01.804127Z",
     "iopub.status.idle": "2022-11-23T12:22:01.812416Z",
     "shell.execute_reply": "2022-11-23T12:22:01.811194Z"
    },
    "papermill": {
     "duration": 0.047475,
     "end_time": "2022-11-23T12:22:01.814857",
     "exception": false,
     "start_time": "2022-11-23T12:22:01.767382",
     "status": "completed"
    },
    "tags": []
   },
   "outputs": [
    {
     "data": {
      "text/plain": [
       "array([10,  9,  2,  2,  8])"
      ]
     },
     "execution_count": 42,
     "metadata": {},
     "output_type": "execute_result"
    }
   ],
   "source": [
    "a = [1,2,3,4,5,6,7,8,9,10]\n",
    "rng.choice(a,5) "
   ]
  },
  {
   "cell_type": "code",
   "execution_count": 43,
   "id": "7b1120b1",
   "metadata": {
    "execution": {
     "iopub.execute_input": "2022-11-23T12:22:01.885693Z",
     "iopub.status.busy": "2022-11-23T12:22:01.885306Z",
     "iopub.status.idle": "2022-11-23T12:22:01.893441Z",
     "shell.execute_reply": "2022-11-23T12:22:01.892242Z"
    },
    "papermill": {
     "duration": 0.04712,
     "end_time": "2022-11-23T12:22:01.895939",
     "exception": false,
     "start_time": "2022-11-23T12:22:01.848819",
     "status": "completed"
    },
    "tags": []
   },
   "outputs": [
    {
     "data": {
      "text/plain": [
       "array([5, 2, 6, 1, 8])"
      ]
     },
     "execution_count": 43,
     "metadata": {},
     "output_type": "execute_result"
    }
   ],
   "source": [
    "a = [1,2,3,4,5,6,7,8,9,10]\n",
    "rng.choice(a,5, replace = False)"
   ]
  },
  {
   "cell_type": "code",
   "execution_count": 44,
   "id": "dd150fb8",
   "metadata": {
    "execution": {
     "iopub.execute_input": "2022-11-23T12:22:01.966732Z",
     "iopub.status.busy": "2022-11-23T12:22:01.966340Z",
     "iopub.status.idle": "2022-11-23T12:22:01.974786Z",
     "shell.execute_reply": "2022-11-23T12:22:01.972914Z"
    },
    "papermill": {
     "duration": 0.047439,
     "end_time": "2022-11-23T12:22:01.977619",
     "exception": false,
     "start_time": "2022-11-23T12:22:01.930180",
     "status": "completed"
    },
    "tags": []
   },
   "outputs": [
    {
     "data": {
      "text/plain": [
       "array([5, 9, 4])"
      ]
     },
     "execution_count": 44,
     "metadata": {},
     "output_type": "execute_result"
    }
   ],
   "source": [
    "rng.choice(10,3)"
   ]
  },
  {
   "cell_type": "code",
   "execution_count": 45,
   "id": "f346aa90",
   "metadata": {
    "execution": {
     "iopub.execute_input": "2022-11-23T12:22:02.051987Z",
     "iopub.status.busy": "2022-11-23T12:22:02.051562Z",
     "iopub.status.idle": "2022-11-23T12:22:02.059376Z",
     "shell.execute_reply": "2022-11-23T12:22:02.058330Z"
    },
    "papermill": {
     "duration": 0.047128,
     "end_time": "2022-11-23T12:22:02.061641",
     "exception": false,
     "start_time": "2022-11-23T12:22:02.014513",
     "status": "completed"
    },
    "tags": []
   },
   "outputs": [
    {
     "data": {
      "text/plain": [
       "array([[0.3823418 , 0.9347812 , 0.46958814, 0.21595956, 0.51462488],\n",
       "       [0.767608  , 0.48523915, 0.11693227, 0.87617916, 0.80452459],\n",
       "       [0.0887773 , 0.39973186, 0.23658785, 0.80286108, 0.1279529 ]])"
      ]
     },
     "execution_count": 45,
     "metadata": {},
     "output_type": "execute_result"
    }
   ],
   "source": [
    "np_matrix = rng.rand(1000,5)\n",
    "idx_choose = rng.choice(1000,3)\n",
    "np_matrix_choose = np_matrix[idx_choose,:]\n",
    "np_matrix_choose"
   ]
  },
  {
   "cell_type": "code",
   "execution_count": 46,
   "id": "e480ef65",
   "metadata": {
    "execution": {
     "iopub.execute_input": "2022-11-23T12:22:02.133977Z",
     "iopub.status.busy": "2022-11-23T12:22:02.133184Z",
     "iopub.status.idle": "2022-11-23T12:22:02.138425Z",
     "shell.execute_reply": "2022-11-23T12:22:02.137291Z"
    },
    "papermill": {
     "duration": 0.044214,
     "end_time": "2022-11-23T12:22:02.141055",
     "exception": false,
     "start_time": "2022-11-23T12:22:02.096841",
     "status": "completed"
    },
    "tags": []
   },
   "outputs": [],
   "source": [
    "#Ex 1. Randomly create a matrix of size (10, 5) then randomly assign values of 0 and 1 to the last column of this matrix.\n",
    "#\n",
    "#\n",
    "#"
   ]
  },
  {
   "cell_type": "code",
   "execution_count": 47,
   "id": "e696dc97",
   "metadata": {
    "execution": {
     "iopub.execute_input": "2022-11-23T12:22:02.213184Z",
     "iopub.status.busy": "2022-11-23T12:22:02.212762Z",
     "iopub.status.idle": "2022-11-23T12:22:02.220241Z",
     "shell.execute_reply": "2022-11-23T12:22:02.218963Z"
    },
    "papermill": {
     "duration": 0.046199,
     "end_time": "2022-11-23T12:22:02.222706",
     "exception": false,
     "start_time": "2022-11-23T12:22:02.176507",
     "status": "completed"
    },
    "tags": []
   },
   "outputs": [
    {
     "data": {
      "text/plain": [
       "array([[3, 2, 2, 5],\n",
       "       [2, 2, 0, 5],\n",
       "       [0, 5, 2, 3],\n",
       "       [1, 5, 5, 2]])"
      ]
     },
     "execution_count": 47,
     "metadata": {},
     "output_type": "execute_result"
    }
   ],
   "source": [
    "A = rng.randint(0,6 , (4,4))\n",
    "A"
   ]
  },
  {
   "cell_type": "code",
   "execution_count": 48,
   "id": "e71a0205",
   "metadata": {
    "execution": {
     "iopub.execute_input": "2022-11-23T12:22:02.294552Z",
     "iopub.status.busy": "2022-11-23T12:22:02.294160Z",
     "iopub.status.idle": "2022-11-23T12:22:02.301586Z",
     "shell.execute_reply": "2022-11-23T12:22:02.300249Z"
    },
    "papermill": {
     "duration": 0.046143,
     "end_time": "2022-11-23T12:22:02.304084",
     "exception": false,
     "start_time": "2022-11-23T12:22:02.257941",
     "status": "completed"
    },
    "tags": []
   },
   "outputs": [
    {
     "data": {
      "text/plain": [
       "array([[3, 2, 2, 5],\n",
       "       [0, 5, 2, 3],\n",
       "       [1, 5, 5, 2]])"
      ]
     },
     "execution_count": 48,
     "metadata": {},
     "output_type": "execute_result"
    }
   ],
   "source": [
    "A = np.delete(A, 1, axis = 0)\n",
    "A "
   ]
  },
  {
   "cell_type": "code",
   "execution_count": 49,
   "id": "1adb3f10",
   "metadata": {
    "execution": {
     "iopub.execute_input": "2022-11-23T12:22:02.377176Z",
     "iopub.status.busy": "2022-11-23T12:22:02.376386Z",
     "iopub.status.idle": "2022-11-23T12:22:02.384879Z",
     "shell.execute_reply": "2022-11-23T12:22:02.383757Z"
    },
    "papermill": {
     "duration": 0.047866,
     "end_time": "2022-11-23T12:22:02.387414",
     "exception": false,
     "start_time": "2022-11-23T12:22:02.339548",
     "status": "completed"
    },
    "tags": []
   },
   "outputs": [
    {
     "data": {
      "text/plain": [
       "array([[3, 2, 5],\n",
       "       [0, 2, 3],\n",
       "       [1, 5, 2]])"
      ]
     },
     "execution_count": 49,
     "metadata": {},
     "output_type": "execute_result"
    }
   ],
   "source": [
    "A = np.delete(A, 1, axis = 1)\n",
    "A"
   ]
  },
  {
   "cell_type": "code",
   "execution_count": 50,
   "id": "f03a79f4",
   "metadata": {
    "execution": {
     "iopub.execute_input": "2022-11-23T12:22:02.461403Z",
     "iopub.status.busy": "2022-11-23T12:22:02.460998Z",
     "iopub.status.idle": "2022-11-23T12:22:02.468509Z",
     "shell.execute_reply": "2022-11-23T12:22:02.467446Z"
    },
    "papermill": {
     "duration": 0.047159,
     "end_time": "2022-11-23T12:22:02.470719",
     "exception": false,
     "start_time": "2022-11-23T12:22:02.423560",
     "status": "completed"
    },
    "tags": []
   },
   "outputs": [
    {
     "data": {
      "text/plain": [
       "array([[0, 1, 0, 1],\n",
       "       [0, 0, 0, 0],\n",
       "       [1, 0, 1, 1],\n",
       "       [1, 0, 1, 1]])"
      ]
     },
     "execution_count": 50,
     "metadata": {},
     "output_type": "execute_result"
    }
   ],
   "source": [
    "np_matrix = rng.randint(0,2, (4,4))\n",
    "np_matrix"
   ]
  },
  {
   "cell_type": "code",
   "execution_count": 51,
   "id": "2f2299ce",
   "metadata": {
    "execution": {
     "iopub.execute_input": "2022-11-23T12:22:02.543537Z",
     "iopub.status.busy": "2022-11-23T12:22:02.543147Z",
     "iopub.status.idle": "2022-11-23T12:22:02.550841Z",
     "shell.execute_reply": "2022-11-23T12:22:02.549977Z"
    },
    "papermill": {
     "duration": 0.047462,
     "end_time": "2022-11-23T12:22:02.552948",
     "exception": false,
     "start_time": "2022-11-23T12:22:02.505486",
     "status": "completed"
    },
    "tags": []
   },
   "outputs": [
    {
     "data": {
      "text/plain": [
       "[[0, 0], [0, 2], [1, 0], [1, 1], [1, 2], [1, 3], [2, 1], [3, 1]]"
      ]
     },
     "execution_count": 51,
     "metadata": {},
     "output_type": "execute_result"
    }
   ],
   "source": [
    "rows, cols = np.where(np_matrix == 0)\n",
    "[ [row, cols[i]] for i, row in enumerate(rows) ]"
   ]
  },
  {
   "cell_type": "code",
   "execution_count": 52,
   "id": "0282fb84",
   "metadata": {
    "execution": {
     "iopub.execute_input": "2022-11-23T12:22:02.624994Z",
     "iopub.status.busy": "2022-11-23T12:22:02.624542Z",
     "iopub.status.idle": "2022-11-23T12:22:02.630185Z",
     "shell.execute_reply": "2022-11-23T12:22:02.628381Z"
    },
    "papermill": {
     "duration": 0.044871,
     "end_time": "2022-11-23T12:22:02.632993",
     "exception": false,
     "start_time": "2022-11-23T12:22:02.588122",
     "status": "completed"
    },
    "tags": []
   },
   "outputs": [],
   "source": [
    "#Ex 2. Why we cannot use this index ? Please fix it !!\n",
    "#idx = [1,2,3,4,5]\n",
    "#np_matrix[idx,:]"
   ]
  },
  {
   "cell_type": "code",
   "execution_count": 53,
   "id": "be8ea958",
   "metadata": {
    "execution": {
     "iopub.execute_input": "2022-11-23T12:22:02.706024Z",
     "iopub.status.busy": "2022-11-23T12:22:02.705579Z",
     "iopub.status.idle": "2022-11-23T12:22:02.713629Z",
     "shell.execute_reply": "2022-11-23T12:22:02.712531Z"
    },
    "papermill": {
     "duration": 0.047098,
     "end_time": "2022-11-23T12:22:02.716069",
     "exception": false,
     "start_time": "2022-11-23T12:22:02.668971",
     "status": "completed"
    },
    "tags": []
   },
   "outputs": [
    {
     "data": {
      "text/plain": [
       "array([[4, 0, 5, 3, 9],\n",
       "       [5, 4, 4, 9, 1],\n",
       "       [8, 2, 0, 4, 3],\n",
       "       [1, 8, 9, 6, 3],\n",
       "       [2, 9, 0, 9, 2]])"
      ]
     },
     "execution_count": 53,
     "metadata": {},
     "output_type": "execute_result"
    }
   ],
   "source": [
    "np_matrix = np.random.randint(10,size = (5,5))\n",
    "np_matrix"
   ]
  },
  {
   "cell_type": "code",
   "execution_count": 54,
   "id": "aabb1081",
   "metadata": {
    "execution": {
     "iopub.execute_input": "2022-11-23T12:22:02.794850Z",
     "iopub.status.busy": "2022-11-23T12:22:02.794417Z",
     "iopub.status.idle": "2022-11-23T12:22:02.803147Z",
     "shell.execute_reply": "2022-11-23T12:22:02.801921Z"
    },
    "papermill": {
     "duration": 0.053565,
     "end_time": "2022-11-23T12:22:02.805746",
     "exception": false,
     "start_time": "2022-11-23T12:22:02.752181",
     "status": "completed"
    },
    "tags": []
   },
   "outputs": [
    {
     "data": {
      "text/plain": [
       "array([[False, False, False, False, False],\n",
       "       [False, False, False, False, False],\n",
       "       [False,  True, False, False, False],\n",
       "       [False, False, False, False, False],\n",
       "       [ True, False, False, False,  True]])"
      ]
     },
     "execution_count": 54,
     "metadata": {},
     "output_type": "execute_result"
    }
   ],
   "source": [
    "result = (np_matrix == 2)\n",
    "result"
   ]
  },
  {
   "cell_type": "code",
   "execution_count": 55,
   "id": "2453790a",
   "metadata": {
    "execution": {
     "iopub.execute_input": "2022-11-23T12:22:02.901798Z",
     "iopub.status.busy": "2022-11-23T12:22:02.901358Z",
     "iopub.status.idle": "2022-11-23T12:22:02.908059Z",
     "shell.execute_reply": "2022-11-23T12:22:02.907127Z"
    },
    "papermill": {
     "duration": 0.062581,
     "end_time": "2022-11-23T12:22:02.911559",
     "exception": false,
     "start_time": "2022-11-23T12:22:02.848978",
     "status": "completed"
    },
    "tags": []
   },
   "outputs": [
    {
     "data": {
      "text/plain": [
       "array([[ 4,  0,  5,  3,  9],\n",
       "       [ 5,  4,  4,  9,  1],\n",
       "       [ 8, 99,  0,  4,  3],\n",
       "       [ 1,  8,  9,  6,  3],\n",
       "       [99,  9,  0,  9, 99]])"
      ]
     },
     "execution_count": 55,
     "metadata": {},
     "output_type": "execute_result"
    }
   ],
   "source": [
    "np_matrix[result] = 99\n",
    "np_matrix"
   ]
  },
  {
   "cell_type": "code",
   "execution_count": 56,
   "id": "139187a5",
   "metadata": {
    "execution": {
     "iopub.execute_input": "2022-11-23T12:22:03.024829Z",
     "iopub.status.busy": "2022-11-23T12:22:03.024397Z",
     "iopub.status.idle": "2022-11-23T12:22:03.034741Z",
     "shell.execute_reply": "2022-11-23T12:22:03.033282Z"
    },
    "papermill": {
     "duration": 0.073322,
     "end_time": "2022-11-23T12:22:03.038639",
     "exception": false,
     "start_time": "2022-11-23T12:22:02.965317",
     "status": "completed"
    },
    "tags": []
   },
   "outputs": [],
   "source": [
    "# Ex 3. \n",
    "# 1. Randomly create a data matrix of 10 samples with 5 features. \n",
    "# 2. Then, randomly create a label vector for 10 samples as (0 and 1) # [0,1,0,0,1,1,1,0,0,0]\n",
    "# 3. Finally, seperate data matrix into 2 groups\n",
    "# 4. Group 1 data with label == 0\n",
    "# 5. Group 2 data with label == 1"
   ]
  },
  {
   "cell_type": "code",
   "execution_count": 57,
   "id": "aefb6f60",
   "metadata": {
    "execution": {
     "iopub.execute_input": "2022-11-23T12:22:03.127604Z",
     "iopub.status.busy": "2022-11-23T12:22:03.126444Z",
     "iopub.status.idle": "2022-11-23T12:22:03.136671Z",
     "shell.execute_reply": "2022-11-23T12:22:03.135113Z"
    },
    "papermill": {
     "duration": 0.060938,
     "end_time": "2022-11-23T12:22:03.140017",
     "exception": false,
     "start_time": "2022-11-23T12:22:03.079079",
     "status": "completed"
    },
    "tags": []
   },
   "outputs": [
    {
     "data": {
      "text/plain": [
       "array([[2, 4, 2, 4, 3],\n",
       "       [1, 2, 5, 2, 2],\n",
       "       [5, 5, 2, 4, 1],\n",
       "       [3, 3, 2, 2, 1],\n",
       "       [2, 3, 4, 5, 2]])"
      ]
     },
     "execution_count": 57,
     "metadata": {},
     "output_type": "execute_result"
    }
   ],
   "source": [
    "data = np.random.randint(5,size=(5,5)) + 1\n",
    "data"
   ]
  },
  {
   "cell_type": "code",
   "execution_count": 58,
   "id": "1a3d87f6",
   "metadata": {
    "execution": {
     "iopub.execute_input": "2022-11-23T12:22:03.229716Z",
     "iopub.status.busy": "2022-11-23T12:22:03.227188Z",
     "iopub.status.idle": "2022-11-23T12:22:03.238028Z",
     "shell.execute_reply": "2022-11-23T12:22:03.236824Z"
    },
    "papermill": {
     "duration": 0.062147,
     "end_time": "2022-11-23T12:22:03.240449",
     "exception": false,
     "start_time": "2022-11-23T12:22:03.178302",
     "status": "completed"
    },
    "tags": []
   },
   "outputs": [
    {
     "data": {
      "text/plain": [
       "5"
      ]
     },
     "execution_count": 58,
     "metadata": {},
     "output_type": "execute_result"
    }
   ],
   "source": [
    "np.max(data)"
   ]
  },
  {
   "cell_type": "code",
   "execution_count": 59,
   "id": "52b964a4",
   "metadata": {
    "execution": {
     "iopub.execute_input": "2022-11-23T12:22:03.317197Z",
     "iopub.status.busy": "2022-11-23T12:22:03.316358Z",
     "iopub.status.idle": "2022-11-23T12:22:03.324056Z",
     "shell.execute_reply": "2022-11-23T12:22:03.322992Z"
    },
    "papermill": {
     "duration": 0.050047,
     "end_time": "2022-11-23T12:22:03.326520",
     "exception": false,
     "start_time": "2022-11-23T12:22:03.276473",
     "status": "completed"
    },
    "tags": []
   },
   "outputs": [
    {
     "data": {
      "text/plain": [
       "array([5, 5, 5, 5, 3])"
      ]
     },
     "execution_count": 59,
     "metadata": {},
     "output_type": "execute_result"
    }
   ],
   "source": [
    "np.max(data,0)"
   ]
  },
  {
   "cell_type": "code",
   "execution_count": 60,
   "id": "7eb4bca6",
   "metadata": {
    "execution": {
     "iopub.execute_input": "2022-11-23T12:22:03.405285Z",
     "iopub.status.busy": "2022-11-23T12:22:03.404346Z",
     "iopub.status.idle": "2022-11-23T12:22:03.413548Z",
     "shell.execute_reply": "2022-11-23T12:22:03.411837Z"
    },
    "papermill": {
     "duration": 0.054217,
     "end_time": "2022-11-23T12:22:03.417873",
     "exception": false,
     "start_time": "2022-11-23T12:22:03.363656",
     "status": "completed"
    },
    "tags": []
   },
   "outputs": [
    {
     "data": {
      "text/plain": [
       "array([4, 5, 5, 3, 5])"
      ]
     },
     "execution_count": 60,
     "metadata": {},
     "output_type": "execute_result"
    }
   ],
   "source": [
    "np.max(data,1)"
   ]
  },
  {
   "cell_type": "code",
   "execution_count": 61,
   "id": "fa5a9a48",
   "metadata": {
    "execution": {
     "iopub.execute_input": "2022-11-23T12:22:03.503280Z",
     "iopub.status.busy": "2022-11-23T12:22:03.501229Z",
     "iopub.status.idle": "2022-11-23T12:22:03.511392Z",
     "shell.execute_reply": "2022-11-23T12:22:03.510193Z"
    },
    "papermill": {
     "duration": 0.054318,
     "end_time": "2022-11-23T12:22:03.514157",
     "exception": false,
     "start_time": "2022-11-23T12:22:03.459839",
     "status": "completed"
    },
    "tags": []
   },
   "outputs": [
    {
     "data": {
      "text/plain": [
       "71"
      ]
     },
     "execution_count": 61,
     "metadata": {},
     "output_type": "execute_result"
    }
   ],
   "source": [
    "np.sum(data)"
   ]
  },
  {
   "cell_type": "code",
   "execution_count": 62,
   "id": "321e5a52",
   "metadata": {
    "execution": {
     "iopub.execute_input": "2022-11-23T12:22:03.596937Z",
     "iopub.status.busy": "2022-11-23T12:22:03.595684Z",
     "iopub.status.idle": "2022-11-23T12:22:03.604860Z",
     "shell.execute_reply": "2022-11-23T12:22:03.603400Z"
    },
    "papermill": {
     "duration": 0.05375,
     "end_time": "2022-11-23T12:22:03.608589",
     "exception": false,
     "start_time": "2022-11-23T12:22:03.554839",
     "status": "completed"
    },
    "tags": []
   },
   "outputs": [
    {
     "data": {
      "text/plain": [
       "array([13, 17, 15, 17,  9])"
      ]
     },
     "execution_count": 62,
     "metadata": {},
     "output_type": "execute_result"
    }
   ],
   "source": [
    "np.sum(data, axis=0)"
   ]
  },
  {
   "cell_type": "code",
   "execution_count": 63,
   "id": "e4461c15",
   "metadata": {
    "execution": {
     "iopub.execute_input": "2022-11-23T12:22:03.695451Z",
     "iopub.status.busy": "2022-11-23T12:22:03.694143Z",
     "iopub.status.idle": "2022-11-23T12:22:03.703704Z",
     "shell.execute_reply": "2022-11-23T12:22:03.702237Z"
    },
    "papermill": {
     "duration": 0.05556,
     "end_time": "2022-11-23T12:22:03.706164",
     "exception": false,
     "start_time": "2022-11-23T12:22:03.650604",
     "status": "completed"
    },
    "tags": []
   },
   "outputs": [
    {
     "data": {
      "text/plain": [
       "array([15, 12, 17, 11, 16])"
      ]
     },
     "execution_count": 63,
     "metadata": {},
     "output_type": "execute_result"
    }
   ],
   "source": [
    "np.sum(data, axis=1)"
   ]
  },
  {
   "cell_type": "code",
   "execution_count": 64,
   "id": "b426e8ea",
   "metadata": {
    "execution": {
     "iopub.execute_input": "2022-11-23T12:22:03.790730Z",
     "iopub.status.busy": "2022-11-23T12:22:03.789544Z",
     "iopub.status.idle": "2022-11-23T12:22:03.797504Z",
     "shell.execute_reply": "2022-11-23T12:22:03.796267Z"
    },
    "papermill": {
     "duration": 0.055328,
     "end_time": "2022-11-23T12:22:03.800789",
     "exception": false,
     "start_time": "2022-11-23T12:22:03.745461",
     "status": "completed"
    },
    "tags": []
   },
   "outputs": [
    {
     "data": {
      "text/plain": [
       "2.84"
      ]
     },
     "execution_count": 64,
     "metadata": {},
     "output_type": "execute_result"
    }
   ],
   "source": [
    "np.average(data)"
   ]
  },
  {
   "cell_type": "code",
   "execution_count": 65,
   "id": "27373244",
   "metadata": {
    "execution": {
     "iopub.execute_input": "2022-11-23T12:22:03.879300Z",
     "iopub.status.busy": "2022-11-23T12:22:03.878859Z",
     "iopub.status.idle": "2022-11-23T12:22:03.886329Z",
     "shell.execute_reply": "2022-11-23T12:22:03.885206Z"
    },
    "papermill": {
     "duration": 0.049155,
     "end_time": "2022-11-23T12:22:03.888845",
     "exception": false,
     "start_time": "2022-11-23T12:22:03.839690",
     "status": "completed"
    },
    "tags": []
   },
   "outputs": [
    {
     "data": {
      "text/plain": [
       "array([2, 4, 2, 4, 3])"
      ]
     },
     "execution_count": 65,
     "metadata": {},
     "output_type": "execute_result"
    }
   ],
   "source": [
    "data[0,:]"
   ]
  },
  {
   "cell_type": "code",
   "execution_count": 66,
   "id": "8994f88a",
   "metadata": {
    "execution": {
     "iopub.execute_input": "2022-11-23T12:22:03.970801Z",
     "iopub.status.busy": "2022-11-23T12:22:03.969495Z",
     "iopub.status.idle": "2022-11-23T12:22:03.979150Z",
     "shell.execute_reply": "2022-11-23T12:22:03.977450Z"
    },
    "papermill": {
     "duration": 0.054679,
     "end_time": "2022-11-23T12:22:03.983169",
     "exception": false,
     "start_time": "2022-11-23T12:22:03.928490",
     "status": "completed"
    },
    "tags": []
   },
   "outputs": [
    {
     "data": {
      "text/plain": [
       "1"
      ]
     },
     "execution_count": 66,
     "metadata": {},
     "output_type": "execute_result"
    }
   ],
   "source": [
    "np.argmax(data[0,:])"
   ]
  },
  {
   "cell_type": "code",
   "execution_count": 67,
   "id": "b2d8f9e9",
   "metadata": {
    "execution": {
     "iopub.execute_input": "2022-11-23T12:22:04.066544Z",
     "iopub.status.busy": "2022-11-23T12:22:04.066069Z",
     "iopub.status.idle": "2022-11-23T12:22:04.073463Z",
     "shell.execute_reply": "2022-11-23T12:22:04.072209Z"
    },
    "papermill": {
     "duration": 0.052546,
     "end_time": "2022-11-23T12:22:04.076545",
     "exception": false,
     "start_time": "2022-11-23T12:22:04.023999",
     "status": "completed"
    },
    "tags": []
   },
   "outputs": [
    {
     "data": {
      "text/plain": [
       "0"
      ]
     },
     "execution_count": 67,
     "metadata": {},
     "output_type": "execute_result"
    }
   ],
   "source": [
    "np.argmin(data[0,:])"
   ]
  },
  {
   "cell_type": "code",
   "execution_count": 68,
   "id": "52b46612",
   "metadata": {
    "execution": {
     "iopub.execute_input": "2022-11-23T12:22:04.160552Z",
     "iopub.status.busy": "2022-11-23T12:22:04.160134Z",
     "iopub.status.idle": "2022-11-23T12:22:04.167751Z",
     "shell.execute_reply": "2022-11-23T12:22:04.166383Z"
    },
    "papermill": {
     "duration": 0.052841,
     "end_time": "2022-11-23T12:22:04.170514",
     "exception": false,
     "start_time": "2022-11-23T12:22:04.117673",
     "status": "completed"
    },
    "tags": []
   },
   "outputs": [
    {
     "data": {
      "text/plain": [
       "array([2, 2, 3, 4, 4])"
      ]
     },
     "execution_count": 68,
     "metadata": {},
     "output_type": "execute_result"
    }
   ],
   "source": [
    "np.sort(data[0,:])"
   ]
  },
  {
   "cell_type": "code",
   "execution_count": 69,
   "id": "5959646d",
   "metadata": {
    "execution": {
     "iopub.execute_input": "2022-11-23T12:22:04.262832Z",
     "iopub.status.busy": "2022-11-23T12:22:04.261528Z",
     "iopub.status.idle": "2022-11-23T12:22:04.269411Z",
     "shell.execute_reply": "2022-11-23T12:22:04.268129Z"
    },
    "papermill": {
     "duration": 0.055316,
     "end_time": "2022-11-23T12:22:04.271839",
     "exception": false,
     "start_time": "2022-11-23T12:22:04.216523",
     "status": "completed"
    },
    "tags": []
   },
   "outputs": [
    {
     "data": {
      "text/plain": [
       "array([0, 2, 4, 1, 3])"
      ]
     },
     "execution_count": 69,
     "metadata": {},
     "output_type": "execute_result"
    }
   ],
   "source": [
    "np.argsort(data[0,:])"
   ]
  },
  {
   "cell_type": "code",
   "execution_count": 70,
   "id": "e2a86626",
   "metadata": {
    "execution": {
     "iopub.execute_input": "2022-11-23T12:22:04.352925Z",
     "iopub.status.busy": "2022-11-23T12:22:04.351735Z",
     "iopub.status.idle": "2022-11-23T12:22:04.356388Z",
     "shell.execute_reply": "2022-11-23T12:22:04.355394Z"
    },
    "papermill": {
     "duration": 0.04859,
     "end_time": "2022-11-23T12:22:04.358835",
     "exception": false,
     "start_time": "2022-11-23T12:22:04.310245",
     "status": "completed"
    },
    "tags": []
   },
   "outputs": [],
   "source": [
    "#Ex.4 How to sort in decreasing order using np.sort\n",
    "#"
   ]
  },
  {
   "cell_type": "code",
   "execution_count": 71,
   "id": "7b915b17",
   "metadata": {
    "execution": {
     "iopub.execute_input": "2022-11-23T12:22:04.517844Z",
     "iopub.status.busy": "2022-11-23T12:22:04.517092Z",
     "iopub.status.idle": "2022-11-23T12:22:04.524157Z",
     "shell.execute_reply": "2022-11-23T12:22:04.523195Z"
    },
    "papermill": {
     "duration": 0.052937,
     "end_time": "2022-11-23T12:22:04.526574",
     "exception": false,
     "start_time": "2022-11-23T12:22:04.473637",
     "status": "completed"
    },
    "tags": []
   },
   "outputs": [
    {
     "data": {
      "text/plain": [
       "array([1, 4, 7])"
      ]
     },
     "execution_count": 71,
     "metadata": {},
     "output_type": "execute_result"
    }
   ],
   "source": [
    "np.arange(1,10,3)"
   ]
  },
  {
   "cell_type": "code",
   "execution_count": 72,
   "id": "a45e60c5",
   "metadata": {
    "execution": {
     "iopub.execute_input": "2022-11-23T12:22:04.605227Z",
     "iopub.status.busy": "2022-11-23T12:22:04.604727Z",
     "iopub.status.idle": "2022-11-23T12:22:04.613226Z",
     "shell.execute_reply": "2022-11-23T12:22:04.611328Z"
    },
    "papermill": {
     "duration": 0.050143,
     "end_time": "2022-11-23T12:22:04.615677",
     "exception": false,
     "start_time": "2022-11-23T12:22:04.565534",
     "status": "completed"
    },
    "tags": []
   },
   "outputs": [
    {
     "data": {
      "text/plain": [
       "array([0.        , 0.21052632, 0.42105263, 0.63157895, 0.84210526,\n",
       "       1.05263158, 1.26315789, 1.47368421, 1.68421053, 1.89473684,\n",
       "       2.10526316, 2.31578947, 2.52631579, 2.73684211, 2.94736842,\n",
       "       3.15789474, 3.36842105, 3.57894737, 3.78947368, 4.        ])"
      ]
     },
     "execution_count": 72,
     "metadata": {},
     "output_type": "execute_result"
    }
   ],
   "source": [
    "np.linspace(0,4,20)"
   ]
  },
  {
   "cell_type": "code",
   "execution_count": 73,
   "id": "204c1c39",
   "metadata": {
    "execution": {
     "iopub.execute_input": "2022-11-23T12:22:04.701163Z",
     "iopub.status.busy": "2022-11-23T12:22:04.700589Z",
     "iopub.status.idle": "2022-11-23T12:22:04.709563Z",
     "shell.execute_reply": "2022-11-23T12:22:04.707935Z"
    },
    "papermill": {
     "duration": 0.056445,
     "end_time": "2022-11-23T12:22:04.712578",
     "exception": false,
     "start_time": "2022-11-23T12:22:04.656133",
     "status": "completed"
    },
    "tags": []
   },
   "outputs": [
    {
     "data": {
      "text/plain": [
       "array([[3., 1., 3., 2., 1.],\n",
       "       [3., 1., 1., 2., 3.],\n",
       "       [2., 1., 3., 3., 0.],\n",
       "       [1., 2., 1., 2., 2.],\n",
       "       [0., 2., 2., 3., 2.]])"
      ]
     },
     "execution_count": 73,
     "metadata": {},
     "output_type": "execute_result"
    }
   ],
   "source": [
    "data = np.round(rng.random((5,5))*3)\n",
    "data"
   ]
  },
  {
   "cell_type": "code",
   "execution_count": 74,
   "id": "97619b47",
   "metadata": {
    "execution": {
     "iopub.execute_input": "2022-11-23T12:22:04.799145Z",
     "iopub.status.busy": "2022-11-23T12:22:04.798240Z",
     "iopub.status.idle": "2022-11-23T12:22:04.806472Z",
     "shell.execute_reply": "2022-11-23T12:22:04.804736Z"
    },
    "papermill": {
     "duration": 0.052601,
     "end_time": "2022-11-23T12:22:04.809296",
     "exception": false,
     "start_time": "2022-11-23T12:22:04.756695",
     "status": "completed"
    },
    "tags": []
   },
   "outputs": [
    {
     "data": {
      "text/plain": [
       "(5, 5)"
      ]
     },
     "execution_count": 74,
     "metadata": {},
     "output_type": "execute_result"
    }
   ],
   "source": [
    "data.shape"
   ]
  },
  {
   "cell_type": "code",
   "execution_count": 75,
   "id": "9072a913",
   "metadata": {
    "execution": {
     "iopub.execute_input": "2022-11-23T12:22:04.892131Z",
     "iopub.status.busy": "2022-11-23T12:22:04.890753Z",
     "iopub.status.idle": "2022-11-23T12:22:04.899114Z",
     "shell.execute_reply": "2022-11-23T12:22:04.897922Z"
    },
    "papermill": {
     "duration": 0.053497,
     "end_time": "2022-11-23T12:22:04.902113",
     "exception": false,
     "start_time": "2022-11-23T12:22:04.848616",
     "status": "completed"
    },
    "tags": []
   },
   "outputs": [
    {
     "data": {
      "text/plain": [
       "array([[3., 1., 3., 2., 1., 3., 1., 1., 2., 3., 2., 1., 3., 3., 0., 1.,\n",
       "        2., 1., 2., 2., 0., 2., 2., 3., 2.]])"
      ]
     },
     "execution_count": 75,
     "metadata": {},
     "output_type": "execute_result"
    }
   ],
   "source": [
    "data.reshape(1,25)"
   ]
  },
  {
   "cell_type": "code",
   "execution_count": 76,
   "id": "49457aaa",
   "metadata": {
    "execution": {
     "iopub.execute_input": "2022-11-23T12:22:04.982388Z",
     "iopub.status.busy": "2022-11-23T12:22:04.981580Z",
     "iopub.status.idle": "2022-11-23T12:22:04.988795Z",
     "shell.execute_reply": "2022-11-23T12:22:04.987925Z"
    },
    "papermill": {
     "duration": 0.050564,
     "end_time": "2022-11-23T12:22:04.991267",
     "exception": false,
     "start_time": "2022-11-23T12:22:04.940703",
     "status": "completed"
    },
    "tags": []
   },
   "outputs": [
    {
     "data": {
      "text/plain": [
       "[[1, 2], [3, 4]]"
      ]
     },
     "execution_count": 76,
     "metadata": {},
     "output_type": "execute_result"
    }
   ],
   "source": [
    "a = [[1,2],\n",
    "     [3,4]]\n",
    "a"
   ]
  },
  {
   "cell_type": "code",
   "execution_count": 77,
   "id": "6985537f",
   "metadata": {
    "execution": {
     "iopub.execute_input": "2022-11-23T12:22:05.078379Z",
     "iopub.status.busy": "2022-11-23T12:22:05.077677Z",
     "iopub.status.idle": "2022-11-23T12:22:05.085664Z",
     "shell.execute_reply": "2022-11-23T12:22:05.084715Z"
    },
    "papermill": {
     "duration": 0.053754,
     "end_time": "2022-11-23T12:22:05.088229",
     "exception": false,
     "start_time": "2022-11-23T12:22:05.034475",
     "status": "completed"
    },
    "tags": []
   },
   "outputs": [
    {
     "data": {
      "text/plain": [
       "array([[0., 0.],\n",
       "       [0., 0.]])"
      ]
     },
     "execution_count": 77,
     "metadata": {},
     "output_type": "execute_result"
    }
   ],
   "source": [
    "b = np.zeros((2,2))\n",
    "b"
   ]
  },
  {
   "cell_type": "code",
   "execution_count": 78,
   "id": "28c27ac7",
   "metadata": {
    "execution": {
     "iopub.execute_input": "2022-11-23T12:22:05.172951Z",
     "iopub.status.busy": "2022-11-23T12:22:05.171755Z",
     "iopub.status.idle": "2022-11-23T12:22:05.180429Z",
     "shell.execute_reply": "2022-11-23T12:22:05.179516Z"
    },
    "papermill": {
     "duration": 0.053541,
     "end_time": "2022-11-23T12:22:05.183368",
     "exception": false,
     "start_time": "2022-11-23T12:22:05.129827",
     "status": "completed"
    },
    "tags": []
   },
   "outputs": [
    {
     "data": {
      "text/plain": [
       "array([[1., 2.],\n",
       "       [3., 4.],\n",
       "       [0., 0.],\n",
       "       [0., 0.]])"
      ]
     },
     "execution_count": 78,
     "metadata": {},
     "output_type": "execute_result"
    }
   ],
   "source": [
    "c = np.vstack((a,b))\n",
    "c"
   ]
  },
  {
   "cell_type": "code",
   "execution_count": 79,
   "id": "9117a191",
   "metadata": {
    "execution": {
     "iopub.execute_input": "2022-11-23T12:22:05.263874Z",
     "iopub.status.busy": "2022-11-23T12:22:05.263482Z",
     "iopub.status.idle": "2022-11-23T12:22:05.272466Z",
     "shell.execute_reply": "2022-11-23T12:22:05.271133Z"
    },
    "papermill": {
     "duration": 0.052083,
     "end_time": "2022-11-23T12:22:05.275081",
     "exception": false,
     "start_time": "2022-11-23T12:22:05.222998",
     "status": "completed"
    },
    "tags": []
   },
   "outputs": [
    {
     "data": {
      "text/plain": [
       "array([[1., 2., 0., 0.],\n",
       "       [3., 4., 0., 0.]])"
      ]
     },
     "execution_count": 79,
     "metadata": {},
     "output_type": "execute_result"
    }
   ],
   "source": [
    "c = np.hstack((a,b))\n",
    "c"
   ]
  },
  {
   "cell_type": "code",
   "execution_count": 80,
   "id": "b812da5e",
   "metadata": {
    "execution": {
     "iopub.execute_input": "2022-11-23T12:22:05.368058Z",
     "iopub.status.busy": "2022-11-23T12:22:05.367285Z",
     "iopub.status.idle": "2022-11-23T12:22:05.374589Z",
     "shell.execute_reply": "2022-11-23T12:22:05.373610Z"
    },
    "papermill": {
     "duration": 0.056123,
     "end_time": "2022-11-23T12:22:05.376963",
     "exception": false,
     "start_time": "2022-11-23T12:22:05.320840",
     "status": "completed"
    },
    "tags": []
   },
   "outputs": [
    {
     "data": {
      "text/plain": [
       "array([[ 0,  1,  2,  3,  4],\n",
       "       [ 5,  6,  7,  8,  9],\n",
       "       [10, 11, 12, 13, 14],\n",
       "       [15, 16, 17, 18, 19],\n",
       "       [20, 21, 22, 23, 24]])"
      ]
     },
     "execution_count": 80,
     "metadata": {},
     "output_type": "execute_result"
    }
   ],
   "source": [
    "# Ex.5 Change diagonal element of np_test to 0. Note: Please use only 1 line command (Google it!!)\n",
    "#\n",
    "np_test = np.reshape(np.arange(0,25), (5,5))\n",
    "np_test"
   ]
  },
  {
   "cell_type": "markdown",
   "id": "f0838152",
   "metadata": {
    "papermill": {
     "duration": 0.039194,
     "end_time": "2022-11-23T12:22:05.454609",
     "exception": false,
     "start_time": "2022-11-23T12:22:05.415415",
     "status": "completed"
    },
    "tags": []
   },
   "source": [
    "<h1> Association Rules for Business Data Analytics </h1>"
   ]
  },
  {
   "cell_type": "code",
   "execution_count": 81,
   "id": "ed361ffd",
   "metadata": {
    "execution": {
     "iopub.execute_input": "2022-11-23T12:22:05.539867Z",
     "iopub.status.busy": "2022-11-23T12:22:05.538886Z",
     "iopub.status.idle": "2022-11-23T12:22:05.544388Z",
     "shell.execute_reply": "2022-11-23T12:22:05.543162Z"
    },
    "papermill": {
     "duration": 0.050428,
     "end_time": "2022-11-23T12:22:05.546847",
     "exception": false,
     "start_time": "2022-11-23T12:22:05.496419",
     "status": "completed"
    },
    "tags": []
   },
   "outputs": [],
   "source": [
    "products = np.array(['ขนมปัง', 'ไข่', 'เนย', 'น้ำเปล่า', 'ข้าว'])"
   ]
  },
  {
   "cell_type": "code",
   "execution_count": 82,
   "id": "d9dae89b",
   "metadata": {
    "execution": {
     "iopub.execute_input": "2022-11-23T12:22:05.629055Z",
     "iopub.status.busy": "2022-11-23T12:22:05.628634Z",
     "iopub.status.idle": "2022-11-23T12:22:05.641976Z",
     "shell.execute_reply": "2022-11-23T12:22:05.640752Z"
    },
    "papermill": {
     "duration": 0.058882,
     "end_time": "2022-11-23T12:22:05.644596",
     "exception": false,
     "start_time": "2022-11-23T12:22:05.585714",
     "status": "completed"
    },
    "tags": []
   },
   "outputs": [],
   "source": [
    "basket = [ [1,1,1,0,0],\n",
    "           [1,0,1,1,0],\n",
    "           [1,0,0,1,1],\n",
    "           [0,1,0,1,0] ]\n",
    "basket = np.array(basket)"
   ]
  },
  {
   "cell_type": "code",
   "execution_count": 83,
   "id": "7db0ecc7",
   "metadata": {
    "execution": {
     "iopub.execute_input": "2022-11-23T12:22:05.726968Z",
     "iopub.status.busy": "2022-11-23T12:22:05.725923Z",
     "iopub.status.idle": "2022-11-23T12:22:05.733311Z",
     "shell.execute_reply": "2022-11-23T12:22:05.732278Z"
    },
    "papermill": {
     "duration": 0.051801,
     "end_time": "2022-11-23T12:22:05.735576",
     "exception": false,
     "start_time": "2022-11-23T12:22:05.683775",
     "status": "completed"
    },
    "tags": []
   },
   "outputs": [
    {
     "data": {
      "text/plain": [
       "array(['ขนมปัง', 'ไข่', 'เนย'], dtype='<U8')"
      ]
     },
     "execution_count": 83,
     "metadata": {},
     "output_type": "execute_result"
    }
   ],
   "source": [
    "products[basket[0]==1]"
   ]
  },
  {
   "cell_type": "code",
   "execution_count": 84,
   "id": "d5b38290",
   "metadata": {
    "execution": {
     "iopub.execute_input": "2022-11-23T12:22:05.818590Z",
     "iopub.status.busy": "2022-11-23T12:22:05.817368Z",
     "iopub.status.idle": "2022-11-23T12:22:05.824385Z",
     "shell.execute_reply": "2022-11-23T12:22:05.823074Z"
    },
    "papermill": {
     "duration": 0.052806,
     "end_time": "2022-11-23T12:22:05.827315",
     "exception": false,
     "start_time": "2022-11-23T12:22:05.774509",
     "status": "completed"
    },
    "tags": []
   },
   "outputs": [],
   "source": [
    "number_of_basket = len(basket)"
   ]
  },
  {
   "cell_type": "code",
   "execution_count": 85,
   "id": "49d9a09d",
   "metadata": {
    "execution": {
     "iopub.execute_input": "2022-11-23T12:22:05.911884Z",
     "iopub.status.busy": "2022-11-23T12:22:05.911404Z",
     "iopub.status.idle": "2022-11-23T12:22:05.922598Z",
     "shell.execute_reply": "2022-11-23T12:22:05.920867Z"
    },
    "papermill": {
     "duration": 0.056791,
     "end_time": "2022-11-23T12:22:05.925731",
     "exception": false,
     "start_time": "2022-11-23T12:22:05.868940",
     "status": "completed"
    },
    "tags": []
   },
   "outputs": [
    {
     "data": {
      "text/plain": [
       "[['ขนมปัง', 0.75],\n",
       " ['ไข่', 0.5],\n",
       " ['เนย', 0.5],\n",
       " ['น้ำเปล่า', 0.75],\n",
       " ['ข้าว', 0.25]]"
      ]
     },
     "execution_count": 85,
     "metadata": {},
     "output_type": "execute_result"
    }
   ],
   "source": [
    "number_of_product = np.sum(basket, axis=0)\n",
    "item_support1 = [[products[i], item/number_of_basket ]  for i,item in enumerate(number_of_product) ]\n",
    "item_support1"
   ]
  },
  {
   "cell_type": "code",
   "execution_count": 86,
   "id": "2819b049",
   "metadata": {
    "execution": {
     "iopub.execute_input": "2022-11-23T12:22:06.011542Z",
     "iopub.status.busy": "2022-11-23T12:22:06.011078Z",
     "iopub.status.idle": "2022-11-23T12:22:06.085735Z",
     "shell.execute_reply": "2022-11-23T12:22:06.083702Z"
    },
    "papermill": {
     "duration": 0.12071,
     "end_time": "2022-11-23T12:22:06.088206",
     "exception": true,
     "start_time": "2022-11-23T12:22:05.967496",
     "status": "failed"
    },
    "tags": []
   },
   "outputs": [
    {
     "ename": "NameError",
     "evalue": "name 'number_of_product2' is not defined",
     "output_type": "error",
     "traceback": [
      "\u001b[0;31m---------------------------------------------------------------------------\u001b[0m",
      "\u001b[0;31mNameError\u001b[0m                                 Traceback (most recent call last)",
      "\u001b[0;32m/tmp/ipykernel_19/836570639.py\u001b[0m in \u001b[0;36m<module>\u001b[0;34m\u001b[0m\n\u001b[0;32m----> 1\u001b[0;31m \u001b[0mitem_support2\u001b[0m \u001b[0;34m=\u001b[0m \u001b[0;34m[\u001b[0m\u001b[0;34m[\u001b[0m\u001b[0mpair_product\u001b[0m\u001b[0;34m[\u001b[0m\u001b[0mi\u001b[0m\u001b[0;34m]\u001b[0m\u001b[0;34m,\u001b[0m \u001b[0mitem\u001b[0m\u001b[0;34m/\u001b[0m\u001b[0mnumber_of_basket\u001b[0m \u001b[0;34m]\u001b[0m  \u001b[0;32mfor\u001b[0m \u001b[0mi\u001b[0m\u001b[0;34m,\u001b[0m\u001b[0mitem\u001b[0m \u001b[0;32min\u001b[0m \u001b[0menumerate\u001b[0m\u001b[0;34m(\u001b[0m\u001b[0mnumber_of_product2\u001b[0m\u001b[0;34m)\u001b[0m \u001b[0;34m]\u001b[0m\u001b[0;34m\u001b[0m\u001b[0;34m\u001b[0m\u001b[0m\n\u001b[0m\u001b[1;32m      2\u001b[0m \u001b[0mitem_support2\u001b[0m\u001b[0;34m\u001b[0m\u001b[0;34m\u001b[0m\u001b[0m\n",
      "\u001b[0;31mNameError\u001b[0m: name 'number_of_product2' is not defined"
     ]
    }
   ],
   "source": [
    "item_support2 = [[pair_product[i], item/number_of_basket ]  for i,item in enumerate(number_of_product2) ]\n",
    "item_support2"
   ]
  },
  {
   "cell_type": "code",
   "execution_count": null,
   "id": "361dd91e",
   "metadata": {
    "execution": {
     "iopub.execute_input": "2022-11-23T12:21:32.379213Z",
     "iopub.status.busy": "2022-11-23T12:21:32.378442Z",
     "iopub.status.idle": "2022-11-23T12:21:32.390427Z",
     "shell.execute_reply": "2022-11-23T12:21:32.389166Z",
     "shell.execute_reply.started": "2022-11-23T12:21:32.379164Z"
    },
    "papermill": {
     "duration": null,
     "end_time": null,
     "exception": null,
     "start_time": null,
     "status": "pending"
    },
    "tags": []
   },
   "outputs": [],
   "source": [
    "pair_product = [ [products[i], products[j]]  for i in range(0,len(products)) for j in range(i+1, len(products))]\n",
    "pair_product"
   ]
  },
  {
   "cell_type": "code",
   "execution_count": null,
   "id": "6eb21be7",
   "metadata": {
    "execution": {
     "iopub.execute_input": "2022-11-23T12:21:32.393189Z",
     "iopub.status.busy": "2022-11-23T12:21:32.392078Z",
     "iopub.status.idle": "2022-11-23T12:21:32.403596Z",
     "shell.execute_reply": "2022-11-23T12:21:32.402480Z",
     "shell.execute_reply.started": "2022-11-23T12:21:32.393142Z"
    },
    "papermill": {
     "duration": null,
     "end_time": null,
     "exception": null,
     "start_time": null,
     "status": "pending"
    },
    "tags": []
   },
   "outputs": [],
   "source": [
    "number_of_product2 = []\n",
    "for one, two in pair_product:\n",
    "    number_of_product2.append(np.sum([1 for eachbasket in basket if eachbasket[products==one] == 1 and eachbasket[products==two] == 1]))\n",
    "number_of_product2"
   ]
  },
  {
   "cell_type": "markdown",
   "id": "f04d6f5f",
   "metadata": {
    "papermill": {
     "duration": null,
     "end_time": null,
     "exception": null,
     "start_time": null,
     "status": "pending"
    },
    "tags": []
   },
   "source": [
    "<h2> Confidence </h2>"
   ]
  },
  {
   "cell_type": "markdown",
   "id": "8cd2d08e",
   "metadata": {
    "papermill": {
     "duration": null,
     "end_time": null,
     "exception": null,
     "start_time": null,
     "status": "pending"
    },
    "tags": []
   },
   "source": [
    "Confidence(LHS => RHS) = Support(LHS, RHS)/Support(LHS)"
   ]
  },
  {
   "cell_type": "code",
   "execution_count": null,
   "id": "1bd50c36",
   "metadata": {
    "execution": {
     "iopub.execute_input": "2022-11-23T12:21:32.406247Z",
     "iopub.status.busy": "2022-11-23T12:21:32.405188Z",
     "iopub.status.idle": "2022-11-23T12:21:32.416436Z",
     "shell.execute_reply": "2022-11-23T12:21:32.415349Z",
     "shell.execute_reply.started": "2022-11-23T12:21:32.406201Z"
    },
    "papermill": {
     "duration": null,
     "end_time": null,
     "exception": null,
     "start_time": null,
     "status": "pending"
    },
    "tags": []
   },
   "outputs": [],
   "source": [
    "#ขนมปัง => เนย\n",
    "0.5/0.75"
   ]
  },
  {
   "cell_type": "code",
   "execution_count": null,
   "id": "45340ada",
   "metadata": {
    "execution": {
     "iopub.execute_input": "2022-11-23T12:21:32.418558Z",
     "iopub.status.busy": "2022-11-23T12:21:32.417697Z",
     "iopub.status.idle": "2022-11-23T12:21:32.433449Z",
     "shell.execute_reply": "2022-11-23T12:21:32.432385Z",
     "shell.execute_reply.started": "2022-11-23T12:21:32.418524Z"
    },
    "papermill": {
     "duration": null,
     "end_time": null,
     "exception": null,
     "start_time": null,
     "status": "pending"
    },
    "tags": []
   },
   "outputs": [],
   "source": [
    "#เนย => ขนมปัง\n",
    "0.5/0.5"
   ]
  },
  {
   "cell_type": "markdown",
   "id": "707b40de",
   "metadata": {
    "papermill": {
     "duration": null,
     "end_time": null,
     "exception": null,
     "start_time": null,
     "status": "pending"
    },
    "tags": []
   },
   "source": [
    "<h2> Lift </h2>"
   ]
  },
  {
   "cell_type": "markdown",
   "id": "3e468ff9",
   "metadata": {
    "papermill": {
     "duration": null,
     "end_time": null,
     "exception": null,
     "start_time": null,
     "status": "pending"
    },
    "tags": []
   },
   "source": [
    "Lift(LHS=>RHS) = Confidence(LHS=>RHS) / Support(RHS)"
   ]
  },
  {
   "cell_type": "code",
   "execution_count": null,
   "id": "cbb507bf",
   "metadata": {
    "execution": {
     "iopub.execute_input": "2022-11-23T12:21:32.435783Z",
     "iopub.status.busy": "2022-11-23T12:21:32.435165Z",
     "iopub.status.idle": "2022-11-23T12:21:32.445750Z",
     "shell.execute_reply": "2022-11-23T12:21:32.444814Z",
     "shell.execute_reply.started": "2022-11-23T12:21:32.435749Z"
    },
    "papermill": {
     "duration": null,
     "end_time": null,
     "exception": null,
     "start_time": null,
     "status": "pending"
    },
    "tags": []
   },
   "outputs": [],
   "source": [
    "#ขนมปัง => เนย\n",
    "0.6666666667/0.5"
   ]
  },
  {
   "cell_type": "code",
   "execution_count": null,
   "id": "b547c167",
   "metadata": {
    "execution": {
     "iopub.execute_input": "2022-11-23T12:21:32.448007Z",
     "iopub.status.busy": "2022-11-23T12:21:32.447039Z",
     "iopub.status.idle": "2022-11-23T12:21:32.460616Z",
     "shell.execute_reply": "2022-11-23T12:21:32.459749Z",
     "shell.execute_reply.started": "2022-11-23T12:21:32.447973Z"
    },
    "papermill": {
     "duration": null,
     "end_time": null,
     "exception": null,
     "start_time": null,
     "status": "pending"
    },
    "tags": []
   },
   "outputs": [],
   "source": [
    "0.5/(0.75*0.5)"
   ]
  },
  {
   "cell_type": "code",
   "execution_count": null,
   "id": "df608416",
   "metadata": {
    "execution": {
     "iopub.execute_input": "2022-11-23T12:21:32.462835Z",
     "iopub.status.busy": "2022-11-23T12:21:32.461880Z",
     "iopub.status.idle": "2022-11-23T12:21:32.474572Z",
     "shell.execute_reply": "2022-11-23T12:21:32.473404Z",
     "shell.execute_reply.started": "2022-11-23T12:21:32.462801Z"
    },
    "papermill": {
     "duration": null,
     "end_time": null,
     "exception": null,
     "start_time": null,
     "status": "pending"
    },
    "tags": []
   },
   "outputs": [],
   "source": [
    "#เนย => ขนมปัง\n",
    "1/0.75"
   ]
  },
  {
   "cell_type": "code",
   "execution_count": null,
   "id": "ba7fd271",
   "metadata": {
    "execution": {
     "iopub.execute_input": "2022-11-23T12:21:32.478359Z",
     "iopub.status.busy": "2022-11-23T12:21:32.477841Z",
     "iopub.status.idle": "2022-11-23T12:21:32.488345Z",
     "shell.execute_reply": "2022-11-23T12:21:32.487342Z",
     "shell.execute_reply.started": "2022-11-23T12:21:32.478324Z"
    },
    "papermill": {
     "duration": null,
     "end_time": null,
     "exception": null,
     "start_time": null,
     "status": "pending"
    },
    "tags": []
   },
   "outputs": [],
   "source": [
    "0.5/(0.5*0.75)"
   ]
  },
  {
   "cell_type": "code",
   "execution_count": null,
   "id": "cea7f0a1",
   "metadata": {
    "execution": {
     "iopub.execute_input": "2022-11-23T12:21:32.490515Z",
     "iopub.status.busy": "2022-11-23T12:21:32.489558Z",
     "iopub.status.idle": "2022-11-23T12:21:32.496772Z",
     "shell.execute_reply": "2022-11-23T12:21:32.495817Z",
     "shell.execute_reply.started": "2022-11-23T12:21:32.490480Z"
    },
    "papermill": {
     "duration": null,
     "end_time": null,
     "exception": null,
     "start_time": null,
     "status": "pending"
    },
    "tags": []
   },
   "outputs": [],
   "source": [
    "#Ex 1. Randomly create a matrix of size (10, 5) then randomly assign values of 0 and 1 to the last column of this matrix.\n",
    "#\n",
    "#\n",
    "#"
   ]
  },
  {
   "cell_type": "code",
   "execution_count": null,
   "id": "940a283d",
   "metadata": {
    "execution": {
     "iopub.execute_input": "2022-11-23T12:21:32.499061Z",
     "iopub.status.busy": "2022-11-23T12:21:32.498045Z",
     "iopub.status.idle": "2022-11-23T12:21:32.511513Z",
     "shell.execute_reply": "2022-11-23T12:21:32.510462Z",
     "shell.execute_reply.started": "2022-11-23T12:21:32.499010Z"
    },
    "papermill": {
     "duration": null,
     "end_time": null,
     "exception": null,
     "start_time": null,
     "status": "pending"
    },
    "tags": []
   },
   "outputs": [],
   "source": [
    "a = np.random.randint(10,size = (10,5))\n",
    "a[::,-1] = np.random.randint(0,2,10)\n",
    "a"
   ]
  },
  {
   "cell_type": "code",
   "execution_count": null,
   "id": "c2bfd390",
   "metadata": {
    "execution": {
     "iopub.execute_input": "2022-11-23T12:21:32.513219Z",
     "iopub.status.busy": "2022-11-23T12:21:32.512827Z",
     "iopub.status.idle": "2022-11-23T12:21:32.525028Z",
     "shell.execute_reply": "2022-11-23T12:21:32.524182Z",
     "shell.execute_reply.started": "2022-11-23T12:21:32.513186Z"
    },
    "papermill": {
     "duration": null,
     "end_time": null,
     "exception": null,
     "start_time": null,
     "status": "pending"
    },
    "tags": []
   },
   "outputs": [],
   "source": [
    "#test การสุ่มค่า 0,1 แถวล่างสุด\n",
    "a = np.random.randint(10,size = (10,5))\n",
    "a[-1::] = np.random.randint(0,2,5)\n",
    "a"
   ]
  },
  {
   "cell_type": "code",
   "execution_count": null,
   "id": "4316a980",
   "metadata": {
    "execution": {
     "iopub.execute_input": "2022-11-23T12:21:32.527426Z",
     "iopub.status.busy": "2022-11-23T12:21:32.526989Z",
     "iopub.status.idle": "2022-11-23T12:21:32.532968Z",
     "shell.execute_reply": "2022-11-23T12:21:32.532045Z",
     "shell.execute_reply.started": "2022-11-23T12:21:32.527372Z"
    },
    "papermill": {
     "duration": null,
     "end_time": null,
     "exception": null,
     "start_time": null,
     "status": "pending"
    },
    "tags": []
   },
   "outputs": [],
   "source": [
    "#Ex 2. Why we cannot use this index ? Please fix it !!\n",
    "#idx = [1,2,3,4,5]\n",
    "#np_matrix[idx,:]"
   ]
  },
  {
   "cell_type": "code",
   "execution_count": null,
   "id": "01cd8d39",
   "metadata": {
    "execution": {
     "iopub.execute_input": "2022-11-23T12:21:32.544838Z",
     "iopub.status.busy": "2022-11-23T12:21:32.543752Z",
     "iopub.status.idle": "2022-11-23T12:21:32.553159Z",
     "shell.execute_reply": "2022-11-23T12:21:32.552044Z",
     "shell.execute_reply.started": "2022-11-23T12:21:32.544800Z"
    },
    "papermill": {
     "duration": null,
     "end_time": null,
     "exception": null,
     "start_time": null,
     "status": "pending"
    },
    "tags": []
   },
   "outputs": [],
   "source": [
    "np_matrix = rng.randint(0,2, (6,6))\n",
    "idx = [0,1,2,3,4,5]\n",
    "np_matrix[idx,:]"
   ]
  },
  {
   "cell_type": "code",
   "execution_count": null,
   "id": "cf69d9af",
   "metadata": {
    "execution": {
     "iopub.execute_input": "2022-11-23T12:21:32.555025Z",
     "iopub.status.busy": "2022-11-23T12:21:32.554473Z",
     "iopub.status.idle": "2022-11-23T12:21:32.566313Z",
     "shell.execute_reply": "2022-11-23T12:21:32.565161Z",
     "shell.execute_reply.started": "2022-11-23T12:21:32.554984Z"
    },
    "papermill": {
     "duration": null,
     "end_time": null,
     "exception": null,
     "start_time": null,
     "status": "pending"
    },
    "tags": []
   },
   "outputs": [],
   "source": [
    "np_matrix = rng.randint(0,2, (6,6))\n",
    "np_matrix"
   ]
  },
  {
   "cell_type": "code",
   "execution_count": null,
   "id": "09ae8ac2",
   "metadata": {
    "execution": {
     "iopub.execute_input": "2022-11-23T12:21:32.568156Z",
     "iopub.status.busy": "2022-11-23T12:21:32.567730Z",
     "iopub.status.idle": "2022-11-23T12:21:32.579613Z",
     "shell.execute_reply": "2022-11-23T12:21:32.578674Z",
     "shell.execute_reply.started": "2022-11-23T12:21:32.568116Z"
    },
    "papermill": {
     "duration": null,
     "end_time": null,
     "exception": null,
     "start_time": null,
     "status": "pending"
    },
    "tags": []
   },
   "outputs": [],
   "source": [
    "idx = [0,1,2,3,4,5]\n",
    "np_matrix[idx,:]"
   ]
  },
  {
   "cell_type": "code",
   "execution_count": null,
   "id": "9c4325ae",
   "metadata": {
    "execution": {
     "iopub.execute_input": "2022-11-23T12:21:32.581952Z",
     "iopub.status.busy": "2022-11-23T12:21:32.580896Z",
     "iopub.status.idle": "2022-11-23T12:21:32.587502Z",
     "shell.execute_reply": "2022-11-23T12:21:32.586550Z",
     "shell.execute_reply.started": "2022-11-23T12:21:32.581919Z"
    },
    "papermill": {
     "duration": null,
     "end_time": null,
     "exception": null,
     "start_time": null,
     "status": "pending"
    },
    "tags": []
   },
   "outputs": [],
   "source": [
    "# Ex 3. \n",
    "# 1. Randomly create a data matrix of 10 samples with 5 features. \n",
    "# 2. Then, randomly create a label vector for 10 samples as (0 and 1) # [0,1,0,0,1,1,1,0,0,0]\n",
    "# 3. Finally, seperate data matrix into 2 groups\n",
    "# 4. Group 1 data with label == 0\n",
    "# 5. Group 2 data with label == 1"
   ]
  },
  {
   "cell_type": "code",
   "execution_count": null,
   "id": "c15d8e72",
   "metadata": {
    "execution": {
     "iopub.execute_input": "2022-11-23T12:21:32.589662Z",
     "iopub.status.busy": "2022-11-23T12:21:32.588821Z",
     "iopub.status.idle": "2022-11-23T12:21:32.601329Z",
     "shell.execute_reply": "2022-11-23T12:21:32.600372Z",
     "shell.execute_reply.started": "2022-11-23T12:21:32.589627Z"
    },
    "papermill": {
     "duration": null,
     "end_time": null,
     "exception": null,
     "start_time": null,
     "status": "pending"
    },
    "tags": []
   },
   "outputs": [],
   "source": [
    "#label_vector\n",
    "np.random.randint(0,2,10)"
   ]
  },
  {
   "cell_type": "code",
   "execution_count": null,
   "id": "9dc3c835",
   "metadata": {
    "execution": {
     "iopub.execute_input": "2022-11-23T12:21:32.603359Z",
     "iopub.status.busy": "2022-11-23T12:21:32.602760Z",
     "iopub.status.idle": "2022-11-23T12:21:32.612402Z",
     "shell.execute_reply": "2022-11-23T12:21:32.611416Z",
     "shell.execute_reply.started": "2022-11-23T12:21:32.603327Z"
    },
    "papermill": {
     "duration": null,
     "end_time": null,
     "exception": null,
     "start_time": null,
     "status": "pending"
    },
    "tags": []
   },
   "outputs": [],
   "source": [
    "#label_vector\n",
    "a = np.random.randint(100,size = (10,5))\n",
    "a[::, -1] = np.random.randint(0,2,10)\n",
    "a"
   ]
  },
  {
   "cell_type": "code",
   "execution_count": null,
   "id": "46875273",
   "metadata": {
    "execution": {
     "iopub.execute_input": "2022-11-23T12:21:32.614559Z",
     "iopub.status.busy": "2022-11-23T12:21:32.613864Z",
     "iopub.status.idle": "2022-11-23T12:21:32.620721Z",
     "shell.execute_reply": "2022-11-23T12:21:32.619843Z",
     "shell.execute_reply.started": "2022-11-23T12:21:32.614516Z"
    },
    "papermill": {
     "duration": null,
     "end_time": null,
     "exception": null,
     "start_time": null,
     "status": "pending"
    },
    "tags": []
   },
   "outputs": [],
   "source": [
    "# Ex 3. \n",
    "# 1. Randomly create a data matrix of 10 samples with 5 features. \n",
    "# 2. Then, randomly create a label vector for 10 samples as (0 and 1) # [0,1,0,0,1,1,1,0,0,0]\n",
    "# 3. Finally, seperate data matrix into 2 groups\n",
    "# 4. Group 1 data with label == 0\n",
    "# 5. Group 2 data with label == 1"
   ]
  },
  {
   "cell_type": "code",
   "execution_count": null,
   "id": "87f77d66",
   "metadata": {
    "execution": {
     "iopub.execute_input": "2022-11-23T12:21:32.622683Z",
     "iopub.status.busy": "2022-11-23T12:21:32.622074Z",
     "iopub.status.idle": "2022-11-23T12:21:32.635335Z",
     "shell.execute_reply": "2022-11-23T12:21:32.634300Z",
     "shell.execute_reply.started": "2022-11-23T12:21:32.622642Z"
    },
    "papermill": {
     "duration": null,
     "end_time": null,
     "exception": null,
     "start_time": null,
     "status": "pending"
    },
    "tags": []
   },
   "outputs": [],
   "source": [
    "#data_matrix\n",
    "np_matrix = np.random.randint(100,size = (10,5))\n",
    "np_matrix"
   ]
  },
  {
   "cell_type": "code",
   "execution_count": null,
   "id": "95c66c7d",
   "metadata": {
    "execution": {
     "iopub.execute_input": "2022-11-23T12:21:32.637784Z",
     "iopub.status.busy": "2022-11-23T12:21:32.637011Z",
     "iopub.status.idle": "2022-11-23T12:21:32.649218Z",
     "shell.execute_reply": "2022-11-23T12:21:32.647970Z",
     "shell.execute_reply.started": "2022-11-23T12:21:32.637728Z"
    },
    "papermill": {
     "duration": null,
     "end_time": null,
     "exception": null,
     "start_time": null,
     "status": "pending"
    },
    "tags": []
   },
   "outputs": [],
   "source": [
    "#label_vector\n",
    "label = np.random.randint(0,2,10)\n",
    "label"
   ]
  },
  {
   "cell_type": "code",
   "execution_count": null,
   "id": "a537ae3c",
   "metadata": {
    "execution": {
     "iopub.execute_input": "2022-11-23T12:21:32.652309Z",
     "iopub.status.busy": "2022-11-23T12:21:32.650873Z",
     "iopub.status.idle": "2022-11-23T12:21:32.660019Z",
     "shell.execute_reply": "2022-11-23T12:21:32.659060Z",
     "shell.execute_reply.started": "2022-11-23T12:21:32.652256Z"
    },
    "papermill": {
     "duration": null,
     "end_time": null,
     "exception": null,
     "start_time": null,
     "status": "pending"
    },
    "tags": []
   },
   "outputs": [],
   "source": [
    "A1 = np_matrix[label==0, :]\n",
    "A2 = np_matrix[label==1, :]"
   ]
  },
  {
   "cell_type": "code",
   "execution_count": null,
   "id": "4e135578",
   "metadata": {
    "execution": {
     "iopub.execute_input": "2022-11-23T12:21:32.662570Z",
     "iopub.status.busy": "2022-11-23T12:21:32.661451Z",
     "iopub.status.idle": "2022-11-23T12:21:32.674148Z",
     "shell.execute_reply": "2022-11-23T12:21:32.673260Z",
     "shell.execute_reply.started": "2022-11-23T12:21:32.662521Z"
    },
    "papermill": {
     "duration": null,
     "end_time": null,
     "exception": null,
     "start_time": null,
     "status": "pending"
    },
    "tags": []
   },
   "outputs": [],
   "source": [
    "A1"
   ]
  },
  {
   "cell_type": "code",
   "execution_count": null,
   "id": "d08fb33b",
   "metadata": {
    "execution": {
     "iopub.execute_input": "2022-11-23T12:21:32.676193Z",
     "iopub.status.busy": "2022-11-23T12:21:32.675786Z",
     "iopub.status.idle": "2022-11-23T12:21:32.686334Z",
     "shell.execute_reply": "2022-11-23T12:21:32.685346Z",
     "shell.execute_reply.started": "2022-11-23T12:21:32.676160Z"
    },
    "papermill": {
     "duration": null,
     "end_time": null,
     "exception": null,
     "start_time": null,
     "status": "pending"
    },
    "tags": []
   },
   "outputs": [],
   "source": [
    "A2"
   ]
  },
  {
   "cell_type": "code",
   "execution_count": null,
   "id": "a7908c04",
   "metadata": {
    "execution": {
     "iopub.execute_input": "2022-11-23T12:21:32.688580Z",
     "iopub.status.busy": "2022-11-23T12:21:32.687914Z",
     "iopub.status.idle": "2022-11-23T12:21:32.697947Z",
     "shell.execute_reply": "2022-11-23T12:21:32.696914Z",
     "shell.execute_reply.started": "2022-11-23T12:21:32.688545Z"
    },
    "papermill": {
     "duration": null,
     "end_time": null,
     "exception": null,
     "start_time": null,
     "status": "pending"
    },
    "tags": []
   },
   "outputs": [],
   "source": [
    "Group1 = [];\n",
    "Group2 = [];\n",
    "\n",
    "for i in range(10):\n",
    "    if label[i] == 0:\n",
    "        Group1.append(list(np_matrix[i]))\n",
    "    else:\n",
    "        Group2.append(list(np_matrix[i]))"
   ]
  },
  {
   "cell_type": "code",
   "execution_count": null,
   "id": "d59b7c44",
   "metadata": {
    "execution": {
     "iopub.execute_input": "2022-11-23T12:21:32.700253Z",
     "iopub.status.busy": "2022-11-23T12:21:32.699558Z",
     "iopub.status.idle": "2022-11-23T12:21:32.712966Z",
     "shell.execute_reply": "2022-11-23T12:21:32.712074Z",
     "shell.execute_reply.started": "2022-11-23T12:21:32.700218Z"
    },
    "papermill": {
     "duration": null,
     "end_time": null,
     "exception": null,
     "start_time": null,
     "status": "pending"
    },
    "tags": []
   },
   "outputs": [],
   "source": [
    "#group 1 == 0\n",
    "list(Group1)"
   ]
  },
  {
   "cell_type": "code",
   "execution_count": null,
   "id": "397465a7",
   "metadata": {
    "execution": {
     "iopub.execute_input": "2022-11-23T12:21:32.714770Z",
     "iopub.status.busy": "2022-11-23T12:21:32.714349Z",
     "iopub.status.idle": "2022-11-23T12:21:32.726036Z",
     "shell.execute_reply": "2022-11-23T12:21:32.725065Z",
     "shell.execute_reply.started": "2022-11-23T12:21:32.714737Z"
    },
    "papermill": {
     "duration": null,
     "end_time": null,
     "exception": null,
     "start_time": null,
     "status": "pending"
    },
    "tags": []
   },
   "outputs": [],
   "source": [
    "#group 2 == 1\n",
    "list(Group2)"
   ]
  },
  {
   "cell_type": "code",
   "execution_count": null,
   "id": "4fff530f",
   "metadata": {
    "execution": {
     "iopub.execute_input": "2022-11-23T12:21:32.727929Z",
     "iopub.status.busy": "2022-11-23T12:21:32.727403Z",
     "iopub.status.idle": "2022-11-23T12:21:32.738618Z",
     "shell.execute_reply": "2022-11-23T12:21:32.737447Z",
     "shell.execute_reply.started": "2022-11-23T12:21:32.727897Z"
    },
    "papermill": {
     "duration": null,
     "end_time": null,
     "exception": null,
     "start_time": null,
     "status": "pending"
    },
    "tags": []
   },
   "outputs": [],
   "source": [
    "#Ex.4 How to sort in decreasing order using np.sort\n",
    "#"
   ]
  },
  {
   "cell_type": "code",
   "execution_count": null,
   "id": "7f12e8c6",
   "metadata": {
    "execution": {
     "iopub.execute_input": "2022-11-23T12:21:32.741048Z",
     "iopub.status.busy": "2022-11-23T12:21:32.740384Z",
     "iopub.status.idle": "2022-11-23T12:21:32.752601Z",
     "shell.execute_reply": "2022-11-23T12:21:32.751267Z",
     "shell.execute_reply.started": "2022-11-23T12:21:32.741002Z"
    },
    "papermill": {
     "duration": null,
     "end_time": null,
     "exception": null,
     "start_time": null,
     "status": "pending"
    },
    "tags": []
   },
   "outputs": [],
   "source": [
    "a = np.array([5,2,7,4,4,2,8,6,4,4])\n",
    "-np.sort(-a)"
   ]
  },
  {
   "cell_type": "code",
   "execution_count": null,
   "id": "af45f247",
   "metadata": {
    "execution": {
     "iopub.execute_input": "2022-11-23T12:21:32.754931Z",
     "iopub.status.busy": "2022-11-23T12:21:32.754091Z",
     "iopub.status.idle": "2022-11-23T12:21:32.761731Z",
     "shell.execute_reply": "2022-11-23T12:21:32.760656Z",
     "shell.execute_reply.started": "2022-11-23T12:21:32.754895Z"
    },
    "papermill": {
     "duration": null,
     "end_time": null,
     "exception": null,
     "start_time": null,
     "status": "pending"
    },
    "tags": []
   },
   "outputs": [],
   "source": [
    "a[::-1].sort()\n",
    "a"
   ]
  },
  {
   "cell_type": "code",
   "execution_count": null,
   "id": "85941bf8",
   "metadata": {
    "execution": {
     "iopub.execute_input": "2022-11-23T12:21:32.763882Z",
     "iopub.status.busy": "2022-11-23T12:21:32.763321Z",
     "iopub.status.idle": "2022-11-23T12:21:32.776001Z",
     "shell.execute_reply": "2022-11-23T12:21:32.774660Z",
     "shell.execute_reply.started": "2022-11-23T12:21:32.763839Z"
    },
    "papermill": {
     "duration": null,
     "end_time": null,
     "exception": null,
     "start_time": null,
     "status": "pending"
    },
    "tags": []
   },
   "outputs": [],
   "source": [
    "# Ex.5 Change diagonal element of np_test to 0. Note: Please use only 1 line command (Google it!!)\n",
    "#\n",
    "np_test = np.reshape(np.arange(0,25), (5,5))\n",
    "np_test"
   ]
  },
  {
   "cell_type": "code",
   "execution_count": null,
   "id": "85fda6e1",
   "metadata": {
    "execution": {
     "iopub.execute_input": "2022-11-23T12:21:32.777758Z",
     "iopub.status.busy": "2022-11-23T12:21:32.777412Z",
     "iopub.status.idle": "2022-11-23T12:21:32.784617Z",
     "shell.execute_reply": "2022-11-23T12:21:32.783805Z",
     "shell.execute_reply.started": "2022-11-23T12:21:32.777727Z"
    },
    "papermill": {
     "duration": null,
     "end_time": null,
     "exception": null,
     "start_time": null,
     "status": "pending"
    },
    "tags": []
   },
   "outputs": [],
   "source": [
    "# Ex.5 Change diagonal element of np_test to 0. Note: Please use only 1 line command (Google it!!)\n",
    "#np_test = np.reshape(np.arange(0,35), (10,5))\n",
    "#np_test"
   ]
  },
  {
   "cell_type": "code",
   "execution_count": null,
   "id": "0cf0a64f",
   "metadata": {
    "execution": {
     "iopub.execute_input": "2022-11-23T12:21:32.786590Z",
     "iopub.status.busy": "2022-11-23T12:21:32.785669Z",
     "iopub.status.idle": "2022-11-23T12:21:32.797473Z",
     "shell.execute_reply": "2022-11-23T12:21:32.796384Z",
     "shell.execute_reply.started": "2022-11-23T12:21:32.786542Z"
    },
    "papermill": {
     "duration": null,
     "end_time": null,
     "exception": null,
     "start_time": null,
     "status": "pending"
    },
    "tags": []
   },
   "outputs": [],
   "source": [
    "np.fill_diagonal(np_test,[0])\n",
    "np_test"
   ]
  },
  {
   "cell_type": "code",
   "execution_count": null,
   "id": "02c4b457",
   "metadata": {
    "execution": {
     "iopub.execute_input": "2022-11-23T12:21:32.799184Z",
     "iopub.status.busy": "2022-11-23T12:21:32.798598Z",
     "iopub.status.idle": "2022-11-23T12:21:32.808528Z",
     "shell.execute_reply": "2022-11-23T12:21:32.807423Z",
     "shell.execute_reply.started": "2022-11-23T12:21:32.799151Z"
    },
    "papermill": {
     "duration": null,
     "end_time": null,
     "exception": null,
     "start_time": null,
     "status": "pending"
    },
    "tags": []
   },
   "outputs": [],
   "source": [
    "breakfast = np.array(['ขนมปัง','แฮม','ไข่','เครื่องดื่ม','ผลไม้'])"
   ]
  },
  {
   "cell_type": "code",
   "execution_count": null,
   "id": "f6c5db98",
   "metadata": {
    "execution": {
     "iopub.execute_input": "2022-11-23T12:21:32.810606Z",
     "iopub.status.busy": "2022-11-23T12:21:32.810225Z",
     "iopub.status.idle": "2022-11-23T12:21:32.825037Z",
     "shell.execute_reply": "2022-11-23T12:21:32.824129Z",
     "shell.execute_reply.started": "2022-11-23T12:21:32.810571Z"
    },
    "papermill": {
     "duration": null,
     "end_time": null,
     "exception": null,
     "start_time": null,
     "status": "pending"
    },
    "tags": []
   },
   "outputs": [],
   "source": [
    "customer = [ [1,1,1,0,1],\n",
    "             [0,1,1,0,0],\n",
    "             [1,0,0,1,1],\n",
    "             [1,0,1,0,0] ]\n",
    "customer = np.array(customer)"
   ]
  },
  {
   "cell_type": "code",
   "execution_count": null,
   "id": "a0b0f352",
   "metadata": {
    "execution": {
     "iopub.execute_input": "2022-11-23T12:21:32.827546Z",
     "iopub.status.busy": "2022-11-23T12:21:32.826447Z",
     "iopub.status.idle": "2022-11-23T12:21:32.838426Z",
     "shell.execute_reply": "2022-11-23T12:21:32.837318Z",
     "shell.execute_reply.started": "2022-11-23T12:21:32.827509Z"
    },
    "papermill": {
     "duration": null,
     "end_time": null,
     "exception": null,
     "start_time": null,
     "status": "pending"
    },
    "tags": []
   },
   "outputs": [],
   "source": [
    "breakfast[customer[0]==1]"
   ]
  },
  {
   "cell_type": "code",
   "execution_count": null,
   "id": "91605feb",
   "metadata": {
    "execution": {
     "iopub.execute_input": "2022-11-23T12:21:32.840330Z",
     "iopub.status.busy": "2022-11-23T12:21:32.839608Z",
     "iopub.status.idle": "2022-11-23T12:21:32.847727Z",
     "shell.execute_reply": "2022-11-23T12:21:32.846826Z",
     "shell.execute_reply.started": "2022-11-23T12:21:32.840298Z"
    },
    "papermill": {
     "duration": null,
     "end_time": null,
     "exception": null,
     "start_time": null,
     "status": "pending"
    },
    "tags": []
   },
   "outputs": [],
   "source": [
    "number_of_customer = len(customer)"
   ]
  },
  {
   "cell_type": "code",
   "execution_count": null,
   "id": "ada4a918",
   "metadata": {
    "execution": {
     "iopub.execute_input": "2022-11-23T12:21:32.849692Z",
     "iopub.status.busy": "2022-11-23T12:21:32.848759Z",
     "iopub.status.idle": "2022-11-23T12:21:32.863523Z",
     "shell.execute_reply": "2022-11-23T12:21:32.862458Z",
     "shell.execute_reply.started": "2022-11-23T12:21:32.849660Z"
    },
    "papermill": {
     "duration": null,
     "end_time": null,
     "exception": null,
     "start_time": null,
     "status": "pending"
    },
    "tags": []
   },
   "outputs": [],
   "source": [
    "number_of_breakfast = np.sum(customer, axis=0)\n",
    "item_support1 = [[breakfast[i], item/number_of_customer ]  for i,item in enumerate(number_of_breakfast) ]\n",
    "item_support1"
   ]
  },
  {
   "cell_type": "code",
   "execution_count": null,
   "id": "1597dc46",
   "metadata": {
    "execution": {
     "iopub.execute_input": "2022-11-23T12:21:32.865294Z",
     "iopub.status.busy": "2022-11-23T12:21:32.864904Z",
     "iopub.status.idle": "2022-11-23T12:21:32.877759Z",
     "shell.execute_reply": "2022-11-23T12:21:32.876707Z",
     "shell.execute_reply.started": "2022-11-23T12:21:32.865256Z"
    },
    "papermill": {
     "duration": null,
     "end_time": null,
     "exception": null,
     "start_time": null,
     "status": "pending"
    },
    "tags": []
   },
   "outputs": [],
   "source": [
    "pair_breakfast = [ [breakfast[i], breakfast[j]]  for i in range(0,len(breakfast)) for j in range(i+1, len(breakfast))]\n",
    "pair_breakfast"
   ]
  },
  {
   "cell_type": "code",
   "execution_count": null,
   "id": "15d6967f",
   "metadata": {
    "execution": {
     "iopub.execute_input": "2022-11-23T12:21:32.879554Z",
     "iopub.status.busy": "2022-11-23T12:21:32.878973Z",
     "iopub.status.idle": "2022-11-23T12:21:32.891099Z",
     "shell.execute_reply": "2022-11-23T12:21:32.890010Z",
     "shell.execute_reply.started": "2022-11-23T12:21:32.879522Z"
    },
    "papermill": {
     "duration": null,
     "end_time": null,
     "exception": null,
     "start_time": null,
     "status": "pending"
    },
    "tags": []
   },
   "outputs": [],
   "source": [
    "number_of_breakfast2 = []\n",
    "for one, two in pair_breakfast:\n",
    "    number_of_breakfast2.append(np.sum([1 for eachcustomer in customer if eachcustomer[breakfast==one] == 1 and eachcustomer[breakfast==two] == 1]))\n",
    "number_of_breakfast2"
   ]
  },
  {
   "cell_type": "code",
   "execution_count": null,
   "id": "535c3796",
   "metadata": {
    "execution": {
     "iopub.execute_input": "2022-11-23T12:21:32.892892Z",
     "iopub.status.busy": "2022-11-23T12:21:32.892463Z",
     "iopub.status.idle": "2022-11-23T12:21:32.903320Z",
     "shell.execute_reply": "2022-11-23T12:21:32.902389Z",
     "shell.execute_reply.started": "2022-11-23T12:21:32.892861Z"
    },
    "papermill": {
     "duration": null,
     "end_time": null,
     "exception": null,
     "start_time": null,
     "status": "pending"
    },
    "tags": []
   },
   "outputs": [],
   "source": [
    "item_support2 = [[pair_breakfast[i], item/number_of_customer]  for i,item in enumerate(number_of_breakfast2) ]\n",
    "item_support2"
   ]
  },
  {
   "cell_type": "markdown",
   "id": "44d9a035",
   "metadata": {
    "papermill": {
     "duration": null,
     "end_time": null,
     "exception": null,
     "start_time": null,
     "status": "pending"
    },
    "tags": []
   },
   "source": [
    "<h2> Confidence </h2>"
   ]
  },
  {
   "cell_type": "code",
   "execution_count": null,
   "id": "89d2588a",
   "metadata": {
    "execution": {
     "iopub.execute_input": "2022-11-23T12:21:32.904979Z",
     "iopub.status.busy": "2022-11-23T12:21:32.904625Z",
     "iopub.status.idle": "2022-11-23T12:21:32.914722Z",
     "shell.execute_reply": "2022-11-23T12:21:32.913683Z",
     "shell.execute_reply.started": "2022-11-23T12:21:32.904938Z"
    },
    "papermill": {
     "duration": null,
     "end_time": null,
     "exception": null,
     "start_time": null,
     "status": "pending"
    },
    "tags": []
   },
   "outputs": [],
   "source": [
    "#แฮม => ไข่\n",
    "0.5/0.5"
   ]
  },
  {
   "cell_type": "code",
   "execution_count": null,
   "id": "22f54879",
   "metadata": {
    "execution": {
     "iopub.execute_input": "2022-11-23T12:21:32.917137Z",
     "iopub.status.busy": "2022-11-23T12:21:32.915988Z",
     "iopub.status.idle": "2022-11-23T12:21:32.925831Z",
     "shell.execute_reply": "2022-11-23T12:21:32.924982Z",
     "shell.execute_reply.started": "2022-11-23T12:21:32.917074Z"
    },
    "papermill": {
     "duration": null,
     "end_time": null,
     "exception": null,
     "start_time": null,
     "status": "pending"
    },
    "tags": []
   },
   "outputs": [],
   "source": [
    "#ขนมปัง => ไข่\n",
    "0.5/0.75"
   ]
  },
  {
   "cell_type": "markdown",
   "id": "652a038e",
   "metadata": {
    "papermill": {
     "duration": null,
     "end_time": null,
     "exception": null,
     "start_time": null,
     "status": "pending"
    },
    "tags": []
   },
   "source": [
    "<h2> Lift </h2>"
   ]
  },
  {
   "cell_type": "markdown",
   "id": "1e9642d8",
   "metadata": {
    "papermill": {
     "duration": null,
     "end_time": null,
     "exception": null,
     "start_time": null,
     "status": "pending"
    },
    "tags": []
   },
   "source": [
    "ความน่าจะเป็นที่ลูกค้าจะหยิบไข่ หลังจากที่ลูกค้าหยิบแฮมลงตะกร้าไปแล้ว เพิ่มหรือลดเป็นจำนวนกี่เท่าของความน่าจะเป็นที่ลูกค้าจะซื้อไข่โดยปกติ"
   ]
  },
  {
   "cell_type": "markdown",
   "id": "954a197f",
   "metadata": {
    "papermill": {
     "duration": null,
     "end_time": null,
     "exception": null,
     "start_time": null,
     "status": "pending"
    },
    "tags": []
   },
   "source": [
    "ค่ามากกว่า 1 เพิ่มความน่าจะเป็นในการหยิบเพิ่มสูง"
   ]
  },
  {
   "cell_type": "code",
   "execution_count": null,
   "id": "2524fb03",
   "metadata": {
    "execution": {
     "iopub.execute_input": "2022-11-23T12:21:32.927511Z",
     "iopub.status.busy": "2022-11-23T12:21:32.926897Z",
     "iopub.status.idle": "2022-11-23T12:21:32.939359Z",
     "shell.execute_reply": "2022-11-23T12:21:32.938175Z",
     "shell.execute_reply.started": "2022-11-23T12:21:32.927479Z"
    },
    "papermill": {
     "duration": null,
     "end_time": null,
     "exception": null,
     "start_time": null,
     "status": "pending"
    },
    "tags": []
   },
   "outputs": [],
   "source": [
    "#แฮม => ไข่\n",
    "1/0.75"
   ]
  },
  {
   "cell_type": "code",
   "execution_count": null,
   "id": "dfebeb15",
   "metadata": {
    "execution": {
     "iopub.execute_input": "2022-11-23T12:21:32.941939Z",
     "iopub.status.busy": "2022-11-23T12:21:32.941486Z",
     "iopub.status.idle": "2022-11-23T12:21:32.950567Z",
     "shell.execute_reply": "2022-11-23T12:21:32.949711Z",
     "shell.execute_reply.started": "2022-11-23T12:21:32.941886Z"
    },
    "papermill": {
     "duration": null,
     "end_time": null,
     "exception": null,
     "start_time": null,
     "status": "pending"
    },
    "tags": []
   },
   "outputs": [],
   "source": [
    "0.5/(0.5*0.75)"
   ]
  },
  {
   "cell_type": "code",
   "execution_count": null,
   "id": "1b0a188c",
   "metadata": {
    "execution": {
     "iopub.execute_input": "2022-11-23T12:21:32.953602Z",
     "iopub.status.busy": "2022-11-23T12:21:32.952156Z",
     "iopub.status.idle": "2022-11-23T12:21:32.962895Z",
     "shell.execute_reply": "2022-11-23T12:21:32.961707Z",
     "shell.execute_reply.started": "2022-11-23T12:21:32.953558Z"
    },
    "papermill": {
     "duration": null,
     "end_time": null,
     "exception": null,
     "start_time": null,
     "status": "pending"
    },
    "tags": []
   },
   "outputs": [],
   "source": [
    "#ขนมปัง => ไข่\n",
    "0.6666666666666666/0.75"
   ]
  },
  {
   "cell_type": "code",
   "execution_count": null,
   "id": "54fcddf4",
   "metadata": {
    "execution": {
     "iopub.execute_input": "2022-11-23T12:21:32.965059Z",
     "iopub.status.busy": "2022-11-23T12:21:32.964246Z",
     "iopub.status.idle": "2022-11-23T12:21:32.974566Z",
     "shell.execute_reply": "2022-11-23T12:21:32.973321Z",
     "shell.execute_reply.started": "2022-11-23T12:21:32.965017Z"
    },
    "papermill": {
     "duration": null,
     "end_time": null,
     "exception": null,
     "start_time": null,
     "status": "pending"
    },
    "tags": []
   },
   "outputs": [],
   "source": [
    "0.5/(0.75*0.75)"
   ]
  }
 ],
 "metadata": {
  "kernelspec": {
   "display_name": "Python 3",
   "language": "python",
   "name": "python3"
  },
  "language_info": {
   "codemirror_mode": {
    "name": "ipython",
    "version": 3
   },
   "file_extension": ".py",
   "mimetype": "text/x-python",
   "name": "python",
   "nbconvert_exporter": "python",
   "pygments_lexer": "ipython3",
   "version": "3.7.12"
  },
  "papermill": {
   "default_parameters": {},
   "duration": 18.83383,
   "end_time": "2022-11-23T12:22:06.956125",
   "environment_variables": {},
   "exception": true,
   "input_path": "__notebook__.ipynb",
   "output_path": "__notebook__.ipynb",
   "parameters": {},
   "start_time": "2022-11-23T12:21:48.122295",
   "version": "2.3.4"
  }
 },
 "nbformat": 4,
 "nbformat_minor": 5
}
